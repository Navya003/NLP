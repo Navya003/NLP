{
  "cells": [
    {
      "cell_type": "markdown",
      "metadata": {
        "id": "view-in-github",
        "colab_type": "text"
      },
      "source": [
        "<a href=\"https://colab.research.google.com/github/Navya003/NLP/blob/main/RF.ipynb\" target=\"_parent\"><img src=\"https://colab.research.google.com/assets/colab-badge.svg\" alt=\"Open In Colab\"/></a>"
      ]
    },
    {
      "cell_type": "code",
      "execution_count": null,
      "metadata": {
        "colab": {
          "base_uri": "https://localhost:8080/"
        },
        "id": "ZFxZTPhc7SaV",
        "outputId": "ab3a8411-8abf-41a3-d915-50faf645fe6c"
      },
      "outputs": [
        {
          "output_type": "stream",
          "name": "stdout",
          "text": [
            "Looking in indexes: https://pypi.org/simple, https://us-python.pkg.dev/colab-wheels/public/simple/\n",
            "Collecting wandb\n",
            "  Downloading wandb-0.13.3-py2.py3-none-any.whl (1.8 MB)\n",
            "\u001b[K     |████████████████████████████████| 1.8 MB 5.2 MB/s \n",
            "\u001b[?25hCollecting GitPython>=1.0.0\n",
            "  Downloading GitPython-3.1.27-py3-none-any.whl (181 kB)\n",
            "\u001b[K     |████████████████████████████████| 181 kB 55.7 MB/s \n",
            "\u001b[?25hRequirement already satisfied: PyYAML in /usr/local/lib/python3.7/dist-packages (from wandb) (6.0)\n",
            "Requirement already satisfied: requests<3,>=2.0.0 in /usr/local/lib/python3.7/dist-packages (from wandb) (2.23.0)\n",
            "Requirement already satisfied: setuptools in /usr/local/lib/python3.7/dist-packages (from wandb) (57.4.0)\n",
            "Requirement already satisfied: psutil>=5.0.0 in /usr/local/lib/python3.7/dist-packages (from wandb) (5.4.8)\n",
            "Collecting shortuuid>=0.5.0\n",
            "  Downloading shortuuid-1.0.9-py3-none-any.whl (9.4 kB)\n",
            "Requirement already satisfied: Click!=8.0.0,>=7.0 in /usr/local/lib/python3.7/dist-packages (from wandb) (7.1.2)\n",
            "Collecting sentry-sdk>=1.0.0\n",
            "  Downloading sentry_sdk-1.9.8-py2.py3-none-any.whl (158 kB)\n",
            "\u001b[K     |████████████████████████████████| 158 kB 55.4 MB/s \n",
            "\u001b[?25hRequirement already satisfied: promise<3,>=2.0 in /usr/local/lib/python3.7/dist-packages (from wandb) (2.3)\n",
            "Requirement already satisfied: six>=1.13.0 in /usr/local/lib/python3.7/dist-packages (from wandb) (1.15.0)\n",
            "Requirement already satisfied: protobuf<4.0dev,>=3.12.0 in /usr/local/lib/python3.7/dist-packages (from wandb) (3.17.3)\n",
            "Collecting setproctitle\n",
            "  Downloading setproctitle-1.3.2-cp37-cp37m-manylinux_2_5_x86_64.manylinux1_x86_64.manylinux_2_17_x86_64.manylinux2014_x86_64.whl (30 kB)\n",
            "Collecting pathtools\n",
            "  Downloading pathtools-0.1.2.tar.gz (11 kB)\n",
            "Collecting docker-pycreds>=0.4.0\n",
            "  Downloading docker_pycreds-0.4.0-py2.py3-none-any.whl (9.0 kB)\n",
            "Collecting gitdb<5,>=4.0.1\n",
            "  Downloading gitdb-4.0.9-py3-none-any.whl (63 kB)\n",
            "\u001b[K     |████████████████████████████████| 63 kB 1.4 MB/s \n",
            "\u001b[?25hRequirement already satisfied: typing-extensions>=3.7.4.3 in /usr/local/lib/python3.7/dist-packages (from GitPython>=1.0.0->wandb) (4.1.1)\n",
            "Collecting smmap<6,>=3.0.1\n",
            "  Downloading smmap-5.0.0-py3-none-any.whl (24 kB)\n",
            "Requirement already satisfied: urllib3!=1.25.0,!=1.25.1,<1.26,>=1.21.1 in /usr/local/lib/python3.7/dist-packages (from requests<3,>=2.0.0->wandb) (1.24.3)\n",
            "Requirement already satisfied: idna<3,>=2.5 in /usr/local/lib/python3.7/dist-packages (from requests<3,>=2.0.0->wandb) (2.10)\n",
            "Requirement already satisfied: certifi>=2017.4.17 in /usr/local/lib/python3.7/dist-packages (from requests<3,>=2.0.0->wandb) (2022.6.15)\n",
            "Requirement already satisfied: chardet<4,>=3.0.2 in /usr/local/lib/python3.7/dist-packages (from requests<3,>=2.0.0->wandb) (3.0.4)\n",
            "Collecting sentry-sdk>=1.0.0\n",
            "  Downloading sentry_sdk-1.9.7-py2.py3-none-any.whl (157 kB)\n",
            "\u001b[K     |████████████████████████████████| 157 kB 54.6 MB/s \n",
            "\u001b[?25h  Downloading sentry_sdk-1.9.6-py2.py3-none-any.whl (157 kB)\n",
            "\u001b[K     |████████████████████████████████| 157 kB 56.4 MB/s \n",
            "\u001b[?25h  Downloading sentry_sdk-1.9.5-py2.py3-none-any.whl (157 kB)\n",
            "\u001b[K     |████████████████████████████████| 157 kB 59.0 MB/s \n",
            "\u001b[?25h  Downloading sentry_sdk-1.9.4-py2.py3-none-any.whl (157 kB)\n",
            "\u001b[K     |████████████████████████████████| 157 kB 58.6 MB/s \n",
            "\u001b[?25h  Downloading sentry_sdk-1.9.3-py2.py3-none-any.whl (157 kB)\n",
            "\u001b[K     |████████████████████████████████| 157 kB 38.0 MB/s \n",
            "\u001b[?25h  Downloading sentry_sdk-1.9.2-py2.py3-none-any.whl (157 kB)\n",
            "\u001b[K     |████████████████████████████████| 157 kB 40.7 MB/s \n",
            "\u001b[?25h  Downloading sentry_sdk-1.9.1-py2.py3-none-any.whl (157 kB)\n",
            "\u001b[K     |████████████████████████████████| 157 kB 65.0 MB/s \n",
            "\u001b[?25h  Downloading sentry_sdk-1.9.0-py2.py3-none-any.whl (156 kB)\n",
            "\u001b[K     |████████████████████████████████| 156 kB 33.0 MB/s \n",
            "\u001b[?25hBuilding wheels for collected packages: pathtools\n",
            "  Building wheel for pathtools (setup.py) ... \u001b[?25l\u001b[?25hdone\n",
            "  Created wheel for pathtools: filename=pathtools-0.1.2-py3-none-any.whl size=8806 sha256=af22f3d056fbb924c55ee20985983312c06898a3fa5e7729e1d87c3a2b555dc4\n",
            "  Stored in directory: /root/.cache/pip/wheels/3e/31/09/fa59cef12cdcfecc627b3d24273699f390e71828921b2cbba2\n",
            "Successfully built pathtools\n",
            "Installing collected packages: smmap, gitdb, shortuuid, setproctitle, sentry-sdk, pathtools, GitPython, docker-pycreds, wandb\n",
            "Successfully installed GitPython-3.1.27 docker-pycreds-0.4.0 gitdb-4.0.9 pathtools-0.1.2 sentry-sdk-1.9.0 setproctitle-1.3.2 shortuuid-1.0.9 smmap-5.0.0 wandb-0.13.3\n",
            "Looking in indexes: https://pypi.org/simple, https://us-python.pkg.dev/colab-wheels/public/simple/\n",
            "Collecting shap\n",
            "  Downloading shap-0.41.0-cp37-cp37m-manylinux_2_12_x86_64.manylinux2010_x86_64.whl (569 kB)\n",
            "\u001b[K     |████████████████████████████████| 569 kB 5.2 MB/s \n",
            "\u001b[?25hRequirement already satisfied: tqdm>4.25.0 in /usr/local/lib/python3.7/dist-packages (from shap) (4.64.1)\n",
            "Requirement already satisfied: cloudpickle in /usr/local/lib/python3.7/dist-packages (from shap) (1.5.0)\n",
            "Requirement already satisfied: packaging>20.9 in /usr/local/lib/python3.7/dist-packages (from shap) (21.3)\n",
            "Requirement already satisfied: numpy in /usr/local/lib/python3.7/dist-packages (from shap) (1.21.6)\n",
            "Requirement already satisfied: numba in /usr/local/lib/python3.7/dist-packages (from shap) (0.56.2)\n",
            "Collecting slicer==0.0.7\n",
            "  Downloading slicer-0.0.7-py3-none-any.whl (14 kB)\n",
            "Requirement already satisfied: scikit-learn in /usr/local/lib/python3.7/dist-packages (from shap) (1.0.2)\n",
            "Requirement already satisfied: scipy in /usr/local/lib/python3.7/dist-packages (from shap) (1.7.3)\n",
            "Requirement already satisfied: pandas in /usr/local/lib/python3.7/dist-packages (from shap) (1.3.5)\n",
            "Requirement already satisfied: pyparsing!=3.0.5,>=2.0.2 in /usr/local/lib/python3.7/dist-packages (from packaging>20.9->shap) (3.0.9)\n",
            "Requirement already satisfied: llvmlite<0.40,>=0.39.0dev0 in /usr/local/lib/python3.7/dist-packages (from numba->shap) (0.39.1)\n",
            "Requirement already satisfied: setuptools<60 in /usr/local/lib/python3.7/dist-packages (from numba->shap) (57.4.0)\n",
            "Requirement already satisfied: importlib-metadata in /usr/local/lib/python3.7/dist-packages (from numba->shap) (4.12.0)\n",
            "Requirement already satisfied: zipp>=0.5 in /usr/local/lib/python3.7/dist-packages (from importlib-metadata->numba->shap) (3.8.1)\n",
            "Requirement already satisfied: typing-extensions>=3.6.4 in /usr/local/lib/python3.7/dist-packages (from importlib-metadata->numba->shap) (4.1.1)\n",
            "Requirement already satisfied: pytz>=2017.3 in /usr/local/lib/python3.7/dist-packages (from pandas->shap) (2022.2.1)\n",
            "Requirement already satisfied: python-dateutil>=2.7.3 in /usr/local/lib/python3.7/dist-packages (from pandas->shap) (2.8.2)\n",
            "Requirement already satisfied: six>=1.5 in /usr/local/lib/python3.7/dist-packages (from python-dateutil>=2.7.3->pandas->shap) (1.15.0)\n",
            "Requirement already satisfied: joblib>=0.11 in /usr/local/lib/python3.7/dist-packages (from scikit-learn->shap) (1.1.0)\n",
            "Requirement already satisfied: threadpoolctl>=2.0.0 in /usr/local/lib/python3.7/dist-packages (from scikit-learn->shap) (3.1.0)\n",
            "Installing collected packages: slicer, shap\n",
            "Successfully installed shap-0.41.0 slicer-0.0.7\n"
          ]
        }
      ],
      "source": [
        "!pip install wandb\n",
        "!pip install shap"
      ]
    },
    {
      "cell_type": "code",
      "execution_count": null,
      "metadata": {
        "id": "oV_rFtPbUyb1"
      },
      "outputs": [],
      "source": [
        "# import the required modules\n",
        "# improves output by ignoring warnings\n",
        "import warnings\n",
        "warnings.filterwarnings('ignore')\n",
        "import numpy as np\n",
        "from sklearn.model_selection import train_test_split, GridSearchCV, RandomizedSearchCV, cross_val_score\n",
        "from sklearn.ensemble import RandomForestClassifier\n",
        "from sklearn.metrics import accuracy_score, confusion_matrix, classification_report, plot_confusion_matrix\n",
        "from pprint import pprint\n",
        "import matplotlib.pyplot as plt\n",
        "%matplotlib inline\n",
        "# Bayesian optimization\n",
        "from hyperopt import hp,fmin,tpe,STATUS_OK,Trials\n",
        "#import wandb"
      ]
    },
    {
      "cell_type": "code",
      "execution_count": null,
      "metadata": {
        "colab": {
          "base_uri": "https://localhost:8080/",
          "height": 591
        },
        "id": "dS9SJv_hzsE1",
        "outputId": "d8720d94-8370-4164-f6f0-aeff7d457b7a"
      },
      "outputs": [
        {
          "name": "stdout",
          "output_type": "stream",
          "text": [
            "BASE MODEL\n",
            "Accuracy: 81.82%\n",
            "Classification report:\n",
            "\n",
            "              precision    recall  f1-score   support\n",
            "\n",
            "         0.0       0.76      0.86      0.81        29\n",
            "         1.0       0.88      0.78      0.83        37\n",
            "\n",
            "    accuracy                           0.82        66\n",
            "   macro avg       0.82      0.82      0.82        66\n",
            "weighted avg       0.83      0.82      0.82        66\n",
            "\n",
            "Confusion matrix:\n",
            " [[25  4]\n",
            " [ 8 29]]\n",
            "Confusion matrix plot:\n",
            "\n"
          ]
        },
        {
          "data": {
            "image/png": "[encoded data removed]",
            "text/plain": [
              "<Figure size 432x288 with 2 Axes>"
            ]
          },
          "metadata": {},
          "output_type": "display_data"
        }
      ],
      "source": [
        "# RF classification model\n",
        "# wandb\n",
        "#wandb.init(project='RF sweeps')\n",
        "\n",
        "# data\n",
        "# loaded the dna2vec word embedding file data\n",
        "# opened and read the respective files\n",
        "f_pos=open('Positive.w2v','r')\n",
        "f_neg=open('Negative.w2v','r')\n",
        "file_p=f_pos.read()\n",
        "file_n=f_neg.read()\n",
        "# took file content as a list of sequences\n",
        "# seperated by newline according to the indexing\n",
        "lis_p=[x.split() for x in file_p.split('\\n')[1:100]]\n",
        "lis_n=[x.split() for x in file_n.split('\\n')[1:100]]\n",
        "# converted the sequence values(string) into numerical values(float)\n",
        "list_p=[[float(x) for x in y[1:]] for y in lis_p]\n",
        "list_n=[[float(x) for x in y[1:]] for y in lis_n]\n",
        "# labelled natural sequence embeddings as 1\n",
        "l_pos=[x+[1] for x in list_p]\n",
        "# labelled synthetic sequence embeddings as 0\n",
        "l_neg=[x+[0] for x in list_n]\n",
        "# merged both the lists together\n",
        "l_whole = l_pos+l_neg\n",
        "# converted the list to arrray for model implementation\n",
        "dataset = np.array([np.array(x) for x in l_whole])\n",
        "\n",
        "# split data into X and Y\n",
        "# sequence embeddings\n",
        "X = dataset[:,:-1]\n",
        "# label of sequence embeddings\n",
        "Y = dataset[:,-1]\n",
        "\n",
        "# split the data into train and test using sklearn\n",
        "x_train, x_test, y_train, y_test = train_test_split(X, Y, test_size=0.33)\n",
        "# test_size defines test data to be split from train data\n",
        "\n",
        "# RF classifier model\n",
        "# used with 1000 decision trees instead of 100(default value)\n",
        "classifier=RandomForestClassifier(n_estimators=1000)\n",
        "\n",
        "# fit the training data into the model\n",
        "classifier.fit(x_train, y_train)\n",
        "\n",
        "# predicted values from the model\n",
        "y_pred=classifier.predict(x_test)\n",
        "y_probas =classifier.predict_proba(x_test)\n",
        "\n",
        "#wandb.log({'accuracy': accuracy_score(y_test, y_pred)})\n",
        "\n",
        "# accuracy prediction\n",
        "accuracy = accuracy_score(y_test, y_pred)\n",
        "print(\"BASE MODEL\")\n",
        "print(\"Accuracy: %.2f%%\" % (accuracy * 100.0))\n",
        "\n",
        "\n",
        "# classification report\n",
        "print(\"Classification report:\\n\")\n",
        "print(classification_report(y_test, y_pred))\n",
        "\n",
        "# confusion matrix\n",
        "conf=confusion_matrix(y_test, y_pred)\n",
        "print(\"Confusion matrix:\\n\", conf)\n",
        "\n",
        "# confusion matrix plot\n",
        "print(\"Confusion matrix plot:\\n\")\n",
        "plot_confusion_matrix(classifier, x_test, y_test)\n",
        "plt.show()\n"
      ]
    },
    {
      "cell_type": "code",
      "execution_count": null,
      "metadata": {
        "id": "HX2AOLow-Zcv"
      },
      "outputs": [],
      "source": [
        "import shap\n",
        "explainer = shap.TreeExplainer(classifier)\n",
        "shap_values = explainer.shap_values(x_test)"
      ]
    },
    {
      "cell_type": "code",
      "execution_count": null,
      "metadata": {
        "colab": {
          "base_uri": "https://localhost:8080/"
        },
        "id": "9DpWIt4s9Mcl",
        "outputId": "f260a633-bcff-4972-ca52-f984e7c35a9b"
      },
      "outputs": [
        {
          "data": {
            "text/plain": [
              "[array([[ 2.22061804e-03, -5.31521095e-04,  4.40315264e-03, ...,\n",
              "         -3.63869540e-03,  1.25176790e-03, -2.33850569e-03],\n",
              "        [-6.82941167e-04,  1.75183701e-03, -6.45576470e-03, ...,\n",
              "          1.92338774e-04, -4.51613747e-03, -1.89253652e-03],\n",
              "        [ 1.18561091e-03,  3.53159021e-03, -4.60081363e-03, ...,\n",
              "          5.64172550e-04,  1.59994531e-03,  4.81078710e-04],\n",
              "        ...,\n",
              "        [ 5.17011642e-05,  4.40322415e-04, -7.53902016e-03, ...,\n",
              "          1.02032429e-03,  4.21959745e-04,  2.22013829e-03],\n",
              "        [ 1.44317052e-04, -6.13430769e-03,  3.94923965e-03, ...,\n",
              "          2.56244379e-03, -6.23235466e-04, -5.92607946e-04],\n",
              "        [ 4.38726812e-04,  1.56830931e-03, -1.06519442e-02, ...,\n",
              "         -1.70008118e-03,  1.26611299e-03, -1.57904674e-03]]),\n",
              " array([[-2.22061804e-03,  5.31521095e-04, -4.40315264e-03, ...,\n",
              "          3.63869540e-03, -1.25176790e-03,  2.33850569e-03],\n",
              "        [ 6.82941167e-04, -1.75183701e-03,  6.45576470e-03, ...,\n",
              "         -1.92338774e-04,  4.51613747e-03,  1.89253652e-03],\n",
              "        [-1.18561091e-03, -3.53159021e-03,  4.60081363e-03, ...,\n",
              "         -5.64172550e-04, -1.59994531e-03, -4.81078710e-04],\n",
              "        ...,\n",
              "        [-5.17011642e-05, -4.40322415e-04,  7.53902016e-03, ...,\n",
              "         -1.02032429e-03, -4.21959745e-04, -2.22013829e-03],\n",
              "        [-1.44317052e-04,  6.13430769e-03, -3.94923965e-03, ...,\n",
              "         -2.56244379e-03,  6.23235466e-04,  5.92607946e-04],\n",
              "        [-4.38726812e-04, -1.56830931e-03,  1.06519442e-02, ...,\n",
              "          1.70008118e-03, -1.26611299e-03,  1.57904674e-03]])]"
            ]
          },
          "execution_count": 5,
          "metadata": {},
          "output_type": "execute_result"
        }
      ],
      "source": [
        "shap_values"
      ]
    },
    {
      "cell_type": "code",
      "execution_count": null,
      "metadata": {
        "colab": {
          "base_uri": "https://localhost:8080/"
        },
        "id": "E6E-ICDzi2oN",
        "outputId": "918fa146-c459-49e4-ccb1-7751e1735c6d"
      },
      "outputs": [
        {
          "data": {
            "text/plain": [
              "66"
            ]
          },
          "execution_count": 6,
          "metadata": {},
          "output_type": "execute_result"
        }
      ],
      "source": [
        "l=shap_values[0]\n",
        "len(l)"
      ]
    },
    {
      "cell_type": "code",
      "execution_count": null,
      "metadata": {
        "colab": {
          "base_uri": "https://localhost:8080/",
          "height": 693
        },
        "id": "lifaIu25_LoN",
        "outputId": "ac81d7be-498f-4697-d1ef-e0c54d7842a0"
      },
      "outputs": [
        {
          "data": {
            "image/png": "[encoded data removed]",
            "text/plain": [
              "<Figure size 576x684 with 1 Axes>"
            ]
          },
          "metadata": {},
          "output_type": "display_data"
        }
      ],
      "source": [
        "shap.summary_plot(shap_values, x_test, plot_type=\"bar\")"
      ]
    },
    {
      "cell_type": "code",
      "execution_count": null,
      "metadata": {
        "colab": {
          "base_uri": "https://localhost:8080/"
        },
        "id": "GtVHTD_rlFlt",
        "outputId": "3719b706-cf49-4c3b-acb8-1c789bd101ff"
      },
      "outputs": [
        {
          "data": {
            "text/plain": [
              "100"
            ]
          },
          "execution_count": 8,
          "metadata": {},
          "output_type": "execute_result"
        }
      ],
      "source": [
        "len(classifier.feature_importances_)"
      ]
    },
    {
      "cell_type": "code",
      "execution_count": null,
      "metadata": {
        "colab": {
          "base_uri": "https://localhost:8080/"
        },
        "id": "sM9VQvoaB8sv",
        "outputId": "a104a1de-a433-4c32-b730-965bff9c4f6a"
      },
      "outputs": [
        {
          "name": "stdout",
          "output_type": "stream",
          "text": [
            "Parameters currently in use:\n",
            "{'bootstrap': True,\n",
            " 'ccp_alpha': 0.0,\n",
            " 'class_weight': None,\n",
            " 'criterion': 'gini',\n",
            " 'max_depth': None,\n",
            " 'max_features': 'auto',\n",
            " 'max_leaf_nodes': None,\n",
            " 'max_samples': None,\n",
            " 'min_impurity_decrease': 0.0,\n",
            " 'min_samples_leaf': 1,\n",
            " 'min_samples_split': 2,\n",
            " 'min_weight_fraction_leaf': 0.0,\n",
            " 'n_estimators': 1000,\n",
            " 'n_jobs': None,\n",
            " 'oob_score': False,\n",
            " 'random_state': None,\n",
            " 'verbose': 0,\n",
            " 'warm_start': False}\n"
          ]
        }
      ],
      "source": [
        "# parameters cuurently used\n",
        "print('Parameters currently in use:')\n",
        "pprint(classifier.get_params())"
      ]
    },
    {
      "cell_type": "code",
      "execution_count": null,
      "metadata": {
        "colab": {
          "base_uri": "https://localhost:8080/",
          "height": 786
        },
        "id": "HL0KmiSfjURZ",
        "outputId": "792bedba-e8cc-4eb9-b723-bf2384b3e83b"
      },
      "outputs": [
        {
          "output_type": "stream",
          "name": "stdout",
          "text": [
            "\n",
            "GRID SEARCH MODEL\n",
            "Range of parameters used for hyperparameter tuning:\n",
            "{'bootstrap': [True, False],\n",
            " 'max_depth': [1, 2, 3, 4, 5],\n",
            " 'max_features': ['auto', 'sqrt'],\n",
            " 'min_samples_leaf': [1, 2, 3],\n",
            " 'min_samples_split': [1, 2, 3],\n",
            " 'n_estimators': [1000, 2000, 3000, 4000, 5000]}\n",
            "Fitting 3 folds for each of 900 candidates, totalling 2700 fits\n",
            "Best parameter values:\n",
            "{'bootstrap': True, 'max_depth': 4, 'max_features': 'auto', 'min_samples_leaf': 3, 'min_samples_split': 3, 'n_estimators': 4000}\n",
            "Accuracy: 75.76%\n",
            "Classification report:\n",
            "\n",
            "              precision    recall  f1-score   support\n",
            "\n",
            "         0.0       0.76      0.86      0.81        29\n",
            "         1.0       0.88      0.78      0.83        37\n",
            "\n",
            "    accuracy                           0.82        66\n",
            "   macro avg       0.82      0.82      0.82        66\n",
            "weighted avg       0.83      0.82      0.82        66\n",
            "\n",
            "Confusion matrix\n",
            " [[25  4]\n",
            " [12 25]]\n",
            "Confusion matrix plot:\n",
            "\n"
          ]
        },
        {
          "output_type": "display_data",
          "data": {
            "text/plain": [
              "<Figure size 432x288 with 2 Axes>"
            ],
            "image/png": "[encoded data removed]"
          },
          "metadata": {
            "needs_background": "light"
          }
        }
      ],
      "source": [
        "# Hyperparameter tuning using GridsearchCV\n",
        "# Setting range of parameters\n",
        "# Number of trees in random forest\n",
        "n_estimators = [1000, 2000, 3000, 4000, 5000]\n",
        "# Number of features to consider at every split\n",
        "max_features = ['auto', 'sqrt']\n",
        "# Maximum number of levels in tree\n",
        "max_depth = [1, 2, 3, 4, 5]\n",
        "# Minimum number of samples required to split a node\n",
        "min_samples_split = [1, 2, 3]\n",
        "# Minimum number of samples required at each leaf node\n",
        "min_samples_leaf = [1, 2, 3]\n",
        "# Method of selecting samples for training each tree\n",
        "bootstrap = [True, False]\n",
        "# Create the random grid\n",
        "param = {'n_estimators': n_estimators,\n",
        "               'max_features': max_features,\n",
        "               'max_depth': max_depth,\n",
        "               'min_samples_split': min_samples_split,\n",
        "               'min_samples_leaf': min_samples_leaf,\n",
        "               'bootstrap': bootstrap}\n",
        "print(\"\\nGRID SEARCH MODEL\")\n",
        "print('Range of parameters used for hyperparameter tuning:')\n",
        "pprint(param)\n",
        "# implemented grid search on RF classifier\n",
        "classifier_grid=GridSearchCV(estimator=classifier, param_grid=param, cv = 3, verbose=2, n_jobs = 4)\n",
        "# fit the training data\n",
        "classifier_grid.fit(x_train,y_train)\n",
        "\n",
        "# Best hyperparameter values\n",
        "print('Best parameter values:')\n",
        "print(classifier_grid.best_params_)\n",
        "\n",
        "# predicted values from the grid search model\n",
        "cl_g=classifier_grid.best_estimator_\n",
        "pred=cl_g.predict(x_test)\n",
        "y_probas = cl_g.predict_proba(x_test)\n",
        "\n",
        "# accuracy prediction for grid search model\n",
        "accuracy = accuracy_score(y_test, pred)\n",
        "print(\"Accuracy: %.2f%%\" % (accuracy * 100.0))\n",
        "\n",
        "#classification report\n",
        "print(\"Classification report:\\n\")\n",
        "print(classification_report(y_test, y_pred))\n",
        "\n",
        "# confusion matrix\n",
        "conf_g=confusion_matrix(y_test, pred)\n",
        "print(\"Confusion matrix\\n\", conf_g)\n",
        "\n",
        "# confusion matrix plot\n",
        "print(\"Confusion matrix plot:\\n\")\n",
        "plot_confusion_matrix(cl_g, x_test, y_test)\n",
        "plt.show()"
      ]
    },
    {
      "cell_type": "code",
      "source": [
        "explainer = shap.TreeExplainer(cl_g)\n",
        "shap_values = explainer.shap_values(x_test)\n",
        "shap.summary_plot(shap_values, x_test, plot_type=\"bar\")"
      ],
      "metadata": {
        "colab": {
          "base_uri": "https://localhost:8080/",
          "height": 693
        },
        "id": "ep3zDTXIp5IY",
        "outputId": "a923d466-f0ef-4af9-db92-e0cd93b37cb0"
      },
      "execution_count": null,
      "outputs": [
        {
          "output_type": "display_data",
          "data": {
            "text/plain": [
              "<Figure size 576x684 with 1 Axes>"
            ],
            "image/png": "[encoded data removed]"
          },
          "metadata": {
            "needs_background": "light"
          }
        }
      ]
    },
    {
      "cell_type": "code",
      "execution_count": null,
      "metadata": {
        "colab": {
          "base_uri": "https://localhost:8080/",
          "height": 786
        },
        "id": "7-xuzqoijweY",
        "outputId": "450ec6c2-f9bc-44f6-d988-1bf1062617fc"
      },
      "outputs": [
        {
          "output_type": "stream",
          "name": "stdout",
          "text": [
            "\n",
            "RANDOM SEARCH MODEL\n",
            "Range of parameters used for hyperparameter tuning:\n",
            "{'bootstrap': [True, False],\n",
            " 'max_depth': [1, 2, 3, 4, 5],\n",
            " 'max_features': ['auto', 'sqrt'],\n",
            " 'min_samples_leaf': [1, 2, 3],\n",
            " 'min_samples_split': [1, 2, 3],\n",
            " 'n_estimators': [1000, 2000, 3000, 4000, 5000]}\n",
            "Fitting 3 folds for each of 100 candidates, totalling 300 fits\n",
            "Best parameter values:\n",
            "{'n_estimators': 1000, 'min_samples_split': 3, 'min_samples_leaf': 1, 'max_features': 'auto', 'max_depth': 5, 'bootstrap': True}\n",
            "Accuracy: 75.76%\n",
            "Classification report:\n",
            "\n",
            "              precision    recall  f1-score   support\n",
            "\n",
            "         0.0       0.76      0.86      0.81        29\n",
            "         1.0       0.88      0.78      0.83        37\n",
            "\n",
            "    accuracy                           0.82        66\n",
            "   macro avg       0.82      0.82      0.82        66\n",
            "weighted avg       0.83      0.82      0.82        66\n",
            "\n",
            "Confusion matrix\n",
            " [[25  4]\n",
            " [12 25]]\n",
            "Confusion matrix plot:\n",
            "\n"
          ]
        },
        {
          "output_type": "display_data",
          "data": {
            "text/plain": [
              "<Figure size 432x288 with 2 Axes>"
            ],
            "image/png": "[encoded data removed]"
          },
          "metadata": {
            "needs_background": "light"
          }
        }
      ],
      "source": [
        "# Random search implementation\n",
        "# Module for hyperparameter tuning\n",
        "# Hyperparameter tuning using RandomizedsearchCV\n",
        "# Setting range of parameters\n",
        "# Number of trees in random forest\n",
        "n_estimators = [1000, 2000, 3000, 4000, 5000]\n",
        "# Number of features to consider at every split\n",
        "max_features = ['auto', 'sqrt']\n",
        "# Maximum number of levels in tree\n",
        "max_depth = [1, 2, 3, 4, 5]\n",
        "# Minimum number of samples required to split a node\n",
        "min_samples_split = [1, 2, 3]\n",
        "# Minimum number of samples required at each leaf node\n",
        "min_samples_leaf = [1, 2, 3]\n",
        "# Method of selecting samples for training each tree\n",
        "bootstrap = [True, False]\n",
        "# Create the random grid\n",
        "param = {'n_estimators': n_estimators,\n",
        "               'max_features': max_features,\n",
        "               'max_depth': max_depth,\n",
        "               'min_samples_split': min_samples_split,\n",
        "               'min_samples_leaf': min_samples_leaf,\n",
        "               'bootstrap': bootstrap}\n",
        "print(\"\\nRANDOM SEARCH MODEL\")\n",
        "print('Range of parameters used for hyperparameter tuning:')\n",
        "pprint(param)\n",
        "\n",
        "# implemented grid search on RF classifier\n",
        "classifier_random=RandomizedSearchCV(estimator = classifier, param_distributions = param, n_iter = 100, cv = 3, verbose=2, random_state=42, n_jobs = -1)\n",
        "\n",
        "# fit the training data in the randomized model\n",
        "classifier_random.fit(x_train, y_train)\n",
        "\n",
        "# Best hyperparameter values\n",
        "print('Best parameter values:')\n",
        "print(classifier_random.best_params_)\n",
        "\n",
        "# predicted values from the random search model using best parameters\n",
        "cl_r=classifier_random.best_estimator_\n",
        "pred=cl_r.predict(x_test)\n",
        "y_probas = cl_r.predict_proba(x_test)\n",
        "\n",
        "# accuracy prediction for random search model\n",
        "accuracy = accuracy_score(y_test, pred)\n",
        "print(\"Accuracy: %.2f%%\" % (accuracy * 100.0))\n",
        "\n",
        "#classification report\n",
        "print(\"Classification report:\\n\")\n",
        "print(classification_report(y_test, y_pred))\n",
        "\n",
        "# confusion matrix\n",
        "conf_r=confusion_matrix(y_test, pred)\n",
        "print(\"Confusion matrix\\n\", conf_r)\n",
        "\n",
        "# confusion matrix plot\n",
        "print(\"Confusion matrix plot:\\n\")\n",
        "plot_confusion_matrix(cl_r, x_test, y_test)\n",
        "plt.show()"
      ]
    },
    {
      "cell_type": "code",
      "source": [
        "#Random Search\n",
        "import pandas as pd\n",
        "\n",
        "pos = pd.read_csv(\"Positive.w2v\", skiprows=1, sep=\" \", index_col=0, header=None)\n",
        "neg = pd.read_csv(\"Negative.w2v\", skiprows=1, sep=\" \", index_col=0, header=None)\n",
        "df = pd.concat([pos, neg])\n",
        "#df.iloc[:,:0]\n",
        "# this converts the index (ie k-mers) into a list\n",
        "p=pos.index.tolist()\n",
        "n=neg.index.tolist()\n",
        "posd=pos.index\n",
        "negd=neg.index\n",
        "whole=posd.append(negd)\n",
        "kmer=list(whole)\n",
        "\n",
        "# use countvectorizer\n",
        "from sklearn.feature_extraction.text import CountVectorizer\n",
        "import matplotlib.pyplot as plt\n",
        "import numpy as np\n",
        "\n",
        "# Load the text data\n",
        "corpus=kmer\n",
        "\n",
        "vectorizer = CountVectorizer()\n",
        "docs       = vectorizer.fit_transform(corpus)\n",
        "features   = vectorizer.get_feature_names()\n",
        "\n",
        "# step 2\n",
        "feature_name=np.array(features)\n",
        "\n",
        "# step 3\n",
        "sorted_idx = cl_r.feature_importances_.argsort()#[::-1]\n",
        "#feature_name = [feature_name[i] for i in sorted_idx]\n",
        "n_top_features=50\n",
        "plt.figure(figsize=(8,10))\n",
        "plt.barh(feature_name[sorted_idx][:n_top_features ],classifier.feature_importances_[sorted_idx][:n_top_features ])\n",
        "plt.xlabel(\"RF feature Importance \")\n"
      ],
      "metadata": {
        "colab": {
          "base_uri": "https://localhost:8080/",
          "height": 623
        },
        "id": "9bnITjOtyFRI",
        "outputId": "c946ba68-c2fd-4117-91f3-251129bf6bae"
      },
      "execution_count": null,
      "outputs": [
        {
          "output_type": "execute_result",
          "data": {
            "text/plain": [
              "Text(0.5, 0, 'RF feature Importance ')"
            ]
          },
          "metadata": {},
          "execution_count": 18
        },
        {
          "output_type": "display_data",
          "data": {
            "text/plain": [
              "<Figure size 576x720 with 1 Axes>"
            ],
            "image/png": "[encoded data removed]"
          },
          "metadata": {
            "needs_background": "light"
          }
        }
      ]
    },
    {
      "cell_type": "code",
      "source": [
        "explainer = shap.TreeExplainer(cl_r)\n",
        "shap_values = explainer.shap_values(x_test)\n",
        "shap.summary_plot(shap_values, x_test, plot_type=\"bar\", feature_names=feature_name)"
      ],
      "metadata": {
        "colab": {
          "base_uri": "https://localhost:8080/",
          "height": 693
        },
        "id": "xxhWu4GfyU8n",
        "outputId": "478569b0-8b7e-4d85-f986-406c0b5d68dc"
      },
      "execution_count": null,
      "outputs": [
        {
          "output_type": "display_data",
          "data": {
            "text/plain": [
              "<Figure size 576x684 with 1 Axes>"
            ],
            "image/png": "[encoded data removed]"
          },
          "metadata": {
            "needs_background": "light"
          }
        }
      ]
    },
    {
      "cell_type": "code",
      "execution_count": null,
      "metadata": {
        "colab": {
          "base_uri": "https://localhost:8080/",
          "height": 696
        },
        "id": "VpFqFhOLxiOu",
        "outputId": "10431063-62dd-434a-ce76-270b05ca3133"
      },
      "outputs": [
        {
          "output_type": "stream",
          "name": "stdout",
          "text": [
            "\n",
            "BAYESIAN OPTIMIZATION\n",
            "100%|██████████| 80/80 [07:41<00:00,  5.77s/it, best loss: -0.8478632478632478]\n",
            "Best parameters:\n",
            "entropy\n",
            "sqrt\n",
            "1500\n",
            "Accuracy: 72.73%\n",
            "Classification report:\n",
            "\n",
            "              precision    recall  f1-score   support\n",
            "\n",
            "         0.0       0.65      0.83      0.73        29\n",
            "         1.0       0.83      0.65      0.73        37\n",
            "\n",
            "    accuracy                           0.73        66\n",
            "   macro avg       0.74      0.74      0.73        66\n",
            "weighted avg       0.75      0.73      0.73        66\n",
            "\n",
            "Confusion matrix:\n",
            " [[24  5]\n",
            " [13 24]]\n",
            "Confusion matrix plot:\n",
            "\n"
          ]
        },
        {
          "output_type": "display_data",
          "data": {
            "text/plain": [
              "<Figure size 432x288 with 2 Axes>"
            ],
            "image/png": "[encoded data removed]"
          },
          "metadata": {
            "needs_background": "light"
          }
        }
      ],
      "source": [
        "# Bayesian optimization\n",
        "print(\"\\nBAYESIAN OPTIMIZATION\")\n",
        "space = {'criterion': hp.choice('criterion', ['entropy', 'gini']),\n",
        "        'max_depth': hp.quniform('max_depth', 10, 1200, 10),\n",
        "        'max_features': hp.choice('max_features', ['auto', 'sqrt','log2', None]),\n",
        "        'min_samples_leaf': hp.uniform('min_samples_leaf', 0, 0.5),\n",
        "        'min_samples_split' : hp.uniform ('min_samples_split', 0, 1),\n",
        "        'n_estimators' : hp.choice('n_estimators', [10, 50, 300, 750, 1200,1300,1500])\n",
        "    }\n",
        "def objective(space):\n",
        "   model = RandomForestClassifier(criterion = space['criterion'], max_depth = space['max_depth'],\n",
        "                                 max_features = space['max_features'],\n",
        "                                 min_samples_leaf = space['min_samples_leaf'],\n",
        "                                 min_samples_split = space['min_samples_split'],\n",
        "                                 n_estimators = space['n_estimators'],\n",
        "                                 )\n",
        "   #5 times cross validation fives 5 accuracies=>mean of these accuracies will be considered\n",
        "   accuracy = cross_val_score(model, x_train, y_train, cv = 5).mean()\n",
        "   # We aim to maximize accuracy, therefore we return it as a negative value\n",
        "   return {'loss': -accuracy, 'status': STATUS_OK }\n",
        "\n",
        "from sklearn.model_selection import cross_val_score\n",
        "trials = Trials()\n",
        "best = fmin(fn= objective,\n",
        "            space= space,\n",
        "            algo= tpe.suggest,\n",
        "            max_evals = 80,\n",
        "            trials= trials)\n",
        "crit = {0: 'entropy', 1: 'gini'}\n",
        "feat = {0: 'auto', 1: 'sqrt', 2: 'log2', 3: None}\n",
        "est = {0: 10, 1: 50, 2: 300, 3: 750, 4: 1200,5:1300,6:1500}\n",
        "print(\"Best parameters:\")\n",
        "print(crit[best['criterion']])\n",
        "print(feat[best['max_features']])\n",
        "print(est[best['n_estimators']])\n",
        "rf_bayesian=RandomForestClassifier(criterion = crit[best['criterion']], max_depth = best['max_depth'],\n",
        "                                       max_features = feat[best['max_features']],\n",
        "                                       min_samples_leaf = best['min_samples_leaf'],\n",
        "                                       min_samples_split = best['min_samples_split'],\n",
        "                                       n_estimators = est[best['n_estimators']]).fit(x_train,y_train)\n",
        "pred_b=rf_bayesian.predict(x_test)\n",
        "y_probas = rf_bayesian.predict_proba(x_test)\n",
        "# accuracy prediction\n",
        "accuracy = accuracy_score(y_test, pred_b)\n",
        "print(\"Accuracy: %.2f%%\" % (accuracy * 100.0))\n",
        "\n",
        "# classification report\n",
        "print(\"Classification report:\\n\")\n",
        "print(classification_report(y_test, pred_b))\n",
        "\n",
        "# confusion matrix\n",
        "conf=confusion_matrix(y_test, pred_b)\n",
        "print(\"Confusion matrix:\\n\", conf)\n",
        "\n",
        "# confusion matrix plot\n",
        "print(\"Confusion matrix plot:\\n\")\n",
        "plot_confusion_matrix(rf_bayesian, x_test, y_test)\n",
        "plt.show()\n",
        "\n",
        "\n",
        "\n"
      ]
    },
    {
      "cell_type": "code",
      "source": [
        "# Bayesian search\n",
        "import pandas as pd\n",
        "\n",
        "pos = pd.read_csv(\"Positive.w2v\", skiprows=1, sep=\" \", index_col=0, header=None)\n",
        "neg = pd.read_csv(\"Negative.w2v\", skiprows=1, sep=\" \", index_col=0, header=None)\n",
        "df = pd.concat([pos, neg])\n",
        "#df.iloc[:,:0]\n",
        "# this converts the index (ie k-mers) into a list\n",
        "p=pos.index.tolist()\n",
        "n=neg.index.tolist()\n",
        "posd=pos.index\n",
        "negd=neg.index\n",
        "whole=posd.append(negd)\n",
        "kmer=list(whole)\n",
        "\n",
        "# use countvectorizer\n",
        "from sklearn.feature_extraction.text import CountVectorizer\n",
        "import matplotlib.pyplot as plt\n",
        "import numpy as np\n",
        "\n",
        "# Load the text data\n",
        "corpus=kmer\n",
        "\n",
        "vectorizer = CountVectorizer()\n",
        "docs       = vectorizer.fit_transform(corpus)\n",
        "features   = vectorizer.get_feature_names()\n",
        "\n",
        "# step 2\n",
        "feature_name=np.array(features)\n",
        "\n",
        "# step 3\n",
        "sorted_idx = rf_bayesian.feature_importances_.argsort()#[::-1]\n",
        "#feature_name = [feature_name[i] for i in sorted_idx]\n",
        "n_top_features=50\n",
        "plt.figure(figsize=(8,10))\n",
        "plt.barh(feature_name[sorted_idx][:n_top_features ],classifier.feature_importances_[sorted_idx][:n_top_features ])\n",
        "plt.xlabel(\"RF feature Importance \")\n"
      ],
      "metadata": {
        "colab": {
          "base_uri": "https://localhost:8080/",
          "height": 623
        },
        "id": "wyDtb7PJytdf",
        "outputId": "a3e912fa-a381-4831-b9af-112f845b369f"
      },
      "execution_count": null,
      "outputs": [
        {
          "output_type": "execute_result",
          "data": {
            "text/plain": [
              "Text(0.5, 0, 'RF feature Importance ')"
            ]
          },
          "metadata": {},
          "execution_count": 22
        },
        {
          "output_type": "display_data",
          "data": {
            "text/plain": [
              "<Figure size 576x720 with 1 Axes>"
            ],
            "image/png": "[encoded data removed]"
          },
          "metadata": {
            "needs_background": "light"
          }
        }
      ]
    },
    {
      "cell_type": "code",
      "source": [
        "explainer = shap.TreeExplainer(cl_r)\n",
        "shap_values = explainer.shap_values(x_test)\n",
        "shap.summary_plot(shap_values, x_test, plot_type=\"bar\", feature_names=feature_name)"
      ],
      "metadata": {
        "colab": {
          "base_uri": "https://localhost:8080/",
          "height": 693
        },
        "id": "Ga4D_guZzUX4",
        "outputId": "4869c964-b6ec-4c82-fa7a-818136c5c2de"
      },
      "execution_count": null,
      "outputs": [
        {
          "output_type": "display_data",
          "data": {
            "text/plain": [
              "<Figure size 576x684 with 1 Axes>"
            ],
            "image/png": "[encoded data removed]"
          },
          "metadata": {
            "needs_background": "light"
          }
        }
      ]
    },
    {
      "cell_type": "code",
      "execution_count": null,
      "metadata": {
        "colab": {
          "base_uri": "https://localhost:8080/",
          "height": 124
        },
        "id": "bdWnL4Ui7JwW",
        "outputId": "d02ba243-7357-4741-e8f3-59d609f833a7"
      },
      "outputs": [
        {
          "data": {
            "application/javascript": [
              "\n",
              "        window._wandbApiKey = new Promise((resolve, reject) => {\n",
              "            function loadScript(url) {\n",
              "            return new Promise(function(resolve, reject) {\n",
              "                let newScript = document.createElement(\"script\");\n",
              "                newScript.onerror = reject;\n",
              "                newScript.onload = resolve;\n",
              "                document.body.appendChild(newScript);\n",
              "                newScript.src = url;\n",
              "            });\n",
              "            }\n",
              "            loadScript(\"https://cdn.jsdelivr.net/npm/postmate/build/postmate.min.js\").then(() => {\n",
              "            const iframe = document.createElement('iframe')\n",
              "            iframe.style.cssText = \"width:0;height:0;border:none\"\n",
              "            document.body.appendChild(iframe)\n",
              "            const handshake = new Postmate({\n",
              "                container: iframe,\n",
              "                url: 'https://wandb.ai/authorize'\n",
              "            });\n",
              "            const timeout = setTimeout(() => reject(\"Couldn't auto authenticate\"), 5000)\n",
              "            handshake.then(function(child) {\n",
              "                child.on('authorize', data => {\n",
              "                    clearTimeout(timeout)\n",
              "                    resolve(data)\n",
              "                });\n",
              "            });\n",
              "            })\n",
              "        });\n",
              "    "
            ],
            "text/plain": [
              "<IPython.core.display.Javascript object>"
            ]
          },
          "metadata": {},
          "output_type": "display_data"
        },
        {
          "name": "stderr",
          "output_type": "stream",
          "text": [
            "\u001b[34m\u001b[1mwandb\u001b[0m: Appending key for api.wandb.ai to your netrc file: /root/.netrc\n"
          ]
        },
        {
          "data": {
            "text/html": [
              "Tracking run with wandb version 0.12.21"
            ],
            "text/plain": [
              "<IPython.core.display.HTML object>"
            ]
          },
          "metadata": {},
          "output_type": "display_data"
        },
        {
          "data": {
            "text/html": [
              "Run data is saved locally in <code>/content/wandb/run-20220729_083041-swupust2</code>"
            ],
            "text/plain": [
              "<IPython.core.display.HTML object>"
            ]
          },
          "metadata": {},
          "output_type": "display_data"
        },
        {
          "data": {
            "text/html": [
              "Syncing run <strong><a href=\"https://wandb.ai/tyagilab/RF%20classifier/runs/swupust2\" target=\"_blank\">RF-base model</a></strong> to <a href=\"https://wandb.ai/tyagilab/RF%20classifier\" target=\"_blank\">Weights & Biases</a> (<a href=\"https://wandb.me/run\" target=\"_blank\">docs</a>)<br/>"
            ],
            "text/plain": [
              "<IPython.core.display.HTML object>"
            ]
          },
          "metadata": {},
          "output_type": "display_data"
        },
        {
          "name": "stderr",
          "output_type": "stream",
          "text": [
            "\u001b[34m\u001b[1mwandb\u001b[0m: \u001b[33mWARNING\u001b[0m wandb.plots.* functions are deprecated and will be removed in a future release. Please use wandb.plot.* instead.\n"
          ]
        }
      ],
      "source": [
        "\n",
        "# Weights and biases\n",
        "import wandb\n",
        "wandb.init(project=\"RF classifier\", name=\"RF-base model\")\n",
        "# Feature importance\n",
        "wandb.sklearn.plot_feature_importances(classifier)\n",
        "# metrics summary\n",
        "wandb.sklearn.plot_summary_metrics(classifier, x_train, y_train, x_test, y_test)\n",
        "# precision recall\n",
        "wandb.sklearn.plot_precision_recall(y_test, y_probas, labels=None)\n",
        "# ROC curve\n",
        "wandb.sklearn.plot_roc(y_test, y_probas, labels=None)\n",
        "# Learning curve\n",
        "wandb.sklearn.plot_learning_curve(classifier, x_train, y_train)\n",
        "# class proportions\n",
        "wandb.sklearn.plot_class_proportions(y_train, y_test, labels=None)\n",
        "# calibration curve\n",
        "wandb.sklearn.plot_calibration_curve(classifier, X, Y, 'RandomForestClassifier- Base model')\n",
        "#confusion matrix\n",
        "wandb.sklearn.plot_confusion_matrix(y_test, y_pred, labels=None)\n"
      ]
    },
    {
      "cell_type": "code",
      "execution_count": null,
      "metadata": {
        "colab": {
          "base_uri": "https://localhost:8080/",
          "height": 124
        },
        "id": "Dz-l-qN4N_Wc",
        "outputId": "500ecc61-a082-45d7-ec03-6afbb78b5261"
      },
      "outputs": [
        {
          "data": {
            "application/javascript": [
              "\n",
              "        window._wandbApiKey = new Promise((resolve, reject) => {\n",
              "            function loadScript(url) {\n",
              "            return new Promise(function(resolve, reject) {\n",
              "                let newScript = document.createElement(\"script\");\n",
              "                newScript.onerror = reject;\n",
              "                newScript.onload = resolve;\n",
              "                document.body.appendChild(newScript);\n",
              "                newScript.src = url;\n",
              "            });\n",
              "            }\n",
              "            loadScript(\"https://cdn.jsdelivr.net/npm/postmate/build/postmate.min.js\").then(() => {\n",
              "            const iframe = document.createElement('iframe')\n",
              "            iframe.style.cssText = \"width:0;height:0;border:none\"\n",
              "            document.body.appendChild(iframe)\n",
              "            const handshake = new Postmate({\n",
              "                container: iframe,\n",
              "                url: 'https://wandb.ai/authorize'\n",
              "            });\n",
              "            const timeout = setTimeout(() => reject(\"Couldn't auto authenticate\"), 5000)\n",
              "            handshake.then(function(child) {\n",
              "                child.on('authorize', data => {\n",
              "                    clearTimeout(timeout)\n",
              "                    resolve(data)\n",
              "                });\n",
              "            });\n",
              "            })\n",
              "        });\n",
              "    "
            ],
            "text/plain": [
              "<IPython.core.display.Javascript object>"
            ]
          },
          "metadata": {},
          "output_type": "display_data"
        },
        {
          "name": "stderr",
          "output_type": "stream",
          "text": [
            "\u001b[34m\u001b[1mwandb\u001b[0m: Appending key for api.wandb.ai to your netrc file: /root/.netrc\n"
          ]
        },
        {
          "data": {
            "text/html": [
              "Tracking run with wandb version 0.12.21"
            ],
            "text/plain": [
              "<IPython.core.display.HTML object>"
            ]
          },
          "metadata": {},
          "output_type": "display_data"
        },
        {
          "data": {
            "text/html": [
              "Run data is saved locally in <code>/content/wandb/run-20220802_031849-22ca6gkb</code>"
            ],
            "text/plain": [
              "<IPython.core.display.HTML object>"
            ]
          },
          "metadata": {},
          "output_type": "display_data"
        },
        {
          "data": {
            "text/html": [
              "Syncing run <strong><a href=\"https://wandb.ai/tyagilab/RF%20classifier/runs/22ca6gkb\" target=\"_blank\">RF-gridsearch model</a></strong> to <a href=\"https://wandb.ai/tyagilab/RF%20classifier\" target=\"_blank\">Weights & Biases</a> (<a href=\"https://wandb.me/run\" target=\"_blank\">docs</a>)<br/>"
            ],
            "text/plain": [
              "<IPython.core.display.HTML object>"
            ]
          },
          "metadata": {},
          "output_type": "display_data"
        },
        {
          "name": "stderr",
          "output_type": "stream",
          "text": [
            "\u001b[34m\u001b[1mwandb\u001b[0m: \u001b[33mWARNING\u001b[0m wandb.plots.* functions are deprecated and will be removed in a future release. Please use wandb.plot.* instead.\n"
          ]
        }
      ],
      "source": [
        "import wandb\n",
        "wandb.init(project=\"RF classifier\", name=\"RF-gridsearch model\")\n",
        "# Feature importance\n",
        "wandb.sklearn.plot_feature_importances(cl_g)\n",
        "# metrics summary\n",
        "wandb.sklearn.plot_summary_metrics(cl_g, x_train, y_train, x_test, y_test)\n",
        "# precision recall\n",
        "wandb.sklearn.plot_precision_recall(y_test, y_probas, labels=None)\n",
        "# ROC curve\n",
        "wandb.sklearn.plot_roc(y_test, y_probas, labels=None)\n",
        "# Learning curve\n",
        "wandb.sklearn.plot_learning_curve(cl_g, x_train, y_train)\n",
        "# class proportions\n",
        "wandb.sklearn.plot_class_proportions(y_train, y_test, labels=None)\n",
        "# calibration curve\n",
        "wandb.sklearn.plot_calibration_curve(cl_g, X, Y, 'RandomForestClassifier-Grid search model')\n",
        "# confusion matrix\n",
        "wandb.sklearn.plot_confusion_matrix(y_test, y_pred, labels=None)"
      ]
    },
    {
      "cell_type": "code",
      "execution_count": null,
      "metadata": {
        "colab": {
          "base_uri": "https://localhost:8080/",
          "height": 175,
          "referenced_widgets": [
            "bdd0bdb2ada440438a07dfd479f99376",
            "01297e8f5b5a462f997387a325b7c1f7",
            "05c1b5a941e14c909da517b32d29df25",
            "edabdc881c4849458c6e07cdc9d1f215",
            "2aa241fb6921493bac9f2f5b591ccd84",
            "459fb60e4fa54051aec4d58cef1f237e",
            "1ad0c96cd0f44ae894942547c76b2c06",
            "76196861bfbd479590e9e6e628a237aa"
          ]
        },
        "id": "dCqwWH-Hk6CQ",
        "outputId": "0afad2be-027f-4051-dd00-bca3cf0b217f"
      },
      "outputs": [
        {
          "data": {
            "text/html": [
              "Finishing last run (ID:22ca6gkb) before initializing another..."
            ],
            "text/plain": [
              "<IPython.core.display.HTML object>"
            ]
          },
          "metadata": {},
          "output_type": "display_data"
        },
        {
          "data": {
            "text/html": [
              "Waiting for W&B process to finish... <strong style=\"color:green\">(success).</strong>"
            ],
            "text/plain": [
              "<IPython.core.display.HTML object>"
            ]
          },
          "metadata": {},
          "output_type": "display_data"
        },
        {
          "data": {
            "application/vnd.jupyter.widget-view+json": {
              "model_id": "bdd0bdb2ada440438a07dfd479f99376",
              "version_major": 2,
              "version_minor": 0
            },
            "text/plain": [
              "VBox(children=(Label(value='0.014 MB of 0.014 MB uploaded (0.000 MB deduped)\\r'), FloatProgress(value=1.0, max…"
            ]
          },
          "metadata": {},
          "output_type": "display_data"
        },
        {
          "data": {
            "text/html": [
              "Synced <strong style=\"color:#cdcd00\">RF-gridsearch model</strong>: <a href=\"https://wandb.ai/tyagilab/RF%20classifier/runs/22ca6gkb\" target=\"_blank\">https://wandb.ai/tyagilab/RF%20classifier/runs/22ca6gkb</a><br/>Synced 5 W&B file(s), 8 media file(s), 8 artifact file(s) and 0 other file(s)"
            ],
            "text/plain": [
              "<IPython.core.display.HTML object>"
            ]
          },
          "metadata": {},
          "output_type": "display_data"
        },
        {
          "data": {
            "text/html": [
              "Find logs at: <code>./wandb/run-20220802_031849-22ca6gkb/logs</code>"
            ],
            "text/plain": [
              "<IPython.core.display.HTML object>"
            ]
          },
          "metadata": {},
          "output_type": "display_data"
        },
        {
          "data": {
            "text/html": [
              "Successfully finished last run (ID:22ca6gkb). Initializing new run:<br/>"
            ],
            "text/plain": [
              "<IPython.core.display.HTML object>"
            ]
          },
          "metadata": {},
          "output_type": "display_data"
        },
        {
          "data": {
            "text/html": [
              "Tracking run with wandb version 0.12.21"
            ],
            "text/plain": [
              "<IPython.core.display.HTML object>"
            ]
          },
          "metadata": {},
          "output_type": "display_data"
        },
        {
          "data": {
            "text/html": [
              "Run data is saved locally in <code>/content/wandb/run-20220802_032814-2wbrl5lk</code>"
            ],
            "text/plain": [
              "<IPython.core.display.HTML object>"
            ]
          },
          "metadata": {},
          "output_type": "display_data"
        },
        {
          "data": {
            "text/html": [
              "Syncing run <strong><a href=\"https://wandb.ai/tyagilab/RF%20classifier/runs/2wbrl5lk\" target=\"_blank\">RF-random search model</a></strong> to <a href=\"https://wandb.ai/tyagilab/RF%20classifier\" target=\"_blank\">Weights & Biases</a> (<a href=\"https://wandb.me/run\" target=\"_blank\">docs</a>)<br/>"
            ],
            "text/plain": [
              "<IPython.core.display.HTML object>"
            ]
          },
          "metadata": {},
          "output_type": "display_data"
        }
      ],
      "source": [
        "wandb.init(project=\"RF classifier\", name=\"RF-random search model\")\n",
        "# Feature importance\n",
        "wandb.sklearn.plot_feature_importances(cl_r)\n",
        "# metrics summary\n",
        "wandb.sklearn.plot_summary_metrics(cl_r, x_train, y_train, x_test, y_test)\n",
        "# precision recall\n",
        "wandb.sklearn.plot_precision_recall(y_test, y_probas, labels=None)\n",
        "# ROC curve\n",
        "wandb.sklearn.plot_roc(y_test, y_probas, labels=None)\n",
        "# Learning curve\n",
        "wandb.sklearn.plot_learning_curve(cl_r, x_train, y_train)\n",
        "# class proportions\n",
        "wandb.sklearn.plot_class_proportions(y_train, y_test, labels=None)\n",
        "# calibration curve\n",
        "wandb.sklearn.plot_calibration_curve(cl_r, X, Y, 'RandomForestClassifier-Random search model')\n",
        "# confusion matrix\n",
        "wandb.sklearn.plot_confusion_matrix(y_test, y_pred, labels=None)"
      ]
    },
    {
      "cell_type": "code",
      "execution_count": null,
      "metadata": {
        "colab": {
          "base_uri": "https://localhost:8080/",
          "height": 175,
          "referenced_widgets": [
            "05dbaaff0911463f80a4ed18519be494",
            "017d792d85db4bcd8863c912764d16b0",
            "a61aac081d884fc7a3b7964e7499f6f3",
            "f83ee6fe88514e3ea3773e1baa126b8f",
            "c1ec4cda985e4b1f98e36f6fdf207359",
            "265c2dae51b3466e953688ae9f6eb2ea",
            "2b86b72191854e2ca4c67d6be88e2935",
            "3c41e141f7294b909cceb1a55d9ee757"
          ]
        },
        "id": "4Gfu6mWFm67e",
        "outputId": "2ed411b0-7d22-4148-aca8-1427101a84a0"
      },
      "outputs": [
        {
          "data": {
            "text/html": [
              "Finishing last run (ID:2wbrl5lk) before initializing another..."
            ],
            "text/plain": [
              "<IPython.core.display.HTML object>"
            ]
          },
          "metadata": {},
          "output_type": "display_data"
        },
        {
          "data": {
            "text/html": [
              "Waiting for W&B process to finish... <strong style=\"color:green\">(success).</strong>"
            ],
            "text/plain": [
              "<IPython.core.display.HTML object>"
            ]
          },
          "metadata": {},
          "output_type": "display_data"
        },
        {
          "data": {
            "application/vnd.jupyter.widget-view+json": {
              "model_id": "05dbaaff0911463f80a4ed18519be494",
              "version_major": 2,
              "version_minor": 0
            },
            "text/plain": [
              "VBox(children=(Label(value='0.016 MB of 0.016 MB uploaded (0.000 MB deduped)\\r'), FloatProgress(value=1.0, max…"
            ]
          },
          "metadata": {},
          "output_type": "display_data"
        },
        {
          "data": {
            "text/html": [
              "Synced <strong style=\"color:#cdcd00\">RF-random search model</strong>: <a href=\"https://wandb.ai/tyagilab/RF%20classifier/runs/2wbrl5lk\" target=\"_blank\">https://wandb.ai/tyagilab/RF%20classifier/runs/2wbrl5lk</a><br/>Synced 5 W&B file(s), 8 media file(s), 8 artifact file(s) and 0 other file(s)"
            ],
            "text/plain": [
              "<IPython.core.display.HTML object>"
            ]
          },
          "metadata": {},
          "output_type": "display_data"
        },
        {
          "data": {
            "text/html": [
              "Find logs at: <code>./wandb/run-20220802_032814-2wbrl5lk/logs</code>"
            ],
            "text/plain": [
              "<IPython.core.display.HTML object>"
            ]
          },
          "metadata": {},
          "output_type": "display_data"
        },
        {
          "data": {
            "text/html": [
              "Successfully finished last run (ID:2wbrl5lk). Initializing new run:<br/>"
            ],
            "text/plain": [
              "<IPython.core.display.HTML object>"
            ]
          },
          "metadata": {},
          "output_type": "display_data"
        },
        {
          "data": {
            "text/html": [
              "Tracking run with wandb version 0.12.21"
            ],
            "text/plain": [
              "<IPython.core.display.HTML object>"
            ]
          },
          "metadata": {},
          "output_type": "display_data"
        },
        {
          "data": {
            "text/html": [
              "Run data is saved locally in <code>/content/wandb/run-20220802_034037-29jf8qs3</code>"
            ],
            "text/plain": [
              "<IPython.core.display.HTML object>"
            ]
          },
          "metadata": {},
          "output_type": "display_data"
        },
        {
          "data": {
            "text/html": [
              "Syncing run <strong><a href=\"https://wandb.ai/tyagilab/RF%20classifier/runs/29jf8qs3\" target=\"_blank\">RF-Bayesian optimization model</a></strong> to <a href=\"https://wandb.ai/tyagilab/RF%20classifier\" target=\"_blank\">Weights & Biases</a> (<a href=\"https://wandb.me/run\" target=\"_blank\">docs</a>)<br/>"
            ],
            "text/plain": [
              "<IPython.core.display.HTML object>"
            ]
          },
          "metadata": {},
          "output_type": "display_data"
        }
      ],
      "source": [
        "wandb.init(project=\"RF classifier\", name=\"RF-Bayesian optimization model\")\n",
        "# Feature importance\n",
        "wandb.sklearn.plot_feature_importances(model=rf_bayesian, title=\"RF-Bayesian model\")\n",
        "# metrics summary\n",
        "wandb.sklearn.plot_summary_metrics(rf_bayesian, x_train, y_train, x_test, y_test)\n",
        "# precision recall\n",
        "wandb.sklearn.plot_precision_recall(y_test, y_probas, labels=None)\n",
        "# ROC curve\n",
        "wandb.sklearn.plot_roc(y_test, y_probas, labels=None)\n",
        "# Learning curve\n",
        "wandb.sklearn.plot_learning_curve(rf_bayesian, x_train, y_train)\n",
        "# class proportions\n",
        "wandb.sklearn.plot_class_proportions(y_train, y_test, labels=None)\n",
        "# calibration curve\n",
        "wandb.sklearn.plot_calibration_curve(rf_bayesian, X, Y, 'RandomForestClassifier-Bayesian optimization model')\n",
        "# confusion matrix\n",
        "wandb.sklearn.plot_confusion_matrix(y_test, y_pred, labels=None)"
      ]
    },
    {
      "cell_type": "code",
      "execution_count": null,
      "metadata": {
        "colab": {
          "base_uri": "https://localhost:8080/",
          "height": 53
        },
        "id": "kvSyBEyApYsv",
        "outputId": "33de6609-1e67-434d-abc0-4097851b5a26"
      },
      "outputs": [
        {
          "data": {
            "application/javascript": [
              "\n",
              "        window._wandbApiKey = new Promise((resolve, reject) => {\n",
              "            function loadScript(url) {\n",
              "            return new Promise(function(resolve, reject) {\n",
              "                let newScript = document.createElement(\"script\");\n",
              "                newScript.onerror = reject;\n",
              "                newScript.onload = resolve;\n",
              "                document.body.appendChild(newScript);\n",
              "                newScript.src = url;\n",
              "            });\n",
              "            }\n",
              "            loadScript(\"https://cdn.jsdelivr.net/npm/postmate/build/postmate.min.js\").then(() => {\n",
              "            const iframe = document.createElement('iframe')\n",
              "            iframe.style.cssText = \"width:0;height:0;border:none\"\n",
              "            document.body.appendChild(iframe)\n",
              "            const handshake = new Postmate({\n",
              "                container: iframe,\n",
              "                url: 'https://wandb.ai/authorize'\n",
              "            });\n",
              "            const timeout = setTimeout(() => reject(\"Couldn't auto authenticate\"), 5000)\n",
              "            handshake.then(function(child) {\n",
              "                child.on('authorize', data => {\n",
              "                    clearTimeout(timeout)\n",
              "                    resolve(data)\n",
              "                });\n",
              "            });\n",
              "            })\n",
              "        });\n",
              "    "
            ],
            "text/plain": [
              "<IPython.core.display.Javascript object>"
            ]
          },
          "metadata": {},
          "output_type": "display_data"
        },
        {
          "name": "stderr",
          "output_type": "stream",
          "text": [
            "\u001b[34m\u001b[1mwandb\u001b[0m: Appending key for api.wandb.ai to your netrc file: /root/.netrc\n"
          ]
        }
      ],
      "source": [
        "# Exporting metrics from a project in to a CSV file\n",
        "import pandas as pd\n",
        "import wandb\n",
        "api = wandb.Api()\n",
        "entity, project = \"tyagilab\", \"RF classifier\"  # set to your entity and project\n",
        "runs = api.runs(entity + \"/\" + project)\n",
        "\n",
        "summary_list, config_list, name_list = [], [], []\n",
        "for run in runs:\n",
        "    # .summary contains the output keys/values for metrics like accuracy.\n",
        "    summary_list.append(run.summary._json_dict)\n",
        "\n",
        "    # .config contains the hyperparameters.\n",
        "    #  We remove special values that start with _.\n",
        "    config_list.append(\n",
        "        {k: v for k,v in run.config.items()\n",
        "         if not k.startswith('_')})\n",
        "\n",
        "    # .name is the human-readable name of the run.\n",
        "    name_list.append(run.name)\n",
        "\n",
        "runs_df = pd.DataFrame({\n",
        "    \"summary\": summary_list,\n",
        "    \"config\": config_list,\n",
        "    \"name\": name_list\n",
        "    })\n",
        "\n",
        "runs_df.to_csv(\"project.csv\")"
      ]
    },
    {
      "cell_type": "markdown",
      "metadata": {
        "id": "dVHNEV6eBciC"
      },
      "source": [
        "### Plotting Feature importance from RF Model\n",
        "\n",
        "1.   step 1: Vectorize the k-mer data using countvectorizer- these preserves the k-mer names.\n",
        "2.   step 2: Use feature imp. fxn. to select top features sorted by their index.\n",
        "3.   step 3: Use feature names from step 1 and imp features from step 2 to plot.\n",
        "\n",
        "\n",
        "\n",
        "\n"
      ]
    },
    {
      "cell_type": "code",
      "execution_count": null,
      "metadata": {
        "colab": {
          "base_uri": "https://localhost:8080/",
          "height": 623
        },
        "id": "YHnWQJKdC2wE",
        "outputId": "969e1ce2-f47d-4e0b-98dd-d943aaddcfa9"
      },
      "outputs": [
        {
          "data": {
            "text/plain": [
              "Text(0.5, 0, 'RF feature Importance ')"
            ]
          },
          "execution_count": 8,
          "metadata": {},
          "output_type": "execute_result"
        },
        {
          "data": {
            "image/png": "[encoded data removed]",
            "text/plain": [
              "<Figure size 576x720 with 1 Axes>"
            ]
          },
          "metadata": {},
          "output_type": "display_data"
        }
      ],
      "source": [
        "# Rf base model\n",
        "#step 1\n",
        "# read data in a form where k-mer name are still preserved\n",
        "import pandas as pd\n",
        "\n",
        "pos = pd.read_csv(\"Positive.w2v\", skiprows=1, sep=\" \", index_col=0, header=None)\n",
        "neg = pd.read_csv(\"Negative.w2v\", skiprows=1, sep=\" \", index_col=0, header=None)\n",
        "df = pd.concat([pos, neg])\n",
        "#df.iloc[:,:0]\n",
        "# this converts the index (ie k-mers) into a list\n",
        "p=pos.index.tolist()\n",
        "n=neg.index.tolist()\n",
        "posd=pos.index\n",
        "negd=neg.index\n",
        "whole=posd.append(negd)\n",
        "kmer=list(whole)\n",
        "\n",
        "# use countvectorizer\n",
        "from sklearn.feature_extraction.text import CountVectorizer\n",
        "import matplotlib.pyplot as plt\n",
        "import numpy as np\n",
        "\n",
        "# Load the text data\n",
        "corpus=kmer\n",
        "\n",
        "vectorizer = CountVectorizer()\n",
        "docs       = vectorizer.fit_transform(corpus)\n",
        "features   = vectorizer.get_feature_names()\n",
        "\n",
        "# step 2\n",
        "feature_name=np.array(features)\n",
        "\n",
        "# step 3\n",
        "sorted_idx = classifier.feature_importances_.argsort()#[::-1]\n",
        "#feature_name = [feature_name[i] for i in sorted_idx]\n",
        "n_top_features=50\n",
        "plt.figure(figsize=(8,10))\n",
        "plt.barh(feature_name[sorted_idx][:n_top_features ],classifier.feature_importances_[sorted_idx][:n_top_features ])\n",
        "plt.xlabel(\"RF feature Importance \")\n"
      ]
    },
    {
      "cell_type": "code",
      "source": [
        "explainer = shap.TreeExplainer(classifier)\n",
        "shap_values = explainer.shap_values(x_test)\n",
        "shap.summary_plot(shap_values, x_test, plot_type=\"bar\", feature_names=feature_name)"
      ],
      "metadata": {
        "colab": {
          "base_uri": "https://localhost:8080/",
          "height": 693
        },
        "id": "tA9IEAXY3imJ",
        "outputId": "632dbba9-ebe1-428e-803e-dc20b14203c1"
      },
      "execution_count": null,
      "outputs": [
        {
          "output_type": "display_data",
          "data": {
            "text/plain": [
              "<Figure size 576x684 with 1 Axes>"
            ],
            "image/png": "[encoded data removed]"
          },
          "metadata": {
            "needs_background": "light"
          }
        }
      ]
    },
    {
      "cell_type": "code",
      "execution_count": null,
      "metadata": {
        "colab": {
          "base_uri": "https://localhost:8080/"
        },
        "id": "5oQ5PAZBXIWw",
        "outputId": "c99968e6-59cf-4ba0-a933-933b234731ef"
      },
      "outputs": [
        {
          "name": "stdout",
          "output_type": "stream",
          "text": [
            "1. feature 83 - aaaaatta : 0.043892\n",
            "2. feature 52 - aaaaagca : 0.042664\n",
            "3. feature 64 - aaaaagtg : 0.035013\n",
            "4. feature 86 - aaaaattt : 0.034340\n",
            "5. feature 11 - aaaaaacc : 0.027154\n",
            "6. feature 13 - aaaaaact : 0.026280\n",
            "7. feature 28 - aaaaacag : 0.025958\n",
            "8. feature 9 - aaaaaac : 0.022606\n",
            "9. feature 63 - aaaaagtc : 0.020602\n",
            "10. feature 59 - aaaaaggg : 0.019748\n",
            "11. feature 16 - aaaaaagc : 0.016947\n",
            "12. feature 3 - aaaaaa : 0.016508\n",
            "13. feature 57 - aaaaagga : 0.016421\n",
            "14. feature 81 - aaaaatgt : 0.015709\n",
            "15. feature 51 - aaaaagc : 0.015575\n",
            "16. feature 18 - aaaaaagt : 0.015073\n",
            "17. feature 66 - aaaaat : 0.014537\n",
            "18. feature 53 - aaaaagcc : 0.013170\n",
            "19. feature 48 - aaaaagac : 0.013060\n",
            "20. feature 70 - aaaaatag : 0.012180\n",
            "21. feature 30 - aaaaacc : 0.011456\n",
            "22. feature 1 - aaaa : 0.010978\n",
            "23. feature 10 - aaaaaaca : 0.010852\n",
            "24. feature 32 - aaaaaccc : 0.010775\n",
            "25. feature 93 - aaaacaat : 0.010512\n",
            "26. feature 42 - aaaaactc : 0.010473\n",
            "27. feature 67 - aaaaata : 0.010450\n",
            "28. feature 99 - aaaacag : 0.010304\n",
            "29. feature 44 - aaaaactt : 0.009649\n",
            "30. feature 87 - aaaac : 0.009643\n",
            "31. feature 55 - aaaaagct : 0.009531\n",
            "32. feature 80 - aaaaatgg : 0.009452\n",
            "33. feature 98 - aaaacact : 0.009367\n",
            "34. feature 88 - aaaaca : 0.009027\n",
            "35. feature 36 - aaaaacga : 0.008865\n",
            "36. feature 29 - aaaaacat : 0.008845\n",
            "37. feature 94 - aaaacac : 0.008757\n",
            "38. feature 90 - aaaacaaa : 0.008509\n",
            "39. feature 35 - aaaaacg : 0.008374\n",
            "40. feature 5 - aaaaaaaa : 0.008217\n",
            "41. feature 25 - aaaaaca : 0.008023\n",
            "42. feature 7 - aaaaaaag : 0.007944\n",
            "43. feature 76 - aaaaatct : 0.007752\n",
            "44. feature 89 - aaaacaa : 0.007612\n",
            "45. feature 74 - aaaaatcc : 0.007269\n",
            "46. feature 47 - aaaaagaa : 0.007205\n",
            "47. feature 49 - aaaaagag : 0.007190\n",
            "48. feature 69 - aaaaatac : 0.007155\n",
            "49. feature 85 - aaaaattg : 0.007144\n",
            "50. feature 39 - aaaaacgt : 0.007118\n",
            "51. feature 24 - aaaaac : 0.007040\n",
            "52. feature 20 - aaaaaata : 0.007036\n",
            "53. feature 23 - aaaaaatt : 0.006959\n",
            "54. feature 75 - aaaaatcg : 0.006930\n",
            "55. feature 97 - aaaacacg : 0.006882\n",
            "56. feature 6 - aaaaaaac : 0.006857\n",
            "57. feature 27 - aaaaacac : 0.006828\n",
            "58. feature 40 - aaaaact : 0.006767\n",
            "59. feature 71 - aaaaatat : 0.006701\n",
            "60. feature 26 - aaaaacaa : 0.006693\n",
            "61. feature 19 - aaaaaat : 0.006676\n",
            "62. feature 72 - aaaaatc : 0.006586\n",
            "63. feature 50 - aaaaagat : 0.006490\n",
            "64. feature 38 - aaaaacgg : 0.006436\n",
            "65. feature 91 - aaaacaac : 0.006404\n",
            "66. feature 45 - aaaaag : 0.006404\n",
            "67. feature 4 - aaaaaaa : 0.006298\n",
            "68. feature 62 - aaaaagta : 0.006291\n",
            "69. feature 33 - aaaaaccg : 0.006234\n",
            "70. feature 96 - aaaacacc : 0.006212\n",
            "71. feature 58 - aaaaaggc : 0.006188\n",
            "72. feature 84 - aaaaattc : 0.006177\n",
            "73. feature 17 - aaaaaagg : 0.006154\n",
            "74. feature 95 - aaaacaca : 0.006059\n",
            "75. feature 60 - aaaaaggt : 0.006048\n",
            "76. feature 21 - aaaaaatc : 0.005976\n",
            "77. feature 79 - aaaaatgc : 0.005892\n",
            "78. feature 77 - aaaaatg : 0.005835\n",
            "79. feature 73 - aaaaatca : 0.005751\n",
            "80. feature 2 - aaaaa : 0.005570\n",
            "81. feature 56 - aaaaagg : 0.005482\n",
            "82. feature 61 - aaaaagt : 0.005410\n",
            "83. feature 0 - aaa : 0.005309\n",
            "84. feature 12 - aaaaaacg : 0.005243\n",
            "85. feature 14 - aaaaaag : 0.005146\n",
            "86. feature 31 - aaaaacca : 0.005076\n",
            "87. feature 82 - aaaaatt : 0.005037\n",
            "88. feature 46 - aaaaaga : 0.004973\n",
            "89. feature 41 - aaaaacta : 0.004818\n",
            "90. feature 68 - aaaaataa : 0.004604\n",
            "91. feature 22 - aaaaaatg : 0.004602\n",
            "92. feature 43 - aaaaactg : 0.004561\n",
            "93. feature 54 - aaaaagcg : 0.004237\n",
            "94. feature 78 - aaaaatga : 0.004174\n",
            "95. feature 37 - aaaaacgc : 0.004036\n",
            "96. feature 92 - aaaacaag : 0.003932\n",
            "97. feature 8 - aaaaaaat : 0.003894\n",
            "98. feature 15 - aaaaaaga : 0.003819\n",
            "99. feature 34 - aaaaacct : 0.003734\n",
            "100. feature 65 - aaaaagtt : 0.003654\n"
          ]
        }
      ],
      "source": [
        "importances = classifier.feature_importances_\n",
        "indices = np.argsort(importances)[::-1]\n",
        "feature_name = [feature_name[i] for i in indices]\n",
        "feats=np.array(feature_name)\n",
        "#print(\"Feature ranking:\")\n",
        "\n",
        "for f in range(x_train.shape[1]):\n",
        "    print(\"%d. feature %d - %s : %f\" % (f+1, indices[f], feats[f], importances[indices[f]]))\n",
        "    #print(\"%d. feature %d %s (%f)\" % (f + 1, indices[f], feature_name, importances[indices[f]]))"
      ]
    },
    {
      "cell_type": "code",
      "execution_count": null,
      "metadata": {
        "colab": {
          "base_uri": "https://localhost:8080/",
          "height": 623
        },
        "id": "icj7lBcEAzSL",
        "outputId": "43734f4d-d585-462f-ec12-93afaca0e224"
      },
      "outputs": [
        {
          "data": {
            "text/plain": [
              "Text(0.5, 0, 'RF feature Importance ')"
            ]
          },
          "execution_count": 10,
          "metadata": {},
          "output_type": "execute_result"
        },
        {
          "data": {
            "image/png": "[encoded data removed]",
            "text/plain": [
              "<Figure size 576x720 with 1 Axes>"
            ]
          },
          "metadata": {},
          "output_type": "display_data"
        }
      ],
      "source": [
        "plt.figure(figsize=(8,10))\n",
        "plt.barh(feats[:50], importances[:50])\n",
        "plt.xlabel(\"RF feature Importance \")"
      ]
    },
    {
      "cell_type": "code",
      "source": [
        "#Grid Search\n",
        "import pandas as pd\n",
        "\n",
        "pos = pd.read_csv(\"Positive.w2v\", skiprows=1, sep=\" \", index_col=0, header=None)\n",
        "neg = pd.read_csv(\"Negative.w2v\", skiprows=1, sep=\" \", index_col=0, header=None)\n",
        "df = pd.concat([pos, neg])\n",
        "#df.iloc[:,:0]\n",
        "# this converts the index (ie k-mers) into a list\n",
        "p=pos.index.tolist()\n",
        "n=neg.index.tolist()\n",
        "posd=pos.index\n",
        "negd=neg.index\n",
        "whole=posd.append(negd)\n",
        "kmer=list(whole)\n",
        "\n",
        "# use countvectorizer\n",
        "from sklearn.feature_extraction.text import CountVectorizer\n",
        "import matplotlib.pyplot as plt\n",
        "import numpy as np\n",
        "\n",
        "# Load the text data\n",
        "corpus=kmer\n",
        "\n",
        "vectorizer = CountVectorizer()\n",
        "docs       = vectorizer.fit_transform(corpus)\n",
        "features   = vectorizer.get_feature_names()\n",
        "\n",
        "# step 2\n",
        "feature_name=np.array(features)\n",
        "\n",
        "# step 3\n",
        "sorted_idx = cl_g.feature_importances_.argsort()#[::-1]\n",
        "#feature_name = [feature_name[i] for i in sorted_idx]\n",
        "n_top_features=50\n",
        "plt.figure(figsize=(8,10))\n",
        "plt.barh(feature_name[sorted_idx][:n_top_features ],classifier.feature_importances_[sorted_idx][:n_top_features ])\n",
        "plt.xlabel(\"RF feature Importance \")\n"
      ],
      "metadata": {
        "colab": {
          "base_uri": "https://localhost:8080/",
          "height": 623
        },
        "id": "8NIWoe_GqoS_",
        "outputId": "bd645d34-b341-4e9f-adbb-c994a142136d"
      },
      "execution_count": null,
      "outputs": [
        {
          "output_type": "execute_result",
          "data": {
            "text/plain": [
              "Text(0.5, 0, 'RF feature Importance ')"
            ]
          },
          "metadata": {},
          "execution_count": 13
        },
        {
          "output_type": "display_data",
          "data": {
            "text/plain": [
              "<Figure size 576x720 with 1 Axes>"
            ],
            "image/png": "[encoded data removed]"
          },
          "metadata": {
            "needs_background": "light"
          }
        }
      ]
    },
    {
      "cell_type": "code",
      "source": [
        "shap.summary_plot(shap_values, x_test, plot_type=\"bar\", feature_names=feature_name)"
      ],
      "metadata": {
        "colab": {
          "base_uri": "https://localhost:8080/",
          "height": 693
        },
        "id": "vVFsJjAYrLu_",
        "outputId": "511f2251-0607-4a86-9af4-23aaad848fad"
      },
      "execution_count": null,
      "outputs": [
        {
          "output_type": "display_data",
          "data": {
            "text/plain": [
              "<Figure size 576x684 with 1 Axes>"
            ],
            "image/png": "[encoded data removed]"
          },
          "metadata": {
            "needs_background": "light"
          }
        }
      ]
    },
    {
      "cell_type": "code",
      "execution_count": null,
      "metadata": {
        "colab": {
          "base_uri": "https://localhost:8080/",
          "height": 597
        },
        "id": "Jij2clZZXdSG",
        "outputId": "2caeb6d3-59b6-40d9-8efd-237451ab9806"
      },
      "outputs": [
        {
          "data": {
            "text/plain": [
              "Text(0.5, 0, 'index of the feature')"
            ]
          },
          "execution_count": 11,
          "metadata": {},
          "output_type": "execute_result"
        },
        {
          "data": {
            "image/png": "[encoded data removed]",
            "text/plain": [
              "<Figure size 792x648 with 1 Axes>"
            ]
          },
          "metadata": {},
          "output_type": "display_data"
        }
      ],
      "source": [
        "f, ax = plt.subplots(figsize=(11, 9))\n",
        "plt.title(\"Feature ranking\", fontsize = 20)\n",
        "plt.bar(range(x_train.shape[1]), importances[indices],\n",
        "    color=\"b\",\n",
        "    align=\"center\")\n",
        "plt.xticks(range(x_train.shape[1]), indices)\n",
        "plt.xlim([-1, x_train.shape[1]])\n",
        "plt.ylabel(\"importance\", fontsize = 18)\n",
        "plt.xlabel(\"index of the feature\", fontsize = 18)"
      ]
    },
    {
      "cell_type": "code",
      "execution_count": null,
      "metadata": {
        "colab": {
          "base_uri": "https://localhost:8080/"
        },
        "id": "iIWc4E-j9JWZ",
        "outputId": "2b4715a1-a3a9-4ba7-829b-f12d2b10132c"
      },
      "outputs": [
        {
          "data": {
            "text/plain": [
              "array([0.00530878, 0.01097777, 0.00557041, 0.01650815, 0.00629769,\n",
              "       0.0082169 , 0.0068568 , 0.00794429, 0.00389357, 0.02260552,\n",
              "       0.01085164, 0.02715445, 0.00524252, 0.02627969, 0.00514562,\n",
              "       0.00381936, 0.01694686, 0.00615396, 0.01507255, 0.00667557,\n",
              "       0.00703632, 0.00597644, 0.00460176, 0.00695911, 0.00704036,\n",
              "       0.00802315, 0.00669267, 0.00682754, 0.02595794, 0.00884516,\n",
              "       0.01145647, 0.00507638, 0.01077489, 0.00623399, 0.00373354,\n",
              "       0.00837448, 0.0088651 , 0.00403554, 0.00643554, 0.00711828,\n",
              "       0.00676698, 0.00481782, 0.01047293, 0.00456062, 0.00964932,\n",
              "       0.00640359, 0.0049727 , 0.00720472, 0.01305984, 0.00719019,\n",
              "       0.00649007, 0.01557545, 0.04266445, 0.01317016, 0.00423745,\n",
              "       0.00953133, 0.00548167, 0.01642104, 0.00618824, 0.01974824,\n",
              "       0.00604825, 0.00540989, 0.00629105, 0.02060237, 0.03501288,\n",
              "       0.00365365, 0.01453669, 0.0104495 , 0.00460411, 0.00715535,\n",
              "       0.01217978, 0.00670078, 0.00658557, 0.00575131, 0.00726859,\n",
              "       0.00692999, 0.00775206, 0.00583534, 0.00417355, 0.00589181,\n",
              "       0.00945225, 0.01570901, 0.00503736, 0.04389195, 0.00617706,\n",
              "       0.00714442, 0.03434029, 0.00964347, 0.00902691, 0.00761233,\n",
              "       0.00850872, 0.00640444, 0.00393195, 0.01051243, 0.00875724,\n",
              "       0.00605912, 0.00621245, 0.00688186, 0.00936703, 0.01030358])"
            ]
          },
          "execution_count": 12,
          "metadata": {},
          "output_type": "execute_result"
        }
      ],
      "source": [
        "importances"
      ]
    },
    {
      "cell_type": "code",
      "execution_count": null,
      "metadata": {
        "colab": {
          "base_uri": "https://localhost:8080/"
        },
        "id": "fvkVZ-2H9Mqp",
        "outputId": "01d31bce-6828-4358-8418-38e2c4d2b45c"
      },
      "outputs": [
        {
          "data": {
            "text/plain": [
              "array([83, 52, 64, 86, 11, 13, 28,  9, 63, 59, 16,  3, 57, 81, 51, 18, 66,\n",
              "       53, 48, 70, 30,  1, 10, 32, 93, 42, 67, 99, 44, 87, 55, 80, 98, 88,\n",
              "       36, 29, 94, 90, 35,  5, 25,  7, 76, 89, 74, 47, 49, 69, 85, 39, 24,\n",
              "       20, 23, 75, 97,  6, 27, 40, 71, 26, 19, 72, 50, 38, 91, 45,  4, 62,\n",
              "       33, 96, 58, 84, 17, 95, 60, 21, 79, 77, 73,  2, 56, 61,  0, 12, 14,\n",
              "       31, 82, 46, 41, 68, 22, 43, 54, 78, 37, 92,  8, 15, 34, 65])"
            ]
          },
          "execution_count": 13,
          "metadata": {},
          "output_type": "execute_result"
        }
      ],
      "source": [
        "indices"
      ]
    },
    {
      "cell_type": "code",
      "execution_count": null,
      "metadata": {
        "colab": {
          "base_uri": "https://localhost:8080/"
        },
        "id": "NBXrPnHo9Mrz",
        "outputId": "51ed5706-d5e7-4acc-a4bd-ec44376329c0"
      },
      "outputs": [
        {
          "data": {
            "text/plain": [
              "array(['aaaaatta', 'aaaaagca', 'aaaaagtg', 'aaaaattt', 'aaaaaacc',\n",
              "       'aaaaaact', 'aaaaacag', 'aaaaaac', 'aaaaagtc', 'aaaaaggg',\n",
              "       'aaaaaagc', 'aaaaaa', 'aaaaagga', 'aaaaatgt', 'aaaaagc',\n",
              "       'aaaaaagt', 'aaaaat', 'aaaaagcc', 'aaaaagac', 'aaaaatag',\n",
              "       'aaaaacc', 'aaaa', 'aaaaaaca', 'aaaaaccc', 'aaaacaat', 'aaaaactc',\n",
              "       'aaaaata', 'aaaacag', 'aaaaactt', 'aaaac', 'aaaaagct', 'aaaaatgg',\n",
              "       'aaaacact', 'aaaaca', 'aaaaacga', 'aaaaacat', 'aaaacac',\n",
              "       'aaaacaaa', 'aaaaacg', 'aaaaaaaa', 'aaaaaca', 'aaaaaaag',\n",
              "       'aaaaatct', 'aaaacaa', 'aaaaatcc', 'aaaaagaa', 'aaaaagag',\n",
              "       'aaaaatac', 'aaaaattg', 'aaaaacgt', 'aaaaac', 'aaaaaata',\n",
              "       'aaaaaatt', 'aaaaatcg', 'aaaacacg', 'aaaaaaac', 'aaaaacac',\n",
              "       'aaaaact', 'aaaaatat', 'aaaaacaa', 'aaaaaat', 'aaaaatc',\n",
              "       'aaaaagat', 'aaaaacgg', 'aaaacaac', 'aaaaag', 'aaaaaaa',\n",
              "       'aaaaagta', 'aaaaaccg', 'aaaacacc', 'aaaaaggc', 'aaaaattc',\n",
              "       'aaaaaagg', 'aaaacaca', 'aaaaaggt', 'aaaaaatc', 'aaaaatgc',\n",
              "       'aaaaatg', 'aaaaatca', 'aaaaa', 'aaaaagg', 'aaaaagt', 'aaa',\n",
              "       'aaaaaacg', 'aaaaaag', 'aaaaacca', 'aaaaatt', 'aaaaaga',\n",
              "       'aaaaacta', 'aaaaataa', 'aaaaaatg', 'aaaaactg', 'aaaaagcg',\n",
              "       'aaaaatga', 'aaaaacgc', 'aaaacaag', 'aaaaaaat', 'aaaaaaga',\n",
              "       'aaaaacct', 'aaaaagtt'], dtype='<U8')"
            ]
          },
          "execution_count": 14,
          "metadata": {},
          "output_type": "execute_result"
        }
      ],
      "source": [
        "feats"
      ]
    },
    {
      "cell_type": "code",
      "execution_count": null,
      "metadata": {
        "colab": {
          "base_uri": "https://localhost:8080/"
        },
        "id": "1Gv1oC4ZYPta",
        "outputId": "5f757b5f-5376-4cb2-9262-4c538ad67639"
      },
      "outputs": [
        {
          "data": {
            "text/plain": [
              "['aaaaaacg',\n",
              " 'aaaaaatt',\n",
              " 'aaaacaac',\n",
              " 'aaaaatt',\n",
              " 'aaaaaa',\n",
              " 'aaaaatgt',\n",
              " 'aaaaactt',\n",
              " 'aaaaaggg',\n",
              " 'aaaaacgg',\n",
              " 'aaaaacaa',\n",
              " 'aaaaat',\n",
              " 'aaaaattt',\n",
              " 'aaaaact',\n",
              " 'aaaaagt',\n",
              " 'aaaaaata',\n",
              " 'aaaaagac',\n",
              " 'aaaaaaa',\n",
              " 'aaaaatcg',\n",
              " 'aaaaattg',\n",
              " 'aaaaaggc',\n",
              " 'aaaaagct',\n",
              " 'aaaaagca',\n",
              " 'aaaaaagc',\n",
              " 'aaaacact',\n",
              " 'aaaaatga',\n",
              " 'aaaaatct',\n",
              " 'aaaaagta',\n",
              " 'aaaaagtt',\n",
              " 'aaaaatcc',\n",
              " 'aaaaaga',\n",
              " 'aaaaaaac',\n",
              " 'aaaaagg',\n",
              " 'aaaaacct',\n",
              " 'aaaaacta',\n",
              " 'aaaacac',\n",
              " 'aaaac',\n",
              " 'aaaaacgc',\n",
              " 'aaaaaatg',\n",
              " 'aaaaacat',\n",
              " 'aaaaaact',\n",
              " 'aaaaactc',\n",
              " 'aaaaaac',\n",
              " 'aaaaatgc',\n",
              " 'aaaaataa',\n",
              " 'aaaaaggt',\n",
              " 'aaaaatac',\n",
              " 'aaaaacgt',\n",
              " 'aaaacacc',\n",
              " 'aaaaacca',\n",
              " 'aaaaaaaa',\n",
              " 'aaaacaat',\n",
              " 'aaaaacc',\n",
              " 'aaaaaccc',\n",
              " 'aaaaaatc',\n",
              " 'aaaaaaga',\n",
              " 'aaaaacag',\n",
              " 'aaaacag',\n",
              " 'aaaaaca',\n",
              " 'aaaaattc',\n",
              " 'aaaaata',\n",
              " 'aaaaatag',\n",
              " 'aaaaaagg',\n",
              " 'aaaaac',\n",
              " 'aaaaacg',\n",
              " 'aaaaactg',\n",
              " 'aaaaagaa',\n",
              " 'aaaaaacc',\n",
              " 'aaaaagat',\n",
              " 'aaaaca',\n",
              " 'aaaaaaat',\n",
              " 'aaaaatat',\n",
              " 'aaaaaag',\n",
              " 'aaaaagcc',\n",
              " 'aaaacaag',\n",
              " 'aaaaaat',\n",
              " 'aaaa',\n",
              " 'aaaaa',\n",
              " 'aaaaatg',\n",
              " 'aaaacaca',\n",
              " 'aaaaagtg',\n",
              " 'aaaaacac',\n",
              " 'aaaaatc',\n",
              " 'aaaaatta',\n",
              " 'aaaaagga',\n",
              " 'aaaaagc',\n",
              " 'aaaaatgg',\n",
              " 'aaa',\n",
              " 'aaaaagag',\n",
              " 'aaaaaaag',\n",
              " 'aaaaaccg',\n",
              " 'aaaaaaca',\n",
              " 'aaaacaa',\n",
              " 'aaaacacg',\n",
              " 'aaaaatca',\n",
              " 'aaaacaaa',\n",
              " 'aaaaagcg',\n",
              " 'aaaaagtc',\n",
              " 'aaaaaagt',\n",
              " 'aaaaacga',\n",
              " 'aaaaag']"
            ]
          },
          "execution_count": 15,
          "metadata": {},
          "output_type": "execute_result"
        }
      ],
      "source": [
        "feature_name = [feature_name[i] for i in indices]\n",
        "feature_name"
      ]
    },
    {
      "cell_type": "code",
      "execution_count": null,
      "metadata": {
        "colab": {
          "base_uri": "https://localhost:8080/"
        },
        "id": "TEVruibOnxaS",
        "outputId": "fa025c1f-8640-4c04-ad61-768ce75d957c"
      },
      "outputs": [
        {
          "data": {
            "text/plain": [
              "100"
            ]
          },
          "execution_count": 16,
          "metadata": {},
          "output_type": "execute_result"
        }
      ],
      "source": [
        "len(feature_name)"
      ]
    },
    {
      "cell_type": "code",
      "execution_count": null,
      "metadata": {
        "colab": {
          "base_uri": "https://localhost:8080/"
        },
        "id": "w3T6_3DiqPfg",
        "outputId": "d00bdb0b-dd45-430d-988e-06c2860fbfd6"
      },
      "outputs": [
        {
          "data": {
            "text/plain": [
              "100"
            ]
          },
          "execution_count": 17,
          "metadata": {},
          "output_type": "execute_result"
        }
      ],
      "source": [
        "importance=classifier.feature_importances_\n",
        "len(importance)"
      ]
    },
    {
      "cell_type": "code",
      "execution_count": null,
      "metadata": {
        "colab": {
          "base_uri": "https://localhost:8080/",
          "height": 282
        },
        "id": "VTjVq68GguaO",
        "outputId": "83782c2b-d50c-446f-e300-92870916fe05"
      },
      "outputs": [
        {
          "data": {
            "text/plain": [
              "<BarContainer object of 10 artists>"
            ]
          },
          "execution_count": 20,
          "metadata": {},
          "output_type": "execute_result"
        },
        {
          "data": {
            "image/png": "[encoded data removed]",
            "text/plain": [
              "<Figure size 432x288 with 1 Axes>"
            ]
          },
          "metadata": {},
          "output_type": "display_data"
        }
      ],
      "source": [
        "plt.barh(feature_name[:10], importance[:10])"
      ]
    },
    {
      "cell_type": "code",
      "execution_count": null,
      "metadata": {
        "colab": {
          "base_uri": "https://localhost:8080/",
          "height": 364
        },
        "id": "lWNP88a2D7UU",
        "outputId": "ad8803f9-29a5-4f5d-fb64-f74f0fe20a70"
      },
      "outputs": [
        {
          "data": {
            "text/plain": [
              "<matplotlib.axes._subplots.AxesSubplot at 0x7f8c5df35890>"
            ]
          },
          "execution_count": 51,
          "metadata": {},
          "output_type": "execute_result"
        },
        {
          "data": {
            "image/png": "[encoded data removed]",
            "text/plain": [
              "<Figure size 576x396 with 1 Axes>"
            ]
          },
          "metadata": {},
          "output_type": "display_data"
        }
      ],
      "source": [
        "feature_scores = pd.Series(classifier.feature_importances_).sort_values(ascending=False)\n",
        "\n",
        "feature_scores.nlargest(10).plot(kind='barh')"
      ]
    },
    {
      "cell_type": "code",
      "execution_count": null,
      "metadata": {
        "colab": {
          "base_uri": "https://localhost:8080/",
          "height": 404
        },
        "id": "mavxmJRpYFTH",
        "outputId": "7e32d09e-f618-42bb-8154-e5ad2470a4c7"
      },
      "outputs": [
        {
          "data": {
            "text/plain": [
              "{'whiskers': [<matplotlib.lines.Line2D at 0x7fc5f48c5fd0>,\n",
              "  <matplotlib.lines.Line2D at 0x7fc5f4e97410>],\n",
              " 'caps': [<matplotlib.lines.Line2D at 0x7fc5f4f59750>,\n",
              "  <matplotlib.lines.Line2D at 0x7fc5f4f4f1d0>],\n",
              " 'boxes': [<matplotlib.lines.Line2D at 0x7fc5f4f6db50>],\n",
              " 'medians': [<matplotlib.lines.Line2D at 0x7fc5f4f01c50>],\n",
              " 'fliers': [<matplotlib.lines.Line2D at 0x7fc5f3f67650>],\n",
              " 'means': []}"
            ]
          },
          "execution_count": 22,
          "metadata": {},
          "output_type": "execute_result"
        },
        {
          "data": {
            "image/png": "[encoded data removed]",
            "text/plain": [
              "<Figure size 432x288 with 1 Axes>"
            ]
          },
          "metadata": {},
          "output_type": "display_data"
        }
      ],
      "source": [
        "plt.boxplot(feature_scores)"
      ]
    },
    {
      "cell_type": "code",
      "execution_count": null,
      "metadata": {
        "colab": {
          "base_uri": "https://localhost:8080/",
          "height": 379
        },
        "id": "EmdUi4m8SrH1",
        "outputId": "47bbbbfd-a87f-443b-94b0-a766ca39187b"
      },
      "outputs": [
        {
          "data": {
            "image/png": "[encoded data removed]",
            "text/plain": [
              "<Figure size 576x396 with 1 Axes>"
            ]
          },
          "metadata": {},
          "output_type": "display_data"
        },
        {
          "data": {
            "text/plain": [
              "<matplotlib.axes._subplots.AxesSubplot at 0x7f6abdbb8e10>"
            ]
          },
          "execution_count": 21,
          "metadata": {},
          "output_type": "execute_result"
        }
      ],
      "source": [
        "from sklearn.feature_extraction.text import CountVectorizer\n",
        "\n",
        "from yellowbrick.text import FreqDistVisualizer\n",
        "\n",
        "corpus=whole\n",
        "vectorizer = CountVectorizer()\n",
        "docs       = vectorizer.fit_transform(corpus)\n",
        "features   = vectorizer.get_feature_names()\n",
        "\n",
        "visualizer = FreqDistVisualizer(features=features, orient='h')\n",
        "visualizer.fit(docs)\n",
        "visualizer.show()"
      ]
    },
    {
      "cell_type": "code",
      "execution_count": null,
      "metadata": {
        "colab": {
          "base_uri": "https://localhost:8080/",
          "height": 837
        },
        "id": "6a8TY6_RGwVJ",
        "outputId": "aee1062f-1c5c-4b49-f1cb-95e7c854f943"
      },
      "outputs": [
        {
          "data": {
            "image/png": "[encoded data removed]",
            "text/plain": [
              "<Figure size 720x432 with 1 Axes>"
            ]
          },
          "metadata": {},
          "output_type": "display_data"
        },
        {
          "data": {
            "image/png": "[encoded data removed]",
            "text/plain": [
              "<Figure size 720x432 with 1 Axes>"
            ]
          },
          "metadata": {},
          "output_type": "display_data"
        }
      ],
      "source": [
        "#Boxplot\n",
        "import pandas as pd\n",
        "import matplotlib.pyplot as plt\n",
        "import numpy as np\n",
        "\n",
        "#k-mer data\n",
        "posd = pd.read_csv(\"Positive.w2v\", skiprows=1, sep=\" \", index_col=0, header=None)\n",
        "negd = pd.read_csv(\"Negative.w2v\", skiprows=1, sep=\" \", index_col=0, header=None)\n",
        "# this converts the index (ie k-mers) into a list\n",
        "posd.index.tolist()\n",
        "negd.index.tolist()\n",
        "p_d=posd.index\n",
        "n_d=negd.index\n",
        "whole=p_d.append(n_d)\n",
        "\n",
        "# Load the text data\n",
        "corpus=whole\n",
        "\n",
        "# use countvectorizer\n",
        "from sklearn.feature_extraction.text import CountVectorizer\n",
        "vect=CountVectorizer()\n",
        "\n",
        "docs=vect.fit(corpus)\n",
        "\n",
        "neg_doc_matrix = vect.transform(p_d)\n",
        "pos_doc_matrix = vect.transform(n_d)\n",
        "neg_tf = np.sum(neg_doc_matrix,axis=0)\n",
        "pos_tf = np.sum(pos_doc_matrix,axis=0)\n",
        "neg = np.squeeze(np.asarray(neg_tf))\n",
        "pos = np.squeeze(np.asarray(pos_tf))\n",
        "\n",
        "vect._validate_vocabulary()\n",
        "term_freq_df = pd.DataFrame([neg,pos],columns=vect.get_feature_names()).transpose()\n",
        "term_freq_df.columns = ['negative', 'positive']\n",
        "term_freq_df['total'] = term_freq_df['negative'] + term_freq_df['positive']\n",
        "term_freq_df.sort_values(by='total', ascending=False).iloc[:10]\n",
        "\n",
        "#Create a series from the sparse matrix\n",
        "d = pd.Series(term_freq_df.total,\n",
        "              index = term_freq_df.index).sort_values(ascending=False)\n",
        "ax = d[:50].plot(kind='bar', figsize=(10,6), width=.8, fontsize=14, rot=90,color = 'b')\n",
        "ax.title.set_size(18)\n",
        "plt.ylabel('count')\n",
        "plt.show()\n",
        "ax = d[50:100].plot(kind='bar', figsize=(10,6), width=.8, fontsize=14, rot=90,color = 'b')\n",
        "ax.title.set_size(18)\n",
        "plt.ylabel('count')\n",
        "plt.show()"
      ]
    },
    {
      "cell_type": "code",
      "execution_count": null,
      "metadata": {
        "id": "wIDSXQe0_Xcw"
      },
      "outputs": [],
      "source": [
        "import pandas as pd\n",
        "pos = pd.read_csv(\"Positive.w2v\", skiprows=1, sep=\" \", index_col=0, header=None)\n",
        "neg = pd.read_csv(\"Negative.w2v\", skiprows=1, sep=\" \", index_col=0, header=None)\n",
        "# this converts the index (ie k-mers) into a list\n",
        "p=pos.index.tolist()\n",
        "n=neg.index.tolist()\n",
        "posd=pos.index\n",
        "negd=neg.index\n"
      ]
    },
    {
      "cell_type": "code",
      "execution_count": null,
      "metadata": {
        "colab": {
          "base_uri": "https://localhost:8080/",
          "height": 438
        },
        "id": "sO3n9otJMZHX",
        "outputId": "7539204a-e591-41ab-d57a-6b598411a6dc"
      },
      "outputs": [
        {
          "data": {
            "text/html": [
              "\n",
              "  <div id=\"df-fb42eff4-2659-4c10-aa9a-42a900746039\">\n",
              "    <div class=\"colab-df-container\">\n",
              "      <div>\n",
              "<style scoped>\n",
              "    .dataframe tbody tr th:only-of-type {\n",
              "        vertical-align: middle;\n",
              "    }\n",
              "\n",
              "    .dataframe tbody tr th {\n",
              "        vertical-align: top;\n",
              "    }\n",
              "\n",
              "    .dataframe thead th {\n",
              "        text-align: right;\n",
              "    }\n",
              "</style>\n",
              "<table border=\"1\" class=\"dataframe\">\n",
              "  <thead>\n",
              "    <tr style=\"text-align: right;\">\n",
              "      <th></th>\n",
              "    </tr>\n",
              "    <tr>\n",
              "      <th>0</th>\n",
              "    </tr>\n",
              "  </thead>\n",
              "  <tbody>\n",
              "    <tr>\n",
              "      <th>AAA</th>\n",
              "    </tr>\n",
              "    <tr>\n",
              "      <th>TTT</th>\n",
              "    </tr>\n",
              "    <tr>\n",
              "      <th>ATT</th>\n",
              "    </tr>\n",
              "    <tr>\n",
              "      <th>AAT</th>\n",
              "    </tr>\n",
              "    <tr>\n",
              "      <th>TAT</th>\n",
              "    </tr>\n",
              "    <tr>\n",
              "      <th>...</th>\n",
              "    </tr>\n",
              "    <tr>\n",
              "      <th>GCACATCA</th>\n",
              "    </tr>\n",
              "    <tr>\n",
              "      <th>TGGAATCC</th>\n",
              "    </tr>\n",
              "    <tr>\n",
              "      <th>TCCCTTTG</th>\n",
              "    </tr>\n",
              "    <tr>\n",
              "      <th>TAAACGGA</th>\n",
              "    </tr>\n",
              "    <tr>\n",
              "      <th>GGTTTTGA</th>\n",
              "    </tr>\n",
              "  </tbody>\n",
              "</table>\n",
              "<p>102341 rows × 0 columns</p>\n",
              "</div>\n",
              "      <button class=\"colab-df-convert\" onclick=\"convertToInteractive('df-fb42eff4-2659-4c10-aa9a-42a900746039')\"\n",
              "              title=\"Convert this dataframe to an interactive table.\"\n",
              "              style=\"display:none;\">\n",
              "        \n",
              "  <svg xmlns=\"http://www.w3.org/2000/svg\" height=\"24px\"viewBox=\"0 0 24 24\"\n",
              "       width=\"24px\">\n",
              "    <path d=\"M0 0h24v24H0V0z\" fill=\"none\"/>\n",
              "    <path d=\"M18.56 5.44l.94 2.06.94-2.06 2.06-.94-2.06-.94-.94-2.06-.94 2.06-2.06.94zm-11 1L8.5 8.5l.94-2.06 2.06-.94-2.06-.94L8.5 2.5l-.94 2.06-2.06.94zm10 10l.94 2.06.94-2.06 2.06-.94-2.06-.94-.94-2.06-.94 2.06-2.06.94z\"/><path d=\"M17.41 7.96l-1.37-1.37c-.4-.4-.92-.59-1.43-.59-.52 0-1.04.2-1.43.59L10.3 9.45l-7.72 7.72c-.78.78-.78 2.05 0 2.83L4 21.41c.39.39.9.59 1.41.59.51 0 1.02-.2 1.41-.59l7.78-7.78 2.81-2.81c.8-.78.8-2.07 0-2.86zM5.41 20L4 18.59l7.72-7.72 1.47 1.35L5.41 20z\"/>\n",
              "  </svg>\n",
              "      </button>\n",
              "      \n",
              "  <style>\n",
              "    .colab-df-container {\n",
              "      display:flex;\n",
              "      flex-wrap:wrap;\n",
              "      gap: 12px;\n",
              "    }\n",
              "\n",
              "    .colab-df-convert {\n",
              "      background-color: #E8F0FE;\n",
              "      border: none;\n",
              "      border-radius: 50%;\n",
              "      cursor: pointer;\n",
              "      display: none;\n",
              "      fill: #1967D2;\n",
              "      height: 32px;\n",
              "      padding: 0 0 0 0;\n",
              "      width: 32px;\n",
              "    }\n",
              "\n",
              "    .colab-df-convert:hover {\n",
              "      background-color: #E2EBFA;\n",
              "      box-shadow: 0px 1px 2px rgba(60, 64, 67, 0.3), 0px 1px 3px 1px rgba(60, 64, 67, 0.15);\n",
              "      fill: #174EA6;\n",
              "    }\n",
              "\n",
              "    [theme=dark] .colab-df-convert {\n",
              "      background-color: #3B4455;\n",
              "      fill: #D2E3FC;\n",
              "    }\n",
              "\n",
              "    [theme=dark] .colab-df-convert:hover {\n",
              "      background-color: #434B5C;\n",
              "      box-shadow: 0px 1px 3px 1px rgba(0, 0, 0, 0.15);\n",
              "      filter: drop-shadow(0px 1px 2px rgba(0, 0, 0, 0.3));\n",
              "      fill: #FFFFFF;\n",
              "    }\n",
              "  </style>\n",
              "\n",
              "      <script>\n",
              "        const buttonEl =\n",
              "          document.querySelector('#df-fb42eff4-2659-4c10-aa9a-42a900746039 button.colab-df-convert');\n",
              "        buttonEl.style.display =\n",
              "          google.colab.kernel.accessAllowed ? 'block' : 'none';\n",
              "\n",
              "        async function convertToInteractive(key) {\n",
              "          const element = document.querySelector('#df-fb42eff4-2659-4c10-aa9a-42a900746039');\n",
              "          const dataTable =\n",
              "            await google.colab.kernel.invokeFunction('convertToInteractive',\n",
              "                                                     [key], {});\n",
              "          if (!dataTable) return;\n",
              "\n",
              "          const docLinkHtml = 'Like what you see? Visit the ' +\n",
              "            '<a target=\"_blank\" href=https://colab.research.google.com/notebooks/data_table.ipynb>data table notebook</a>'\n",
              "            + ' to learn more about interactive tables.';\n",
              "          element.innerHTML = '';\n",
              "          dataTable['output_type'] = 'display_data';\n",
              "          await google.colab.output.renderOutput(dataTable, element);\n",
              "          const docLink = document.createElement('div');\n",
              "          docLink.innerHTML = docLinkHtml;\n",
              "          element.appendChild(docLink);\n",
              "        }\n",
              "      </script>\n",
              "    </div>\n",
              "  </div>\n",
              "  "
            ],
            "text/plain": [
              "Empty DataFrame\n",
              "Columns: []\n",
              "Index: [AAA, TTT, ATT, AAT, TAT, ATA, GAA, TTC, TAA, TTA, AAG, CTT, TTG, CAA, AGA, TCT, TGA, TCA, GTT, AAC, ATG, CAT, ACA, TGT, TTTT, AAAA, GAT, ATC, AGT, ACT, GTA, TAC, CCA, TGG, TAG, CTA, GCA, TGC, CAG, CTG, TCC, GGA, GCT, AGC, CCT, AGG, GAG, CTC, GTG, ACC, GGT, CAC, ATTT, AAAT, GAC, GTC, CGA, TCG, ACG, CGT, ATAT, TTTC, GAAA, AATA, TATT, AATT, GCC, GGC, TTCT, AAAG, TCTT, CTTT, AGAA, AAGA, TAAA, TTTA, TTAT, ATAA, TATA, CAAA, TTTG, AAAAA, TTTTT, GGG, CCC, TTCA, TGAA, TAAT, CGC, GCG, TTGA, TCAA, ATTA, TTGT, CCG, AACA, ACAA, AAAC, TGTT, GTTT, ...]\n",
              "\n",
              "[102341 rows x 0 columns]"
            ]
          },
          "execution_count": 24,
          "metadata": {},
          "output_type": "execute_result"
        }
      ],
      "source": [
        "df = pd.concat([pos, neg])\n",
        "df.iloc[:,:0]"
      ]
    },
    {
      "cell_type": "code",
      "execution_count": null,
      "metadata": {
        "colab": {
          "base_uri": "https://localhost:8080/",
          "height": 437
        },
        "id": "5-UNYSc-PrTO",
        "outputId": "a7969187-80b5-4d70-a128-7c38b4f290e6"
      },
      "outputs": [
        {
          "data": {
            "text/html": [
              "\n",
              "  <div id=\"df-6d0f7e11-b3b7-477a-b70a-6aafae4126fd\">\n",
              "    <div class=\"colab-df-container\">\n",
              "      <div>\n",
              "<style scoped>\n",
              "    .dataframe tbody tr th:only-of-type {\n",
              "        vertical-align: middle;\n",
              "    }\n",
              "\n",
              "    .dataframe tbody tr th {\n",
              "        vertical-align: top;\n",
              "    }\n",
              "\n",
              "    .dataframe thead th {\n",
              "        text-align: right;\n",
              "    }\n",
              "</style>\n",
              "<table border=\"1\" class=\"dataframe\">\n",
              "  <thead>\n",
              "    <tr style=\"text-align: right;\">\n",
              "      <th></th>\n",
              "    </tr>\n",
              "    <tr>\n",
              "      <th>0</th>\n",
              "    </tr>\n",
              "  </thead>\n",
              "  <tbody>\n",
              "    <tr>\n",
              "      <th>AAA</th>\n",
              "    </tr>\n",
              "    <tr>\n",
              "      <th>TTT</th>\n",
              "    </tr>\n",
              "    <tr>\n",
              "      <th>ATT</th>\n",
              "    </tr>\n",
              "    <tr>\n",
              "      <th>AAT</th>\n",
              "    </tr>\n",
              "    <tr>\n",
              "      <th>TAT</th>\n",
              "    </tr>\n",
              "    <tr>\n",
              "      <th>...</th>\n",
              "    </tr>\n",
              "    <tr>\n",
              "      <th>GAAGTGG</th>\n",
              "    </tr>\n",
              "    <tr>\n",
              "      <th>GCAATCT</th>\n",
              "    </tr>\n",
              "    <tr>\n",
              "      <th>TGTTTTTC</th>\n",
              "    </tr>\n",
              "    <tr>\n",
              "      <th>TTGCTAG</th>\n",
              "    </tr>\n",
              "    <tr>\n",
              "      <th>CATGTTC</th>\n",
              "    </tr>\n",
              "  </tbody>\n",
              "</table>\n",
              "<p>11898 rows × 0 columns</p>\n",
              "</div>\n",
              "      <button class=\"colab-df-convert\" onclick=\"convertToInteractive('df-6d0f7e11-b3b7-477a-b70a-6aafae4126fd')\"\n",
              "              title=\"Convert this dataframe to an interactive table.\"\n",
              "              style=\"display:none;\">\n",
              "        \n",
              "  <svg xmlns=\"http://www.w3.org/2000/svg\" height=\"24px\"viewBox=\"0 0 24 24\"\n",
              "       width=\"24px\">\n",
              "    <path d=\"M0 0h24v24H0V0z\" fill=\"none\"/>\n",
              "    <path d=\"M18.56 5.44l.94 2.06.94-2.06 2.06-.94-2.06-.94-.94-2.06-.94 2.06-2.06.94zm-11 1L8.5 8.5l.94-2.06 2.06-.94-2.06-.94L8.5 2.5l-.94 2.06-2.06.94zm10 10l.94 2.06.94-2.06 2.06-.94-2.06-.94-.94-2.06-.94 2.06-2.06.94z\"/><path d=\"M17.41 7.96l-1.37-1.37c-.4-.4-.92-.59-1.43-.59-.52 0-1.04.2-1.43.59L10.3 9.45l-7.72 7.72c-.78.78-.78 2.05 0 2.83L4 21.41c.39.39.9.59 1.41.59.51 0 1.02-.2 1.41-.59l7.78-7.78 2.81-2.81c.8-.78.8-2.07 0-2.86zM5.41 20L4 18.59l7.72-7.72 1.47 1.35L5.41 20z\"/>\n",
              "  </svg>\n",
              "      </button>\n",
              "      \n",
              "  <style>\n",
              "    .colab-df-container {\n",
              "      display:flex;\n",
              "      flex-wrap:wrap;\n",
              "      gap: 12px;\n",
              "    }\n",
              "\n",
              "    .colab-df-convert {\n",
              "      background-color: #E8F0FE;\n",
              "      border: none;\n",
              "      border-radius: 50%;\n",
              "      cursor: pointer;\n",
              "      display: none;\n",
              "      fill: #1967D2;\n",
              "      height: 32px;\n",
              "      padding: 0 0 0 0;\n",
              "      width: 32px;\n",
              "    }\n",
              "\n",
              "    .colab-df-convert:hover {\n",
              "      background-color: #E2EBFA;\n",
              "      box-shadow: 0px 1px 2px rgba(60, 64, 67, 0.3), 0px 1px 3px 1px rgba(60, 64, 67, 0.15);\n",
              "      fill: #174EA6;\n",
              "    }\n",
              "\n",
              "    [theme=dark] .colab-df-convert {\n",
              "      background-color: #3B4455;\n",
              "      fill: #D2E3FC;\n",
              "    }\n",
              "\n",
              "    [theme=dark] .colab-df-convert:hover {\n",
              "      background-color: #434B5C;\n",
              "      box-shadow: 0px 1px 3px 1px rgba(0, 0, 0, 0.15);\n",
              "      filter: drop-shadow(0px 1px 2px rgba(0, 0, 0, 0.3));\n",
              "      fill: #FFFFFF;\n",
              "    }\n",
              "  </style>\n",
              "\n",
              "      <script>\n",
              "        const buttonEl =\n",
              "          document.querySelector('#df-6d0f7e11-b3b7-477a-b70a-6aafae4126fd button.colab-df-convert');\n",
              "        buttonEl.style.display =\n",
              "          google.colab.kernel.accessAllowed ? 'block' : 'none';\n",
              "\n",
              "        async function convertToInteractive(key) {\n",
              "          const element = document.querySelector('#df-6d0f7e11-b3b7-477a-b70a-6aafae4126fd');\n",
              "          const dataTable =\n",
              "            await google.colab.kernel.invokeFunction('convertToInteractive',\n",
              "                                                     [key], {});\n",
              "          if (!dataTable) return;\n",
              "\n",
              "          const docLinkHtml = 'Like what you see? Visit the ' +\n",
              "            '<a target=\"_blank\" href=https://colab.research.google.com/notebooks/data_table.ipynb>data table notebook</a>'\n",
              "            + ' to learn more about interactive tables.';\n",
              "          element.innerHTML = '';\n",
              "          dataTable['output_type'] = 'display_data';\n",
              "          await google.colab.output.renderOutput(dataTable, element);\n",
              "          const docLink = document.createElement('div');\n",
              "          docLink.innerHTML = docLinkHtml;\n",
              "          element.appendChild(docLink);\n",
              "        }\n",
              "      </script>\n",
              "    </div>\n",
              "  </div>\n",
              "  "
            ],
            "text/plain": [
              "Empty DataFrame\n",
              "Columns: []\n",
              "Index: [AAA, TTT, ATT, AAT, TAT, ATA, GAA, TTC, TAA, TTA, AAG, CTT, TTG, CAA, AGA, TCT, TGA, TCA, GTT, AAC, ATG, CAT, ACA, TGT, TTTT, AAAA, GAT, ATC, AGT, ACT, GTA, TAC, CCA, TGG, TAG, CTA, GCA, TGC, CAG, CTG, TCC, GGA, GCT, AGC, CCT, AGG, GAG, CTC, GTG, ACC, GGT, CAC, ATTT, AAAT, GAC, GTC, CGA, TCG, ACG, CGT, ATAT, TTTC, GAAA, AATA, TATT, AATT, GCC, GGC, TTCT, AAAG, TCTT, CTTT, AGAA, AAGA, TAAA, TTTA, TTAT, ATAA, TATA, CAAA, TTTG, AAAAA, TTTTT, GGG, CCC, TTCA, TGAA, TAAT, CGC, GCG, TTGA, TCAA, ATTA, TTGT, CCG, AACA, ACAA, AAAC, TGTT, GTTT, ...]\n",
              "\n",
              "[11898 rows x 0 columns]"
            ]
          },
          "execution_count": 7,
          "metadata": {},
          "output_type": "execute_result"
        }
      ],
      "source": [
        "pos.iloc[:,:0]"
      ]
    },
    {
      "cell_type": "code",
      "execution_count": null,
      "metadata": {
        "colab": {
          "base_uri": "https://localhost:8080/"
        },
        "id": "YBaLy2OxP3ak",
        "outputId": "ba675743-c808-4862-e53e-bba3685db909"
      },
      "outputs": [
        {
          "data": {
            "text/plain": [
              "Index(['AAT', 'ATT', 'ATA', 'TAT', 'AAA', 'TTT', 'TTA', 'TAA', 'TGA', 'TCA',\n",
              "       ...\n",
              "       'TGACACGA', 'CTACGACA', 'TTAGGCAA', 'TTCTCGCA', 'TTTACGCA', 'AGGGCCC',\n",
              "       'CTGTGGAT', 'CGTATAGT', 'ACCACCAA', 'CTTCCAGA'],\n",
              "      dtype='object', name=0, length=48437)"
            ]
          },
          "execution_count": 7,
          "metadata": {},
          "output_type": "execute_result"
        }
      ],
      "source": [
        "negd"
      ]
    },
    {
      "cell_type": "code",
      "execution_count": null,
      "metadata": {
        "colab": {
          "base_uri": "https://localhost:8080/"
        },
        "id": "7blsjs0nBo3u",
        "outputId": "ccc87dcb-5d1d-4fa3-d370-dc79bc28fa2d"
      },
      "outputs": [
        {
          "data": {
            "text/plain": [
              "Index(['AAA', 'TTT', 'ATT', 'AAT', 'TAT', 'ATA', 'GAA', 'TTC', 'TAA', 'TTA',\n",
              "       ...\n",
              "       'TGACACGA', 'CTACGACA', 'TTAGGCAA', 'TTCTCGCA', 'TTTACGCA', 'AGGGCCC',\n",
              "       'CTGTGGAT', 'CGTATAGT', 'ACCACCAA', 'CTTCCAGA'],\n",
              "      dtype='object', name=0, length=96873)"
            ]
          },
          "execution_count": 10,
          "metadata": {},
          "output_type": "execute_result"
        }
      ],
      "source": [
        "#pd.join(nd, how='right')\n",
        "posd.append(negd)\n",
        "#pd.join(nd, how='outer')\n"
      ]
    },
    {
      "cell_type": "code",
      "execution_count": null,
      "metadata": {
        "colab": {
          "base_uri": "https://localhost:8080/"
        },
        "id": "IwD50akxZH50",
        "outputId": "f70102bf-9c51-40fa-f209-fdfe038bdfaa"
      },
      "outputs": [
        {
          "data": {
            "text/plain": [
              "['AAA', 'TTT', 'ATT', 'AAT', 'TAT', 'ATA', 'GAA', 'TTC', 'TAA', 'TTA']"
            ]
          },
          "execution_count": 6,
          "metadata": {},
          "output_type": "execute_result"
        }
      ],
      "source": [
        "kmer=list(whole)\n",
        "kmer[0:10]"
      ]
    },
    {
      "cell_type": "code",
      "execution_count": null,
      "metadata": {
        "colab": {
          "base_uri": "https://localhost:8080/",
          "height": 595
        },
        "id": "tN1-skvFOzQJ",
        "outputId": "c3edce3b-35f0-4990-a72c-6e243dc64087"
      },
      "outputs": [
        {
          "name": "stdout",
          "output_type": "stream",
          "text": [
            "Accuracy: 63.64%\n",
            "Classification report:\n",
            "\n",
            "              precision    recall  f1-score   support\n",
            "\n",
            "         0.0       0.67      0.67      0.67        18\n",
            "         1.0       0.60      0.60      0.60        15\n",
            "\n",
            "    accuracy                           0.64        33\n",
            "   macro avg       0.63      0.63      0.63        33\n",
            "weighted avg       0.64      0.64      0.64        33\n",
            "\n",
            "Confusion matrix\n",
            " [[12  6]\n",
            " [ 6  9]]\n",
            "Confusion matrix plot:\n",
            "\n"
          ]
        },
        {
          "data": {
            "text/plain": [
              "<sklearn.metrics._plot.confusion_matrix.ConfusionMatrixDisplay at 0x7f1cbf8e3790>"
            ]
          },
          "execution_count": 2,
          "metadata": {},
          "output_type": "execute_result"
        },
        {
          "data": {
            "image/png": "[encoded data removed]",
            "text/plain": [
              "<Figure size 432x288 with 2 Axes>"
            ]
          },
          "metadata": {},
          "output_type": "display_data"
        }
      ],
      "source": [
        "# RF classification model\n",
        "# improves output by ignoring warnings\n",
        "import warnings\n",
        "warnings.filterwarnings('ignore')\n",
        "# import all the required modules\n",
        "import numpy as np\n",
        "from sklearn.model_selection import train_test_split\n",
        "from sklearn.ensemble import RandomForestClassifier\n",
        "from sklearn.metrics import accuracy_score, confusion_matrix, classification_report, plot_confusion_matrix\n",
        "\n",
        "# data\n",
        "# loaded the dna2vec word embedding file data\n",
        "# opened and read the respective files\n",
        "def load_data(filename,mode by):\n",
        "  file=open(filename, mode)\n",
        "  file_r=file.read()\n",
        "  # took file content as a list of sequences\n",
        "  # seperated by newline according to the indexing\n",
        "  list_seq=[x.split() for x in file_r.split('\\n')[1:50]]\n",
        "  # converted the sequence values(string) into numerical values(float)\n",
        "  list_float=[[float(x) for x in y[1:]] for y in list_seq]\n",
        "  return list_float\n",
        "\n",
        "list_p=load_data('Positive.w2v','r')\n",
        "list_n=load_data('Negative.w2v','r')\n",
        "# labelled natural sequence embeddings as 1\n",
        "l_pos=[x+[1] for x in list_p]\n",
        "# labelled synthetic sequence embeddings as 0\n",
        "l_neg=[x+[0] for x in list_n]\n",
        "# merged both the lists together\n",
        "l_whole = l_pos+l_neg\n",
        "# converted the list to arrray for model implementation\n",
        "dataset = np.array([np.array(x) for x in l_whole])\n",
        "\n",
        "# split data into X and Y\n",
        "# sequence embeddings\n",
        "X = dataset[:,:-1]\n",
        "# label of sequence embeddings\n",
        "Y = dataset[:,-1]\n",
        "\n",
        "# split the data into train and test using sklearn\n",
        "x_train, x_test, y_train, y_test = train_test_split(X, Y, test_size=0.33)\n",
        "# test_size defines test data to be split from train data\n",
        "# 1/3rd of dataset(training) is used as test dataset\n",
        "\n",
        "# RF classifier model\n",
        "# called with default values\n",
        "classifier=RandomForestClassifier()\n",
        "\n",
        "# fit the training data into the base model\n",
        "classifier.fit(x_train, y_train)\n",
        "\n",
        "# predicted values from the model\n",
        "y_pred=classifier.predict(x_test)\n",
        "\n",
        "# accuracy prediction\n",
        "accuracy = accuracy_score(y_test, y_pred)\n",
        "print(\"Accuracy: %.2f%%\" % (accuracy * 100.0))\n",
        "\n",
        "# classification report\n",
        "print(\"Classification report:\\n\")\n",
        "print(classification_report(y_test, y_pred))\n",
        "\n",
        "# confusion matrix\n",
        "conf=confusion_matrix(y_test, y_pred)\n",
        "print(\"Confusion matrix\\n\", conf)\n",
        "\n",
        "\n",
        "# confusion matrix plot\n",
        "print(\"Confusion matrix plot:\\n\")\n",
        "plot_confusion_matrix(classifier, x_test, y_test)\n",
        "\n"
      ]
    },
    {
      "cell_type": "code",
      "execution_count": null,
      "metadata": {
        "colab": {
          "base_uri": "https://localhost:8080/"
        },
        "id": "jZX31K0T2sDv",
        "outputId": "bd2487f1-ca97-4152-b889-eaf9ca355e05"
      },
      "outputs": [
        {
          "data": {
            "text/plain": [
              "array([[ 0.01691546,  0.32283467,  0.13115035, ...,  0.02115679,\n",
              "         0.18403837,  1.        ],\n",
              "       [-0.10909596, -0.03720708,  0.06640811, ...,  0.14560036,\n",
              "        -0.11447029,  1.        ],\n",
              "       [-0.09061303,  0.11359508,  0.03104233, ..., -0.12705897,\n",
              "        -0.08650643,  1.        ],\n",
              "       ...,\n",
              "       [-0.09733769,  0.2856911 ,  0.05270001, ...,  0.22157972,\n",
              "        -0.06166094,  0.        ],\n",
              "       [ 0.06568917,  0.36166537, -0.06157466, ..., -0.11051125,\n",
              "         0.14913957,  0.        ],\n",
              "       [-0.03497048,  0.6057501 ,  0.2289247 , ...,  0.03821858,\n",
              "         0.07396203,  0.        ]])"
            ]
          },
          "execution_count": 3,
          "metadata": {},
          "output_type": "execute_result"
        }
      ],
      "source": [
        "dataset"
      ]
    },
    {
      "cell_type": "code",
      "execution_count": null,
      "metadata": {
        "colab": {
          "base_uri": "https://localhost:8080/"
        },
        "id": "9b25IH-b2vXv",
        "outputId": "f3229083-32fc-47af-f3ae-57fda83a168a"
      },
      "outputs": [
        {
          "data": {
            "text/plain": [
              "array([[ 0.01691546,  0.32283467,  0.13115035, ..., -0.24915493,\n",
              "         0.02115679,  0.18403837],\n",
              "       [-0.10909596, -0.03720708,  0.06640811, ..., -0.13075614,\n",
              "         0.14560036, -0.11447029],\n",
              "       [-0.09061303,  0.11359508,  0.03104233, ...,  0.16900215,\n",
              "        -0.12705897, -0.08650643],\n",
              "       ...,\n",
              "       [-0.09733769,  0.2856911 ,  0.05270001, ...,  0.15907061,\n",
              "         0.22157972, -0.06166094],\n",
              "       [ 0.06568917,  0.36166537, -0.06157466, ..., -0.33850065,\n",
              "        -0.11051125,  0.14913957],\n",
              "       [-0.03497048,  0.6057501 ,  0.2289247 , ..., -0.06391024,\n",
              "         0.03821858,  0.07396203]])"
            ]
          },
          "execution_count": 4,
          "metadata": {},
          "output_type": "execute_result"
        }
      ],
      "source": [
        "X"
      ]
    },
    {
      "cell_type": "code",
      "execution_count": null,
      "metadata": {
        "colab": {
          "base_uri": "https://localhost:8080/"
        },
        "id": "zjekSf-_23iL",
        "outputId": "d48ed97a-b724-411a-dcae-d3bfd3fca3b8"
      },
      "outputs": [
        {
          "data": {
            "text/plain": [
              "array([1., 1., 1., 1., 1., 1., 1., 1., 1., 1., 1., 1., 1., 1., 1., 1., 1.,\n",
              "       1., 1., 1., 1., 1., 1., 1., 1., 1., 1., 1., 1., 1., 1., 1., 1., 1.,\n",
              "       1., 1., 1., 1., 1., 1., 1., 1., 1., 1., 1., 1., 1., 1., 1., 0., 0.,\n",
              "       0., 0., 0., 0., 0., 0., 0., 0., 0., 0., 0., 0., 0., 0., 0., 0., 0.,\n",
              "       0., 0., 0., 0., 0., 0., 0., 0., 0., 0., 0., 0., 0., 0., 0., 0., 0.,\n",
              "       0., 0., 0., 0., 0., 0., 0., 0., 0., 0., 0., 0., 0.])"
            ]
          },
          "execution_count": 5,
          "metadata": {},
          "output_type": "execute_result"
        }
      ],
      "source": [
        "Y"
      ]
    },
    {
      "cell_type": "code",
      "execution_count": null,
      "metadata": {
        "id": "4Jc3vman4jOI"
      },
      "outputs": [],
      "source": [
        "import os\n",
        "os.environ['WANDB_NOTEBOOK_NAME'] = 'RF.ipynb'"
      ]
    },
    {
      "cell_type": "code",
      "execution_count": null,
      "metadata": {
        "colab": {
          "base_uri": "https://localhost:8080/"
        },
        "id": "bCJL3d6Jc5uZ",
        "outputId": "3713d828-55b9-4a3d-9d94-18d785ac21a0"
      },
      "outputs": [
        {
          "name": "stdout",
          "output_type": "stream",
          "text": [
            "Create sweep with ID: 9nt229qa\n",
            "Sweep URL: https://wandb.ai/tyagilab/bio/sweeps/9nt229qa\n"
          ]
        }
      ],
      "source": [
        "sweep_config = {\n",
        "  \"name\" : \"random\",\n",
        "  \"method\" : \"random\",\n",
        "  \"parameters\" : {\n",
        "    \"n_estimators\" : {\n",
        "      \"values\" : [200, 400, 600, 800, 1000, 1200, 1400, 1600, 1800, 2000]\n",
        "    },\n",
        "    \"max_depth\" :{\n",
        "      \"values\": [10, 20, 30, 40, 50, 60, 70, 80, 90, 100, 110, None]\n",
        "    },\n",
        "    \"min_samples_leaf\":{\n",
        "        \"values\":[10, 20, 30, 40, 50, 60, 70, 80, 90, 100, None]\n",
        "    },\n",
        "    \"min_samples_split\":{\n",
        "        \"values\":[1, 2, 3, 4, 5, 6, 7, 8, 9, 10]\n",
        "    },\n",
        "    \"epochs\":{\n",
        "        \"values\":[10, 20, 30, 40, 50, 60, 70, 80, 90, 100]\n",
        "    }\n",
        "  }\n",
        "}\n",
        "\n",
        "sweep_id = wandb.sweep(sweep_config, project=\"bio\")"
      ]
    },
    {
      "cell_type": "code",
      "execution_count": null,
      "metadata": {
        "colab": {
          "base_uri": "https://localhost:8080/",
          "height": 1000,
          "referenced_widgets": [
            "414dd7634c5145e3bb743a7f16f269b2",
            "8b44fb1e6f0f4cb483129363fbeda849",
            "5040478226654a6daa6b3e03d66149fa",
            "574a6e87bd9d42418e5becf5c429200a",
            "2b652d9b681e44db9249d563a5b9579d",
            "bc3c8e55e64d45cd894b4d77a48f7f63",
            "533daad452cd4cb0b2961236a8f1dd26",
            "1530c06128e94134aef9ddfa59e19742",
            "0bca16e1327c4700bb359fd6f2762a98",
            "41ce02616afa455fab98e609eff0078d",
            "111392897c854511b3ad24fe58c61bd4",
            "4841cd0205064763a41bc9e3f7d75db8",
            "c82cd310d2de4e54a2ddfcf3885df920",
            "9900a65acbc6430097ab606a4ad8b310",
            "55c8cd8461f6480398c1e9eaea8bedf5",
            "d73dd16e30b143e0a16ef9df6cdd802a",
            "10db8351aa51452e94c1917464c14d12",
            "bb7544a316d54bff8efebc42a16fb43a",
            "651e57f7b2984a8cbfc7f7d6d3c8f1d8",
            "3006ca981d8445a0a7e093e02f6abc98",
            "ada9f45ba8c54394b007f7428d440dc7",
            "554bb539bcbb46f795ab03cfc18bb7a5",
            "a10c46f5f0574b75901107e41e79e6a3",
            "d0cd8862b7d8419ea83a72ab976888a0"
          ]
        },
        "id": "pjjMmIJddVuN",
        "outputId": "1a758572-2961-441d-8e10-a1e2048e8e89"
      },
      "outputs": [
        {
          "name": "stderr",
          "output_type": "stream",
          "text": [
            "\u001b[34m\u001b[1mwandb\u001b[0m: Agent Starting Run: tz8x88uk with config:\n",
            "\u001b[34m\u001b[1mwandb\u001b[0m: \tepochs: 80\n",
            "\u001b[34m\u001b[1mwandb\u001b[0m: \tmax_depth: 60\n",
            "\u001b[34m\u001b[1mwandb\u001b[0m: \tmin_samples_leaf: 100\n",
            "\u001b[34m\u001b[1mwandb\u001b[0m: \tmin_samples_split: 5\n",
            "\u001b[34m\u001b[1mwandb\u001b[0m: \tn_estimators: 800\n",
            "\u001b[34m\u001b[1mwandb\u001b[0m: \u001b[33mWARNING\u001b[0m WANDB_NOTEBOOK_NAME should be a path to a notebook file, couldn't find RF.ipynb.\n",
            "\u001b[34m\u001b[1mwandb\u001b[0m: Currently logged in as: \u001b[33mnavya-tyagi\u001b[0m (\u001b[33mtyagilab\u001b[0m). Use \u001b[1m`wandb login --relogin`\u001b[0m to force relogin\n",
            "\u001b[34m\u001b[1mwandb\u001b[0m: \u001b[33mWARNING\u001b[0m Ignored wandb.init() arg project when running a sweep.\n"
          ]
        },
        {
          "data": {
            "text/html": [
              "Tracking run with wandb version 0.13.2"
            ],
            "text/plain": [
              "<IPython.core.display.HTML object>"
            ]
          },
          "metadata": {},
          "output_type": "display_data"
        },
        {
          "data": {
            "text/html": [
              "Run data is saved locally in <code>/content/wandb/run-20220908_021649-tz8x88uk</code>"
            ],
            "text/plain": [
              "<IPython.core.display.HTML object>"
            ]
          },
          "metadata": {},
          "output_type": "display_data"
        },
        {
          "data": {
            "text/html": [
              "Syncing run <strong><a href=\"https://wandb.ai/tyagilab/bio/runs/tz8x88uk\" target=\"_blank\">lemon-sweep-1</a></strong> to <a href=\"https://wandb.ai/tyagilab/bio\" target=\"_blank\">Weights & Biases</a> (<a href=\"https://wandb.me/run\" target=\"_blank\">docs</a>)<br/>Sweep page:  <a href=\"https://wandb.ai/tyagilab/bio/sweeps/9nt229qa\" target=\"_blank\">https://wandb.ai/tyagilab/bio/sweeps/9nt229qa</a>"
            ],
            "text/plain": [
              "<IPython.core.display.HTML object>"
            ]
          },
          "metadata": {},
          "output_type": "display_data"
        },
        {
          "data": {
            "text/html": [
              "Waiting for W&B process to finish... <strong style=\"color:red\">(failed 1).</strong> Press Control-C to abort syncing."
            ],
            "text/plain": [
              "<IPython.core.display.HTML object>"
            ]
          },
          "metadata": {},
          "output_type": "display_data"
        },
        {
          "data": {
            "application/vnd.jupyter.widget-view+json": {
              "model_id": "414dd7634c5145e3bb743a7f16f269b2",
              "version_major": 2,
              "version_minor": 0
            },
            "text/plain": [
              "VBox(children=(Label(value='0.000 MB of 0.000 MB uploaded (0.000 MB deduped)\\r'), FloatProgress(value=1.0, max…"
            ]
          },
          "metadata": {},
          "output_type": "display_data"
        },
        {
          "data": {
            "text/html": [
              "Synced <strong style=\"color:#cdcd00\">lemon-sweep-1</strong>: <a href=\"https://wandb.ai/tyagilab/bio/runs/tz8x88uk\" target=\"_blank\">https://wandb.ai/tyagilab/bio/runs/tz8x88uk</a><br/>Synced 4 W&B file(s), 0 media file(s), 0 artifact file(s) and 0 other file(s)"
            ],
            "text/plain": [
              "<IPython.core.display.HTML object>"
            ]
          },
          "metadata": {},
          "output_type": "display_data"
        },
        {
          "data": {
            "text/html": [
              "Find logs at: <code>./wandb/run-20220908_021649-tz8x88uk/logs</code>"
            ],
            "text/plain": [
              "<IPython.core.display.HTML object>"
            ]
          },
          "metadata": {},
          "output_type": "display_data"
        },
        {
          "name": "stderr",
          "output_type": "stream",
          "text": [
            "Run tz8x88uk errored: ValueError(\"n_estimators must be an integer, got <class 'wandb.sdk.wandb_config.Config'>.\")\n",
            "\u001b[34m\u001b[1mwandb\u001b[0m: \u001b[32m\u001b[41mERROR\u001b[0m Run tz8x88uk errored: ValueError(\"n_estimators must be an integer, got <class 'wandb.sdk.wandb_config.Config'>.\")\n",
            "\u001b[34m\u001b[1mwandb\u001b[0m: Agent Starting Run: evqz3n9u with config:\n",
            "\u001b[34m\u001b[1mwandb\u001b[0m: \tepochs: 90\n",
            "\u001b[34m\u001b[1mwandb\u001b[0m: \tmax_depth: 20\n",
            "\u001b[34m\u001b[1mwandb\u001b[0m: \tmin_samples_leaf: 80\n",
            "\u001b[34m\u001b[1mwandb\u001b[0m: \tmin_samples_split: 4\n",
            "\u001b[34m\u001b[1mwandb\u001b[0m: \tn_estimators: 1200\n",
            "\u001b[34m\u001b[1mwandb\u001b[0m: \u001b[33mWARNING\u001b[0m WANDB_NOTEBOOK_NAME should be a path to a notebook file, couldn't find RF.ipynb.\n",
            "\u001b[34m\u001b[1mwandb\u001b[0m: \u001b[33mWARNING\u001b[0m Ignored wandb.init() arg project when running a sweep.\n"
          ]
        },
        {
          "data": {
            "text/html": [
              "Tracking run with wandb version 0.13.2"
            ],
            "text/plain": [
              "<IPython.core.display.HTML object>"
            ]
          },
          "metadata": {},
          "output_type": "display_data"
        },
        {
          "data": {
            "text/html": [
              "Run data is saved locally in <code>/content/wandb/run-20220908_021700-evqz3n9u</code>"
            ],
            "text/plain": [
              "<IPython.core.display.HTML object>"
            ]
          },
          "metadata": {},
          "output_type": "display_data"
        },
        {
          "data": {
            "text/html": [
              "Syncing run <strong><a href=\"https://wandb.ai/tyagilab/bio/runs/evqz3n9u\" target=\"_blank\">dry-sweep-2</a></strong> to <a href=\"https://wandb.ai/tyagilab/bio\" target=\"_blank\">Weights & Biases</a> (<a href=\"https://wandb.me/run\" target=\"_blank\">docs</a>)<br/>Sweep page:  <a href=\"https://wandb.ai/tyagilab/bio/sweeps/9nt229qa\" target=\"_blank\">https://wandb.ai/tyagilab/bio/sweeps/9nt229qa</a>"
            ],
            "text/plain": [
              "<IPython.core.display.HTML object>"
            ]
          },
          "metadata": {},
          "output_type": "display_data"
        },
        {
          "data": {
            "text/html": [
              "Waiting for W&B process to finish... <strong style=\"color:red\">(failed 1).</strong> Press Control-C to abort syncing."
            ],
            "text/plain": [
              "<IPython.core.display.HTML object>"
            ]
          },
          "metadata": {},
          "output_type": "display_data"
        },
        {
          "data": {
            "application/vnd.jupyter.widget-view+json": {
              "model_id": "0bca16e1327c4700bb359fd6f2762a98",
              "version_major": 2,
              "version_minor": 0
            },
            "text/plain": [
              "VBox(children=(Label(value='0.000 MB of 0.000 MB uploaded (0.000 MB deduped)\\r'), FloatProgress(value=0.0, max…"
            ]
          },
          "metadata": {},
          "output_type": "display_data"
        },
        {
          "data": {
            "text/html": [
              "Synced <strong style=\"color:#cdcd00\">dry-sweep-2</strong>: <a href=\"https://wandb.ai/tyagilab/bio/runs/evqz3n9u\" target=\"_blank\">https://wandb.ai/tyagilab/bio/runs/evqz3n9u</a><br/>Synced 4 W&B file(s), 0 media file(s), 0 artifact file(s) and 0 other file(s)"
            ],
            "text/plain": [
              "<IPython.core.display.HTML object>"
            ]
          },
          "metadata": {},
          "output_type": "display_data"
        },
        {
          "data": {
            "text/html": [
              "Find logs at: <code>./wandb/run-20220908_021700-evqz3n9u/logs</code>"
            ],
            "text/plain": [
              "<IPython.core.display.HTML object>"
            ]
          },
          "metadata": {},
          "output_type": "display_data"
        },
        {
          "name": "stderr",
          "output_type": "stream",
          "text": [
            "Run evqz3n9u errored: ValueError(\"n_estimators must be an integer, got <class 'wandb.sdk.wandb_config.Config'>.\")\n",
            "\u001b[34m\u001b[1mwandb\u001b[0m: \u001b[32m\u001b[41mERROR\u001b[0m Run evqz3n9u errored: ValueError(\"n_estimators must be an integer, got <class 'wandb.sdk.wandb_config.Config'>.\")\n",
            "\u001b[34m\u001b[1mwandb\u001b[0m: Agent Starting Run: g8y48cud with config:\n",
            "\u001b[34m\u001b[1mwandb\u001b[0m: \tepochs: 50\n",
            "\u001b[34m\u001b[1mwandb\u001b[0m: \tmax_depth: 30\n",
            "\u001b[34m\u001b[1mwandb\u001b[0m: \tmin_samples_leaf: 70\n",
            "\u001b[34m\u001b[1mwandb\u001b[0m: \tmin_samples_split: 6\n",
            "\u001b[34m\u001b[1mwandb\u001b[0m: \tn_estimators: 1200\n",
            "\u001b[34m\u001b[1mwandb\u001b[0m: \u001b[33mWARNING\u001b[0m WANDB_NOTEBOOK_NAME should be a path to a notebook file, couldn't find RF.ipynb.\n",
            "\u001b[34m\u001b[1mwandb\u001b[0m: \u001b[33mWARNING\u001b[0m Ignored wandb.init() arg project when running a sweep.\n"
          ]
        },
        {
          "data": {
            "text/html": [
              "Tracking run with wandb version 0.13.2"
            ],
            "text/plain": [
              "<IPython.core.display.HTML object>"
            ]
          },
          "metadata": {},
          "output_type": "display_data"
        },
        {
          "data": {
            "text/html": [
              "Run data is saved locally in <code>/content/wandb/run-20220908_021710-g8y48cud</code>"
            ],
            "text/plain": [
              "<IPython.core.display.HTML object>"
            ]
          },
          "metadata": {},
          "output_type": "display_data"
        },
        {
          "data": {
            "text/html": [
              "Syncing run <strong><a href=\"https://wandb.ai/tyagilab/bio/runs/g8y48cud\" target=\"_blank\">fanciful-sweep-3</a></strong> to <a href=\"https://wandb.ai/tyagilab/bio\" target=\"_blank\">Weights & Biases</a> (<a href=\"https://wandb.me/run\" target=\"_blank\">docs</a>)<br/>Sweep page:  <a href=\"https://wandb.ai/tyagilab/bio/sweeps/9nt229qa\" target=\"_blank\">https://wandb.ai/tyagilab/bio/sweeps/9nt229qa</a>"
            ],
            "text/plain": [
              "<IPython.core.display.HTML object>"
            ]
          },
          "metadata": {},
          "output_type": "display_data"
        },
        {
          "data": {
            "text/html": [
              "Waiting for W&B process to finish... <strong style=\"color:red\">(failed 1).</strong> Press Control-C to abort syncing."
            ],
            "text/plain": [
              "<IPython.core.display.HTML object>"
            ]
          },
          "metadata": {},
          "output_type": "display_data"
        },
        {
          "data": {
            "application/vnd.jupyter.widget-view+json": {
              "model_id": "10db8351aa51452e94c1917464c14d12",
              "version_major": 2,
              "version_minor": 0
            },
            "text/plain": [
              "VBox(children=(Label(value='0.000 MB of 0.000 MB uploaded (0.000 MB deduped)\\r'), FloatProgress(value=0.0, max…"
            ]
          },
          "metadata": {},
          "output_type": "display_data"
        },
        {
          "data": {
            "text/html": [
              "Synced <strong style=\"color:#cdcd00\">fanciful-sweep-3</strong>: <a href=\"https://wandb.ai/tyagilab/bio/runs/g8y48cud\" target=\"_blank\">https://wandb.ai/tyagilab/bio/runs/g8y48cud</a><br/>Synced 4 W&B file(s), 0 media file(s), 0 artifact file(s) and 0 other file(s)"
            ],
            "text/plain": [
              "<IPython.core.display.HTML object>"
            ]
          },
          "metadata": {},
          "output_type": "display_data"
        },
        {
          "data": {
            "text/html": [
              "Find logs at: <code>./wandb/run-20220908_021710-g8y48cud/logs</code>"
            ],
            "text/plain": [
              "<IPython.core.display.HTML object>"
            ]
          },
          "metadata": {},
          "output_type": "display_data"
        },
        {
          "name": "stderr",
          "output_type": "stream",
          "text": [
            "Run g8y48cud errored: ValueError(\"n_estimators must be an integer, got <class 'wandb.sdk.wandb_config.Config'>.\")\n",
            "\u001b[34m\u001b[1mwandb\u001b[0m: \u001b[32m\u001b[41mERROR\u001b[0m Run g8y48cud errored: ValueError(\"n_estimators must be an integer, got <class 'wandb.sdk.wandb_config.Config'>.\")\n",
            "Detected 3 failed runs in the first 60 seconds, killing sweep.\n",
            "\u001b[34m\u001b[1mwandb\u001b[0m: \u001b[32m\u001b[41mERROR\u001b[0m Detected 3 failed runs in the first 60 seconds, killing sweep.\n",
            "\u001b[34m\u001b[1mwandb\u001b[0m: To disable this check set WANDB_AGENT_DISABLE_FLAPPING=true\n"
          ]
        }
      ],
      "source": [
        "def train():\n",
        "    with wandb.init(project=\"bio\") as run:\n",
        "        config = wandb.config\n",
        "        clf =RandomForestClassifier(config)\n",
        "        for epoch in range(config[\"epochs\"]):\n",
        "            loss = clf.fit(x_train, y_train)  # your model training code here\n",
        "            wandb.log({\"accuracy\": accuracy_score, \"epoch\": epoch})\n",
        "\n",
        "count = 5\n",
        "wandb.agent(sweep_id, function=train, count=count)"
      ]
    },
    {
      "cell_type": "code",
      "execution_count": null,
      "metadata": {
        "colab": {
          "base_uri": "https://localhost:8080/"
        },
        "id": "ATxjPavctIFN",
        "outputId": "6b51cf07-ced2-48c8-f971-69387aef288c"
      },
      "outputs": [
        {
          "name": "stdout",
          "output_type": "stream",
          "text": [
            "['CTCCGAACGGACTACACCAAACGCAAATATGACCTGTCCAGGCCGACTAGTGAACCCATATGCTCTGAAAAGCTAACTGCGGCTTTAAGTAATAGTTGGTGAATTAAATAATATAGTGGGATGAAGCAGAAGATCAGACAAGTTTGGATGAGTGTTGCGTATGAAGCTGGTCAGGCAGCTGGTCAGATCCTGACCTTGCTTGAAAGTCAGTGGTGAAATGATAGGAACCTCTAATATACAAGTCCAACTAATGAGCTGCCTTTTGACTCTTAACTTTATAGTTGCTAAAGAGTATTGGGGGGATTTGTCTCATGAGTACTCCAACCAGTGGAAGCACTGGTCACGTTAATGACTGTAGAAGTGCATTCACAAGAAATGAGTAGGCTAAGTGAAAACAGTTAAAGTTATTCTAAGCAACTCATAATTTTATGCTATAAAAGATAGGCCACTAACCAGGACTGCTCACACTAACTGGGGTGTGGATACAGAGTGTGGTATAGGGACTGCTGAATAGCAATGAGGCCTGTGTTGAAACTTTGAATGTGAGATGCTGTTGCTTACTCAACAACGGCGTCTTTCAGCGAAACATAAGATGATGAGGATACTCACTAGCCATGGTATGCATCGAAAGAACATAATGTTACTTTAGGTGGACATCGTTGTCCATGAAGAGAGTCATCTTATGACCCTGAAACATTCTAATAATACGAATTGCTTAAAACTTCACATAGACCACCTCAACGAGACTGTATGAACAAACGGGGTAGTTTTATGCACAGACAGAATATCAAACTGATATACGATTTGCATTCGCAATCTAGCAAATAAGGGTAGACAAGCGCAGGTGTAGACAATTTGAAACCAAGGCAATGCATCAAATTTGTCACTCTGACTGACATGATTACTTAAGAACAGTGTAGGCTCATTCAACCAGAGGTAATCACATTGCACATAGCTATCGGGTTGAGAACGAGGATGGCGACTGTGACACATTTCCAA', 'CCCATCAACAATCTAGACGTTAGAGCTATAAATCTGCCTTGCCCTGTTCTTATTCAGCATTTTGAGCTACCTCATGAAATATGTTACATGATTATGAGCTAGGTAGACACACATGTTTTGAGTGGGAAAGATACTATCATGATCTACATAAATATCAGAATACCATGGAATGGATGTCATCTGTAGTGATTGATTCCTCAATATTCATTAGGGCCTAGTACATTCTGATATTGCTAAGATGCATATAGTATGTTGGTTGAACACTGTCAGATAATGGATGCAACCCCAATGAGTTTCAAAGTAGGTGCTTGGTGTGAGAGTAAAAACTGCCATCATAATAAATAAGGATATTCTAGATACATATAAGTATAACAAGTAATACATCTAATAAAGGTCGTTAACCTGTATTACTCTAACCATCAATTGCACTTGTATATGCAAAGGGGTGTAGCGAAAAGGATAAGACTGGCTGACCCCTCAAGTAACACAGGCTGGCCTTAGGGAGCAGAGGTATCTAGCCCCGCTTGTGACAACAAGGCCCTTGAAAATAATCTCCTCAATAAGGCAGGAGAGGTTAGTCCTGATGCAATGCCAAAGCTATCCTTAGCAGCACTGTTAAGTTATTAACTTAACTACATCTCCTTTACTTTTCTACGATCTTTAGAATAAAAAGAACGGGCAATTTTCAGGAATTCCATAACACTCTCAAGCTGTGTTAAGAAAGATACCAACTTCCGTCAGTATGTCGAGGGACCTTGCACAATCTAGTGCAATGGCTCACAAATGTATTCAAGAAGGAGGAAGACTGCACAGGTAGGATAGCTATGCATAGGACATTGAGCATTGGGCTCACAAGTACATAAGAGAATTATCAACACGAGGAGAACAGATTACAGATTGCAACTTGTGAGCCGTTATCTCAGGCGTGGGTCGTCTCTTAAAGTCTAATGACAGTGTCTGTAAAGGTGCAATCTTAATAAATCTTTTTAATACTATAGA', 'CGACCTTGCTTGGCAAGGGCGCCAACCCGCCCCACTCCAGATGCGGCCTGGATGCACTTGGCTGACATGCACGGCATGCGAGGAGCAGCCCCTCGGGGCCCCCCCTGCGTACCTCACCATCGGGCCTGCCGACGCGCCGGGCGTAGCCTGAGGCGGACGGGACCCAAGTGCAGCGCCATCACTGCACCAACTCACCTCGTAGTCCCACCGAGATTGGTCGAGGCCCATGTCTGCCAGAAGGCCCGCTGAGCAGCTCAGGACCAGTGGGTGGACGCCTGGCCAGGTGCATCTCCTGCAGTGGCGCAGCGTGCCGCCACCGGGGAGTGGCGTCTGCGGCCGTTCTATCGGCCACGTAGCTCCTGGGCCCCCGAGCAGGGCTCCGGGGCCCGGCTCCCCTATCGCTGGCCTAGCACGCGTCCCAGCCCCACTGGCTGCCGCGAGGGGCCCGGAACGGCATCTACAGCCCCTGCACCAGCGCGGCCGGGCGCCTACTGAGAGTGCACCCGAATCTCCCCCTGCCCTCGATGGCCCACGCTGCGACAGGCGGCCCCGCCGCGTAGTGCAAGCTGGGTGTCCCCACTTTGGCATGCCCCCGCACCAAGGCGAACGCCGGCGCAGCGCCAGCCGAAGGCTCCGCCTGGACTACGTAGGAGCGTGACTTGCCGTGGCTTCCTGAAGAAGAAATGCGCACTAGCTATGGCCGGGGGGGGCGCACAGGTCGGCCGGTCGCTTGACCAGGCCCCCACTCGGACAGAAAAAGTCACCTCCTCGGGTCGTAGGCGGAACGGCAGGCCGCCCCCACCCCCCTGTGCTGCCGGGGAGCTAGCTGGCCAGCTCCAGGCCTGAAGACCCCCGCTTCCTCACCGGAAGACGCGTCCAGCCCACAGGCTGCTTGAACAGGATGCGTGGCCCCACACCGATGCAGCAAACCGGAGCCGCAGGGTGCGCGCGCAGGCGCGCGCCCATTCCACTAGCGTCCAACCTTCAGGGCTTGGCCAG', 'CGGCCGCCCATTCGCCTGAGGAGGCACCGACAGGCCGGCGCGCGGTCGGAGGGGCGCACGGCGGGCCGGGGGGGGCAGGCCGGCGCCCCTGCCGCGCGGCCGCGGCCCGCGCTGGCGCCCCCGGGCGCTCGGTGGCCCAGTCGCGGGCAGCGGCGCCGCCGAGCGGCCGCTCCTCGCGCGCGCCAGCCCGCTGTGCGGGCGCGCGCCGGCGCGGTGCCCGGCGCGGCGGCCAGGCGGCGCCGGCGGCGCGGCCAGCGCGCAGGGGGCGCGCTGACGCTCGAGCCCCCGCGGGCGGACCGGGGGCAGGAAGGGGCGCGGCGAGGGGTCACGGCGGGTACCCGCAGCTGCCGACGACGGCCGCGCTCACGCGGGCCGACCGCCGTGGGGCGCGCATCGGCTGCCGGCCGCGGTGCCGAGGCACGTCGCGGCGCGCTGACACGCCCCGCGGAGGCGCCCGCGCCATGGCGGTCGCCCATCGGCGCGCCGCTCGCCTGCGCGGGGGGCCAGACGCCGCCTTGCGGACGGGGGGGCGGGGCCGGTCGCGGGGACGCGGCACGCCGGCGCGGCCGCCGTTCCAGGCAGCCGCGATGCGCCAGTCGCCGCAGGGCCGCCCGCCGCCGAGCACCTGGCGAGCCCAGCGGCACGGGGGCGGGACGGTTTGGGACTCGGCGACGCCGCACCGGCGCCCAGGGGCAGAGAGCGGCCGCCAGCGGGGCGCATGGCGGCCCCTGGGCGAGGGCGGGCAGGAGGGGGCCTCGGACCCTCAGGAGAACGGGGCCATCGCGACTGACCCGCGGCGGCCCTGGGCGAGGGCGAATGAGGTCCGGGGTAGGCCCCCTTACGCGCGCCCCCGGGCGCGCTGGAAGCCGCCGAGGGGCGGGCCGGGGCGCGGGCGGCCGCAGGGGCAGTCCGCGGAGATCTGGCGGTCGCGCCGGCCGAGGCAGCGCGGTGCCGGCAGGCGCGCGGGCGCCGCGCGCGCGGGCCGCGCCGCGGCGCCGC', 'GGTGGATGCCGGCGGCCTGGGCGCGTTAAGGGTGCCGCCCCACTACCCTGGACTTGGGCCAAGACCGGTTAGGCACGGACCTCGGGGACCCACTTCTGTCGGGTGAGTGGCGACTGACTGGCCGCCCTCCCGCTAGTGGACGTGAGCGGGTGGCCTCACTAATGGCCGTCGGTGCTAAGGGCCGCCCGTTCACGTGAGCAGTGAGACACGGCGCTCACTGGGACCAGTCGAAGCGAGATGGCTCTACGCCCTCGGGTCAACCGATGCTGCCCGTAGGGGTGCCCGGACTGCGTTTGGGTTGCTCTGACCGGAGAGCGCGCATCCGGTGTGTGAGCCAAAGGCTTCTGCCCAGCCGGTCACCTGGGTGGCGGGGCGGTAGATGGGCTGGCTAGGCGCCATGGCTCAGGTCCAGGCGGCTGGGCTCACGTAGCGGTGATGGGCCTTAGGCGGAGTGGCCACCGACTGCGCGCCGTCTTAGACGCTGGACAGCTTGTCACCGTAAGCGGGTAGTGTGGTCTTCAGGGGACATTTCGTAAAGGCCTGAGTCTTCGAGCGCATAGGACATGAGCGGCCGCGCTCACTGGCGCCCTCCCCGTGCCCGTGGGACCGGCGGAGTTATCAGAGTTGGCTCTCGCGAAGTCTGGCAGAGGGAGTTGTGCACAGGGGGACTCGTGTGTATTTGGCGCGTGCCCGCGTGTGAGGGCAGCCAGCGGAGGGCCCCGCGGTGGGTGCAGAGGGCCGGGGTTACCGAGGTGGAGGCCTAGACGACGGTGGGCAGGCAATGACAGGACAGATGTGGACTTCTGCGTGAATCGGCCTGAGTCCATCTGCGGCGGCCGGTGGAGCAGGAAGAGGCCGGAAGGAAACTCTTCATGAGACGAGAGGCAGCTGTCAAGCCGCGCCGGCCGGGGCGACCAACAAACAAGCGCTTGTCAGCGGATGCTCGCTGCCCGCCTCGACGTGCGAGCGCGACTGCCCACGGAGGGGAGGCGCCCCCAG', 'AATGAAAACCCCCCGATATACATAAGTAGCTTTTAAATTCATTGACCTCGTCTCTGATATAGTGCCGGTGATAGTGGTCCCTAGTCTGGATAGCTTTTTCTGTGGTAGCGGGAAGGAGAGACCACTGCGAAGTGAGGTTGCTTCGGATAAAGACTACTACCTGATTAGGGTTCAGAATCACTAGGCGGTTTCGACTTGCACCGAGTGCTCCAGTAGCTGTAGCCGCCTCCCTGAGAGATGCAGTTCAAAATGAAGAAGGTTCTTTTGGGTGTAGGAACTAAGAGGCGGGAATTGCTCTTATGCTACCAGAGCGAGTAATCGGACTACTAGCGCTTGTTCCAACAGGTACACAGGAGGTTGGTAACCTCCGATTACTGACCATTACAAAATTGTTATCAGAAGATAAACGAATGTCTAATCCACCTTTCCAAGGGCGACGGTAAGCCCAAGACGGATCATCTATAAGGCTCGTTACAGATAGTGCAAGCGAGACCGGCACTATGACCAGGTTCGGGCACGGAAACACCTGAGCACCGTTTCACCAAGGCCCCCTCTCAGTAGGCAAAATCCGTACCAGACATCCGGGTCGTTTTACCGAATAAGTTATCTCGATGTCGACAACAAGACCAATCCACTGAGATAAAGTTTGTTATAGGGGAGATTCCTAAGATGCGTGTGGGGATAATCATCTTGTGAAAGACTTAATAGAATTAGGAGCTGTAGGTGGTTACACCTCAATAACAGTAATCCTGCAGCTCGCCGAAAGTTATATGTTTCCATAGATAGTAATGGGCCATACCAAAGTTAGGACAGTGCCTACTGCGTGGGCAAGTCGCCATCCTGTGATCTGCCGACAAGGGTTGCCAAATGCAGATTTGATAACCGACAGCTATGATCAATGCAGAGAACGCATCTCCCGAAAGAAAAGCAATCTCTCTAATGAAATTAAAGGCCTTACTTGCCGGGAGACCTGAATACGACATTGATGATGATTAACGT', 'ATTGTATAAAGCTGGGTGCTGGGGATTTTGACCCGTAGTCTGCAGATCGATATAAGGATTCGGACCCGTTAACGGCGGAGAGTATATGGTCTCACCGGTCCTTGCCGCAAATCGATCGTGACGTGTTTCAAAGGCCCTCTAGGCTTAACTCGGTTCACTGCTCGCCTTCCCTTTGAGGAACAGGATTGGCCCTTCCTGTCAGAGGATCCCGCGTCTTGGCAAAGCACAGCTCCGCAACCTGCAAGAGGTGTTAGTTTGTCTTAGTTATCCTGAACCGACTTGAGCTCGGCTCCATGCTCTATAAGGGTTCGACAGCTGGCGTGCCTGTAAGTCGTTGGCTGAGGTCTTTTAATCTACTATAACTGCGCTTTGTGATCTGCTTTTGCCTGCTGGAGATAAGCTATAACTTATGCTGCTGTTGGTGGAGCTCTGACGTGGGCGGCAATAGTCGAAGGATCGCAATACCAACGCAGGCGTAAACCCTCTCGTGGCCGTGGGTACAGATGTGATGTCGCTGCTGTATGATGGTGAGTGGAAGCCCAATTGTCATGCTTGTCGATGACCCTTCGTGTGATGTAGGCTGCTAGCTGCCGGCTCTTAGACTCAGTTGGGTTACTGGGTCTGACGTAGGGGATTCTATCATGATGCCTGAGCGGTAGCAGTGTAAATTTGGTGAAAGTATGTCTGCGCCTTTGCGAATCTCCTCGGCATGCTAGGGTTGCTTGTGCAAGATGTGGGATGGCGTGGCAAGGGCCGGTGATTTGGTCTAAAGCCGGCCAGTAGGATTCGCAGAGGGAATCGCGTATTCTCTAAGTTGGTCATCTTTGACAGTCGTTCTTGGTTTTATCAAGGATTTCGAGCCCTCCGTCAGCTGGACATGGCGCGAGCAAATTGGGAGCTACGTACCGTCTGATTGGCATTGGGGCCTATTTGCCTTTAACTAACGCAATGATTTCCTAGCCAACTTGCCGTGCCTGCTGAGACCATTGATAAGAGGGG', 'GTCTGGCGGCTCGGAATTTATTAGAGTTATCCCATTCGAGCTTTGCGGGGAGTCTTGGACTCTCTGAGAATGGCGGGAGTAGGAGCGCGAGGGCCTGTATGTCCTGCTCGCGGCCATCCCGGGTTCTTTCCTATCCAGCCCTTTGACGTGTGTTAACTCGATTGTCTTTCCGGCGGAAGTGATTGCAGGCAGCAGGTAATAGGGCGTTATCTAAGCCGTAATCATCCTAACGGCCGTGGGGTCGCTTCACCCTTACACGTCTTCGATCTGGTTGGGGGTGTTTGGCGCGGCCGATGAAAATTGTAGGCAGGCTGAGAATGGGACATTAGGATAGAGTAGTTATGGCGGAATGACTTTGCTCACTATCTCTTTGCGCCAGTAGTCGCAACTGTTTGGCGCGAACTCATCCAACTTGCGAGAGGAATGGGTGGCGCCCAATCGGGGACGGGCGCTCTCTTTAAGGCTGATTCTTCGTGTAGCTCCACTCGCTGTTCAAGTTTTGCGATCCTTTATACATGGCCCTCTCTCTCAACTAGCTTGATCTGGATAACATAGCAATTGTGCTGCCAAGTGCGAAGGCTGTCCTGTGCTGCATCAAAATGGCCGTTTCGATTTCCATTGTGGCTGCTGCTGGATCCAGCCGCCTGAGGTTGGTTTGTTCGTCTGGGAAGGGGTTGGAAACTGCCAGATTTGGCCGATTTCCATGCCTAGCTTTACTTGGTGCGGTTTGTGGATCAGAGAAAGTTTTTGGTACGGCATGGAATGCAACGAGGAAGCGTTGGCCTGGGTCCCCCGTAAGAGAGCGGCCCATCTGCTAAATAGCGTCTAACCTTTGAAGTGATTTTGACTCCAGACGCGTAGAGGCTGCTTACCCGTCTCTTAGCTTTAGGAATATCAATTCAGGGGTTGCATAATGAGTCACCGTGTCGAGTGAGTTGGCAAATCGCCTAGTTGTCAGTGCCAGTTATTGTCATTCGACTATCTCTTGAAGGGATAGCA', 'GCCAAATATGTGTGAACTCTCTATGGTCGACTCTACAGACATTACACCATCTACGGTTAATGGCAGTGCTATTGGGCCTGCTAATTGCTGGGGTTGCCAATTTGCCGTGCCTAGCTCTTTGGTTCATTCTACAGAAGTGAGTAGACAGGCCGATAGAGGCTTGCCCTGTATGTGAGCTTAAATGTTTCATGACTTGGCTTCATTCAAATTTCGGTCAGTGCAAAGCTCTCTTTTGGGGGGGAACCTCAGCGGAAGACAGTGCTTCCCTGGCATGTTGCCCAGTCATGACTATTGTCGGTATCTCGGCATGTCAATAAAAGCTATACCTTGTAATTCTCCTGTTACCGCCCAGATTATCAATGCACCGCTGTGGGCATCTCTCTGACGCCTAGAAGGAACCCTATATGAAGCTGTATCTAGAGCCGCTATGAACTTCGATTCTTGTGCTCTTTTTAACGTGTTGAGACGCGGTTTGGTTAGGCTGTGTTACCCTGTGCACCACCAACTAGGGTCTGTACTGCTTTTTATCTCTCTCACCAGGTCCCTTACTGGAGCATGGCATGTGACTTTAGAGTTCCATAGTCTTATCGGTCCTTAGAGACAAGTTCAGTAGGTTTACATTCCGACACCTCCCCTTGGTGACATTCAAGCACAGTTAGGGCTAGAGCGCGCACATATAACACCTGGTTTGGAGCAAACACCTGGGCCAGCCCTCGAAGCAGACTTTGTTTTGAGTGGGAGGTGGCGCTAAGTGTTCTACTCTTTATGTGTGAGCTCTCTTCTCAAGCTGCTGGTGCCACCAATAGCAGCTGTGAGAATGGCGAAGTGGGGCCACAAGATTCCTTTAGTGGGATAAAGTTGCGTATGTTAGCAATGAGCTCAATGGATATTCACGGATTCAAAAAGTGCCTTTATTCTTCCATTCTTGCCGCGGTTCTTATCTTTTTACCGGCAGACCTAAGCATCCACGAGTGTAGTGGCAGGGTCACTTGTTGGTAA', 'AAGGCCAGTCTAGCTTTCCGATCCAGGAGGGGAGGGGACAGGTCGAACAACTCCTTGCAGTGCATTTCGCCGGAAGTCTGCTTGTGCCGCCCTACTATGGGGAGCAGAATCCGCTGCGCCAGGAGATCCCGAACTCCAAGGCTTCGGGTACCTTTCGGCCGCAGAACGGATAGGCGCTGGGCCGTCCGGACAAACAGTAGGGACGCTCATAGCACCCGCGTTAGGGGGAGTCGGGATGACTGAAGCCCGTGCTGCAAGCCGCCCGGTATCCGCGGGCCCGCTCTGCGTAGGCCATTCTGCTCGGGCCCCCGCGGCCTCTCGAGACTTTAGCGCGGCGTGCGTGCCTTTCGCCCGACGACGCCCGAGCATACTGTGGTACTTAGAGTGGGTTCCACACACGCGAGCCGGGAAGCCGCGGGGCAGATCCCGCCACCGCTGCGCTGCCGGGACCGCATAAGTTCCCGTCCAGCCGGGCGTCGACCTGCGCCCCACCATAAAGCCTGTGCGGTTGCTTGCGGCGGCAGGCATAGTATGGAAGCCGGAAAGAAGCCAAATTGGGGGCCCCCTCCTCGACTGCACATTAAGAGGAAGTCTTTCTGATCCGAGTGCATTCTTCGGGCCTCAAATCCTGGGTGCCCACAAGCGCAGCAGGCAACAATTGCTTTCGCTTGTTTATGTCAGAGCGCGCGCTCGCCCCAGGCGCAGACGCGCGGCAACTACTGATGCGCGGCACGTTAACCGTTGGATGGCAGCACCCCCGGCAGCCAACTATACAACCACCTGGCTCGCGCCACCGGCTCAGTCTGGGGTTGGCCACATCGATCCGAGAGGGTCTGTCCGGTGTCGCGGGGGGCGGCAACCCGTTTCGCCGGTTGACGTTCCGGCCCCGCTGGCAGAAGCTCAGGCTCCTACGGTGCGGGCATGAGGAACGCATCCTGGCTGCTGGAAAGTTCACCTGGAACCCACACCCCCCGAAGTCACCCAGGAGCCATACGCTCG']\n"
          ]
        }
      ],
      "source": [
        "def parse_fasta(fh):\n",
        "    fs=[]\n",
        "    fss=[]\n",
        "    seq=''\n",
        "    for ln in fh:\n",
        "        if ln[0]=='A' or ln[0]=='T' or ln[0]=='G' or ln[0]=='C':\n",
        "           seq=seq+ln[:-2]\n",
        "        else:\n",
        "           fs.append(seq)\n",
        "           seq=''\n",
        "    for element in fs:\n",
        "      if element!='':\n",
        "        fss.append(element)\n",
        "      else:\n",
        "        fss=fss\n",
        "    return fss\n",
        "\n",
        "fh=open('Human_promoter_synthetic.fa')\n",
        "input=parse_fasta(fh)\n",
        "print(input[0:10])"
      ]
    },
    {
      "cell_type": "code",
      "execution_count": null,
      "metadata": {
        "colab": {
          "base_uri": "https://localhost:8080/"
        },
        "id": "TVVhpclitox0",
        "outputId": "32c648dd-ac13-4395-9169-07c9c66fdb60"
      },
      "outputs": [
        {
          "name": "stdout",
          "output_type": "stream",
          "text": [
            "[['CTC', 'TCC', 'CCG', 'CGA', 'GAA', 'AAC', 'ACG', 'CGG', 'GGA', 'GAC', 'ACT', 'CTA', 'TAC', 'ACA', 'CAC', 'ACC', 'CCA', 'CAA', 'AAA', 'AAC', 'ACG', 'CGC', 'GCA', 'CAA', 'AAA', 'AAT', 'ATA', 'TAT', 'ATG', 'TGA', 'GAC', 'ACC', 'CCT', 'CTG', 'TGT', 'GTC', 'TCC', 'CCA', 'CAG', 'AGG', 'GGC', 'GCC', 'CCG', 'CGA', 'GAC', 'ACT', 'CTA', 'TAG', 'AGT', 'GTG', 'TGA', 'GAA', 'AAC', 'ACC', 'CCC', 'CCA', 'CAT', 'ATA', 'TAT', 'ATG', 'TGC', 'GCT', 'CTC', 'TCT', 'CTG', 'TGA', 'GAA', 'AAA', 'AAA', 'AAG', 'AGC', 'GCT', 'CTA', 'TAA', 'AAC', 'ACT', 'CTG', 'TGC', 'GCG', 'CGG', 'GGC', 'GCT', 'CTT', 'TTT', 'TTA', 'TAA', 'AAG', 'AGT', 'GTA', 'TAA', 'AAT', 'ATA', 'TAG', 'AGT', 'GTT', 'TTG', 'TGG', 'GGT', 'GTG', 'TGA', 'GAA', 'AAT', 'ATT', 'TTA', 'TAA', 'AAA', 'AAT', 'ATA', 'TAA', 'AAT', 'ATA', 'TAT', 'ATA', 'TAG', 'AGT', 'GTG', 'TGG', 'GGG', 'GGA', 'GAT', 'ATG', 'TGA', 'GAA', 'AAG', 'AGC', 'GCA', 'CAG', 'AGA', 'GAA', 'AAG', 'AGA', 'GAT', 'ATC', 'TCA', 'CAG', 'AGA', 'GAC', 'ACA', 'CAA', 'AAG', 'AGT', 'GTT', 'TTT', 'TTG', 'TGG', 'GGA', 'GAT', 'ATG', 'TGA', 'GAG', 'AGT', 'GTG', 'TGT', 'GTT', 'TTG', 'TGC', 'GCG', 'CGT', 'GTA', 'TAT', 'ATG', 'TGA', 'GAA', 'AAG', 'AGC', 'GCT', 'CTG', 'TGG', 'GGT', 'GTC', 'TCA', 'CAG', 'AGG', 'GGC', 'GCA', 'CAG', 'AGC', 'GCT', 'CTG', 'TGG', 'GGT', 'GTC', 'TCA', 'CAG', 'AGA', 'GAT', 'ATC', 'TCC', 'CCT', 'CTG', 'TGA', 'GAC', 'ACC', 'CCT', 'CTT', 'TTG', 'TGC', 'GCT', 'CTT', 'TTG', 'TGA', 'GAA', 'AAA', 'AAG', 'AGT', 'GTC', 'TCA', 'CAG', 'AGT', 'GTG', 'TGG', 'GGT', 'GTG', 'TGA', 'GAA', 'AAA', 'AAT', 'ATG', 'TGA', 'GAT', 'ATA', 'TAG', 'AGG', 'GGA', 'GAA', 'AAC', 'ACC', 'CCT', 'CTC', 'TCT', 'CTA', 'TAA', 'AAT', 'ATA', 'TAT', 'ATA', 'TAC', 'ACA', 'CAA', 'AAG', 'AGT', 'GTC', 'TCC', 'CCA', 'CAA', 'AAC', 'ACT', 'CTA', 'TAA', 'AAT', 'ATG', 'TGA', 'GAG', 'AGC', 'GCT', 'CTG', 'TGC', 'GCC', 'CCT', 'CTT', 'TTT', 'TTT', 'TTG', 'TGA', 'GAC', 'ACT', 'CTC', 'TCT', 'CTT', 'TTA', 'TAA', 'AAC', 'ACT', 'CTT', 'TTT', 'TTA', 'TAT', 'ATA', 'TAG', 'AGT', 'GTT', 'TTG', 'TGC', 'GCT', 'CTA', 'TAA', 'AAA', 'AAG', 'AGA', 'GAG', 'AGT', 'GTA', 'TAT', 'ATT', 'TTG', 'TGG', 'GGG', 'GGG', 'GGG', 'GGG', 'GGA', 'GAT', 'ATT', 'TTT', 'TTG', 'TGT', 'GTC', 'TCT', 'CTC', 'TCA', 'CAT', 'ATG', 'TGA', 'GAG', 'AGT', 'GTA', 'TAC', 'ACT', 'CTC', 'TCC', 'CCA', 'CAA', 'AAC', 'ACC', 'CCA', 'CAG', 'AGT', 'GTG', 'TGG', 'GGA', 'GAA', 'AAG', 'AGC', 'GCA', 'CAC', 'ACT', 'CTG', 'TGG', 'GGT', 'GTC', 'TCA', 'CAC', 'ACG', 'CGT', 'GTT', 'TTA', 'TAA', 'AAT', 'ATG', 'TGA', 'GAC', 'ACT', 'CTG', 'TGT', 'GTA', 'TAG', 'AGA', 'GAA', 'AAG', 'AGT', 'GTG', 'TGC', 'GCA', 'CAT', 'ATT', 'TTC', 'TCA', 'CAC', 'ACA', 'CAA', 'AAG', 'AGA', 'GAA', 'AAA', 'AAT', 'ATG', 'TGA', 'GAG', 'AGT', 'GTA', 'TAG', 'AGG', 'GGC', 'GCT', 'CTA', 'TAA', 'AAG', 'AGT', 'GTG', 'TGA', 'GAA', 'AAA', 'AAA', 'AAC', 'ACA', 'CAG', 'AGT', 'GTT', 'TTA', 'TAA', 'AAA', 'AAG', 'AGT', 'GTT', 'TTA', 'TAT', 'ATT', 'TTC', 'TCT', 'CTA', 'TAA', 'AAG', 'AGC', 'GCA', 'CAA', 'AAC', 'ACT', 'CTC', 'TCA', 'CAT', 'ATA', 'TAA', 'AAT', 'ATT', 'TTT', 'TTT', 'TTA', 'TAT', 'ATG', 'TGC', 'GCT', 'CTA', 'TAT', 'ATA', 'TAA', 'AAA', 'AAA', 'AAG', 'AGA', 'GAT', 'ATA', 'TAG', 'AGG', 'GGC', 'GCC', 'CCA', 'CAC', 'ACT', 'CTA', 'TAA', 'AAC', 'ACC', 'CCA', 'CAG', 'AGG', 'GGA', 'GAC', 'ACT', 'CTG', 'TGC', 'GCT', 'CTC', 'TCA', 'CAC', 'ACA', 'CAC', 'ACT', 'CTA', 'TAA', 'AAC', 'ACT', 'CTG', 'TGG', 'GGG', 'GGG', 'GGT', 'GTG', 'TGT', 'GTG', 'TGG', 'GGA', 'GAT', 'ATA', 'TAC', 'ACA', 'CAG', 'AGA', 'GAG', 'AGT', 'GTG', 'TGT', 'GTG', 'TGG', 'GGT', 'GTA', 'TAT', 'ATA', 'TAG', 'AGG', 'GGG', 'GGA', 'GAC', 'ACT', 'CTG', 'TGC', 'GCT', 'CTG', 'TGA', 'GAA', 'AAT', 'ATA', 'TAG', 'AGC', 'GCA', 'CAA', 'AAT', 'ATG', 'TGA', 'GAG', 'AGG', 'GGC', 'GCC', 'CCT', 'CTG', 'TGT', 'GTG', 'TGT', 'GTT', 'TTG', 'TGA', 'GAA', 'AAA', 'AAC', 'ACT', 'CTT', 'TTT', 'TTG', 'TGA', 'GAA', 'AAT', 'ATG', 'TGT', 'GTG', 'TGA', 'GAG', 'AGA', 'GAT', 'ATG', 'TGC', 'GCT', 'CTG', 'TGT', 'GTT', 'TTG', 'TGC', 'GCT', 'CTT', 'TTA', 'TAC', 'ACT', 'CTC', 'TCA', 'CAA', 'AAC', 'ACA', 'CAA', 'AAC', 'ACG', 'CGG', 'GGC', 'GCG', 'CGT', 'GTC', 'TCT', 'CTT', 'TTT', 'TTC', 'TCA', 'CAG', 'AGC', 'GCG', 'CGA', 'GAA', 'AAA', 'AAC', 'ACA', 'CAT', 'ATA', 'TAA', 'AAG', 'AGA', 'GAT', 'ATG', 'TGA', 'GAT', 'ATG', 'TGA', 'GAG', 'AGG', 'GGA', 'GAT', 'ATA', 'TAC', 'ACT', 'CTC', 'TCA', 'CAC', 'ACT', 'CTA', 'TAG', 'AGC', 'GCC', 'CCA', 'CAT', 'ATG', 'TGG', 'GGT', 'GTA', 'TAT', 'ATG', 'TGC', 'GCA', 'CAT', 'ATC', 'TCG', 'CGA', 'GAA', 'AAA', 'AAG', 'AGA', 'GAA', 'AAC', 'ACA', 'CAT', 'ATA', 'TAA', 'AAT', 'ATG', 'TGT', 'GTT', 'TTA', 'TAC', 'ACT', 'CTT', 'TTT', 'TTA', 'TAG', 'AGG', 'GGT', 'GTG', 'TGG', 'GGA', 'GAC', 'ACA', 'CAT', 'ATC', 'TCG', 'CGT', 'GTT', 'TTG', 'TGT', 'GTC', 'TCC', 'CCA', 'CAT', 'ATG', 'TGA', 'GAA', 'AAG', 'AGA', 'GAG', 'AGA', 'GAG', 'AGT', 'GTC', 'TCA', 'CAT', 'ATC', 'TCT', 'CTT', 'TTA', 'TAT', 'ATG', 'TGA', 'GAC', 'ACC', 'CCC', 'CCT', 'CTG', 'TGA', 'GAA', 'AAA', 'AAC', 'ACA', 'CAT', 'ATT', 'TTC', 'TCT', 'CTA', 'TAA', 'AAT', 'ATA', 'TAA', 'AAT', 'ATA', 'TAC', 'ACG', 'CGA', 'GAA', 'AAT', 'ATT', 'TTG', 'TGC', 'GCT', 'CTT', 'TTA', 'TAA', 'AAA', 'AAA', 'AAC', 'ACT', 'CTT', 'TTC', 'TCA', 'CAC', 'ACA', 'CAT', 'ATA', 'TAG', 'AGA', 'GAC', 'ACC', 'CCA', 'CAC', 'ACC', 'CCT', 'CTC', 'TCA', 'CAA', 'AAC', 'ACG', 'CGA', 'GAG', 'AGA', 'GAC', 'ACT', 'CTG', 'TGT', 'GTA', 'TAT', 'ATG', 'TGA', 'GAA', 'AAC', 'ACA', 'CAA', 'AAA', 'AAC', 'ACG', 'CGG', 'GGG', 'GGG', 'GGT', 'GTA', 'TAG', 'AGT', 'GTT', 'TTT', 'TTT', 'TTA', 'TAT', 'ATG', 'TGC', 'GCA', 'CAC', 'ACA', 'CAG', 'AGA', 'GAC', 'ACA', 'CAG', 'AGA', 'GAA', 'AAT', 'ATA', 'TAT', 'ATC', 'TCA', 'CAA', 'AAA', 'AAC', 'ACT', 'CTG', 'TGA', 'GAT', 'ATA', 'TAT', 'ATA', 'TAC', 'ACG', 'CGA', 'GAT', 'ATT', 'TTT', 'TTG', 'TGC', 'GCA', 'CAT', 'ATT', 'TTC', 'TCG', 'CGC', 'GCA', 'CAA', 'AAT', 'ATC', 'TCT', 'CTA', 'TAG', 'AGC', 'GCA', 'CAA', 'AAA', 'AAT', 'ATA', 'TAA', 'AAG', 'AGG', 'GGG', 'GGT', 'GTA', 'TAG', 'AGA', 'GAC', 'ACA', 'CAA', 'AAG', 'AGC', 'GCG', 'CGC', 'GCA', 'CAG', 'AGG', 'GGT', 'GTG', 'TGT', 'GTA', 'TAG', 'AGA', 'GAC', 'ACA', 'CAA', 'AAT', 'ATT', 'TTT', 'TTG', 'TGA', 'GAA', 'AAA', 'AAC', 'ACC', 'CCA', 'CAA', 'AAG', 'AGG', 'GGC', 'GCA', 'CAA', 'AAT', 'ATG', 'TGC', 'GCA', 'CAT', 'ATC', 'TCA', 'CAA', 'AAA', 'AAT', 'ATT', 'TTT', 'TTG', 'TGT', 'GTC', 'TCA', 'CAC', 'ACT', 'CTC', 'TCT', 'CTG', 'TGA', 'GAC', 'ACT', 'CTG', 'TGA', 'GAC', 'ACA', 'CAT', 'ATG', 'TGA', 'GAT', 'ATT', 'TTA', 'TAC', 'ACT', 'CTT', 'TTA', 'TAA', 'AAG', 'AGA', 'GAA', 'AAC', 'ACA', 'CAG', 'AGT', 'GTG', 'TGT', 'GTA', 'TAG', 'AGG', 'GGC', 'GCT', 'CTC', 'TCA', 'CAT', 'ATT', 'TTC', 'TCA', 'CAA', 'AAC', 'ACC', 'CCA', 'CAG', 'AGA', 'GAG', 'AGG', 'GGT', 'GTA', 'TAA', 'AAT', 'ATC', 'TCA', 'CAC', 'ACA', 'CAT', 'ATT', 'TTG', 'TGC', 'GCA', 'CAC', 'ACA', 'CAT', 'ATA', 'TAG', 'AGC', 'GCT', 'CTA', 'TAT', 'ATC', 'TCG', 'CGG', 'GGG', 'GGT', 'GTT', 'TTG', 'TGA', 'GAG', 'AGA', 'GAA', 'AAC', 'ACG', 'CGA', 'GAG', 'AGG', 'GGA', 'GAT', 'ATG', 'TGG', 'GGC', 'GCG', 'CGA', 'GAC', 'ACT', 'CTG', 'TGT', 'GTG', 'TGA', 'GAC', 'ACA', 'CAC', 'ACA', 'CAT', 'ATT', 'TTT', 'TTC', 'TCC', 'CCA', 'CAA'], ['CCC', 'CCA', 'CAT', 'ATC', 'TCA', 'CAA', 'AAC', 'ACA', 'CAA', 'AAT', 'ATC', 'TCT', 'CTA', 'TAG', 'AGA', 'GAC', 'ACG', 'CGT', 'GTT', 'TTA', 'TAG', 'AGA', 'GAG', 'AGC', 'GCT', 'CTA', 'TAT', 'ATA', 'TAA', 'AAA', 'AAT', 'ATC', 'TCT', 'CTG', 'TGC', 'GCC', 'CCT', 'CTT', 'TTG', 'TGC', 'GCC', 'CCC', 'CCT', 'CTG', 'TGT', 'GTT', 'TTC', 'TCT', 'CTT', 'TTA', 'TAT', 'ATT', 'TTC', 'TCA', 'CAG', 'AGC', 'GCA', 'CAT', 'ATT', 'TTT', 'TTT', 'TTG', 'TGA', 'GAG', 'AGC', 'GCT', 'CTA', 'TAC', 'ACC', 'CCT', 'CTC', 'TCA', 'CAT', 'ATG', 'TGA', 'GAA', 'AAA', 'AAT', 'ATA', 'TAT', 'ATG', 'TGT', 'GTT', 'TTA', 'TAC', 'ACA', 'CAT', 'ATG', 'TGA', 'GAT', 'ATT', 'TTA', 'TAT', 'ATG', 'TGA', 'GAG', 'AGC', 'GCT', 'CTA', 'TAG', 'AGG', 'GGT', 'GTA', 'TAG', 'AGA', 'GAC', 'ACA', 'CAC', 'ACA', 'CAC', 'ACA', 'CAT', 'ATG', 'TGT', 'GTT', 'TTT', 'TTT', 'TTG', 'TGA', 'GAG', 'AGT', 'GTG', 'TGG', 'GGG', 'GGA', 'GAA', 'AAA', 'AAG', 'AGA', 'GAT', 'ATA', 'TAC', 'ACT', 'CTA', 'TAT', 'ATC', 'TCA', 'CAT', 'ATG', 'TGA', 'GAT', 'ATC', 'TCT', 'CTA', 'TAC', 'ACA', 'CAT', 'ATA', 'TAA', 'AAA', 'AAT', 'ATA', 'TAT', 'ATC', 'TCA', 'CAG', 'AGA', 'GAA', 'AAT', 'ATA', 'TAC', 'ACC', 'CCA', 'CAT', 'ATG', 'TGG', 'GGA', 'GAA', 'AAT', 'ATG', 'TGG', 'GGA', 'GAT', 'ATG', 'TGT', 'GTC', 'TCA', 'CAT', 'ATC', 'TCT', 'CTG', 'TGT', 'GTA', 'TAG', 'AGT', 'GTG', 'TGA', 'GAT', 'ATT', 'TTG', 'TGA', 'GAT', 'ATT', 'TTC', 'TCC', 'CCT', 'CTC', 'TCA', 'CAA', 'AAT', 'ATA', 'TAT', 'ATT', 'TTC', 'TCA', 'CAT', 'ATT', 'TTA', 'TAG', 'AGG', 'GGG', 'GGC', 'GCC', 'CCT', 'CTA', 'TAG', 'AGT', 'GTA', 'TAC', 'ACA', 'CAT', 'ATT', 'TTC', 'TCT', 'CTG', 'TGA', 'GAT', 'ATA', 'TAT', 'ATT', 'TTG', 'TGC', 'GCT', 'CTA', 'TAA', 'AAG', 'AGA', 'GAT', 'ATG', 'TGC', 'GCA', 'CAT', 'ATA', 'TAT', 'ATA', 'TAG', 'AGT', 'GTA', 'TAT', 'ATG', 'TGT', 'GTT', 'TTG', 'TGG', 'GGT', 'GTT', 'TTG', 'TGA', 'GAA', 'AAC', 'ACA', 'CAC', 'ACT', 'CTG', 'TGT', 'GTC', 'TCA', 'CAG', 'AGA', 'GAT', 'ATA', 'TAA', 'AAT', 'ATG', 'TGG', 'GGA', 'GAT', 'ATG', 'TGC', 'GCA', 'CAA', 'AAC', 'ACC', 'CCC', 'CCC', 'CCA', 'CAA', 'AAT', 'ATG', 'TGA', 'GAG', 'AGT', 'GTT', 'TTT', 'TTC', 'TCA', 'CAA', 'AAA', 'AAG', 'AGT', 'GTA', 'TAG', 'AGG', 'GGT', 'GTG', 'TGC', 'GCT', 'CTT', 'TTG', 'TGG', 'GGT', 'GTG', 'TGT', 'GTG', 'TGA', 'GAG', 'AGA', 'GAG', 'AGT', 'GTA', 'TAA', 'AAA', 'AAA', 'AAA', 'AAC', 'ACT', 'CTG', 'TGC', 'GCC', 'CCA', 'CAT', 'ATC', 'TCA', 'CAT', 'ATA', 'TAA', 'AAT', 'ATA', 'TAA', 'AAA', 'AAT', 'ATA', 'TAA', 'AAG', 'AGG', 'GGA', 'GAT', 'ATA', 'TAT', 'ATT', 'TTC', 'TCT', 'CTA', 'TAG', 'AGA', 'GAT', 'ATA', 'TAC', 'ACA', 'CAT', 'ATA', 'TAT', 'ATA', 'TAA', 'AAG', 'AGT', 'GTA', 'TAT', 'ATA', 'TAA', 'AAC', 'ACA', 'CAA', 'AAG', 'AGT', 'GTA', 'TAA', 'AAT', 'ATA', 'TAC', 'ACA', 'CAT', 'ATC', 'TCT', 'CTA', 'TAA', 'AAT', 'ATA', 'TAA', 'AAA', 'AAG', 'AGG', 'GGT', 'GTC', 'TCG', 'CGT', 'GTT', 'TTA', 'TAA', 'AAC', 'ACC', 'CCT', 'CTG', 'TGT', 'GTA', 'TAT', 'ATT', 'TTA', 'TAC', 'ACT', 'CTC', 'TCT', 'CTA', 'TAA', 'AAC', 'ACC', 'CCA', 'CAT', 'ATC', 'TCA', 'CAA', 'AAT', 'ATT', 'TTG', 'TGC', 'GCA', 'CAC', 'ACT', 'CTT', 'TTG', 'TGT', 'GTA', 'TAT', 'ATA', 'TAT', 'ATG', 'TGC', 'GCA', 'CAA', 'AAA', 'AAG', 'AGG', 'GGG', 'GGG', 'GGT', 'GTG', 'TGT', 'GTA', 'TAG', 'AGC', 'GCG', 'CGA', 'GAA', 'AAA', 'AAA', 'AAG', 'AGG', 'GGA', 'GAT', 'ATA', 'TAA', 'AAG', 'AGA', 'GAC', 'ACT', 'CTG', 'TGG', 'GGC', 'GCT', 'CTG', 'TGA', 'GAC', 'ACC', 'CCC', 'CCC', 'CCT', 'CTC', 'TCA', 'CAA', 'AAG', 'AGT', 'GTA', 'TAA', 'AAC', 'ACA', 'CAC', 'ACA', 'CAG', 'AGG', 'GGC', 'GCT', 'CTG', 'TGG', 'GGC', 'GCC', 'CCT', 'CTT', 'TTA', 'TAG', 'AGG', 'GGG', 'GGA', 'GAG', 'AGC', 'GCA', 'CAG', 'AGA', 'GAG', 'AGG', 'GGT', 'GTA', 'TAT', 'ATC', 'TCT', 'CTA', 'TAG', 'AGC', 'GCC', 'CCC', 'CCC', 'CCG', 'CGC', 'GCT', 'CTT', 'TTG', 'TGT', 'GTG', 'TGA', 'GAC', 'ACA', 'CAA', 'AAC', 'ACA', 'CAA', 'AAG', 'AGG', 'GGC', 'GCC', 'CCC', 'CCT', 'CTT', 'TTG', 'TGA', 'GAA', 'AAA', 'AAA', 'AAT', 'ATA', 'TAA', 'AAT', 'ATC', 'TCT', 'CTC', 'TCC', 'CCT', 'CTC', 'TCA', 'CAA', 'AAT', 'ATA', 'TAA', 'AAG', 'AGG', 'GGC', 'GCA', 'CAG', 'AGG', 'GGA', 'GAG', 'AGA', 'GAG', 'AGG', 'GGT', 'GTT', 'TTA', 'TAG', 'AGT', 'GTC', 'TCC', 'CCT', 'CTG', 'TGA', 'GAT', 'ATG', 'TGC', 'GCA', 'CAA', 'AAT', 'ATG', 'TGC', 'GCC', 'CCA', 'CAA', 'AAA', 'AAG', 'AGC', 'GCT', 'CTA', 'TAT', 'ATC', 'TCC', 'CCT', 'CTT', 'TTA', 'TAG', 'AGC', 'GCA', 'CAG', 'AGC', 'GCA', 'CAC', 'ACT', 'CTG', 'TGT', 'GTT', 'TTA', 'TAA', 'AAG', 'AGT', 'GTT', 'TTA', 'TAT', 'ATT', 'TTA', 'TAA', 'AAC', 'ACT', 'CTT', 'TTA', 'TAA', 'AAC', 'ACT', 'CTA', 'TAC', 'ACA', 'CAT', 'ATC', 'TCT', 'CTC', 'TCC', 'CCT', 'CTT', 'TTT', 'TTA', 'TAC', 'ACT', 'CTT', 'TTT', 'TTT', 'TTC', 'TCT', 'CTA', 'TAC', 'ACG', 'CGA', 'GAT', 'ATC', 'TCT', 'CTT', 'TTT', 'TTA', 'TAG', 'AGA', 'GAA', 'AAT', 'ATA', 'TAA', 'AAA', 'AAA', 'AAA', 'AAG', 'AGA', 'GAA', 'AAC', 'ACG', 'CGG', 'GGG', 'GGC', 'GCA', 'CAA', 'AAT', 'ATT', 'TTT', 'TTT', 'TTC', 'TCA', 'CAG', 'AGG', 'GGA', 'GAA', 'AAT', 'ATT', 'TTC', 'TCC', 'CCA', 'CAT', 'ATA', 'TAA', 'AAC', 'ACA', 'CAC', 'ACT', 'CTC', 'TCT', 'CTC', 'TCA', 'CAA', 'AAG', 'AGC', 'GCT', 'CTG', 'TGT', 'GTG', 'TGT', 'GTT', 'TTA', 'TAA', 'AAG', 'AGA', 'GAA', 'AAA', 'AAG', 'AGA', 'GAT', 'ATA', 'TAC', 'ACC', 'CCA', 'CAA', 'AAC', 'ACT', 'CTT', 'TTC', 'TCC', 'CCG', 'CGT', 'GTC', 'TCA', 'CAG', 'AGT', 'GTA', 'TAT', 'ATG', 'TGT', 'GTC', 'TCG', 'CGA', 'GAG', 'AGG', 'GGG', 'GGA', 'GAC', 'ACC', 'CCT', 'CTT', 'TTG', 'TGC', 'GCA', 'CAC', 'ACA', 'CAA', 'AAT', 'ATC', 'TCT', 'CTA', 'TAG', 'AGT', 'GTG', 'TGC', 'GCA', 'CAA', 'AAT', 'ATG', 'TGG', 'GGC', 'GCT', 'CTC', 'TCA', 'CAC', 'ACA', 'CAA', 'AAA', 'AAT', 'ATG', 'TGT', 'GTA', 'TAT', 'ATT', 'TTC', 'TCA', 'CAA', 'AAG', 'AGA', 'GAA', 'AAG', 'AGG', 'GGA', 'GAG', 'AGG', 'GGA', 'GAA', 'AAG', 'AGA', 'GAC', 'ACT', 'CTG', 'TGC', 'GCA', 'CAC', 'ACA', 'CAG', 'AGG', 'GGT', 'GTA', 'TAG', 'AGG', 'GGA', 'GAT', 'ATA', 'TAG', 'AGC', 'GCT', 'CTA', 'TAT', 'ATG', 'TGC', 'GCA', 'CAT', 'ATA', 'TAG', 'AGG', 'GGA', 'GAC', 'ACA', 'CAT', 'ATT', 'TTG', 'TGA', 'GAG', 'AGC', 'GCA', 'CAT', 'ATT', 'TTG', 'TGG', 'GGG', 'GGC', 'GCT', 'CTC', 'TCA', 'CAC', 'ACA', 'CAA', 'AAG', 'AGT', 'GTA', 'TAC', 'ACA', 'CAT', 'ATA', 'TAA', 'AAG', 'AGA', 'GAG', 'AGA', 'GAA', 'AAT', 'ATT', 'TTA', 'TAT', 'ATC', 'TCA', 'CAA', 'AAC', 'ACA', 'CAC', 'ACG', 'CGA', 'GAG', 'AGG', 'GGA', 'GAG', 'AGA', 'GAA', 'AAC', 'ACA', 'CAG', 'AGA', 'GAT', 'ATT', 'TTA', 'TAC', 'ACA', 'CAG', 'AGA', 'GAT', 'ATT', 'TTG', 'TGC', 'GCA', 'CAA', 'AAC', 'ACT', 'CTT', 'TTG', 'TGT', 'GTG', 'TGA', 'GAG', 'AGC', 'GCC', 'CCG', 'CGT', 'GTT', 'TTA', 'TAT', 'ATC', 'TCT', 'CTC', 'TCA', 'CAG', 'AGG', 'GGC', 'GCG', 'CGT', 'GTG', 'TGG', 'GGG', 'GGT', 'GTC', 'TCG', 'CGT', 'GTC', 'TCT', 'CTC', 'TCT', 'CTT', 'TTA', 'TAA', 'AAA', 'AAG', 'AGT', 'GTC', 'TCT', 'CTA', 'TAA', 'AAT', 'ATG', 'TGA', 'GAC', 'ACA', 'CAG', 'AGT', 'GTG', 'TGT', 'GTC', 'TCT', 'CTG', 'TGT', 'GTA', 'TAA', 'AAA', 'AAG', 'AGG', 'GGT', 'GTG', 'TGC', 'GCA', 'CAA', 'AAT', 'ATC', 'TCT', 'CTT', 'TTA', 'TAA', 'AAT', 'ATA', 'TAA', 'AAA', 'AAT', 'ATC', 'TCT', 'CTT', 'TTT', 'TTT', 'TTT', 'TTA', 'TAA', 'AAT', 'ATA', 'TAC', 'ACT', 'CTA', 'TAT', 'ATA', 'TAG', 'AGA'], ['CGA', 'GAC', 'ACC', 'CCT', 'CTT', 'TTG', 'TGC', 'GCT', 'CTT', 'TTG', 'TGG', 'GGC', 'GCA', 'CAA', 'AAG', 'AGG', 'GGG', 'GGC', 'GCG', 'CGC', 'GCC', 'CCA', 'CAA', 'AAC', 'ACC', 'CCC', 'CCG', 'CGC', 'GCC', 'CCC', 'CCC', 'CCA', 'CAC', 'ACT', 'CTC', 'TCC', 'CCA', 'CAG', 'AGA', 'GAT', 'ATG', 'TGC', 'GCG', 'CGG', 'GGC', 'GCC', 'CCT', 'CTG', 'TGG', 'GGA', 'GAT', 'ATG', 'TGC', 'GCA', 'CAC', 'ACT', 'CTT', 'TTG', 'TGG', 'GGC', 'GCT', 'CTG', 'TGA', 'GAC', 'ACA', 'CAT', 'ATG', 'TGC', 'GCA', 'CAC', 'ACG', 'CGG', 'GGC', 'GCA', 'CAT', 'ATG', 'TGC', 'GCG', 'CGA', 'GAG', 'AGG', 'GGA', 'GAG', 'AGC', 'GCA', 'CAG', 'AGC', 'GCC', 'CCC', 'CCC', 'CCT', 'CTC', 'TCG', 'CGG', 'GGG', 'GGG', 'GGC', 'GCC', 'CCC', 'CCC', 'CCC', 'CCC', 'CCC', 'CCT', 'CTG', 'TGC', 'GCG', 'CGT', 'GTA', 'TAC', 'ACC', 'CCT', 'CTC', 'TCA', 'CAC', 'ACC', 'CCA', 'CAT', 'ATC', 'TCG', 'CGG', 'GGG', 'GGC', 'GCC', 'CCT', 'CTG', 'TGC', 'GCC', 'CCG', 'CGA', 'GAC', 'ACG', 'CGC', 'GCG', 'CGC', 'GCC', 'CCG', 'CGG', 'GGG', 'GGC', 'GCG', 'CGT', 'GTA', 'TAG', 'AGC', 'GCC', 'CCT', 'CTG', 'TGA', 'GAG', 'AGG', 'GGC', 'GCG', 'CGG', 'GGA', 'GAC', 'ACG', 'CGG', 'GGG', 'GGA', 'GAC', 'ACC', 'CCC', 'CCA', 'CAA', 'AAG', 'AGT', 'GTG', 'TGC', 'GCA', 'CAG', 'AGC', 'GCG', 'CGC', 'GCC', 'CCA', 'CAT', 'ATC', 'TCA', 'CAC', 'ACT', 'CTG', 'TGC', 'GCA', 'CAC', 'ACC', 'CCA', 'CAA', 'AAC', 'ACT', 'CTC', 'TCA', 'CAC', 'ACC', 'CCT', 'CTC', 'TCG', 'CGT', 'GTA', 'TAG', 'AGT', 'GTC', 'TCC', 'CCC', 'CCA', 'CAC', 'ACC', 'CCG', 'CGA', 'GAG', 'AGA', 'GAT', 'ATT', 'TTG', 'TGG', 'GGT', 'GTC', 'TCG', 'CGA', 'GAG', 'AGG', 'GGC', 'GCC', 'CCC', 'CCA', 'CAT', 'ATG', 'TGT', 'GTC', 'TCT', 'CTG', 'TGC', 'GCC', 'CCA', 'CAG', 'AGA', 'GAA', 'AAG', 'AGG', 'GGC', 'GCC', 'CCC', 'CCG', 'CGC', 'GCT', 'CTG', 'TGA', 'GAG', 'AGC', 'GCA', 'CAG', 'AGC', 'GCT', 'CTC', 'TCA', 'CAG', 'AGG', 'GGA', 'GAC', 'ACC', 'CCA', 'CAG', 'AGT', 'GTG', 'TGG', 'GGG', 'GGT', 'GTG', 'TGG', 'GGA', 'GAC', 'ACG', 'CGC', 'GCC', 'CCT', 'CTG', 'TGG', 'GGC', 'GCC', 'CCA', 'CAG', 'AGG', 'GGT', 'GTG', 'TGC', 'GCA', 'CAT', 'ATC', 'TCT', 'CTC', 'TCC', 'CCT', 'CTG', 'TGC', 'GCA', 'CAG', 'AGT', 'GTG', 'TGG', 'GGC', 'GCG', 'CGC', 'GCA', 'CAG', 'AGC', 'GCG', 'CGT', 'GTG', 'TGC', 'GCC', 'CCG', 'CGC', 'GCC', 'CCA', 'CAC', 'ACC', 'CCG', 'CGG', 'GGG', 'GGG', 'GGA', 'GAG', 'AGT', 'GTG', 'TGG', 'GGC', 'GCG', 'CGT', 'GTC', 'TCT', 'CTG', 'TGC', 'GCG', 'CGG', 'GGC', 'GCC', 'CCG', 'CGT', 'GTT', 'TTC', 'TCT', 'CTA', 'TAT', 'ATC', 'TCG', 'CGG', 'GGC', 'GCC', 'CCA', 'CAC', 'ACG', 'CGT', 'GTA', 'TAG', 'AGC', 'GCT', 'CTC', 'TCC', 'CCT', 'CTG', 'TGG', 'GGG', 'GGC', 'GCC', 'CCC', 'CCC', 'CCC', 'CCG', 'CGA', 'GAG', 'AGC', 'GCA', 'CAG', 'AGG', 'GGG', 'GGC', 'GCT', 'CTC', 'TCC', 'CCG', 'CGG', 'GGG', 'GGG', 'GGC', 'GCC', 'CCC', 'CCG', 'CGG', 'GGC', 'GCT', 'CTC', 'TCC', 'CCC', 'CCC', 'CCT', 'CTA', 'TAT', 'ATC', 'TCG', 'CGC', 'GCT', 'CTG', 'TGG', 'GGC', 'GCC', 'CCT', 'CTA', 'TAG', 'AGC', 'GCA', 'CAC', 'ACG', 'CGC', 'GCG', 'CGT', 'GTC', 'TCC', 'CCC', 'CCA', 'CAG', 'AGC', 'GCC', 'CCC', 'CCC', 'CCA', 'CAC', 'ACT', 'CTG', 'TGG', 'GGC', 'GCT', 'CTG', 'TGC', 'GCC', 'CCG', 'CGC', 'GCG', 'CGA', 'GAG', 'AGG', 'GGG', 'GGG', 'GGC', 'GCC', 'CCC', 'CCG', 'CGG', 'GGA', 'GAA', 'AAC', 'ACG', 'CGG', 'GGC', 'GCA', 'CAT', 'ATC', 'TCT', 'CTA', 'TAC', 'ACA', 'CAG', 'AGC', 'GCC', 'CCC', 'CCC', 'CCT', 'CTG', 'TGC', 'GCA', 'CAC', 'ACC', 'CCA', 'CAG', 'AGC', 'GCG', 'CGC', 'GCG', 'CGG', 'GGC', 'GCC', 'CCG', 'CGG', 'GGG', 'GGC', 'GCG', 'CGC', 'GCC', 'CCT', 'CTA', 'TAC', 'ACT', 'CTG', 'TGA', 'GAG', 'AGA', 'GAG', 'AGT', 'GTG', 'TGC', 'GCA', 'CAC', 'ACC', 'CCC', 'CCG', 'CGA', 'GAA', 'AAT', 'ATC', 'TCT', 'CTC', 'TCC', 'CCC', 'CCC', 'CCC', 'CCT', 'CTG', 'TGC', 'GCC', 'CCC', 'CCT', 'CTC', 'TCG', 'CGA', 'GAT', 'ATG', 'TGG', 'GGC', 'GCC', 'CCC', 'CCA', 'CAC', 'ACG', 'CGC', 'GCT', 'CTG', 'TGC', 'GCG', 'CGA', 'GAC', 'ACA', 'CAG', 'AGG', 'GGC', 'GCG', 'CGG', 'GGC', 'GCC', 'CCC', 'CCC', 'CCG', 'CGC', 'GCC', 'CCG', 'CGC', 'GCG', 'CGT', 'GTA', 'TAG', 'AGT', 'GTG', 'TGC', 'GCA', 'CAA', 'AAG', 'AGC', 'GCT', 'CTG', 'TGG', 'GGG', 'GGT', 'GTG', 'TGT', 'GTC', 'TCC', 'CCC', 'CCC', 'CCA', 'CAC', 'ACT', 'CTT', 'TTT', 'TTG', 'TGG', 'GGC', 'GCA', 'CAT', 'ATG', 'TGC', 'GCC', 'CCC', 'CCC', 'CCC', 'CCG', 'CGC', 'GCA', 'CAC', 'ACC', 'CCA', 'CAA', 'AAG', 'AGG', 'GGC', 'GCG', 'CGA', 'GAA', 'AAC', 'ACG', 'CGC', 'GCC', 'CCG', 'CGG', 'GGC', 'GCG', 'CGC', 'GCA', 'CAG', 'AGC', 'GCG', 'CGC', 'GCC', 'CCA', 'CAG', 'AGC', 'GCC', 'CCG', 'CGA', 'GAA', 'AAG', 'AGG', 'GGC', 'GCT', 'CTC', 'TCC', 'CCG', 'CGC', 'GCC', 'CCT', 'CTG', 'TGG', 'GGA', 'GAC', 'ACT', 'CTA', 'TAC', 'ACG', 'CGT', 'GTA', 'TAG', 'AGG', 'GGA', 'GAG', 'AGC', 'GCG', 'CGT', 'GTG', 'TGA', 'GAC', 'ACT', 'CTT', 'TTG', 'TGC', 'GCC', 'CCG', 'CGT', 'GTG', 'TGG', 'GGC', 'GCT', 'CTT', 'TTC', 'TCC', 'CCT', 'CTG', 'TGA', 'GAA', 'AAG', 'AGA', 'GAA', 'AAG', 'AGA', 'GAA', 'AAA', 'AAT', 'ATG', 'TGC', 'GCG', 'CGC', 'GCA', 'CAC', 'ACT', 'CTA', 'TAG', 'AGC', 'GCT', 'CTA', 'TAT', 'ATG', 'TGG', 'GGC', 'GCC', 'CCG', 'CGG', 'GGG', 'GGG', 'GGG', 'GGG', 'GGG', 'GGG', 'GGC', 'GCG', 'CGC', 'GCA', 'CAC', 'ACA', 'CAG', 'AGG', 'GGT', 'GTC', 'TCG', 'CGG', 'GGC', 'GCC', 'CCG', 'CGG', 'GGT', 'GTC', 'TCG', 'CGC', 'GCT', 'CTT', 'TTG', 'TGA', 'GAC', 'ACC', 'CCA', 'CAG', 'AGG', 'GGC', 'GCC', 'CCC', 'CCC', 'CCC', 'CCA', 'CAC', 'ACT', 'CTC', 'TCG', 'CGG', 'GGA', 'GAC', 'ACA', 'CAG', 'AGA', 'GAA', 'AAA', 'AAA', 'AAA', 'AAG', 'AGT', 'GTC', 'TCA', 'CAC', 'ACC', 'CCT', 'CTC', 'TCC', 'CCT', 'CTC', 'TCG', 'CGG', 'GGG', 'GGT', 'GTC', 'TCG', 'CGT', 'GTA', 'TAG', 'AGG', 'GGC', 'GCG', 'CGG', 'GGA', 'GAA', 'AAC', 'ACG', 'CGG', 'GGC', 'GCA', 'CAG', 'AGG', 'GGC', 'GCC', 'CCG', 'CGC', 'GCC', 'CCC', 'CCC', 'CCC', 'CCA', 'CAC', 'ACC', 'CCC', 'CCC', 'CCC', 'CCC', 'CCT', 'CTG', 'TGT', 'GTG', 'TGC', 'GCT', 'CTG', 'TGC', 'GCC', 'CCG', 'CGG', 'GGG', 'GGG', 'GGA', 'GAG', 'AGC', 'GCT', 'CTA', 'TAG', 'AGC', 'GCT', 'CTG', 'TGG', 'GGC', 'GCC', 'CCA', 'CAG', 'AGC', 'GCT', 'CTC', 'TCC', 'CCA', 'CAG', 'AGG', 'GGC', 'GCC', 'CCT', 'CTG', 'TGA', 'GAA', 'AAG', 'AGA', 'GAC', 'ACC', 'CCC', 'CCC', 'CCC', 'CCG', 'CGC', 'GCT', 'CTT', 'TTC', 'TCC', 'CCT', 'CTC', 'TCA', 'CAC', 'ACC', 'CCG', 'CGG', 'GGA', 'GAA', 'AAG', 'AGA', 'GAC', 'ACG', 'CGC', 'GCG', 'CGT', 'GTC', 'TCC', 'CCA', 'CAG', 'AGC', 'GCC', 'CCC', 'CCA', 'CAC', 'ACA', 'CAG', 'AGG', 'GGC', 'GCT', 'CTG', 'TGC', 'GCT', 'CTT', 'TTG', 'TGA', 'GAA', 'AAC', 'ACA', 'CAG', 'AGG', 'GGA', 'GAT', 'ATG', 'TGC', 'GCG', 'CGT', 'GTG', 'TGG', 'GGC', 'GCC', 'CCC', 'CCC', 'CCA', 'CAC', 'ACA', 'CAC', 'ACC', 'CCG', 'CGA', 'GAT', 'ATG', 'TGC', 'GCA', 'CAG', 'AGC', 'GCA', 'CAA', 'AAA', 'AAC', 'ACC', 'CCG', 'CGG', 'GGA', 'GAG', 'AGC', 'GCC', 'CCG', 'CGC', 'GCA', 'CAG', 'AGG', 'GGG', 'GGT', 'GTG', 'TGC', 'GCG', 'CGC', 'GCG', 'CGC', 'GCG', 'CGC', 'GCA', 'CAG', 'AGG', 'GGC', 'GCG', 'CGC', 'GCG', 'CGC', 'GCG', 'CGC', 'GCC', 'CCC', 'CCA', 'CAT', 'ATT', 'TTC', 'TCC', 'CCA', 'CAC', 'ACT', 'CTA', 'TAG', 'AGC', 'GCG', 'CGT', 'GTC', 'TCC', 'CCA', 'CAA', 'AAC', 'ACC', 'CCT', 'CTT', 'TTC', 'TCA', 'CAG', 'AGG', 'GGG', 'GGC', 'GCT', 'CTT', 'TTG', 'TGG', 'GGC', 'GCC', 'CCA', 'CAG'], ['CGG', 'GGC', 'GCC', 'CCG', 'CGC', 'GCC', 'CCC', 'CCA', 'CAT', 'ATT', 'TTC', 'TCG', 'CGC', 'GCC', 'CCT', 'CTG', 'TGA', 'GAG', 'AGG', 'GGA', 'GAG', 'AGG', 'GGC', 'GCA', 'CAC', 'ACC', 'CCG', 'CGA', 'GAC', 'ACA', 'CAG', 'AGG', 'GGC', 'GCC', 'CCG', 'CGG', 'GGC', 'GCG', 'CGC', 'GCG', 'CGC', 'GCG', 'CGG', 'GGT', 'GTC', 'TCG', 'CGG', 'GGA', 'GAG', 'AGG', 'GGG', 'GGG', 'GGC', 'GCG', 'CGC', 'GCA', 'CAC', 'ACG', 'CGG', 'GGC', 'GCG', 'CGG', 'GGG', 'GGC', 'GCC', 'CCG', 'CGG', 'GGG', 'GGG', 'GGG', 'GGG', 'GGG', 'GGG', 'GGC', 'GCA', 'CAG', 'AGG', 'GGC', 'GCC', 'CCG', 'CGG', 'GGC', 'GCG', 'CGC', 'GCC', 'CCC', 'CCC', 'CCT', 'CTG', 'TGC', 'GCC', 'CCG', 'CGC', 'GCG', 'CGC', 'GCG', 'CGG', 'GGC', 'GCC', 'CCG', 'CGC', 'GCG', 'CGG', 'GGC', 'GCC', 'CCC', 'CCG', 'CGC', 'GCG', 'CGC', 'GCT', 'CTG', 'TGG', 'GGC', 'GCG', 'CGC', 'GCC', 'CCC', 'CCC', 'CCC', 'CCG', 'CGG', 'GGG', 'GGC', 'GCG', 'CGC', 'GCT', 'CTC', 'TCG', 'CGG', 'GGT', 'GTG', 'TGG', 'GGC', 'GCC', 'CCC', 'CCA', 'CAG', 'AGT', 'GTC', 'TCG', 'CGC', 'GCG', 'CGG', 'GGG', 'GGC', 'GCA', 'CAG', 'AGC', 'GCG', 'CGG', 'GGC', 'GCG', 'CGC', 'GCC', 'CCG', 'CGC', 'GCC', 'CCG', 'CGA', 'GAG', 'AGC', 'GCG', 'CGG', 'GGC', 'GCC', 'CCG', 'CGC', 'GCT', 'CTC', 'TCC', 'CCT', 'CTC', 'TCG', 'CGC', 'GCG', 'CGC', 'GCG', 'CGC', 'GCG', 'CGC', 'GCC', 'CCA', 'CAG', 'AGC', 'GCC', 'CCC', 'CCG', 'CGC', 'GCT', 'CTG', 'TGT', 'GTG', 'TGC', 'GCG', 'CGG', 'GGG', 'GGC', 'GCG', 'CGC', 'GCG', 'CGC', 'GCG', 'CGC', 'GCC', 'CCG', 'CGG', 'GGC', 'GCG', 'CGC', 'GCG', 'CGG', 'GGT', 'GTG', 'TGC', 'GCC', 'CCC', 'CCG', 'CGG', 'GGC', 'GCG', 'CGC', 'GCG', 'CGG', 'GGC', 'GCG', 'CGG', 'GGC', 'GCC', 'CCA', 'CAG', 'AGG', 'GGC', 'GCG', 'CGG', 'GGC', 'GCG', 'CGC', 'GCC', 'CCG', 'CGG', 'GGC', 'GCG', 'CGG', 'GGC', 'GCG', 'CGC', 'GCG', 'CGG', 'GGC', 'GCC', 'CCA', 'CAG', 'AGC', 'GCG', 'CGC', 'GCG', 'CGC', 'GCA', 'CAG', 'AGG', 'GGG', 'GGG', 'GGG', 'GGC', 'GCG', 'CGC', 'GCG', 'CGC', 'GCT', 'CTG', 'TGA', 'GAC', 'ACG', 'CGC', 'GCT', 'CTC', 'TCG', 'CGA', 'GAG', 'AGC', 'GCC', 'CCC', 'CCC', 'CCC', 'CCG', 'CGC', 'GCG', 'CGG', 'GGG', 'GGC', 'GCG', 'CGG', 'GGA', 'GAC', 'ACC', 'CCG', 'CGG', 'GGG', 'GGG', 'GGG', 'GGC', 'GCA', 'CAG', 'AGG', 'GGA', 'GAA', 'AAG', 'AGG', 'GGG', 'GGG', 'GGC', 'GCG', 'CGC', 'GCG', 'CGG', 'GGC', 'GCG', 'CGA', 'GAG', 'AGG', 'GGG', 'GGG', 'GGT', 'GTC', 'TCA', 'CAC', 'ACG', 'CGG', 'GGC', 'GCG', 'CGG', 'GGG', 'GGT', 'GTA', 'TAC', 'ACC', 'CCC', 'CCG', 'CGC', 'GCA', 'CAG', 'AGC', 'GCT', 'CTG', 'TGC', 'GCC', 'CCG', 'CGA', 'GAC', 'ACG', 'CGA', 'GAC', 'ACG', 'CGG', 'GGC', 'GCC', 'CCG', 'CGC', 'GCG', 'CGC', 'GCT', 'CTC', 'TCA', 'CAC', 'ACG', 'CGC', 'GCG', 'CGG', 'GGG', 'GGC', 'GCC', 'CCG', 'CGA', 'GAC', 'ACC', 'CCG', 'CGC', 'GCC', 'CCG', 'CGT', 'GTG', 'TGG', 'GGG', 'GGG', 'GGC', 'GCG', 'CGC', 'GCG', 'CGC', 'GCA', 'CAT', 'ATC', 'TCG', 'CGG', 'GGC', 'GCT', 'CTG', 'TGC', 'GCC', 'CCG', 'CGG', 'GGC', 'GCC', 'CCG', 'CGC', 'GCG', 'CGG', 'GGT', 'GTG', 'TGC', 'GCC', 'CCG', 'CGA', 'GAG', 'AGG', 'GGC', 'GCA', 'CAC', 'ACG', 'CGT', 'GTC', 'TCG', 'CGC', 'GCG', 'CGG', 'GGC', 'GCG', 'CGC', 'GCG', 'CGC', 'GCT', 'CTG', 'TGA', 'GAC', 'ACA', 'CAC', 'ACG', 'CGC', 'GCC', 'CCC', 'CCC', 'CCG', 'CGC', 'GCG', 'CGG', 'GGA', 'GAG', 'AGG', 'GGC', 'GCG', 'CGC', 'GCC', 'CCC', 'CCG', 'CGC', 'GCG', 'CGC', 'GCC', 'CCA', 'CAT', 'ATG', 'TGG', 'GGC', 'GCG', 'CGG', 'GGT', 'GTC', 'TCG', 'CGC', 'GCC', 'CCC', 'CCA', 'CAT', 'ATC', 'TCG', 'CGG', 'GGC', 'GCG', 'CGC', 'GCG', 'CGC', 'GCC', 'CCG', 'CGC', 'GCT', 'CTC', 'TCG', 'CGC', 'GCC', 'CCT', 'CTG', 'TGC', 'GCG', 'CGC', 'GCG', 'CGG', 'GGG', 'GGG', 'GGG', 'GGG', 'GGC', 'GCC', 'CCA', 'CAG', 'AGA', 'GAC', 'ACG', 'CGC', 'GCC', 'CCG', 'CGC', 'GCC', 'CCT', 'CTT', 'TTG', 'TGC', 'GCG', 'CGG', 'GGA', 'GAC', 'ACG', 'CGG', 'GGG', 'GGG', 'GGG', 'GGG', 'GGG', 'GGC', 'GCG', 'CGG', 'GGG', 'GGG', 'GGC', 'GCC', 'CCG', 'CGG', 'GGT', 'GTC', 'TCG', 'CGC', 'GCG', 'CGG', 'GGG', 'GGG', 'GGA', 'GAC', 'ACG', 'CGC', 'GCG', 'CGG', 'GGC', 'GCA', 'CAC', 'ACG', 'CGC', 'GCC', 'CCG', 'CGG', 'GGC', 'GCG', 'CGC', 'GCG', 'CGG', 'GGC', 'GCC', 'CCG', 'CGC', 'GCC', 'CCG', 'CGT', 'GTT', 'TTC', 'TCC', 'CCA', 'CAG', 'AGG', 'GGC', 'GCA', 'CAG', 'AGC', 'GCC', 'CCG', 'CGC', 'GCG', 'CGA', 'GAT', 'ATG', 'TGC', 'GCG', 'CGC', 'GCC', 'CCA', 'CAG', 'AGT', 'GTC', 'TCG', 'CGC', 'GCC', 'CCG', 'CGC', 'GCA', 'CAG', 'AGG', 'GGG', 'GGC', 'GCC', 'CCG', 'CGC', 'GCC', 'CCC', 'CCG', 'CGC', 'GCC', 'CCG', 'CGC', 'GCC', 'CCG', 'CGA', 'GAG', 'AGC', 'GCA', 'CAC', 'ACC', 'CCT', 'CTG', 'TGG', 'GGC', 'GCG', 'CGA', 'GAG', 'AGC', 'GCC', 'CCC', 'CCA', 'CAG', 'AGC', 'GCG', 'CGG', 'GGC', 'GCA', 'CAC', 'ACG', 'CGG', 'GGG', 'GGG', 'GGG', 'GGC', 'GCG', 'CGG', 'GGG', 'GGA', 'GAC', 'ACG', 'CGG', 'GGT', 'GTT', 'TTT', 'TTG', 'TGG', 'GGG', 'GGA', 'GAC', 'ACT', 'CTC', 'TCG', 'CGG', 'GGC', 'GCG', 'CGA', 'GAC', 'ACG', 'CGC', 'GCC', 'CCG', 'CGC', 'GCA', 'CAC', 'ACC', 'CCG', 'CGG', 'GGC', 'GCG', 'CGC', 'GCC', 'CCC', 'CCA', 'CAG', 'AGG', 'GGG', 'GGG', 'GGC', 'GCA', 'CAG', 'AGA', 'GAG', 'AGA', 'GAG', 'AGC', 'GCG', 'CGG', 'GGC', 'GCC', 'CCG', 'CGC', 'GCC', 'CCA', 'CAG', 'AGC', 'GCG', 'CGG', 'GGG', 'GGG', 'GGC', 'GCG', 'CGC', 'GCA', 'CAT', 'ATG', 'TGG', 'GGC', 'GCG', 'CGG', 'GGC', 'GCC', 'CCC', 'CCC', 'CCT', 'CTG', 'TGG', 'GGG', 'GGC', 'GCG', 'CGA', 'GAG', 'AGG', 'GGG', 'GGC', 'GCG', 'CGG', 'GGG', 'GGC', 'GCA', 'CAG', 'AGG', 'GGA', 'GAG', 'AGG', 'GGG', 'GGG', 'GGG', 'GGC', 'GCC', 'CCT', 'CTC', 'TCG', 'CGG', 'GGA', 'GAC', 'ACC', 'CCC', 'CCT', 'CTC', 'TCA', 'CAG', 'AGG', 'GGA', 'GAG', 'AGA', 'GAA', 'AAC', 'ACG', 'CGG', 'GGG', 'GGG', 'GGC', 'GCC', 'CCA', 'CAT', 'ATC', 'TCG', 'CGC', 'GCG', 'CGA', 'GAC', 'ACT', 'CTG', 'TGA', 'GAC', 'ACC', 'CCC', 'CCG', 'CGC', 'GCG', 'CGG', 'GGC', 'GCG', 'CGG', 'GGC', 'GCC', 'CCC', 'CCT', 'CTG', 'TGG', 'GGG', 'GGC', 'GCG', 'CGA', 'GAG', 'AGG', 'GGG', 'GGC', 'GCG', 'CGA', 'GAA', 'AAT', 'ATG', 'TGA', 'GAG', 'AGG', 'GGT', 'GTC', 'TCC', 'CCG', 'CGG', 'GGG', 'GGG', 'GGT', 'GTA', 'TAG', 'AGG', 'GGC', 'GCC', 'CCC', 'CCC', 'CCC', 'CCT', 'CTT', 'TTA', 'TAC', 'ACG', 'CGC', 'GCG', 'CGC', 'GCG', 'CGC', 'GCC', 'CCC', 'CCC', 'CCC', 'CCG', 'CGG', 'GGG', 'GGC', 'GCG', 'CGC', 'GCG', 'CGC', 'GCT', 'CTG', 'TGG', 'GGA', 'GAA', 'AAG', 'AGC', 'GCC', 'CCG', 'CGC', 'GCC', 'CCG', 'CGA', 'GAG', 'AGG', 'GGG', 'GGG', 'GGC', 'GCG', 'CGG', 'GGG', 'GGC', 'GCC', 'CCG', 'CGG', 'GGG', 'GGG', 'GGC', 'GCG', 'CGC', 'GCG', 'CGG', 'GGG', 'GGC', 'GCG', 'CGG', 'GGC', 'GCC', 'CCG', 'CGC', 'GCA', 'CAG', 'AGG', 'GGG', 'GGG', 'GGC', 'GCA', 'CAG', 'AGT', 'GTC', 'TCC', 'CCG', 'CGC', 'GCG', 'CGG', 'GGA', 'GAG', 'AGA', 'GAT', 'ATC', 'TCT', 'CTG', 'TGG', 'GGC', 'GCG', 'CGG', 'GGT', 'GTC', 'TCG', 'CGC', 'GCG', 'CGC', 'GCC', 'CCG', 'CGG', 'GGC', 'GCC', 'CCG', 'CGA', 'GAG', 'AGG', 'GGC', 'GCA', 'CAG', 'AGC', 'GCG', 'CGC', 'GCG', 'CGG', 'GGT', 'GTG', 'TGC', 'GCC', 'CCG', 'CGG', 'GGC', 'GCA', 'CAG', 'AGG', 'GGC', 'GCG', 'CGC', 'GCG', 'CGC', 'GCG', 'CGG', 'GGG', 'GGC', 'GCG', 'CGC', 'GCC', 'CCG', 'CGC', 'GCG', 'CGC', 'GCG', 'CGC', 'GCG', 'CGC', 'GCG', 'CGG', 'GGG', 'GGC', 'GCC', 'CCG', 'CGC', 'GCG', 'CGC', 'GCC', 'CCG', 'CGC', 'GCG', 'CGG', 'GGC', 'GCG', 'CGC', 'GCC', 'CCG', 'CGC'], ['GGT', 'GTG', 'TGG', 'GGA', 'GAT', 'ATG', 'TGC', 'GCC', 'CCG', 'CGG', 'GGC', 'GCG', 'CGG', 'GGC', 'GCC', 'CCT', 'CTG', 'TGG', 'GGG', 'GGC', 'GCG', 'CGC', 'GCG', 'CGT', 'GTT', 'TTA', 'TAA', 'AAG', 'AGG', 'GGG', 'GGT', 'GTG', 'TGC', 'GCC', 'CCG', 'CGC', 'GCC', 'CCC', 'CCC', 'CCA', 'CAC', 'ACT', 'CTA', 'TAC', 'ACC', 'CCC', 'CCT', 'CTG', 'TGG', 'GGA', 'GAC', 'ACT', 'CTT', 'TTG', 'TGG', 'GGG', 'GGC', 'GCC', 'CCA', 'CAA', 'AAG', 'AGA', 'GAC', 'ACC', 'CCG', 'CGG', 'GGT', 'GTT', 'TTA', 'TAG', 'AGG', 'GGC', 'GCA', 'CAC', 'ACG', 'CGG', 'GGA', 'GAC', 'ACC', 'CCT', 'CTC', 'TCG', 'CGG', 'GGG', 'GGG', 'GGA', 'GAC', 'ACC', 'CCC', 'CCA', 'CAC', 'ACT', 'CTT', 'TTC', 'TCT', 'CTG', 'TGT', 'GTC', 'TCG', 'CGG', 'GGG', 'GGT', 'GTG', 'TGA', 'GAG', 'AGT', 'GTG', 'TGG', 'GGC', 'GCG', 'CGA', 'GAC', 'ACT', 'CTG', 'TGA', 'GAC', 'ACT', 'CTG', 'TGG', 'GGC', 'GCC', 'CCG', 'CGC', 'GCC', 'CCC', 'CCT', 'CTC', 'TCC', 'CCC', 'CCG', 'CGC', 'GCT', 'CTA', 'TAG', 'AGT', 'GTG', 'TGG', 'GGA', 'GAC', 'ACG', 'CGT', 'GTG', 'TGA', 'GAG', 'AGC', 'GCG', 'CGG', 'GGG', 'GGT', 'GTG', 'TGG', 'GGC', 'GCC', 'CCT', 'CTC', 'TCA', 'CAC', 'ACT', 'CTA', 'TAA', 'AAT', 'ATG', 'TGG', 'GGC', 'GCC', 'CCG', 'CGT', 'GTC', 'TCG', 'CGG', 'GGT', 'GTG', 'TGC', 'GCT', 'CTA', 'TAA', 'AAG', 'AGG', 'GGG', 'GGC', 'GCC', 'CCG', 'CGC', 'GCC', 'CCC', 'CCG', 'CGT', 'GTT', 'TTC', 'TCA', 'CAC', 'ACG', 'CGT', 'GTG', 'TGA', 'GAG', 'AGC', 'GCA', 'CAG', 'AGT', 'GTG', 'TGA', 'GAG', 'AGA', 'GAC', 'ACA', 'CAC', 'ACG', 'CGG', 'GGC', 'GCG', 'CGC', 'GCT', 'CTC', 'TCA', 'CAC', 'ACT', 'CTG', 'TGG', 'GGG', 'GGA', 'GAC', 'ACC', 'CCA', 'CAG', 'AGT', 'GTC', 'TCG', 'CGA', 'GAA', 'AAG', 'AGC', 'GCG', 'CGA', 'GAG', 'AGA', 'GAT', 'ATG', 'TGG', 'GGC', 'GCT', 'CTC', 'TCT', 'CTA', 'TAC', 'ACG', 'CGC', 'GCC', 'CCC', 'CCT', 'CTC', 'TCG', 'CGG', 'GGG', 'GGT', 'GTC', 'TCA', 'CAA', 'AAC', 'ACC', 'CCG', 'CGA', 'GAT', 'ATG', 'TGC', 'GCT', 'CTG', 'TGC', 'GCC', 'CCC', 'CCG', 'CGT', 'GTA', 'TAG', 'AGG', 'GGG', 'GGG', 'GGT', 'GTG', 'TGC', 'GCC', 'CCC', 'CCG', 'CGG', 'GGA', 'GAC', 'ACT', 'CTG', 'TGC', 'GCG', 'CGT', 'GTT', 'TTT', 'TTG', 'TGG', 'GGG', 'GGT', 'GTT', 'TTG', 'TGC', 'GCT', 'CTC', 'TCT', 'CTG', 'TGA', 'GAC', 'ACC', 'CCG', 'CGG', 'GGA', 'GAG', 'AGA', 'GAG', 'AGC', 'GCG', 'CGC', 'GCG', 'CGC', 'GCA', 'CAT', 'ATC', 'TCC', 'CCG', 'CGG', 'GGT', 'GTG', 'TGT', 'GTG', 'TGT', 'GTG', 'TGA', 'GAG', 'AGC', 'GCC', 'CCA', 'CAA', 'AAA', 'AAG', 'AGG', 'GGC', 'GCT', 'CTT', 'TTC', 'TCT', 'CTG', 'TGC', 'GCC', 'CCC', 'CCA', 'CAG', 'AGC', 'GCC', 'CCG', 'CGG', 'GGT', 'GTC', 'TCA', 'CAC', 'ACC', 'CCT', 'CTG', 'TGG', 'GGG', 'GGT', 'GTG', 'TGG', 'GGC', 'GCG', 'CGG', 'GGG', 'GGG', 'GGC', 'GCG', 'CGG', 'GGT', 'GTA', 'TAG', 'AGA', 'GAT', 'ATG', 'TGG', 'GGG', 'GGC', 'GCT', 'CTG', 'TGG', 'GGC', 'GCT', 'CTA', 'TAG', 'AGG', 'GGC', 'GCG', 'CGC', 'GCC', 'CCA', 'CAT', 'ATG', 'TGG', 'GGC', 'GCT', 'CTC', 'TCA', 'CAG', 'AGG', 'GGT', 'GTC', 'TCC', 'CCA', 'CAG', 'AGG', 'GGC', 'GCG', 'CGG', 'GGC', 'GCT', 'CTG', 'TGG', 'GGG', 'GGC', 'GCT', 'CTC', 'TCA', 'CAC', 'ACG', 'CGT', 'GTA', 'TAG', 'AGC', 'GCG', 'CGG', 'GGT', 'GTG', 'TGA', 'GAT', 'ATG', 'TGG', 'GGG', 'GGC', 'GCC', 'CCT', 'CTT', 'TTA', 'TAG', 'AGG', 'GGC', 'GCG', 'CGG', 'GGA', 'GAG', 'AGT', 'GTG', 'TGG', 'GGC', 'GCC', 'CCA', 'CAC', 'ACC', 'CCG', 'CGA', 'GAC', 'ACT', 'CTG', 'TGC', 'GCG', 'CGC', 'GCG', 'CGC', 'GCC', 'CCG', 'CGT', 'GTC', 'TCT', 'CTT', 'TTA', 'TAG', 'AGA', 'GAC', 'ACG', 'CGC', 'GCT', 'CTG', 'TGG', 'GGA', 'GAC', 'ACA', 'CAG', 'AGC', 'GCT', 'CTT', 'TTG', 'TGT', 'GTC', 'TCA', 'CAC', 'ACC', 'CCG', 'CGT', 'GTA', 'TAA', 'AAG', 'AGC', 'GCG', 'CGG', 'GGG', 'GGT', 'GTA', 'TAG', 'AGT', 'GTG', 'TGT', 'GTG', 'TGG', 'GGT', 'GTC', 'TCT', 'CTT', 'TTC', 'TCA', 'CAG', 'AGG', 'GGG', 'GGG', 'GGA', 'GAC', 'ACA', 'CAT', 'ATT', 'TTT', 'TTC', 'TCG', 'CGT', 'GTA', 'TAA', 'AAA', 'AAG', 'AGG', 'GGC', 'GCC', 'CCT', 'CTG', 'TGA', 'GAG', 'AGT', 'GTC', 'TCT', 'CTT', 'TTC', 'TCG', 'CGA', 'GAG', 'AGC', 'GCG', 'CGC', 'GCA', 'CAT', 'ATA', 'TAG', 'AGG', 'GGA', 'GAC', 'ACA', 'CAT', 'ATG', 'TGA', 'GAG', 'AGC', 'GCG', 'CGG', 'GGC', 'GCC', 'CCG', 'CGC', 'GCG', 'CGC', 'GCT', 'CTC', 'TCA', 'CAC', 'ACT', 'CTG', 'TGG', 'GGC', 'GCG', 'CGC', 'GCC', 'CCC', 'CCT', 'CTC', 'TCC', 'CCC', 'CCC', 'CCG', 'CGT', 'GTG', 'TGC', 'GCC', 'CCC', 'CCG', 'CGT', 'GTG', 'TGG', 'GGG', 'GGA', 'GAC', 'ACC', 'CCG', 'CGG', 'GGC', 'GCG', 'CGG', 'GGA', 'GAG', 'AGT', 'GTT', 'TTA', 'TAT', 'ATC', 'TCA', 'CAG', 'AGA', 'GAG', 'AGT', 'GTT', 'TTG', 'TGG', 'GGC', 'GCT', 'CTC', 'TCT', 'CTC', 'TCG', 'CGC', 'GCG', 'CGA', 'GAA', 'AAG', 'AGT', 'GTC', 'TCT', 'CTG', 'TGG', 'GGC', 'GCA', 'CAG', 'AGA', 'GAG', 'AGG', 'GGG', 'GGA', 'GAG', 'AGT', 'GTT', 'TTG', 'TGT', 'GTG', 'TGC', 'GCA', 'CAC', 'ACA', 'CAG', 'AGG', 'GGG', 'GGG', 'GGG', 'GGA', 'GAC', 'ACT', 'CTC', 'TCG', 'CGT', 'GTG', 'TGT', 'GTG', 'TGT', 'GTA', 'TAT', 'ATT', 'TTT', 'TTG', 'TGG', 'GGC', 'GCG', 'CGC', 'GCG', 'CGT', 'GTG', 'TGC', 'GCC', 'CCC', 'CCG', 'CGC', 'GCG', 'CGT', 'GTG', 'TGT', 'GTG', 'TGA', 'GAG', 'AGG', 'GGG', 'GGC', 'GCA', 'CAG', 'AGC', 'GCC', 'CCA', 'CAG', 'AGC', 'GCG', 'CGG', 'GGA', 'GAG', 'AGG', 'GGG', 'GGC', 'GCC', 'CCC', 'CCC', 'CCG', 'CGC', 'GCG', 'CGG', 'GGT', 'GTG', 'TGG', 'GGG', 'GGT', 'GTG', 'TGC', 'GCA', 'CAG', 'AGA', 'GAG', 'AGG', 'GGG', 'GGC', 'GCC', 'CCG', 'CGG', 'GGG', 'GGG', 'GGT', 'GTT', 'TTA', 'TAC', 'ACC', 'CCG', 'CGA', 'GAG', 'AGG', 'GGT', 'GTG', 'TGG', 'GGA', 'GAG', 'AGG', 'GGC', 'GCC', 'CCT', 'CTA', 'TAG', 'AGA', 'GAC', 'ACG', 'CGA', 'GAC', 'ACG', 'CGG', 'GGT', 'GTG', 'TGG', 'GGG', 'GGC', 'GCA', 'CAG', 'AGG', 'GGC', 'GCA', 'CAA', 'AAT', 'ATG', 'TGA', 'GAC', 'ACA', 'CAG', 'AGG', 'GGA', 'GAC', 'ACA', 'CAG', 'AGA', 'GAT', 'ATG', 'TGT', 'GTG', 'TGG', 'GGA', 'GAC', 'ACT', 'CTT', 'TTC', 'TCT', 'CTG', 'TGC', 'GCG', 'CGT', 'GTG', 'TGA', 'GAA', 'AAT', 'ATC', 'TCG', 'CGG', 'GGC', 'GCC', 'CCT', 'CTG', 'TGA', 'GAG', 'AGT', 'GTC', 'TCC', 'CCA', 'CAT', 'ATC', 'TCT', 'CTG', 'TGC', 'GCG', 'CGG', 'GGC', 'GCG', 'CGG', 'GGC', 'GCC', 'CCG', 'CGG', 'GGT', 'GTG', 'TGG', 'GGA', 'GAG', 'AGC', 'GCA', 'CAG', 'AGG', 'GGA', 'GAA', 'AAG', 'AGA', 'GAG', 'AGG', 'GGC', 'GCC', 'CCG', 'CGG', 'GGA', 'GAA', 'AAG', 'AGG', 'GGA', 'GAA', 'AAA', 'AAC', 'ACT', 'CTC', 'TCT', 'CTT', 'TTC', 'TCA', 'CAT', 'ATG', 'TGA', 'GAG', 'AGA', 'GAC', 'ACG', 'CGA', 'GAG', 'AGA', 'GAG', 'AGG', 'GGC', 'GCA', 'CAG', 'AGC', 'GCT', 'CTG', 'TGT', 'GTC', 'TCA', 'CAA', 'AAG', 'AGC', 'GCC', 'CCG', 'CGC', 'GCG', 'CGC', 'GCC', 'CCG', 'CGG', 'GGC', 'GCC', 'CCG', 'CGG', 'GGG', 'GGG', 'GGC', 'GCG', 'CGA', 'GAC', 'ACC', 'CCA', 'CAA', 'AAC', 'ACA', 'CAA', 'AAA', 'AAC', 'ACA', 'CAA', 'AAG', 'AGC', 'GCG', 'CGC', 'GCT', 'CTT', 'TTG', 'TGT', 'GTC', 'TCA', 'CAG', 'AGC', 'GCG', 'CGG', 'GGA', 'GAT', 'ATG', 'TGC', 'GCT', 'CTC', 'TCG', 'CGC', 'GCT', 'CTG', 'TGC', 'GCC', 'CCC', 'CCG', 'CGC', 'GCC', 'CCT', 'CTC', 'TCG', 'CGA', 'GAC', 'ACG', 'CGT', 'GTG', 'TGC', 'GCG', 'CGA', 'GAG', 'AGC', 'GCG', 'CGC', 'GCG', 'CGA', 'GAC', 'ACT', 'CTG', 'TGC', 'GCC', 'CCC', 'CCA', 'CAC', 'ACG', 'CGG', 'GGA', 'GAG', 'AGG', 'GGG', 'GGG', 'GGA', 'GAG', 'AGG', 'GGC', 'GCG', 'CGC', 'GCC', 'CCC', 'CCC', 'CCC', 'CCA', 'CAG'], ['AAT', 'ATG', 'TGA', 'GAA', 'AAA', 'AAA', 'AAC', 'ACC', 'CCC', 'CCC', 'CCC', 'CCC', 'CCG', 'CGA', 'GAT', 'ATA', 'TAT', 'ATA', 'TAC', 'ACA', 'CAT', 'ATA', 'TAA', 'AAG', 'AGT', 'GTA', 'TAG', 'AGC', 'GCT', 'CTT', 'TTT', 'TTT', 'TTA', 'TAA', 'AAA', 'AAT', 'ATT', 'TTC', 'TCA', 'CAT', 'ATT', 'TTG', 'TGA', 'GAC', 'ACC', 'CCT', 'CTC', 'TCG', 'CGT', 'GTC', 'TCT', 'CTC', 'TCT', 'CTG', 'TGA', 'GAT', 'ATA', 'TAT', 'ATA', 'TAG', 'AGT', 'GTG', 'TGC', 'GCC', 'CCG', 'CGG', 'GGT', 'GTG', 'TGA', 'GAT', 'ATA', 'TAG', 'AGT', 'GTG', 'TGG', 'GGT', 'GTC', 'TCC', 'CCC', 'CCT', 'CTA', 'TAG', 'AGT', 'GTC', 'TCT', 'CTG', 'TGG', 'GGA', 'GAT', 'ATA', 'TAG', 'AGC', 'GCT', 'CTT', 'TTT', 'TTT', 'TTT', 'TTC', 'TCT', 'CTG', 'TGT', 'GTG', 'TGG', 'GGT', 'GTA', 'TAG', 'AGC', 'GCG', 'CGG', 'GGG', 'GGA', 'GAA', 'AAG', 'AGG', 'GGA', 'GAG', 'AGA', 'GAG', 'AGA', 'GAC', 'ACC', 'CCA', 'CAC', 'ACT', 'CTG', 'TGC', 'GCG', 'CGA', 'GAA', 'AAG', 'AGT', 'GTG', 'TGA', 'GAG', 'AGG', 'GGT', 'GTT', 'TTG', 'TGC', 'GCT', 'CTT', 'TTC', 'TCG', 'CGG', 'GGA', 'GAT', 'ATA', 'TAA', 'AAA', 'AAG', 'AGA', 'GAC', 'ACT', 'CTA', 'TAC', 'ACT', 'CTA', 'TAC', 'ACC', 'CCT', 'CTG', 'TGA', 'GAT', 'ATT', 'TTA', 'TAG', 'AGG', 'GGG', 'GGT', 'GTT', 'TTC', 'TCA', 'CAG', 'AGA', 'GAA', 'AAT', 'ATC', 'TCA', 'CAC', 'ACT', 'CTA', 'TAG', 'AGG', 'GGC', 'GCG', 'CGG', 'GGT', 'GTT', 'TTT', 'TTC', 'TCG', 'CGA', 'GAC', 'ACT', 'CTT', 'TTG', 'TGC', 'GCA', 'CAC', 'ACC', 'CCG', 'CGA', 'GAG', 'AGT', 'GTG', 'TGC', 'GCT', 'CTC', 'TCC', 'CCA', 'CAG', 'AGT', 'GTA', 'TAG', 'AGC', 'GCT', 'CTG', 'TGT', 'GTA', 'TAG', 'AGC', 'GCC', 'CCG', 'CGC', 'GCC', 'CCT', 'CTC', 'TCC', 'CCC', 'CCT', 'CTG', 'TGA', 'GAG', 'AGA', 'GAG', 'AGA', 'GAT', 'ATG', 'TGC', 'GCA', 'CAG', 'AGT', 'GTT', 'TTC', 'TCA', 'CAA', 'AAA', 'AAA', 'AAT', 'ATG', 'TGA', 'GAA', 'AAG', 'AGA', 'GAA', 'AAG', 'AGG', 'GGT', 'GTT', 'TTC', 'TCT', 'CTT', 'TTT', 'TTT', 'TTG', 'TGG', 'GGG', 'GGT', 'GTG', 'TGT', 'GTA', 'TAG', 'AGG', 'GGA', 'GAA', 'AAC', 'ACT', 'CTA', 'TAA', 'AAG', 'AGA', 'GAG', 'AGG', 'GGC', 'GCG', 'CGG', 'GGG', 'GGA', 'GAA', 'AAT', 'ATT', 'TTG', 'TGC', 'GCT', 'CTC', 'TCT', 'CTT', 'TTA', 'TAT', 'ATG', 'TGC', 'GCT', 'CTA', 'TAC', 'ACC', 'CCA', 'CAG', 'AGA', 'GAG', 'AGC', 'GCG', 'CGA', 'GAG', 'AGT', 'GTA', 'TAA', 'AAT', 'ATC', 'TCG', 'CGG', 'GGA', 'GAC', 'ACT', 'CTA', 'TAC', 'ACT', 'CTA', 'TAG', 'AGC', 'GCG', 'CGC', 'GCT', 'CTT', 'TTG', 'TGT', 'GTT', 'TTC', 'TCC', 'CCA', 'CAA', 'AAC', 'ACA', 'CAG', 'AGG', 'GGT', 'GTA', 'TAC', 'ACA', 'CAC', 'ACA', 'CAG', 'AGG', 'GGA', 'GAG', 'AGG', 'GGT', 'GTT', 'TTG', 'TGG', 'GGT', 'GTA', 'TAA', 'AAC', 'ACC', 'CCT', 'CTC', 'TCC', 'CCG', 'CGA', 'GAT', 'ATT', 'TTA', 'TAC', 'ACT', 'CTG', 'TGA', 'GAC', 'ACC', 'CCA', 'CAT', 'ATT', 'TTA', 'TAC', 'ACA', 'CAA', 'AAA', 'AAA', 'AAT', 'ATT', 'TTG', 'TGT', 'GTT', 'TTA', 'TAT', 'ATC', 'TCA', 'CAG', 'AGA', 'GAA', 'AAG', 'AGA', 'GAT', 'ATA', 'TAA', 'AAA', 'AAC', 'ACG', 'CGA', 'GAA', 'AAT', 'ATG', 'TGT', 'GTC', 'TCT', 'CTA', 'TAA', 'AAT', 'ATC', 'TCC', 'CCA', 'CAC', 'ACC', 'CCT', 'CTT', 'TTT', 'TTC', 'TCC', 'CCA', 'CAA', 'AAG', 'AGG', 'GGG', 'GGC', 'GCG', 'CGA', 'GAC', 'ACG', 'CGG', 'GGT', 'GTA', 'TAA', 'AAG', 'AGC', 'GCC', 'CCC', 'CCA', 'CAA', 'AAG', 'AGA', 'GAC', 'ACG', 'CGG', 'GGA', 'GAT', 'ATC', 'TCA', 'CAT', 'ATC', 'TCT', 'CTA', 'TAT', 'ATA', 'TAA', 'AAG', 'AGG', 'GGC', 'GCT', 'CTC', 'TCG', 'CGT', 'GTT', 'TTA', 'TAC', 'ACA', 'CAG', 'AGA', 'GAT', 'ATA', 'TAG', 'AGT', 'GTG', 'TGC', 'GCA', 'CAA', 'AAG', 'AGC', 'GCG', 'CGA', 'GAG', 'AGA', 'GAC', 'ACC', 'CCG', 'CGG', 'GGC', 'GCA', 'CAC', 'ACT', 'CTA', 'TAT', 'ATG', 'TGA', 'GAC', 'ACC', 'CCA', 'CAG', 'AGG', 'GGT', 'GTT', 'TTC', 'TCG', 'CGG', 'GGG', 'GGC', 'GCA', 'CAC', 'ACG', 'CGG', 'GGA', 'GAA', 'AAA', 'AAC', 'ACA', 'CAC', 'ACC', 'CCT', 'CTG', 'TGA', 'GAG', 'AGC', 'GCA', 'CAC', 'ACC', 'CCG', 'CGT', 'GTT', 'TTT', 'TTC', 'TCA', 'CAC', 'ACC', 'CCA', 'CAA', 'AAG', 'AGG', 'GGC', 'GCC', 'CCC', 'CCC', 'CCC', 'CCT', 'CTC', 'TCT', 'CTC', 'TCA', 'CAG', 'AGT', 'GTA', 'TAG', 'AGG', 'GGC', 'GCA', 'CAA', 'AAA', 'AAA', 'AAT', 'ATC', 'TCC', 'CCG', 'CGT', 'GTA', 'TAC', 'ACC', 'CCA', 'CAG', 'AGA', 'GAC', 'ACA', 'CAT', 'ATC', 'TCC', 'CCG', 'CGG', 'GGG', 'GGT', 'GTC', 'TCG', 'CGT', 'GTT', 'TTT', 'TTT', 'TTA', 'TAC', 'ACC', 'CCG', 'CGA', 'GAA', 'AAT', 'ATA', 'TAA', 'AAG', 'AGT', 'GTT', 'TTA', 'TAT', 'ATC', 'TCT', 'CTC', 'TCG', 'CGA', 'GAT', 'ATG', 'TGT', 'GTC', 'TCG', 'CGA', 'GAC', 'ACA', 'CAA', 'AAC', 'ACA', 'CAA', 'AAG', 'AGA', 'GAC', 'ACC', 'CCA', 'CAA', 'AAT', 'ATC', 'TCC', 'CCA', 'CAC', 'ACT', 'CTG', 'TGA', 'GAG', 'AGA', 'GAT', 'ATA', 'TAA', 'AAA', 'AAG', 'AGT', 'GTT', 'TTT', 'TTG', 'TGT', 'GTT', 'TTA', 'TAT', 'ATA', 'TAG', 'AGG', 'GGG', 'GGG', 'GGA', 'GAG', 'AGA', 'GAT', 'ATT', 'TTC', 'TCC', 'CCT', 'CTA', 'TAA', 'AAG', 'AGA', 'GAT', 'ATG', 'TGC', 'GCG', 'CGT', 'GTG', 'TGT', 'GTG', 'TGG', 'GGG', 'GGG', 'GGA', 'GAT', 'ATA', 'TAA', 'AAT', 'ATC', 'TCA', 'CAT', 'ATC', 'TCT', 'CTT', 'TTG', 'TGT', 'GTG', 'TGA', 'GAA', 'AAA', 'AAG', 'AGA', 'GAC', 'ACT', 'CTT', 'TTA', 'TAA', 'AAT', 'ATA', 'TAG', 'AGA', 'GAA', 'AAT', 'ATT', 'TTA', 'TAG', 'AGG', 'GGA', 'GAG', 'AGC', 'GCT', 'CTG', 'TGT', 'GTA', 'TAG', 'AGG', 'GGT', 'GTG', 'TGG', 'GGT', 'GTT', 'TTA', 'TAC', 'ACA', 'CAC', 'ACC', 'CCT', 'CTC', 'TCA', 'CAA', 'AAT', 'ATA', 'TAA', 'AAC', 'ACA', 'CAG', 'AGT', 'GTA', 'TAA', 'AAT', 'ATC', 'TCC', 'CCT', 'CTG', 'TGC', 'GCA', 'CAG', 'AGC', 'GCT', 'CTC', 'TCG', 'CGC', 'GCC', 'CCG', 'CGA', 'GAA', 'AAA', 'AAG', 'AGT', 'GTT', 'TTA', 'TAT', 'ATA', 'TAT', 'ATG', 'TGT', 'GTT', 'TTT', 'TTC', 'TCC', 'CCA', 'CAT', 'ATA', 'TAG', 'AGA', 'GAT', 'ATA', 'TAG', 'AGT', 'GTA', 'TAA', 'AAT', 'ATG', 'TGG', 'GGG', 'GGC', 'GCC', 'CCA', 'CAT', 'ATA', 'TAC', 'ACC', 'CCA', 'CAA', 'AAA', 'AAG', 'AGT', 'GTT', 'TTA', 'TAG', 'AGG', 'GGA', 'GAC', 'ACA', 'CAG', 'AGT', 'GTG', 'TGC', 'GCC', 'CCT', 'CTA', 'TAC', 'ACT', 'CTG', 'TGC', 'GCG', 'CGT', 'GTG', 'TGG', 'GGG', 'GGC', 'GCA', 'CAA', 'AAG', 'AGT', 'GTC', 'TCG', 'CGC', 'GCC', 'CCA', 'CAT', 'ATC', 'TCC', 'CCT', 'CTG', 'TGT', 'GTG', 'TGA', 'GAT', 'ATC', 'TCT', 'CTG', 'TGC', 'GCC', 'CCG', 'CGA', 'GAC', 'ACA', 'CAA', 'AAG', 'AGG', 'GGG', 'GGT', 'GTT', 'TTG', 'TGC', 'GCC', 'CCA', 'CAA', 'AAA', 'AAT', 'ATG', 'TGC', 'GCA', 'CAG', 'AGA', 'GAT', 'ATT', 'TTT', 'TTG', 'TGA', 'GAT', 'ATA', 'TAA', 'AAC', 'ACC', 'CCG', 'CGA', 'GAC', 'ACA', 'CAG', 'AGC', 'GCT', 'CTA', 'TAT', 'ATG', 'TGA', 'GAT', 'ATC', 'TCA', 'CAA', 'AAT', 'ATG', 'TGC', 'GCA', 'CAG', 'AGA', 'GAG', 'AGA', 'GAA', 'AAC', 'ACG', 'CGC', 'GCA', 'CAT', 'ATC', 'TCT', 'CTC', 'TCC', 'CCC', 'CCG', 'CGA', 'GAA', 'AAA', 'AAG', 'AGA', 'GAA', 'AAA', 'AAA', 'AAG', 'AGC', 'GCA', 'CAA', 'AAT', 'ATC', 'TCT', 'CTC', 'TCT', 'CTC', 'TCT', 'CTA', 'TAA', 'AAT', 'ATG', 'TGA', 'GAA', 'AAA', 'AAT', 'ATT', 'TTA', 'TAA', 'AAA', 'AAG', 'AGG', 'GGC', 'GCC', 'CCT', 'CTT', 'TTA', 'TAC', 'ACT', 'CTT', 'TTG', 'TGC', 'GCC', 'CCG', 'CGG', 'GGG', 'GGA', 'GAG', 'AGA', 'GAC', 'ACC', 'CCT', 'CTG', 'TGA', 'GAA', 'AAT', 'ATA', 'TAC', 'ACG', 'CGA', 'GAC', 'ACA', 'CAT', 'ATT', 'TTG', 'TGA', 'GAT', 'ATG', 'TGA', 'GAT', 'ATG', 'TGA', 'GAT', 'ATT', 'TTA', 'TAA', 'AAC', 'ACG', 'CGT'], ['ATT', 'TTG', 'TGT', 'GTA', 'TAT', 'ATA', 'TAA', 'AAA', 'AAG', 'AGC', 'GCT', 'CTG', 'TGG', 'GGG', 'GGT', 'GTG', 'TGC', 'GCT', 'CTG', 'TGG', 'GGG', 'GGG', 'GGA', 'GAT', 'ATT', 'TTT', 'TTT', 'TTG', 'TGA', 'GAC', 'ACC', 'CCC', 'CCG', 'CGT', 'GTA', 'TAG', 'AGT', 'GTC', 'TCT', 'CTG', 'TGC', 'GCA', 'CAG', 'AGA', 'GAT', 'ATC', 'TCG', 'CGA', 'GAT', 'ATA', 'TAT', 'ATA', 'TAA', 'AAG', 'AGG', 'GGA', 'GAT', 'ATT', 'TTC', 'TCG', 'CGG', 'GGA', 'GAC', 'ACC', 'CCC', 'CCG', 'CGT', 'GTT', 'TTA', 'TAA', 'AAC', 'ACG', 'CGG', 'GGC', 'GCG', 'CGG', 'GGA', 'GAG', 'AGA', 'GAG', 'AGT', 'GTA', 'TAT', 'ATA', 'TAT', 'ATG', 'TGG', 'GGT', 'GTC', 'TCT', 'CTC', 'TCA', 'CAC', 'ACC', 'CCG', 'CGG', 'GGT', 'GTC', 'TCC', 'CCT', 'CTT', 'TTG', 'TGC', 'GCC', 'CCG', 'CGC', 'GCA', 'CAA', 'AAA', 'AAT', 'ATC', 'TCG', 'CGA', 'GAT', 'ATC', 'TCG', 'CGT', 'GTG', 'TGA', 'GAC', 'ACG', 'CGT', 'GTG', 'TGT', 'GTT', 'TTT', 'TTC', 'TCA', 'CAA', 'AAA', 'AAG', 'AGG', 'GGC', 'GCC', 'CCC', 'CCT', 'CTC', 'TCT', 'CTA', 'TAG', 'AGG', 'GGC', 'GCT', 'CTT', 'TTA', 'TAA', 'AAC', 'ACT', 'CTC', 'TCG', 'CGG', 'GGT', 'GTT', 'TTC', 'TCA', 'CAC', 'ACT', 'CTG', 'TGC', 'GCT', 'CTC', 'TCG', 'CGC', 'GCC', 'CCT', 'CTT', 'TTC', 'TCC', 'CCC', 'CCT', 'CTT', 'TTT', 'TTG', 'TGA', 'GAG', 'AGG', 'GGA', 'GAA', 'AAC', 'ACA', 'CAG', 'AGG', 'GGA', 'GAT', 'ATT', 'TTG', 'TGG', 'GGC', 'GCC', 'CCC', 'CCT', 'CTT', 'TTC', 'TCC', 'CCT', 'CTG', 'TGT', 'GTC', 'TCA', 'CAG', 'AGA', 'GAG', 'AGG', 'GGA', 'GAT', 'ATC', 'TCC', 'CCC', 'CCG', 'CGC', 'GCG', 'CGT', 'GTC', 'TCT', 'CTT', 'TTG', 'TGG', 'GGC', 'GCA', 'CAA', 'AAA', 'AAG', 'AGC', 'GCA', 'CAC', 'ACA', 'CAG', 'AGC', 'GCT', 'CTC', 'TCC', 'CCG', 'CGC', 'GCA', 'CAA', 'AAC', 'ACC', 'CCT', 'CTG', 'TGC', 'GCA', 'CAA', 'AAG', 'AGA', 'GAG', 'AGG', 'GGT', 'GTG', 'TGT', 'GTT', 'TTA', 'TAG', 'AGT', 'GTT', 'TTT', 'TTG', 'TGT', 'GTC', 'TCT', 'CTT', 'TTA', 'TAG', 'AGT', 'GTT', 'TTA', 'TAT', 'ATC', 'TCC', 'CCT', 'CTG', 'TGA', 'GAA', 'AAC', 'ACC', 'CCG', 'CGA', 'GAC', 'ACT', 'CTT', 'TTG', 'TGA', 'GAG', 'AGC', 'GCT', 'CTC', 'TCG', 'CGG', 'GGC', 'GCT', 'CTC', 'TCC', 'CCA', 'CAT', 'ATG', 'TGC', 'GCT', 'CTC', 'TCT', 'CTA', 'TAT', 'ATA', 'TAA', 'AAG', 'AGG', 'GGG', 'GGT', 'GTT', 'TTC', 'TCG', 'CGA', 'GAC', 'ACA', 'CAG', 'AGC', 'GCT', 'CTG', 'TGG', 'GGC', 'GCG', 'CGT', 'GTG', 'TGC', 'GCC', 'CCT', 'CTG', 'TGT', 'GTA', 'TAA', 'AAG', 'AGT', 'GTC', 'TCG', 'CGT', 'GTT', 'TTG', 'TGG', 'GGC', 'GCT', 'CTG', 'TGA', 'GAG', 'AGG', 'GGT', 'GTC', 'TCT', 'CTT', 'TTT', 'TTT', 'TTA', 'TAA', 'AAT', 'ATC', 'TCT', 'CTA', 'TAC', 'ACT', 'CTA', 'TAT', 'ATA', 'TAA', 'AAC', 'ACT', 'CTG', 'TGC', 'GCG', 'CGC', 'GCT', 'CTT', 'TTT', 'TTG', 'TGT', 'GTG', 'TGA', 'GAT', 'ATC', 'TCT', 'CTG', 'TGC', 'GCT', 'CTT', 'TTT', 'TTT', 'TTG', 'TGC', 'GCC', 'CCT', 'CTG', 'TGC', 'GCT', 'CTG', 'TGG', 'GGA', 'GAG', 'AGA', 'GAT', 'ATA', 'TAA', 'AAG', 'AGC', 'GCT', 'CTA', 'TAT', 'ATA', 'TAA', 'AAC', 'ACT', 'CTT', 'TTA', 'TAT', 'ATG', 'TGC', 'GCT', 'CTG', 'TGC', 'GCT', 'CTG', 'TGT', 'GTT', 'TTG', 'TGG', 'GGT', 'GTG', 'TGG', 'GGA', 'GAG', 'AGC', 'GCT', 'CTC', 'TCT', 'CTG', 'TGA', 'GAC', 'ACG', 'CGT', 'GTG', 'TGG', 'GGG', 'GGC', 'GCG', 'CGG', 'GGC', 'GCA', 'CAA', 'AAT', 'ATA', 'TAG', 'AGT', 'GTC', 'TCG', 'CGA', 'GAA', 'AAG', 'AGG', 'GGA', 'GAT', 'ATC', 'TCG', 'CGC', 'GCA', 'CAA', 'AAT', 'ATA', 'TAC', 'ACC', 'CCA', 'CAA', 'AAC', 'ACG', 'CGC', 'GCA', 'CAG', 'AGG', 'GGC', 'GCG', 'CGT', 'GTA', 'TAA', 'AAA', 'AAC', 'ACC', 'CCC', 'CCT', 'CTC', 'TCT', 'CTC', 'TCG', 'CGT', 'GTG', 'TGG', 'GGC', 'GCC', 'CCG', 'CGT', 'GTG', 'TGG', 'GGG', 'GGT', 'GTA', 'TAC', 'ACA', 'CAG', 'AGA', 'GAT', 'ATG', 'TGT', 'GTG', 'TGA', 'GAT', 'ATG', 'TGT', 'GTC', 'TCG', 'CGC', 'GCT', 'CTG', 'TGC', 'GCT', 'CTG', 'TGT', 'GTA', 'TAT', 'ATG', 'TGA', 'GAT', 'ATG', 'TGG', 'GGT', 'GTG', 'TGA', 'GAG', 'AGT', 'GTG', 'TGG', 'GGA', 'GAA', 'AAG', 'AGC', 'GCC', 'CCC', 'CCA', 'CAA', 'AAT', 'ATT', 'TTG', 'TGT', 'GTC', 'TCA', 'CAT', 'ATG', 'TGC', 'GCT', 'CTT', 'TTG', 'TGT', 'GTC', 'TCG', 'CGA', 'GAT', 'ATG', 'TGA', 'GAC', 'ACC', 'CCC', 'CCT', 'CTT', 'TTC', 'TCG', 'CGT', 'GTG', 'TGT', 'GTG', 'TGA', 'GAT', 'ATG', 'TGT', 'GTA', 'TAG', 'AGG', 'GGC', 'GCT', 'CTG', 'TGC', 'GCT', 'CTA', 'TAG', 'AGC', 'GCT', 'CTG', 'TGC', 'GCC', 'CCG', 'CGG', 'GGC', 'GCT', 'CTC', 'TCT', 'CTT', 'TTA', 'TAG', 'AGA', 'GAC', 'ACT', 'CTC', 'TCA', 'CAG', 'AGT', 'GTT', 'TTG', 'TGG', 'GGG', 'GGT', 'GTT', 'TTA', 'TAC', 'ACT', 'CTG', 'TGG', 'GGG', 'GGT', 'GTC', 'TCT', 'CTG', 'TGA', 'GAC', 'ACG', 'CGT', 'GTA', 'TAG', 'AGG', 'GGG', 'GGG', 'GGA', 'GAT', 'ATT', 'TTC', 'TCT', 'CTA', 'TAT', 'ATC', 'TCA', 'CAT', 'ATG', 'TGA', 'GAT', 'ATG', 'TGC', 'GCC', 'CCT', 'CTG', 'TGA', 'GAG', 'AGC', 'GCG', 'CGG', 'GGT', 'GTA', 'TAG', 'AGC', 'GCA', 'CAG', 'AGT', 'GTG', 'TGT', 'GTA', 'TAA', 'AAA', 'AAT', 'ATT', 'TTT', 'TTG', 'TGG', 'GGT', 'GTG', 'TGA', 'GAA', 'AAA', 'AAG', 'AGT', 'GTA', 'TAT', 'ATG', 'TGT', 'GTC', 'TCT', 'CTG', 'TGC', 'GCG', 'CGC', 'GCC', 'CCT', 'CTT', 'TTT', 'TTG', 'TGC', 'GCG', 'CGA', 'GAA', 'AAT', 'ATC', 'TCT', 'CTC', 'TCC', 'CCT', 'CTC', 'TCG', 'CGG', 'GGC', 'GCA', 'CAT', 'ATG', 'TGC', 'GCT', 'CTA', 'TAG', 'AGG', 'GGG', 'GGT', 'GTT', 'TTG', 'TGC', 'GCT', 'CTT', 'TTG', 'TGT', 'GTG', 'TGC', 'GCA', 'CAA', 'AAG', 'AGA', 'GAT', 'ATG', 'TGT', 'GTG', 'TGG', 'GGG', 'GGA', 'GAT', 'ATG', 'TGG', 'GGC', 'GCG', 'CGT', 'GTG', 'TGG', 'GGC', 'GCA', 'CAA', 'AAG', 'AGG', 'GGG', 'GGC', 'GCC', 'CCG', 'CGG', 'GGT', 'GTG', 'TGA', 'GAT', 'ATT', 'TTT', 'TTG', 'TGG', 'GGT', 'GTC', 'TCT', 'CTA', 'TAA', 'AAA', 'AAG', 'AGC', 'GCC', 'CCG', 'CGG', 'GGC', 'GCC', 'CCA', 'CAG', 'AGT', 'GTA', 'TAG', 'AGG', 'GGA', 'GAT', 'ATT', 'TTC', 'TCG', 'CGC', 'GCA', 'CAG', 'AGA', 'GAG', 'AGG', 'GGG', 'GGA', 'GAA', 'AAT', 'ATC', 'TCG', 'CGC', 'GCG', 'CGT', 'GTA', 'TAT', 'ATT', 'TTC', 'TCT', 'CTC', 'TCT', 'CTA', 'TAA', 'AAG', 'AGT', 'GTT', 'TTG', 'TGG', 'GGT', 'GTC', 'TCA', 'CAT', 'ATC', 'TCT', 'CTT', 'TTT', 'TTG', 'TGA', 'GAC', 'ACA', 'CAG', 'AGT', 'GTC', 'TCG', 'CGT', 'GTT', 'TTC', 'TCT', 'CTT', 'TTG', 'TGG', 'GGT', 'GTT', 'TTT', 'TTT', 'TTA', 'TAT', 'ATC', 'TCA', 'CAA', 'AAG', 'AGG', 'GGA', 'GAT', 'ATT', 'TTT', 'TTC', 'TCG', 'CGA', 'GAG', 'AGC', 'GCC', 'CCC', 'CCT', 'CTC', 'TCC', 'CCG', 'CGT', 'GTC', 'TCA', 'CAG', 'AGC', 'GCT', 'CTG', 'TGG', 'GGA', 'GAC', 'ACA', 'CAT', 'ATG', 'TGG', 'GGC', 'GCG', 'CGC', 'GCG', 'CGA', 'GAG', 'AGC', 'GCA', 'CAA', 'AAA', 'AAT', 'ATT', 'TTG', 'TGG', 'GGG', 'GGA', 'GAG', 'AGC', 'GCT', 'CTA', 'TAC', 'ACG', 'CGT', 'GTA', 'TAC', 'ACC', 'CCG', 'CGT', 'GTC', 'TCT', 'CTG', 'TGA', 'GAT', 'ATT', 'TTG', 'TGG', 'GGC', 'GCA', 'CAT', 'ATT', 'TTG', 'TGG', 'GGG', 'GGG', 'GGC', 'GCC', 'CCT', 'CTA', 'TAT', 'ATT', 'TTT', 'TTG', 'TGC', 'GCC', 'CCT', 'CTT', 'TTT', 'TTA', 'TAA', 'AAC', 'ACT', 'CTA', 'TAA', 'AAC', 'ACG', 'CGC', 'GCA', 'CAA', 'AAT', 'ATG', 'TGA', 'GAT', 'ATT', 'TTT', 'TTC', 'TCC', 'CCT', 'CTA', 'TAG', 'AGC', 'GCC', 'CCA', 'CAA', 'AAC', 'ACT', 'CTT', 'TTG', 'TGC', 'GCC', 'CCG', 'CGT', 'GTG', 'TGC', 'GCC', 'CCT', 'CTG', 'TGC', 'GCT', 'CTG', 'TGA', 'GAG', 'AGA', 'GAC', 'ACC', 'CCA', 'CAT', 'ATT', 'TTG', 'TGA', 'GAT', 'ATA', 'TAA', 'AAG', 'AGA', 'GAG', 'AGG', 'GGG', 'GGG'], ['GTC', 'TCT', 'CTG', 'TGG', 'GGC', 'GCG', 'CGG', 'GGC', 'GCT', 'CTC', 'TCG', 'CGG', 'GGA', 'GAA', 'AAT', 'ATT', 'TTT', 'TTA', 'TAT', 'ATT', 'TTA', 'TAG', 'AGA', 'GAG', 'AGT', 'GTT', 'TTA', 'TAT', 'ATC', 'TCC', 'CCC', 'CCA', 'CAT', 'ATT', 'TTC', 'TCG', 'CGA', 'GAG', 'AGC', 'GCT', 'CTT', 'TTT', 'TTG', 'TGC', 'GCG', 'CGG', 'GGG', 'GGG', 'GGA', 'GAG', 'AGT', 'GTC', 'TCT', 'CTT', 'TTG', 'TGG', 'GGA', 'GAC', 'ACT', 'CTC', 'TCT', 'CTC', 'TCT', 'CTG', 'TGA', 'GAG', 'AGA', 'GAA', 'AAT', 'ATG', 'TGG', 'GGC', 'GCG', 'CGG', 'GGG', 'GGA', 'GAG', 'AGT', 'GTA', 'TAG', 'AGG', 'GGA', 'GAG', 'AGC', 'GCG', 'CGC', 'GCG', 'CGA', 'GAG', 'AGG', 'GGG', 'GGC', 'GCC', 'CCT', 'CTG', 'TGT', 'GTA', 'TAT', 'ATG', 'TGT', 'GTC', 'TCC', 'CCT', 'CTG', 'TGC', 'GCT', 'CTC', 'TCG', 'CGC', 'GCG', 'CGG', 'GGC', 'GCC', 'CCA', 'CAT', 'ATC', 'TCC', 'CCC', 'CCG', 'CGG', 'GGG', 'GGT', 'GTT', 'TTC', 'TCT', 'CTT', 'TTT', 'TTC', 'TCC', 'CCT', 'CTA', 'TAT', 'ATC', 'TCC', 'CCA', 'CAG', 'AGC', 'GCC', 'CCC', 'CCT', 'CTT', 'TTT', 'TTG', 'TGA', 'GAC', 'ACG', 'CGT', 'GTG', 'TGT', 'GTG', 'TGT', 'GTT', 'TTA', 'TAA', 'AAC', 'ACT', 'CTC', 'TCG', 'CGA', 'GAT', 'ATT', 'TTG', 'TGT', 'GTC', 'TCT', 'CTT', 'TTT', 'TTC', 'TCC', 'CCG', 'CGG', 'GGC', 'GCG', 'CGG', 'GGA', 'GAA', 'AAG', 'AGT', 'GTG', 'TGA', 'GAT', 'ATT', 'TTG', 'TGC', 'GCA', 'CAG', 'AGG', 'GGC', 'GCA', 'CAG', 'AGC', 'GCA', 'CAG', 'AGG', 'GGT', 'GTA', 'TAA', 'AAT', 'ATA', 'TAG', 'AGG', 'GGG', 'GGC', 'GCG', 'CGT', 'GTT', 'TTA', 'TAT', 'ATC', 'TCT', 'CTA', 'TAA', 'AAG', 'AGC', 'GCC', 'CCG', 'CGT', 'GTA', 'TAA', 'AAT', 'ATC', 'TCA', 'CAT', 'ATC', 'TCC', 'CCT', 'CTA', 'TAA', 'AAC', 'ACG', 'CGG', 'GGC', 'GCC', 'CCG', 'CGT', 'GTG', 'TGG', 'GGG', 'GGG', 'GGT', 'GTC', 'TCG', 'CGC', 'GCT', 'CTT', 'TTC', 'TCA', 'CAC', 'ACC', 'CCC', 'CCT', 'CTT', 'TTA', 'TAC', 'ACA', 'CAC', 'ACG', 'CGT', 'GTC', 'TCT', 'CTT', 'TTC', 'TCG', 'CGA', 'GAT', 'ATC', 'TCT', 'CTG', 'TGG', 'GGT', 'GTT', 'TTG', 'TGG', 'GGG', 'GGG', 'GGG', 'GGT', 'GTG', 'TGT', 'GTT', 'TTT', 'TTG', 'TGG', 'GGC', 'GCG', 'CGC', 'GCG', 'CGG', 'GGC', 'GCC', 'CCG', 'CGA', 'GAT', 'ATG', 'TGA', 'GAA', 'AAA', 'AAA', 'AAT', 'ATT', 'TTG', 'TGT', 'GTA', 'TAG', 'AGG', 'GGC', 'GCA', 'CAG', 'AGG', 'GGC', 'GCT', 'CTG', 'TGA', 'GAG', 'AGA', 'GAA', 'AAT', 'ATG', 'TGG', 'GGG', 'GGA', 'GAC', 'ACA', 'CAT', 'ATT', 'TTA', 'TAG', 'AGG', 'GGA', 'GAT', 'ATA', 'TAG', 'AGA', 'GAG', 'AGT', 'GTA', 'TAG', 'AGT', 'GTT', 'TTA', 'TAT', 'ATG', 'TGG', 'GGC', 'GCG', 'CGG', 'GGA', 'GAA', 'AAT', 'ATG', 'TGA', 'GAC', 'ACT', 'CTT', 'TTT', 'TTG', 'TGC', 'GCT', 'CTC', 'TCA', 'CAC', 'ACT', 'CTA', 'TAT', 'ATC', 'TCT', 'CTC', 'TCT', 'CTT', 'TTT', 'TTG', 'TGC', 'GCG', 'CGC', 'GCC', 'CCA', 'CAG', 'AGT', 'GTA', 'TAG', 'AGT', 'GTC', 'TCG', 'CGC', 'GCA', 'CAA', 'AAC', 'ACT', 'CTG', 'TGT', 'GTT', 'TTT', 'TTG', 'TGG', 'GGC', 'GCG', 'CGC', 'GCG', 'CGA', 'GAA', 'AAC', 'ACT', 'CTC', 'TCA', 'CAT', 'ATC', 'TCC', 'CCA', 'CAA', 'AAC', 'ACT', 'CTT', 'TTG', 'TGC', 'GCG', 'CGA', 'GAG', 'AGA', 'GAG', 'AGG', 'GGA', 'GAA', 'AAT', 'ATG', 'TGG', 'GGG', 'GGT', 'GTG', 'TGG', 'GGC', 'GCG', 'CGC', 'GCC', 'CCC', 'CCA', 'CAA', 'AAT', 'ATC', 'TCG', 'CGG', 'GGG', 'GGG', 'GGA', 'GAC', 'ACG', 'CGG', 'GGG', 'GGC', 'GCG', 'CGC', 'GCT', 'CTC', 'TCT', 'CTC', 'TCT', 'CTT', 'TTT', 'TTA', 'TAA', 'AAG', 'AGG', 'GGC', 'GCT', 'CTG', 'TGA', 'GAT', 'ATT', 'TTC', 'TCT', 'CTT', 'TTC', 'TCG', 'CGT', 'GTG', 'TGT', 'GTA', 'TAG', 'AGC', 'GCT', 'CTC', 'TCC', 'CCA', 'CAC', 'ACT', 'CTC', 'TCG', 'CGC', 'GCT', 'CTG', 'TGT', 'GTT', 'TTC', 'TCA', 'CAA', 'AAG', 'AGT', 'GTT', 'TTT', 'TTT', 'TTG', 'TGC', 'GCG', 'CGA', 'GAT', 'ATC', 'TCC', 'CCT', 'CTT', 'TTT', 'TTA', 'TAT', 'ATA', 'TAC', 'ACA', 'CAT', 'ATG', 'TGG', 'GGC', 'GCC', 'CCC', 'CCT', 'CTC', 'TCT', 'CTC', 'TCT', 'CTC', 'TCT', 'CTC', 'TCA', 'CAA', 'AAC', 'ACT', 'CTA', 'TAG', 'AGC', 'GCT', 'CTT', 'TTG', 'TGA', 'GAT', 'ATC', 'TCT', 'CTG', 'TGG', 'GGA', 'GAT', 'ATA', 'TAA', 'AAC', 'ACA', 'CAT', 'ATA', 'TAG', 'AGC', 'GCA', 'CAA', 'AAT', 'ATT', 'TTG', 'TGT', 'GTG', 'TGC', 'GCT', 'CTG', 'TGC', 'GCC', 'CCA', 'CAA', 'AAG', 'AGT', 'GTG', 'TGC', 'GCG', 'CGA', 'GAA', 'AAG', 'AGG', 'GGC', 'GCT', 'CTG', 'TGT', 'GTC', 'TCC', 'CCT', 'CTG', 'TGT', 'GTG', 'TGC', 'GCT', 'CTG', 'TGC', 'GCA', 'CAT', 'ATC', 'TCA', 'CAA', 'AAA', 'AAA', 'AAT', 'ATG', 'TGG', 'GGC', 'GCC', 'CCG', 'CGT', 'GTT', 'TTT', 'TTC', 'TCG', 'CGA', 'GAT', 'ATT', 'TTT', 'TTC', 'TCC', 'CCA', 'CAT', 'ATT', 'TTG', 'TGT', 'GTG', 'TGG', 'GGC', 'GCT', 'CTG', 'TGC', 'GCT', 'CTG', 'TGC', 'GCT', 'CTG', 'TGG', 'GGA', 'GAT', 'ATC', 'TCC', 'CCA', 'CAG', 'AGC', 'GCC', 'CCG', 'CGC', 'GCC', 'CCT', 'CTG', 'TGA', 'GAG', 'AGG', 'GGT', 'GTT', 'TTG', 'TGG', 'GGT', 'GTT', 'TTT', 'TTG', 'TGT', 'GTT', 'TTC', 'TCG', 'CGT', 'GTC', 'TCT', 'CTG', 'TGG', 'GGG', 'GGA', 'GAA', 'AAG', 'AGG', 'GGG', 'GGG', 'GGT', 'GTT', 'TTG', 'TGG', 'GGA', 'GAA', 'AAA', 'AAC', 'ACT', 'CTG', 'TGC', 'GCC', 'CCA', 'CAG', 'AGA', 'GAT', 'ATT', 'TTT', 'TTG', 'TGG', 'GGC', 'GCC', 'CCG', 'CGA', 'GAT', 'ATT', 'TTT', 'TTC', 'TCC', 'CCA', 'CAT', 'ATG', 'TGC', 'GCC', 'CCT', 'CTA', 'TAG', 'AGC', 'GCT', 'CTT', 'TTT', 'TTA', 'TAC', 'ACT', 'CTT', 'TTG', 'TGG', 'GGT', 'GTG', 'TGC', 'GCG', 'CGG', 'GGT', 'GTT', 'TTT', 'TTG', 'TGT', 'GTG', 'TGG', 'GGA', 'GAT', 'ATC', 'TCA', 'CAG', 'AGA', 'GAG', 'AGA', 'GAA', 'AAA', 'AAG', 'AGT', 'GTT', 'TTT', 'TTT', 'TTT', 'TTG', 'TGG', 'GGT', 'GTA', 'TAC', 'ACG', 'CGG', 'GGC', 'GCA', 'CAT', 'ATG', 'TGG', 'GGA', 'GAA', 'AAT', 'ATG', 'TGC', 'GCA', 'CAA', 'AAC', 'ACG', 'CGA', 'GAG', 'AGG', 'GGA', 'GAA', 'AAG', 'AGC', 'GCG', 'CGT', 'GTT', 'TTG', 'TGG', 'GGC', 'GCC', 'CCT', 'CTG', 'TGG', 'GGG', 'GGT', 'GTC', 'TCC', 'CCC', 'CCC', 'CCC', 'CCG', 'CGT', 'GTA', 'TAA', 'AAG', 'AGA', 'GAG', 'AGA', 'GAG', 'AGC', 'GCG', 'CGG', 'GGC', 'GCC', 'CCC', 'CCA', 'CAT', 'ATC', 'TCT', 'CTG', 'TGC', 'GCT', 'CTA', 'TAA', 'AAA', 'AAT', 'ATA', 'TAG', 'AGC', 'GCG', 'CGT', 'GTC', 'TCT', 'CTA', 'TAA', 'AAC', 'ACC', 'CCT', 'CTT', 'TTT', 'TTG', 'TGA', 'GAA', 'AAG', 'AGT', 'GTG', 'TGA', 'GAT', 'ATT', 'TTT', 'TTT', 'TTG', 'TGA', 'GAC', 'ACT', 'CTC', 'TCC', 'CCA', 'CAG', 'AGA', 'GAC', 'ACG', 'CGC', 'GCG', 'CGT', 'GTA', 'TAG', 'AGA', 'GAG', 'AGG', 'GGC', 'GCT', 'CTG', 'TGC', 'GCT', 'CTT', 'TTA', 'TAC', 'ACC', 'CCC', 'CCG', 'CGT', 'GTC', 'TCT', 'CTC', 'TCT', 'CTT', 'TTA', 'TAG', 'AGC', 'GCT', 'CTT', 'TTT', 'TTA', 'TAG', 'AGG', 'GGA', 'GAA', 'AAT', 'ATA', 'TAT', 'ATC', 'TCA', 'CAA', 'AAT', 'ATT', 'TTC', 'TCA', 'CAG', 'AGG', 'GGG', 'GGG', 'GGT', 'GTT', 'TTG', 'TGC', 'GCA', 'CAT', 'ATA', 'TAA', 'AAT', 'ATG', 'TGA', 'GAG', 'AGT', 'GTC', 'TCA', 'CAC', 'ACC', 'CCG', 'CGT', 'GTG', 'TGT', 'GTC', 'TCG', 'CGA', 'GAG', 'AGT', 'GTG', 'TGA', 'GAG', 'AGT', 'GTT', 'TTG', 'TGG', 'GGC', 'GCA', 'CAA', 'AAA', 'AAT', 'ATC', 'TCG', 'CGC', 'GCC', 'CCT', 'CTA', 'TAG', 'AGT', 'GTT', 'TTG', 'TGT', 'GTC', 'TCA', 'CAG', 'AGT', 'GTG', 'TGC', 'GCC', 'CCA', 'CAG', 'AGT', 'GTT', 'TTA', 'TAT', 'ATT', 'TTG', 'TGT', 'GTC', 'TCA', 'CAT', 'ATT', 'TTC', 'TCG', 'CGA', 'GAC', 'ACT', 'CTA', 'TAT', 'ATC', 'TCT', 'CTC', 'TCT', 'CTT', 'TTG', 'TGA', 'GAA', 'AAG', 'AGG', 'GGG', 'GGA', 'GAT', 'ATA', 'TAG', 'AGC', 'GCA'], ['GCC', 'CCA', 'CAA', 'AAA', 'AAT', 'ATA', 'TAT', 'ATG', 'TGT', 'GTG', 'TGT', 'GTG', 'TGA', 'GAA', 'AAC', 'ACT', 'CTC', 'TCT', 'CTC', 'TCT', 'CTA', 'TAT', 'ATG', 'TGG', 'GGT', 'GTC', 'TCG', 'CGA', 'GAC', 'ACT', 'CTC', 'TCT', 'CTA', 'TAC', 'ACA', 'CAG', 'AGA', 'GAC', 'ACA', 'CAT', 'ATT', 'TTA', 'TAC', 'ACA', 'CAC', 'ACC', 'CCA', 'CAT', 'ATC', 'TCT', 'CTA', 'TAC', 'ACG', 'CGG', 'GGT', 'GTT', 'TTA', 'TAA', 'AAT', 'ATG', 'TGG', 'GGC', 'GCA', 'CAG', 'AGT', 'GTG', 'TGC', 'GCT', 'CTA', 'TAT', 'ATT', 'TTG', 'TGG', 'GGG', 'GGC', 'GCC', 'CCT', 'CTG', 'TGC', 'GCT', 'CTA', 'TAA', 'AAT', 'ATT', 'TTG', 'TGC', 'GCT', 'CTG', 'TGG', 'GGG', 'GGG', 'GGT', 'GTT', 'TTG', 'TGC', 'GCC', 'CCA', 'CAA', 'AAT', 'ATT', 'TTT', 'TTG', 'TGC', 'GCC', 'CCG', 'CGT', 'GTG', 'TGC', 'GCC', 'CCT', 'CTA', 'TAG', 'AGC', 'GCT', 'CTC', 'TCT', 'CTT', 'TTT', 'TTG', 'TGG', 'GGT', 'GTT', 'TTC', 'TCA', 'CAT', 'ATT', 'TTC', 'TCT', 'CTA', 'TAC', 'ACA', 'CAG', 'AGA', 'GAA', 'AAG', 'AGT', 'GTG', 'TGA', 'GAG', 'AGT', 'GTA', 'TAG', 'AGA', 'GAC', 'ACA', 'CAG', 'AGG', 'GGC', 'GCC', 'CCG', 'CGA', 'GAT', 'ATA', 'TAG', 'AGA', 'GAG', 'AGG', 'GGC', 'GCT', 'CTT', 'TTG', 'TGC', 'GCC', 'CCC', 'CCT', 'CTG', 'TGT', 'GTA', 'TAT', 'ATG', 'TGT', 'GTG', 'TGA', 'GAG', 'AGC', 'GCT', 'CTT', 'TTA', 'TAA', 'AAA', 'AAT', 'ATG', 'TGT', 'GTT', 'TTT', 'TTC', 'TCA', 'CAT', 'ATG', 'TGA', 'GAC', 'ACT', 'CTT', 'TTG', 'TGG', 'GGC', 'GCT', 'CTT', 'TTC', 'TCA', 'CAT', 'ATT', 'TTC', 'TCA', 'CAA', 'AAA', 'AAT', 'ATT', 'TTT', 'TTC', 'TCG', 'CGG', 'GGT', 'GTC', 'TCA', 'CAG', 'AGT', 'GTG', 'TGC', 'GCA', 'CAA', 'AAA', 'AAG', 'AGC', 'GCT', 'CTC', 'TCT', 'CTC', 'TCT', 'CTT', 'TTT', 'TTT', 'TTG', 'TGG', 'GGG', 'GGG', 'GGG', 'GGG', 'GGG', 'GGA', 'GAA', 'AAC', 'ACC', 'CCT', 'CTC', 'TCA', 'CAG', 'AGC', 'GCG', 'CGG', 'GGA', 'GAA', 'AAG', 'AGA', 'GAC', 'ACA', 'CAG', 'AGT', 'GTG', 'TGC', 'GCT', 'CTT', 'TTC', 'TCC', 'CCC', 'CCT', 'CTG', 'TGG', 'GGC', 'GCA', 'CAT', 'ATG', 'TGT', 'GTT', 'TTG', 'TGC', 'GCC', 'CCC', 'CCA', 'CAG', 'AGT', 'GTC', 'TCA', 'CAT', 'ATG', 'TGA', 'GAC', 'ACT', 'CTA', 'TAT', 'ATT', 'TTG', 'TGT', 'GTC', 'TCG', 'CGG', 'GGT', 'GTA', 'TAT', 'ATC', 'TCT', 'CTC', 'TCG', 'CGG', 'GGC', 'GCA', 'CAT', 'ATG', 'TGT', 'GTC', 'TCA', 'CAA', 'AAT', 'ATA', 'TAA', 'AAA', 'AAA', 'AAG', 'AGC', 'GCT', 'CTA', 'TAT', 'ATA', 'TAC', 'ACC', 'CCT', 'CTT', 'TTG', 'TGT', 'GTA', 'TAA', 'AAT', 'ATT', 'TTC', 'TCT', 'CTC', 'TCC', 'CCT', 'CTG', 'TGT', 'GTT', 'TTA', 'TAC', 'ACC', 'CCG', 'CGC', 'GCC', 'CCC', 'CCA', 'CAG', 'AGA', 'GAT', 'ATT', 'TTA', 'TAT', 'ATC', 'TCA', 'CAA', 'AAT', 'ATG', 'TGC', 'GCA', 'CAC', 'ACC', 'CCG', 'CGC', 'GCT', 'CTG', 'TGT', 'GTG', 'TGG', 'GGG', 'GGC', 'GCA', 'CAT', 'ATC', 'TCT', 'CTC', 'TCT', 'CTC', 'TCT', 'CTG', 'TGA', 'GAC', 'ACG', 'CGC', 'GCC', 'CCT', 'CTA', 'TAG', 'AGA', 'GAA', 'AAG', 'AGG', 'GGA', 'GAA', 'AAC', 'ACC', 'CCC', 'CCT', 'CTA', 'TAT', 'ATA', 'TAT', 'ATG', 'TGA', 'GAA', 'AAG', 'AGC', 'GCT', 'CTG', 'TGT', 'GTA', 'TAT', 'ATC', 'TCT', 'CTA', 'TAG', 'AGA', 'GAG', 'AGC', 'GCC', 'CCG', 'CGC', 'GCT', 'CTA', 'TAT', 'ATG', 'TGA', 'GAA', 'AAC', 'ACT', 'CTT', 'TTC', 'TCG', 'CGA', 'GAT', 'ATT', 'TTC', 'TCT', 'CTT', 'TTG', 'TGT', 'GTG', 'TGC', 'GCT', 'CTC', 'TCT', 'CTT', 'TTT', 'TTT', 'TTT', 'TTA', 'TAA', 'AAC', 'ACG', 'CGT', 'GTG', 'TGT', 'GTT', 'TTG', 'TGA', 'GAG', 'AGA', 'GAC', 'ACG', 'CGC', 'GCG', 'CGG', 'GGT', 'GTT', 'TTT', 'TTG', 'TGG', 'GGT', 'GTT', 'TTA', 'TAG', 'AGG', 'GGC', 'GCT', 'CTG', 'TGT', 'GTG', 'TGT', 'GTT', 'TTA', 'TAC', 'ACC', 'CCC', 'CCT', 'CTG', 'TGT', 'GTG', 'TGC', 'GCA', 'CAC', 'ACC', 'CCA', 'CAC', 'ACC', 'CCA', 'CAA', 'AAC', 'ACT', 'CTA', 'TAG', 'AGG', 'GGG', 'GGT', 'GTC', 'TCT', 'CTG', 'TGT', 'GTA', 'TAC', 'ACT', 'CTG', 'TGC', 'GCT', 'CTT', 'TTT', 'TTT', 'TTT', 'TTA', 'TAT', 'ATC', 'TCT', 'CTC', 'TCT', 'CTC', 'TCT', 'CTC', 'TCA', 'CAC', 'ACC', 'CCA', 'CAG', 'AGG', 'GGT', 'GTC', 'TCC', 'CCC', 'CCT', 'CTT', 'TTA', 'TAC', 'ACT', 'CTG', 'TGG', 'GGA', 'GAG', 'AGC', 'GCA', 'CAT', 'ATG', 'TGG', 'GGC', 'GCA', 'CAT', 'ATG', 'TGT', 'GTG', 'TGA', 'GAC', 'ACT', 'CTT', 'TTT', 'TTA', 'TAG', 'AGA', 'GAG', 'AGT', 'GTT', 'TTC', 'TCC', 'CCA', 'CAT', 'ATA', 'TAG', 'AGT', 'GTC', 'TCT', 'CTT', 'TTA', 'TAT', 'ATC', 'TCG', 'CGG', 'GGT', 'GTC', 'TCC', 'CCT', 'CTT', 'TTA', 'TAG', 'AGA', 'GAG', 'AGA', 'GAC', 'ACA', 'CAA', 'AAG', 'AGT', 'GTT', 'TTC', 'TCA', 'CAG', 'AGT', 'GTA', 'TAG', 'AGG', 'GGT', 'GTT', 'TTT', 'TTA', 'TAC', 'ACA', 'CAT', 'ATT', 'TTC', 'TCC', 'CCG', 'CGA', 'GAC', 'ACA', 'CAC', 'ACC', 'CCT', 'CTC', 'TCC', 'CCC', 'CCC', 'CCT', 'CTT', 'TTG', 'TGG', 'GGT', 'GTG', 'TGA', 'GAC', 'ACA', 'CAT', 'ATT', 'TTC', 'TCA', 'CAA', 'AAG', 'AGC', 'GCA', 'CAC', 'ACA', 'CAG', 'AGT', 'GTT', 'TTA', 'TAG', 'AGG', 'GGG', 'GGC', 'GCT', 'CTA', 'TAG', 'AGA', 'GAG', 'AGC', 'GCG', 'CGC', 'GCG', 'CGC', 'GCA', 'CAC', 'ACA', 'CAT', 'ATA', 'TAT', 'ATA', 'TAA', 'AAC', 'ACA', 'CAC', 'ACC', 'CCT', 'CTG', 'TGG', 'GGT', 'GTT', 'TTT', 'TTG', 'TGG', 'GGA', 'GAG', 'AGC', 'GCA', 'CAA', 'AAA', 'AAC', 'ACA', 'CAC', 'ACC', 'CCT', 'CTG', 'TGG', 'GGG', 'GGC', 'GCC', 'CCA', 'CAG', 'AGC', 'GCC', 'CCC', 'CCT', 'CTC', 'TCG', 'CGA', 'GAA', 'AAG', 'AGC', 'GCA', 'CAG', 'AGA', 'GAC', 'ACT', 'CTT', 'TTT', 'TTG', 'TGT', 'GTT', 'TTT', 'TTT', 'TTG', 'TGA', 'GAG', 'AGT', 'GTG', 'TGG', 'GGG', 'GGA', 'GAG', 'AGG', 'GGT', 'GTG', 'TGG', 'GGC', 'GCG', 'CGC', 'GCT', 'CTA', 'TAA', 'AAG', 'AGT', 'GTG', 'TGT', 'GTT', 'TTC', 'TCT', 'CTA', 'TAC', 'ACT', 'CTC', 'TCT', 'CTT', 'TTT', 'TTA', 'TAT', 'ATG', 'TGT', 'GTG', 'TGT', 'GTG', 'TGA', 'GAG', 'AGC', 'GCT', 'CTC', 'TCT', 'CTC', 'TCT', 'CTT', 'TTC', 'TCT', 'CTC', 'TCA', 'CAA', 'AAG', 'AGC', 'GCT', 'CTG', 'TGC', 'GCT', 'CTG', 'TGG', 'GGT', 'GTG', 'TGC', 'GCC', 'CCA', 'CAC', 'ACC', 'CCA', 'CAA', 'AAT', 'ATA', 'TAG', 'AGC', 'GCA', 'CAG', 'AGC', 'GCT', 'CTG', 'TGT', 'GTG', 'TGA', 'GAG', 'AGA', 'GAA', 'AAT', 'ATG', 'TGG', 'GGC', 'GCG', 'CGA', 'GAA', 'AAG', 'AGT', 'GTG', 'TGG', 'GGG', 'GGG', 'GGC', 'GCC', 'CCA', 'CAC', 'ACA', 'CAA', 'AAG', 'AGA', 'GAT', 'ATT', 'TTC', 'TCC', 'CCT', 'CTT', 'TTT', 'TTA', 'TAG', 'AGT', 'GTG', 'TGG', 'GGG', 'GGA', 'GAT', 'ATA', 'TAA', 'AAA', 'AAG', 'AGT', 'GTT', 'TTG', 'TGC', 'GCG', 'CGT', 'GTA', 'TAT', 'ATG', 'TGT', 'GTT', 'TTA', 'TAG', 'AGC', 'GCA', 'CAA', 'AAT', 'ATG', 'TGA', 'GAG', 'AGC', 'GCT', 'CTC', 'TCA', 'CAA', 'AAT', 'ATG', 'TGG', 'GGA', 'GAT', 'ATA', 'TAT', 'ATT', 'TTC', 'TCA', 'CAC', 'ACG', 'CGG', 'GGA', 'GAT', 'ATT', 'TTC', 'TCA', 'CAA', 'AAA', 'AAA', 'AAA', 'AAG', 'AGT', 'GTG', 'TGC', 'GCC', 'CCT', 'CTT', 'TTT', 'TTA', 'TAT', 'ATT', 'TTC', 'TCT', 'CTT', 'TTC', 'TCC', 'CCA', 'CAT', 'ATT', 'TTC', 'TCT', 'CTT', 'TTG', 'TGC', 'GCC', 'CCG', 'CGC', 'GCG', 'CGG', 'GGT', 'GTT', 'TTC', 'TCT', 'CTT', 'TTA', 'TAT', 'ATC', 'TCT', 'CTT', 'TTT', 'TTT', 'TTT', 'TTA', 'TAC', 'ACC', 'CCG', 'CGG', 'GGC', 'GCA', 'CAG', 'AGA', 'GAC', 'ACC', 'CCT', 'CTA', 'TAA', 'AAG', 'AGC', 'GCA', 'CAT', 'ATC', 'TCC', 'CCA', 'CAC', 'ACG', 'CGA', 'GAG', 'AGT', 'GTG', 'TGT', 'GTA', 'TAG', 'AGT', 'GTG', 'TGG', 'GGC', 'GCA', 'CAG', 'AGG', 'GGG', 'GGT', 'GTC', 'TCA', 'CAC', 'ACT', 'CTT', 'TTG', 'TGT', 'GTT', 'TTG', 'TGG', 'GGT', 'GTA', 'TAA'], ['AAG', 'AGG', 'GGC', 'GCC', 'CCA', 'CAG', 'AGT', 'GTC', 'TCT', 'CTA', 'TAG', 'AGC', 'GCT', 'CTT', 'TTT', 'TTC', 'TCC', 'CCG', 'CGA', 'GAT', 'ATC', 'TCC', 'CCA', 'CAG', 'AGG', 'GGA', 'GAG', 'AGG', 'GGG', 'GGG', 'GGA', 'GAG', 'AGG', 'GGG', 'GGG', 'GGA', 'GAC', 'ACA', 'CAG', 'AGG', 'GGT', 'GTC', 'TCG', 'CGA', 'GAA', 'AAC', 'ACA', 'CAA', 'AAC', 'ACT', 'CTC', 'TCC', 'CCT', 'CTT', 'TTG', 'TGC', 'GCA', 'CAG', 'AGT', 'GTG', 'TGC', 'GCA', 'CAT', 'ATT', 'TTT', 'TTC', 'TCG', 'CGC', 'GCC', 'CCG', 'CGG', 'GGA', 'GAA', 'AAG', 'AGT', 'GTC', 'TCT', 'CTG', 'TGC', 'GCT', 'CTT', 'TTG', 'TGT', 'GTG', 'TGC', 'GCC', 'CCG', 'CGC', 'GCC', 'CCC', 'CCT', 'CTA', 'TAC', 'ACT', 'CTA', 'TAT', 'ATG', 'TGG', 'GGG', 'GGG', 'GGA', 'GAG', 'AGC', 'GCA', 'CAG', 'AGA', 'GAA', 'AAT', 'ATC', 'TCC', 'CCG', 'CGC', 'GCT', 'CTG', 'TGC', 'GCG', 'CGC', 'GCC', 'CCA', 'CAG', 'AGG', 'GGA', 'GAG', 'AGA', 'GAT', 'ATC', 'TCC', 'CCC', 'CCG', 'CGA', 'GAA', 'AAC', 'ACT', 'CTC', 'TCC', 'CCA', 'CAA', 'AAG', 'AGG', 'GGC', 'GCT', 'CTT', 'TTC', 'TCG', 'CGG', 'GGG', 'GGT', 'GTA', 'TAC', 'ACC', 'CCT', 'CTT', 'TTT', 'TTC', 'TCG', 'CGG', 'GGC', 'GCC', 'CCG', 'CGC', 'GCA', 'CAG', 'AGA', 'GAA', 'AAC', 'ACG', 'CGG', 'GGA', 'GAT', 'ATA', 'TAG', 'AGG', 'GGC', 'GCG', 'CGC', 'GCT', 'CTG', 'TGG', 'GGG', 'GGC', 'GCC', 'CCG', 'CGT', 'GTC', 'TCC', 'CCG', 'CGG', 'GGA', 'GAC', 'ACA', 'CAA', 'AAA', 'AAC', 'ACA', 'CAG', 'AGT', 'GTA', 'TAG', 'AGG', 'GGG', 'GGA', 'GAC', 'ACG', 'CGC', 'GCT', 'CTC', 'TCA', 'CAT', 'ATA', 'TAG', 'AGC', 'GCA', 'CAC', 'ACC', 'CCC', 'CCG', 'CGC', 'GCG', 'CGT', 'GTT', 'TTA', 'TAG', 'AGG', 'GGG', 'GGG', 'GGG', 'GGA', 'GAG', 'AGT', 'GTC', 'TCG', 'CGG', 'GGG', 'GGA', 'GAT', 'ATG', 'TGA', 'GAC', 'ACT', 'CTG', 'TGA', 'GAA', 'AAG', 'AGC', 'GCC', 'CCC', 'CCG', 'CGT', 'GTG', 'TGC', 'GCT', 'CTG', 'TGC', 'GCA', 'CAA', 'AAG', 'AGC', 'GCC', 'CCG', 'CGC', 'GCC', 'CCC', 'CCG', 'CGG', 'GGT', 'GTA', 'TAT', 'ATC', 'TCC', 'CCG', 'CGC', 'GCG', 'CGG', 'GGG', 'GGC', 'GCC', 'CCC', 'CCG', 'CGC', 'GCT', 'CTC', 'TCT', 'CTG', 'TGC', 'GCG', 'CGT', 'GTA', 'TAG', 'AGG', 'GGC', 'GCC', 'CCA', 'CAT', 'ATT', 'TTC', 'TCT', 'CTG', 'TGC', 'GCT', 'CTC', 'TCG', 'CGG', 'GGG', 'GGC', 'GCC', 'CCC', 'CCC', 'CCC', 'CCG', 'CGC', 'GCG', 'CGG', 'GGC', 'GCC', 'CCT', 'CTC', 'TCT', 'CTC', 'TCG', 'CGA', 'GAG', 'AGA', 'GAC', 'ACT', 'CTT', 'TTT', 'TTA', 'TAG', 'AGC', 'GCG', 'CGC', 'GCG', 'CGG', 'GGC', 'GCG', 'CGT', 'GTG', 'TGC', 'GCG', 'CGT', 'GTG', 'TGC', 'GCC', 'CCT', 'CTT', 'TTT', 'TTC', 'TCG', 'CGC', 'GCC', 'CCC', 'CCG', 'CGA', 'GAC', 'ACG', 'CGA', 'GAC', 'ACG', 'CGC', 'GCC', 'CCC', 'CCG', 'CGA', 'GAG', 'AGC', 'GCA', 'CAT', 'ATA', 'TAC', 'ACT', 'CTG', 'TGT', 'GTG', 'TGG', 'GGT', 'GTA', 'TAC', 'ACT', 'CTT', 'TTA', 'TAG', 'AGA', 'GAG', 'AGT', 'GTG', 'TGG', 'GGG', 'GGT', 'GTT', 'TTC', 'TCC', 'CCA', 'CAC', 'ACA', 'CAC', 'ACA', 'CAC', 'ACG', 'CGC', 'GCG', 'CGA', 'GAG', 'AGC', 'GCC', 'CCG', 'CGG', 'GGG', 'GGA', 'GAA', 'AAG', 'AGC', 'GCC', 'CCG', 'CGC', 'GCG', 'CGG', 'GGG', 'GGG', 'GGC', 'GCA', 'CAG', 'AGA', 'GAT', 'ATC', 'TCC', 'CCC', 'CCG', 'CGC', 'GCC', 'CCA', 'CAC', 'ACC', 'CCG', 'CGC', 'GCT', 'CTG', 'TGC', 'GCG', 'CGC', 'GCT', 'CTG', 'TGC', 'GCC', 'CCG', 'CGG', 'GGG', 'GGA', 'GAC', 'ACC', 'CCG', 'CGC', 'GCA', 'CAT', 'ATA', 'TAA', 'AAG', 'AGT', 'GTT', 'TTC', 'TCC', 'CCC', 'CCG', 'CGT', 'GTC', 'TCC', 'CCA', 'CAG', 'AGC', 'GCC', 'CCG', 'CGG', 'GGG', 'GGC', 'GCG', 'CGT', 'GTC', 'TCG', 'CGA', 'GAC', 'ACC', 'CCT', 'CTG', 'TGC', 'GCG', 'CGC', 'GCC', 'CCC', 'CCC', 'CCA', 'CAC', 'ACC', 'CCA', 'CAT', 'ATA', 'TAA', 'AAA', 'AAG', 'AGC', 'GCC', 'CCT', 'CTG', 'TGT', 'GTG', 'TGC', 'GCG', 'CGG', 'GGT', 'GTT', 'TTG', 'TGC', 'GCT', 'CTT', 'TTG', 'TGC', 'GCG', 'CGG', 'GGC', 'GCG', 'CGG', 'GGC', 'GCA', 'CAG', 'AGG', 'GGC', 'GCA', 'CAT', 'ATA', 'TAG', 'AGT', 'GTA', 'TAT', 'ATG', 'TGG', 'GGA', 'GAA', 'AAG', 'AGC', 'GCC', 'CCG', 'CGG', 'GGA', 'GAA', 'AAA', 'AAG', 'AGA', 'GAA', 'AAG', 'AGC', 'GCC', 'CCA', 'CAA', 'AAA', 'AAT', 'ATT', 'TTG', 'TGG', 'GGG', 'GGG', 'GGG', 'GGC', 'GCC', 'CCC', 'CCC', 'CCC', 'CCT', 'CTC', 'TCC', 'CCT', 'CTC', 'TCG', 'CGA', 'GAC', 'ACT', 'CTG', 'TGC', 'GCA', 'CAC', 'ACA', 'CAT', 'ATT', 'TTA', 'TAA', 'AAG', 'AGA', 'GAG', 'AGG', 'GGA', 'GAA', 'AAG', 'AGT', 'GTC', 'TCT', 'CTT', 'TTT', 'TTC', 'TCT', 'CTG', 'TGA', 'GAT', 'ATC', 'TCC', 'CCG', 'CGA', 'GAG', 'AGT', 'GTG', 'TGC', 'GCA', 'CAT', 'ATT', 'TTC', 'TCT', 'CTT', 'TTC', 'TCG', 'CGG', 'GGG', 'GGC', 'GCC', 'CCT', 'CTC', 'TCA', 'CAA', 'AAA', 'AAT', 'ATC', 'TCC', 'CCT', 'CTG', 'TGG', 'GGG', 'GGT', 'GTG', 'TGC', 'GCC', 'CCC', 'CCA', 'CAC', 'ACA', 'CAA', 'AAG', 'AGC', 'GCG', 'CGC', 'GCA', 'CAG', 'AGC', 'GCA', 'CAG', 'AGG', 'GGC', 'GCA', 'CAA', 'AAC', 'ACA', 'CAA', 'AAT', 'ATT', 'TTG', 'TGC', 'GCT', 'CTT', 'TTT', 'TTC', 'TCG', 'CGC', 'GCT', 'CTT', 'TTG', 'TGT', 'GTT', 'TTT', 'TTA', 'TAT', 'ATG', 'TGT', 'GTC', 'TCA', 'CAG', 'AGA', 'GAG', 'AGC', 'GCG', 'CGC', 'GCG', 'CGC', 'GCG', 'CGC', 'GCT', 'CTC', 'TCG', 'CGC', 'GCC', 'CCC', 'CCC', 'CCA', 'CAG', 'AGG', 'GGC', 'GCG', 'CGC', 'GCA', 'CAG', 'AGA', 'GAC', 'ACG', 'CGC', 'GCG', 'CGC', 'GCG', 'CGG', 'GGC', 'GCA', 'CAA', 'AAC', 'ACT', 'CTA', 'TAC', 'ACT', 'CTG', 'TGA', 'GAT', 'ATG', 'TGC', 'GCG', 'CGC', 'GCG', 'CGG', 'GGC', 'GCA', 'CAC', 'ACG', 'CGT', 'GTT', 'TTA', 'TAA', 'AAC', 'ACC', 'CCG', 'CGT', 'GTT', 'TTG', 'TGG', 'GGA', 'GAT', 'ATG', 'TGG', 'GGC', 'GCA', 'CAG', 'AGC', 'GCA', 'CAC', 'ACC', 'CCC', 'CCC', 'CCC', 'CCG', 'CGG', 'GGC', 'GCA', 'CAG', 'AGC', 'GCC', 'CCA', 'CAA', 'AAC', 'ACT', 'CTA', 'TAT', 'ATA', 'TAC', 'ACA', 'CAA', 'AAC', 'ACC', 'CCA', 'CAC', 'ACC', 'CCT', 'CTG', 'TGG', 'GGC', 'GCT', 'CTC', 'TCG', 'CGC', 'GCG', 'CGC', 'GCC', 'CCA', 'CAC', 'ACC', 'CCG', 'CGG', 'GGC', 'GCT', 'CTC', 'TCA', 'CAG', 'AGT', 'GTC', 'TCT', 'CTG', 'TGG', 'GGG', 'GGG', 'GGT', 'GTT', 'TTG', 'TGG', 'GGC', 'GCC', 'CCA', 'CAC', 'ACA', 'CAT', 'ATC', 'TCG', 'CGA', 'GAT', 'ATC', 'TCC', 'CCG', 'CGA', 'GAG', 'AGA', 'GAG', 'AGG', 'GGG', 'GGT', 'GTC', 'TCT', 'CTG', 'TGT', 'GTC', 'TCC', 'CCG', 'CGG', 'GGT', 'GTG', 'TGT', 'GTC', 'TCG', 'CGC', 'GCG', 'CGG', 'GGG', 'GGG', 'GGG', 'GGG', 'GGC', 'GCG', 'CGG', 'GGC', 'GCA', 'CAA', 'AAC', 'ACC', 'CCC', 'CCG', 'CGT', 'GTT', 'TTT', 'TTC', 'TCG', 'CGC', 'GCC', 'CCG', 'CGG', 'GGT', 'GTT', 'TTG', 'TGA', 'GAC', 'ACG', 'CGT', 'GTT', 'TTC', 'TCC', 'CCG', 'CGG', 'GGC', 'GCC', 'CCC', 'CCC', 'CCG', 'CGC', 'GCT', 'CTG', 'TGG', 'GGC', 'GCA', 'CAG', 'AGA', 'GAA', 'AAG', 'AGC', 'GCT', 'CTC', 'TCA', 'CAG', 'AGG', 'GGC', 'GCT', 'CTC', 'TCC', 'CCT', 'CTA', 'TAC', 'ACG', 'CGG', 'GGT', 'GTG', 'TGC', 'GCG', 'CGG', 'GGG', 'GGC', 'GCA', 'CAT', 'ATG', 'TGA', 'GAG', 'AGG', 'GGA', 'GAA', 'AAC', 'ACG', 'CGC', 'GCA', 'CAT', 'ATC', 'TCC', 'CCT', 'CTG', 'TGG', 'GGC', 'GCT', 'CTG', 'TGC', 'GCT', 'CTG', 'TGG', 'GGA', 'GAA', 'AAA', 'AAG', 'AGT', 'GTT', 'TTC', 'TCA', 'CAC', 'ACC', 'CCT', 'CTG', 'TGG', 'GGA', 'GAA', 'AAC', 'ACC', 'CCC', 'CCA', 'CAC', 'ACA', 'CAC', 'ACC', 'CCC', 'CCC', 'CCC', 'CCC', 'CCG', 'CGA', 'GAA', 'AAG', 'AGT', 'GTC', 'TCA', 'CAC', 'ACC', 'CCC', 'CCA', 'CAG', 'AGG', 'GGA', 'GAG', 'AGC', 'GCC', 'CCA', 'CAT', 'ATA', 'TAC', 'ACG', 'CGC', 'GCT', 'CTC', 'TCG']]\n"
          ]
        }
      ],
      "source": [
        "#k-mer\n",
        "def getKmers(sequence, size):\n",
        "    return [sequence[x:x+size].upper() for x in range(len(sequence) - size + 1)]\n",
        "def getKmersList(sequences,size):\n",
        "  seq_list=[]\n",
        "  for i in range(0,len(sequences)):\n",
        "    seq_list.append(getKmers(sequences[i],size))\n",
        "  return seq_list\n",
        "\n",
        "f=getKmersList(input,3)\n",
        "print(f[0:10])\n"
      ]
    },
    {
      "cell_type": "code",
      "execution_count": null,
      "metadata": {
        "colab": {
          "base_uri": "https://localhost:8080/",
          "height": 140
        },
        "id": "_D2GsB-evfUI",
        "outputId": "3b8113c1-94d9-4ab4-e9bb-171f2f01ccd4"
      },
      "outputs": [
        {
          "data": {
            "application/vnd.google.colaboratory.intrinsic+json": {
              "type": "string"
            },
            "text/plain": [
              "'CTC TCC CCG CGA GAA AAC ACG CGG GGA GAC ACT CTA TAC ACA CAC ACC CCA CAA AAA AAC ACG CGC GCA CAA AAA AAT ATA TAT ATG TGA GAC ACC CCT CTG TGT GTC TCC CCA CAG AGG GGC GCC CCG CGA GAC ACT CTA TAG AGT GTG TGA GAA AAC ACC CCC CCA CAT ATA TAT ATG TGC GCT CTC TCT CTG TGA GAA AAA AAA AAG AGC GCT CTA TAA AAC ACT CTG TGC GCG CGG GGC GCT CTT TTT TTA TAA AAG AGT GTA TAA AAT ATA TAG AGT GTT TTG TGG GGT GTG TGA GAA AAT ATT TTA TAA AAA AAT ATA TAA AAT ATA TAT ATA TAG AGT GTG TGG GGG GGA GAT ATG TGA GAA AAG AGC GCA CAG AGA GAA AAG AGA GAT ATC TCA CAG AGA GAC ACA CAA AAG AGT GTT TTT TTG TGG GGA GAT ATG TGA GAG AGT GTG TGT GTT TTG TGC GCG CGT GTA TAT ATG TGA GAA AAG AGC GCT CTG TGG GGT GTC TCA CAG AGG GGC GCA CAG AGC GCT CTG TGG GGT GTC TCA CAG AGA GAT ATC TCC CCT CTG TGA GAC ACC CCT CTT TTG TGC GCT CTT TTG TGA GAA AAA AAG AGT GTC TCA CAG AGT GTG TGG GGT GTG TGA GAA AAA AAT ATG TGA GAT ATA TAG AGG GGA GAA AAC ACC CCT CTC TCT CTA TAA AAT ATA TAT ATA TAC ACA CAA AAG AGT GTC TCC CCA CAA AAC ACT CTA TAA AAT ATG TGA GAG AGC GCT CTG TGC GCC CCT CTT TTT TTT TTG TGA GAC ACT CTC TCT CTT TTA TAA AAC ACT CTT TTT TTA TAT ATA TAG AGT GTT TTG TGC GCT CTA TAA AAA AAG AGA GAG AGT GTA TAT ATT TTG TGG GGG GGG GGG GGG GGA GAT ATT TTT TTG TGT GTC TCT CTC TCA CAT ATG TGA GAG AGT GTA TAC ACT CTC TCC CCA CAA AAC ACC CCA CAG AGT GTG TGG GGA GAA AAG AGC GCA CAC ACT CTG TGG GGT GTC TCA CAC ACG CGT GTT TTA TAA AAT ATG TGA GAC ACT CTG TGT GTA TAG AGA GAA AAG AGT GTG TGC GCA CAT ATT TTC TCA CAC ACA CAA AAG AGA GAA AAA AAT ATG TGA GAG AGT GTA TAG AGG GGC GCT CTA TAA AAG AGT GTG TGA GAA AAA AAA AAC ACA CAG AGT GTT TTA TAA AAA AAG AGT GTT TTA TAT ATT TTC TCT CTA TAA AAG AGC GCA CAA AAC ACT CTC TCA CAT ATA TAA AAT ATT TTT TTT TTA TAT ATG TGC GCT CTA TAT ATA TAA AAA AAA AAG AGA GAT ATA TAG AGG GGC GCC CCA CAC ACT CTA TAA AAC ACC CCA CAG AGG GGA GAC ACT CTG TGC GCT CTC TCA CAC ACA CAC ACT CTA TAA AAC ACT CTG TGG GGG GGG GGT GTG TGT GTG TGG GGA GAT ATA TAC ACA CAG AGA GAG AGT GTG TGT GTG TGG GGT GTA TAT ATA TAG AGG GGG GGA GAC ACT CTG TGC GCT CTG TGA GAA AAT ATA TAG AGC GCA CAA AAT ATG TGA GAG AGG GGC GCC CCT CTG TGT GTG TGT GTT TTG TGA GAA AAA AAC ACT CTT TTT TTG TGA GAA AAT ATG TGT GTG TGA GAG AGA GAT ATG TGC GCT CTG TGT GTT TTG TGC GCT CTT TTA TAC ACT CTC TCA CAA AAC ACA CAA AAC ACG CGG GGC GCG CGT GTC TCT CTT TTT TTC TCA CAG AGC GCG CGA GAA AAA AAC ACA CAT ATA TAA AAG AGA GAT ATG TGA GAT ATG TGA GAG AGG GGA GAT ATA TAC ACT CTC TCA CAC ACT CTA TAG AGC GCC CCA CAT ATG TGG GGT GTA TAT ATG TGC GCA CAT ATC TCG CGA GAA AAA AAG AGA GAA AAC ACA CAT ATA TAA AAT ATG TGT GTT TTA TAC ACT CTT TTT TTA TAG AGG GGT GTG TGG GGA GAC ACA CAT ATC TCG CGT GTT TTG TGT GTC TCC CCA CAT ATG TGA GAA AAG AGA GAG AGA GAG AGT GTC TCA CAT ATC TCT CTT TTA TAT ATG TGA GAC ACC CCC CCT CTG TGA GAA AAA AAC ACA CAT ATT TTC TCT CTA TAA AAT ATA TAA AAT ATA TAC ACG CGA GAA AAT ATT TTG TGC GCT CTT TTA TAA AAA AAA AAC ACT CTT TTC TCA CAC ACA CAT ATA TAG AGA GAC ACC CCA CAC ACC CCT CTC TCA CAA AAC ACG CGA GAG AGA GAC ACT CTG TGT GTA TAT ATG TGA GAA AAC ACA CAA AAA AAC ACG CGG GGG GGG GGT GTA TAG AGT GTT TTT TTT TTA TAT ATG TGC GCA CAC ACA CAG AGA GAC ACA CAG AGA GAA AAT ATA TAT ATC TCA CAA AAA AAC ACT CTG TGA GAT ATA TAT ATA TAC ACG CGA GAT ATT TTT TTG TGC GCA CAT ATT TTC TCG CGC GCA CAA AAT ATC TCT CTA TAG AGC GCA CAA AAA AAT ATA TAA AAG AGG GGG GGT GTA TAG AGA GAC ACA CAA AAG AGC GCG CGC GCA CAG AGG GGT GTG TGT GTA TAG AGA GAC ACA CAA AAT ATT TTT TTG TGA GAA AAA AAC ACC CCA CAA AAG AGG GGC GCA CAA AAT ATG TGC GCA CAT ATC TCA CAA AAA AAT ATT TTT TTG TGT GTC TCA CAC ACT CTC TCT CTG TGA GAC ACT CTG TGA GAC ACA CAT ATG TGA GAT ATT TTA TAC ACT CTT TTA TAA AAG AGA GAA AAC ACA CAG AGT GTG TGT GTA TAG AGG GGC GCT CTC TCA CAT ATT TTC TCA CAA AAC ACC CCA CAG AGA GAG AGG GGT GTA TAA AAT ATC TCA CAC ACA CAT ATT TTG TGC GCA CAC ACA CAT ATA TAG AGC GCT CTA TAT ATC TCG CGG GGG GGT GTT TTG TGA GAG AGA GAA AAC ACG CGA GAG AGG GGA GAT ATG TGG GGC GCG CGA GAC ACT CTG TGT GTG TGA GAC ACA CAC ACA CAT ATT TTT TTC TCC CCA CAA'"
            ]
          },
          "execution_count": 4,
          "metadata": {},
          "output_type": "execute_result"
        }
      ],
      "source": [
        "#space after k-mer\n",
        "def spacings(sequence,size,index):\n",
        "  initial=''\n",
        "  for element in getKmersList(sequence,size)[index]:\n",
        "    initial=initial+element+' '\n",
        "  return initial[:-1]\n",
        "spacings(input,3,0)"
      ]
    },
    {
      "cell_type": "code",
      "execution_count": null,
      "metadata": {
        "colab": {
          "base_uri": "https://localhost:8080/"
        },
        "id": "wzbjzEukvokC",
        "outputId": "38b43e4f-6566-4cb6-e736-cb8458e9b4a1"
      },
      "outputs": [
        {
          "name": "stdout",
          "output_type": "stream",
          "text": [
            "[['CTC'], ['TCC'], ['CCG'], ['CGA'], ['GAA'], ['AAC'], ['ACG'], ['CGG'], ['GGA'], ['GAC']]\n"
          ]
        }
      ],
      "source": [
        "def sentence_in_list(sequence,size,index):\n",
        "  sil=[]\n",
        "  for element in getKmersList(sequence,size)[index]:\n",
        "    sil.append([element])\n",
        "  return sil\n",
        "f=sentence_in_list(input,3,0)\n",
        "print(f[0:10])"
      ]
    },
    {
      "cell_type": "code",
      "execution_count": null,
      "metadata": {
        "id": "b0KFEYwbufv9"
      },
      "outputs": [],
      "source": [
        "# use countvectorizer\n",
        "from sklearn.feature_extraction.text import CountVectorizer\n",
        "import matplotlib.pyplot as plt\n",
        "import numpy as np\n",
        "\n",
        "# Load the text data\n",
        "corpus=f\n",
        "\n",
        "vectorizer = CountVectorizer()\n",
        "docs       = vectorizer.fit_transform(corpus)\n",
        "features   = vectorizer.get_feature_names()\n",
        "importance = classifier.feature_importances_\n",
        "\n",
        "#step 2\n",
        "feature_name=np.array(features)\n",
        "\n",
        "sorted_idx = classifier.feature_importances_.argsort()[::-1]\n",
        "n_top_features=50\n",
        "plt.figure(figsize=(8,10))\n",
        "plt.barh(feature_name[sorted_idx][:n_top_features ],classifier.feature_importances_[sorted_idx][:n_top_features ])\n",
        "plt.xlabel(\"RF feature Importance \")"
      ]
    },
    {
      "cell_type": "code",
      "execution_count": null,
      "metadata": {
        "colab": {
          "base_uri": "https://localhost:8080/",
          "height": 678
        },
        "id": "XKcJoXKoUDRN",
        "outputId": "085ed39a-9d89-495d-86d3-5a80f335a16e"
      },
      "outputs": [
        {
          "name": "stderr",
          "output_type": "stream",
          "text": [
            "/usr/local/lib/python3.7/dist-packages/sklearn/utils/deprecation.py:87: FutureWarning: Function get_feature_names is deprecated; get_feature_names is deprecated in 1.0 and will be removed in 1.2. Please use get_feature_names_out instead.\n",
            "  warnings.warn(msg, category=FutureWarning)\n"
          ]
        },
        {
          "data": {
            "text/plain": [
              "Text(0.5, 0, 'RF feature Importance ')"
            ]
          },
          "execution_count": 2,
          "metadata": {},
          "output_type": "execute_result"
        },
        {
          "data": {
            "image/png": "[encoded data removed]",
            "text/plain": [
              "<Figure size 576x720 with 1 Axes>"
            ]
          },
          "metadata": {},
          "output_type": "display_data"
        }
      ],
      "source": [
        "# Feature importance plot\n",
        "\n",
        "#step 1: Vectorize the k-mer data using countvectorizer- these preserves the k-mer names.\n",
        "#step 2: Use feature imp. fxn. to select top features sorted by their index.\n",
        "#step 3: Use feature names from step 1 and imp features from step 2 to plot.\n",
        "\n",
        "import pandas as pd\n",
        "from sklearn.feature_extraction.text import CountVectorizer\n",
        "import matplotlib.pyplot as plt\n",
        "import numpy as np\n",
        "from sklearn.ensemble import RandomForestClassifier\n",
        "from sklearn.model_selection import train_test_split\n",
        "\n",
        "# loaded the dna2vec word embedding file data\n",
        "# opened and read the respective files\n",
        "f_pos=open('Positive.w2v','r')\n",
        "f_neg=open('Negative.w2v','r')\n",
        "file_p=f_pos.read()\n",
        "file_n=f_neg.read()\n",
        "# took file content as a list of sequences\n",
        "# seperated by newline according to the indexing\n",
        "lis_p=[x.split() for x in file_p.split('\\n')[1:-1]]\n",
        "lis_n=[x.split() for x in file_n.split('\\n')[1:-1]]\n",
        "# converted the sequence values(string) into numerical values(float)\n",
        "list_p=[[float(x) for x in y[1:]] for y in lis_p]\n",
        "list_n=[[float(x) for x in y[1:]] for y in lis_n]\n",
        "# labelled natural sequence embeddings as 1\n",
        "l_pos=[x+[1] for x in list_p]\n",
        "# labelled synthetic sequence embeddings as 0\n",
        "l_neg=[x+[0] for x in list_n]\n",
        "# merged both the lists together\n",
        "l_whole = l_pos+l_neg\n",
        "# converted the list to arrray for model implementation\n",
        "dataset = np.array([np.array(x) for x in l_whole])\n",
        "\n",
        "# split data into X and Y\n",
        "# sequence embeddings\n",
        "X = dataset[:,:-1]\n",
        "# label of sequence embeddings\n",
        "Y = dataset[:,-1]\n",
        "\n",
        "# split the data into train and test using sklearn\n",
        "x_train, x_test, y_train, y_test = train_test_split(X, Y, test_size=0.33)\n",
        "# test_size defines test data to be split from train data\n",
        "\n",
        "# RF classifier model\n",
        "classifier=RandomForestClassifier(n_estimators=1000)\n",
        "\n",
        "# fit the training data into the model\n",
        "classifier.fit(x_train, y_train)\n",
        "\n",
        "# step 1\n",
        "# read data in a form where k-mer names are still preserved\n",
        "pos = pd.read_csv(\"Positive.w2v\", skiprows=1, sep=\" \", index_col=0, header=None)\n",
        "neg = pd.read_csv(\"Negative.w2v\", skiprows=1, sep=\" \", index_col=0, header=None)\n",
        "# this converts the index (i.e. k-mers) into a list\n",
        "p=pos.index.tolist()\n",
        "n=neg.index.tolist()\n",
        "posd=pos.index\n",
        "negd=neg.index\n",
        "whole=posd.append(negd)\n",
        "kmer=list(whole)\n",
        "\n",
        "# Load the text data\n",
        "corpus=kmer\n",
        "\n",
        "vectorizer = CountVectorizer()\n",
        "docs       = vectorizer.fit_transform(corpus)\n",
        "features   = vectorizer.get_feature_names()\n",
        "\n",
        "# step 2\n",
        "feature_name=np.array(features)\n",
        "\n",
        "\n",
        "# step 3\n",
        "sorted_idx = classifier.feature_importances_.argsort()#[::-1]\n",
        "n_top_features=50\n",
        "plt.figure(figsize=(8,10))\n",
        "plt.barh(feature_name[sorted_idx][:n_top_features ],classifier.feature_importances_[sorted_idx][:n_top_features ])\n",
        "plt.xlabel(\"RF feature Importance \")\n",
        "\n",
        "# Expected: Feature importance plot with distinct(?) labels/ realistic plot\n",
        "# Obtained: Feature importance plot with labels in which all top 50 feature are starting with 'A' which is unrealistic.\n",
        "# Probable source of error is mapping back to k-mer identity from the feature importance scores"
      ]
    },
    {
      "cell_type": "code",
      "source": [
        "#from google.colab import drive\n",
        "\n",
        "#drive.mount('/content/gdrive')"
      ],
      "metadata": {
        "id": "poZftD3t1h3p"
      },
      "execution_count": null,
      "outputs": []
    },
    {
      "cell_type": "markdown",
      "source": [
        "# New Section"
      ],
      "metadata": {
        "id": "9d8hJrNx1T80"
      }
    },
    {
      "cell_type": "code",
      "execution_count": null,
      "metadata": {
        "id": "6ao80jM9IUIx"
      },
      "outputs": [],
      "source": [
        "import pandas as pd\n",
        "import numpy as np\n",
        "pos = pd.read_csv(\"Positive.w2v\", skiprows=1, sep=\" \", index_col=0, header=None)\n",
        "neg = pd.read_csv(\"Negative.w2v\", skiprows=1, sep=\" \", index_col=0, header=None)\n",
        "pos['label']=1\n",
        "neg['label']=0\n",
        "#pos.loc[len(pos.index)] = 1\n",
        "#neg.loc[len(neg.index)] = 0\n",
        "df=pd.concat([pos,neg])"
      ]
    },
    {
      "cell_type": "code",
      "source": [
        "df.index.name='kmer'"
      ],
      "metadata": {
        "id": "6PaewDP-PQHl"
      },
      "execution_count": null,
      "outputs": []
    },
    {
      "cell_type": "code",
      "execution_count": null,
      "metadata": {
        "colab": {
          "base_uri": "https://localhost:8080/",
          "height": 519
        },
        "id": "EAG87G2AMzgl",
        "outputId": "f51b02ea-67a7-43ce-8849-e945463bbc94"
      },
      "outputs": [
        {
          "output_type": "execute_result",
          "data": {
            "text/plain": [
              "                 1         2         3         4         5         6  \\\n",
              "kmer                                                                   \n",
              "AAA       0.016915  0.322835  0.131150  0.070817 -0.030280 -0.306737   \n",
              "TTT      -0.109096 -0.037207  0.066408  0.147436  0.287220 -0.358406   \n",
              "ATT      -0.090613  0.113595  0.031042  0.159387  0.383659 -0.322753   \n",
              "AAT      -0.239650  0.353955  0.090713  0.078395  0.240194 -0.333905   \n",
              "TAT      -0.062182  0.027878 -0.075165  0.063000  0.003057 -0.319654   \n",
              "...            ...       ...       ...       ...       ...       ...   \n",
              "TAGGACCA  0.106411  0.495279  0.206531  0.228971  0.429446 -0.509633   \n",
              "GATTTCCG -0.187509  0.374865 -0.158780 -0.135634  0.189711 -0.275938   \n",
              "CGTTAGTG -0.291012  0.010884 -0.136627 -0.141700 -0.038370 -0.172673   \n",
              "ATACCACG  0.189555  0.057549 -0.557511  0.095863  0.238765 -0.629645   \n",
              "TACGCGAG  0.191463  0.153665 -0.170064  0.101628 -0.062787 -0.347101   \n",
              "\n",
              "                 7         8         9        10  ...        92        93  \\\n",
              "kmer                                              ...                       \n",
              "AAA      -0.207618  0.201128  0.158238 -0.133803  ... -0.116558 -0.075525   \n",
              "TTT       0.012874  0.403568 -0.399071 -0.344813  ...  0.179918  0.066376   \n",
              "ATT      -0.016817  0.800692 -0.558596 -0.262381  ...  0.283619  0.125634   \n",
              "AAT       0.303904  0.021025  0.278431 -0.305261  ... -0.079373  0.218583   \n",
              "TAT      -0.237341  0.312741 -0.158576 -0.139249  ...  0.156629 -0.014480   \n",
              "...            ...       ...       ...       ...  ...       ...       ...   \n",
              "TAGGACCA -0.135687  0.273039  0.307664  0.159464  ...  0.162983 -0.302108   \n",
              "GATTTCCG  0.182865  0.229256  0.141322  0.428438  ... -0.093126  0.064471   \n",
              "CGTTAGTG  0.381851  0.132617  0.388961  0.057979  ... -0.073841  0.028717   \n",
              "ATACCACG -0.344543  0.251519 -0.030560 -0.070003  ...  0.263433  0.084959   \n",
              "TACGCGAG -0.135636  0.136861 -0.104349  0.025614  ...       NaN       NaN   \n",
              "\n",
              "                94        95        96        97        98        99  \\\n",
              "kmer                                                                   \n",
              "AAA      -0.048841  0.368012 -0.120714 -0.058995 -0.249155  0.021157   \n",
              "TTT      -0.168358  0.005849  0.327118  0.233802 -0.130756  0.145600   \n",
              "ATT      -0.059604  0.250848  0.128366  0.148401  0.169002 -0.127059   \n",
              "AAT      -0.352159  0.497637  0.286045  0.322717 -0.033870  0.039967   \n",
              "TAT       0.203395  0.234819  0.005632  0.364867 -0.157491  0.106106   \n",
              "...            ...       ...       ...       ...       ...       ...   \n",
              "TAGGACCA  0.060607  0.056403 -0.148701 -0.082332  0.285249 -0.173184   \n",
              "GATTTCCG -0.043224  0.341864  0.683637 -0.010789 -0.353016 -0.067350   \n",
              "CGTTAGTG -0.564660 -0.099846 -0.064883  0.301095 -0.700347  0.225939   \n",
              "ATACCACG  0.555458  0.203269  0.296981 -0.581083 -0.156685 -0.075029   \n",
              "TACGCGAG       NaN       NaN       NaN       NaN       NaN       NaN   \n",
              "\n",
              "               100  label  \n",
              "kmer                       \n",
              "AAA       0.184038      1  \n",
              "TTT      -0.114470      1  \n",
              "ATT      -0.086506      1  \n",
              "AAT       0.370173      1  \n",
              "TAT       0.283219      1  \n",
              "...            ...    ...  \n",
              "TAGGACCA  0.039586      0  \n",
              "GATTTCCG -0.023797      0  \n",
              "CGTTAGTG -0.101893      0  \n",
              "ATACCACG  0.255494      0  \n",
              "TACGCGAG       NaN      0  \n",
              "\n",
              "[125986 rows x 101 columns]"
            ],
            "text/html": [
              "\n",
              "  <div id=\"df-35c95043-73d1-46d3-83d5-6a12bf8fd278\">\n",
              "    <div class=\"colab-df-container\">\n",
              "      <div>\n",
              "<style scoped>\n",
              "    .dataframe tbody tr th:only-of-type {\n",
              "        vertical-align: middle;\n",
              "    }\n",
              "\n",
              "    .dataframe tbody tr th {\n",
              "        vertical-align: top;\n",
              "    }\n",
              "\n",
              "    .dataframe thead th {\n",
              "        text-align: right;\n",
              "    }\n",
              "</style>\n",
              "<table border=\"1\" class=\"dataframe\">\n",
              "  <thead>\n",
              "    <tr style=\"text-align: right;\">\n",
              "      <th></th>\n",
              "      <th>1</th>\n",
              "      <th>2</th>\n",
              "      <th>3</th>\n",
              "      <th>4</th>\n",
              "      <th>5</th>\n",
              "      <th>6</th>\n",
              "      <th>7</th>\n",
              "      <th>8</th>\n",
              "      <th>9</th>\n",
              "      <th>10</th>\n",
              "      <th>...</th>\n",
              "      <th>92</th>\n",
              "      <th>93</th>\n",
              "      <th>94</th>\n",
              "      <th>95</th>\n",
              "      <th>96</th>\n",
              "      <th>97</th>\n",
              "      <th>98</th>\n",
              "      <th>99</th>\n",
              "      <th>100</th>\n",
              "      <th>label</th>\n",
              "    </tr>\n",
              "    <tr>\n",
              "      <th>kmer</th>\n",
              "      <th></th>\n",
              "      <th></th>\n",
              "      <th></th>\n",
              "      <th></th>\n",
              "      <th></th>\n",
              "      <th></th>\n",
              "      <th></th>\n",
              "      <th></th>\n",
              "      <th></th>\n",
              "      <th></th>\n",
              "      <th></th>\n",
              "      <th></th>\n",
              "      <th></th>\n",
              "      <th></th>\n",
              "      <th></th>\n",
              "      <th></th>\n",
              "      <th></th>\n",
              "      <th></th>\n",
              "      <th></th>\n",
              "      <th></th>\n",
              "      <th></th>\n",
              "    </tr>\n",
              "  </thead>\n",
              "  <tbody>\n",
              "    <tr>\n",
              "      <th>AAA</th>\n",
              "      <td>0.016915</td>\n",
              "      <td>0.322835</td>\n",
              "      <td>0.131150</td>\n",
              "      <td>0.070817</td>\n",
              "      <td>-0.030280</td>\n",
              "      <td>-0.306737</td>\n",
              "      <td>-0.207618</td>\n",
              "      <td>0.201128</td>\n",
              "      <td>0.158238</td>\n",
              "      <td>-0.133803</td>\n",
              "      <td>...</td>\n",
              "      <td>-0.116558</td>\n",
              "      <td>-0.075525</td>\n",
              "      <td>-0.048841</td>\n",
              "      <td>0.368012</td>\n",
              "      <td>-0.120714</td>\n",
              "      <td>-0.058995</td>\n",
              "      <td>-0.249155</td>\n",
              "      <td>0.021157</td>\n",
              "      <td>0.184038</td>\n",
              "      <td>1</td>\n",
              "    </tr>\n",
              "    <tr>\n",
              "      <th>TTT</th>\n",
              "      <td>-0.109096</td>\n",
              "      <td>-0.037207</td>\n",
              "      <td>0.066408</td>\n",
              "      <td>0.147436</td>\n",
              "      <td>0.287220</td>\n",
              "      <td>-0.358406</td>\n",
              "      <td>0.012874</td>\n",
              "      <td>0.403568</td>\n",
              "      <td>-0.399071</td>\n",
              "      <td>-0.344813</td>\n",
              "      <td>...</td>\n",
              "      <td>0.179918</td>\n",
              "      <td>0.066376</td>\n",
              "      <td>-0.168358</td>\n",
              "      <td>0.005849</td>\n",
              "      <td>0.327118</td>\n",
              "      <td>0.233802</td>\n",
              "      <td>-0.130756</td>\n",
              "      <td>0.145600</td>\n",
              "      <td>-0.114470</td>\n",
              "      <td>1</td>\n",
              "    </tr>\n",
              "    <tr>\n",
              "      <th>ATT</th>\n",
              "      <td>-0.090613</td>\n",
              "      <td>0.113595</td>\n",
              "      <td>0.031042</td>\n",
              "      <td>0.159387</td>\n",
              "      <td>0.383659</td>\n",
              "      <td>-0.322753</td>\n",
              "      <td>-0.016817</td>\n",
              "      <td>0.800692</td>\n",
              "      <td>-0.558596</td>\n",
              "      <td>-0.262381</td>\n",
              "      <td>...</td>\n",
              "      <td>0.283619</td>\n",
              "      <td>0.125634</td>\n",
              "      <td>-0.059604</td>\n",
              "      <td>0.250848</td>\n",
              "      <td>0.128366</td>\n",
              "      <td>0.148401</td>\n",
              "      <td>0.169002</td>\n",
              "      <td>-0.127059</td>\n",
              "      <td>-0.086506</td>\n",
              "      <td>1</td>\n",
              "    </tr>\n",
              "    <tr>\n",
              "      <th>AAT</th>\n",
              "      <td>-0.239650</td>\n",
              "      <td>0.353955</td>\n",
              "      <td>0.090713</td>\n",
              "      <td>0.078395</td>\n",
              "      <td>0.240194</td>\n",
              "      <td>-0.333905</td>\n",
              "      <td>0.303904</td>\n",
              "      <td>0.021025</td>\n",
              "      <td>0.278431</td>\n",
              "      <td>-0.305261</td>\n",
              "      <td>...</td>\n",
              "      <td>-0.079373</td>\n",
              "      <td>0.218583</td>\n",
              "      <td>-0.352159</td>\n",
              "      <td>0.497637</td>\n",
              "      <td>0.286045</td>\n",
              "      <td>0.322717</td>\n",
              "      <td>-0.033870</td>\n",
              "      <td>0.039967</td>\n",
              "      <td>0.370173</td>\n",
              "      <td>1</td>\n",
              "    </tr>\n",
              "    <tr>\n",
              "      <th>TAT</th>\n",
              "      <td>-0.062182</td>\n",
              "      <td>0.027878</td>\n",
              "      <td>-0.075165</td>\n",
              "      <td>0.063000</td>\n",
              "      <td>0.003057</td>\n",
              "      <td>-0.319654</td>\n",
              "      <td>-0.237341</td>\n",
              "      <td>0.312741</td>\n",
              "      <td>-0.158576</td>\n",
              "      <td>-0.139249</td>\n",
              "      <td>...</td>\n",
              "      <td>0.156629</td>\n",
              "      <td>-0.014480</td>\n",
              "      <td>0.203395</td>\n",
              "      <td>0.234819</td>\n",
              "      <td>0.005632</td>\n",
              "      <td>0.364867</td>\n",
              "      <td>-0.157491</td>\n",
              "      <td>0.106106</td>\n",
              "      <td>0.283219</td>\n",
              "      <td>1</td>\n",
              "    </tr>\n",
              "    <tr>\n",
              "      <th>...</th>\n",
              "      <td>...</td>\n",
              "      <td>...</td>\n",
              "      <td>...</td>\n",
              "      <td>...</td>\n",
              "      <td>...</td>\n",
              "      <td>...</td>\n",
              "      <td>...</td>\n",
              "      <td>...</td>\n",
              "      <td>...</td>\n",
              "      <td>...</td>\n",
              "      <td>...</td>\n",
              "      <td>...</td>\n",
              "      <td>...</td>\n",
              "      <td>...</td>\n",
              "      <td>...</td>\n",
              "      <td>...</td>\n",
              "      <td>...</td>\n",
              "      <td>...</td>\n",
              "      <td>...</td>\n",
              "      <td>...</td>\n",
              "      <td>...</td>\n",
              "    </tr>\n",
              "    <tr>\n",
              "      <th>TAGGACCA</th>\n",
              "      <td>0.106411</td>\n",
              "      <td>0.495279</td>\n",
              "      <td>0.206531</td>\n",
              "      <td>0.228971</td>\n",
              "      <td>0.429446</td>\n",
              "      <td>-0.509633</td>\n",
              "      <td>-0.135687</td>\n",
              "      <td>0.273039</td>\n",
              "      <td>0.307664</td>\n",
              "      <td>0.159464</td>\n",
              "      <td>...</td>\n",
              "      <td>0.162983</td>\n",
              "      <td>-0.302108</td>\n",
              "      <td>0.060607</td>\n",
              "      <td>0.056403</td>\n",
              "      <td>-0.148701</td>\n",
              "      <td>-0.082332</td>\n",
              "      <td>0.285249</td>\n",
              "      <td>-0.173184</td>\n",
              "      <td>0.039586</td>\n",
              "      <td>0</td>\n",
              "    </tr>\n",
              "    <tr>\n",
              "      <th>GATTTCCG</th>\n",
              "      <td>-0.187509</td>\n",
              "      <td>0.374865</td>\n",
              "      <td>-0.158780</td>\n",
              "      <td>-0.135634</td>\n",
              "      <td>0.189711</td>\n",
              "      <td>-0.275938</td>\n",
              "      <td>0.182865</td>\n",
              "      <td>0.229256</td>\n",
              "      <td>0.141322</td>\n",
              "      <td>0.428438</td>\n",
              "      <td>...</td>\n",
              "      <td>-0.093126</td>\n",
              "      <td>0.064471</td>\n",
              "      <td>-0.043224</td>\n",
              "      <td>0.341864</td>\n",
              "      <td>0.683637</td>\n",
              "      <td>-0.010789</td>\n",
              "      <td>-0.353016</td>\n",
              "      <td>-0.067350</td>\n",
              "      <td>-0.023797</td>\n",
              "      <td>0</td>\n",
              "    </tr>\n",
              "    <tr>\n",
              "      <th>CGTTAGTG</th>\n",
              "      <td>-0.291012</td>\n",
              "      <td>0.010884</td>\n",
              "      <td>-0.136627</td>\n",
              "      <td>-0.141700</td>\n",
              "      <td>-0.038370</td>\n",
              "      <td>-0.172673</td>\n",
              "      <td>0.381851</td>\n",
              "      <td>0.132617</td>\n",
              "      <td>0.388961</td>\n",
              "      <td>0.057979</td>\n",
              "      <td>...</td>\n",
              "      <td>-0.073841</td>\n",
              "      <td>0.028717</td>\n",
              "      <td>-0.564660</td>\n",
              "      <td>-0.099846</td>\n",
              "      <td>-0.064883</td>\n",
              "      <td>0.301095</td>\n",
              "      <td>-0.700347</td>\n",
              "      <td>0.225939</td>\n",
              "      <td>-0.101893</td>\n",
              "      <td>0</td>\n",
              "    </tr>\n",
              "    <tr>\n",
              "      <th>ATACCACG</th>\n",
              "      <td>0.189555</td>\n",
              "      <td>0.057549</td>\n",
              "      <td>-0.557511</td>\n",
              "      <td>0.095863</td>\n",
              "      <td>0.238765</td>\n",
              "      <td>-0.629645</td>\n",
              "      <td>-0.344543</td>\n",
              "      <td>0.251519</td>\n",
              "      <td>-0.030560</td>\n",
              "      <td>-0.070003</td>\n",
              "      <td>...</td>\n",
              "      <td>0.263433</td>\n",
              "      <td>0.084959</td>\n",
              "      <td>0.555458</td>\n",
              "      <td>0.203269</td>\n",
              "      <td>0.296981</td>\n",
              "      <td>-0.581083</td>\n",
              "      <td>-0.156685</td>\n",
              "      <td>-0.075029</td>\n",
              "      <td>0.255494</td>\n",
              "      <td>0</td>\n",
              "    </tr>\n",
              "    <tr>\n",
              "      <th>TACGCGAG</th>\n",
              "      <td>0.191463</td>\n",
              "      <td>0.153665</td>\n",
              "      <td>-0.170064</td>\n",
              "      <td>0.101628</td>\n",
              "      <td>-0.062787</td>\n",
              "      <td>-0.347101</td>\n",
              "      <td>-0.135636</td>\n",
              "      <td>0.136861</td>\n",
              "      <td>-0.104349</td>\n",
              "      <td>0.025614</td>\n",
              "      <td>...</td>\n",
              "      <td>NaN</td>\n",
              "      <td>NaN</td>\n",
              "      <td>NaN</td>\n",
              "      <td>NaN</td>\n",
              "      <td>NaN</td>\n",
              "      <td>NaN</td>\n",
              "      <td>NaN</td>\n",
              "      <td>NaN</td>\n",
              "      <td>NaN</td>\n",
              "      <td>0</td>\n",
              "    </tr>\n",
              "  </tbody>\n",
              "</table>\n",
              "<p>125986 rows × 101 columns</p>\n",
              "</div>\n",
              "      <button class=\"colab-df-convert\" onclick=\"convertToInteractive('df-35c95043-73d1-46d3-83d5-6a12bf8fd278')\"\n",
              "              title=\"Convert this dataframe to an interactive table.\"\n",
              "              style=\"display:none;\">\n",
              "        \n",
              "  <svg xmlns=\"http://www.w3.org/2000/svg\" height=\"24px\"viewBox=\"0 0 24 24\"\n",
              "       width=\"24px\">\n",
              "    <path d=\"M0 0h24v24H0V0z\" fill=\"none\"/>\n",
              "    <path d=\"M18.56 5.44l.94 2.06.94-2.06 2.06-.94-2.06-.94-.94-2.06-.94 2.06-2.06.94zm-11 1L8.5 8.5l.94-2.06 2.06-.94-2.06-.94L8.5 2.5l-.94 2.06-2.06.94zm10 10l.94 2.06.94-2.06 2.06-.94-2.06-.94-.94-2.06-.94 2.06-2.06.94z\"/><path d=\"M17.41 7.96l-1.37-1.37c-.4-.4-.92-.59-1.43-.59-.52 0-1.04.2-1.43.59L10.3 9.45l-7.72 7.72c-.78.78-.78 2.05 0 2.83L4 21.41c.39.39.9.59 1.41.59.51 0 1.02-.2 1.41-.59l7.78-7.78 2.81-2.81c.8-.78.8-2.07 0-2.86zM5.41 20L4 18.59l7.72-7.72 1.47 1.35L5.41 20z\"/>\n",
              "  </svg>\n",
              "      </button>\n",
              "      \n",
              "  <style>\n",
              "    .colab-df-container {\n",
              "      display:flex;\n",
              "      flex-wrap:wrap;\n",
              "      gap: 12px;\n",
              "    }\n",
              "\n",
              "    .colab-df-convert {\n",
              "      background-color: #E8F0FE;\n",
              "      border: none;\n",
              "      border-radius: 50%;\n",
              "      cursor: pointer;\n",
              "      display: none;\n",
              "      fill: #1967D2;\n",
              "      height: 32px;\n",
              "      padding: 0 0 0 0;\n",
              "      width: 32px;\n",
              "    }\n",
              "\n",
              "    .colab-df-convert:hover {\n",
              "      background-color: #E2EBFA;\n",
              "      box-shadow: 0px 1px 2px rgba(60, 64, 67, 0.3), 0px 1px 3px 1px rgba(60, 64, 67, 0.15);\n",
              "      fill: #174EA6;\n",
              "    }\n",
              "\n",
              "    [theme=dark] .colab-df-convert {\n",
              "      background-color: #3B4455;\n",
              "      fill: #D2E3FC;\n",
              "    }\n",
              "\n",
              "    [theme=dark] .colab-df-convert:hover {\n",
              "      background-color: #434B5C;\n",
              "      box-shadow: 0px 1px 3px 1px rgba(0, 0, 0, 0.15);\n",
              "      filter: drop-shadow(0px 1px 2px rgba(0, 0, 0, 0.3));\n",
              "      fill: #FFFFFF;\n",
              "    }\n",
              "  </style>\n",
              "\n",
              "      <script>\n",
              "        const buttonEl =\n",
              "          document.querySelector('#df-35c95043-73d1-46d3-83d5-6a12bf8fd278 button.colab-df-convert');\n",
              "        buttonEl.style.display =\n",
              "          google.colab.kernel.accessAllowed ? 'block' : 'none';\n",
              "\n",
              "        async function convertToInteractive(key) {\n",
              "          const element = document.querySelector('#df-35c95043-73d1-46d3-83d5-6a12bf8fd278');\n",
              "          const dataTable =\n",
              "            await google.colab.kernel.invokeFunction('convertToInteractive',\n",
              "                                                     [key], {});\n",
              "          if (!dataTable) return;\n",
              "\n",
              "          const docLinkHtml = 'Like what you see? Visit the ' +\n",
              "            '<a target=\"_blank\" href=https://colab.research.google.com/notebooks/data_table.ipynb>data table notebook</a>'\n",
              "            + ' to learn more about interactive tables.';\n",
              "          element.innerHTML = '';\n",
              "          dataTable['output_type'] = 'display_data';\n",
              "          await google.colab.output.renderOutput(dataTable, element);\n",
              "          const docLink = document.createElement('div');\n",
              "          docLink.innerHTML = docLinkHtml;\n",
              "          element.appendChild(docLink);\n",
              "        }\n",
              "      </script>\n",
              "    </div>\n",
              "  </div>\n",
              "  "
            ]
          },
          "metadata": {},
          "execution_count": 4
        }
      ],
      "source": [
        "df"
      ]
    },
    {
      "cell_type": "code",
      "source": [
        "dft=df.transpose()\n",
        "dft.tail()"
      ],
      "metadata": {
        "colab": {
          "base_uri": "https://localhost:8080/",
          "height": 300
        },
        "id": "xawycs7W1hGs",
        "outputId": "8b6a8751-3fae-49bc-f700-28d9e8746173"
      },
      "execution_count": null,
      "outputs": [
        {
          "output_type": "execute_result",
          "data": {
            "text/plain": [
              "kmer        AAA       TTT       ATT       AAT       TAT       ATA       GAA  \\\n",
              "97    -0.058995  0.233802  0.148401  0.322717  0.364867 -0.021811  0.152268   \n",
              "98    -0.249155 -0.130756  0.169002 -0.033870 -0.157491 -0.425864 -0.125361   \n",
              "99     0.021157  0.145600 -0.127059  0.039967  0.106106  0.077559  0.023228   \n",
              "100    0.184038 -0.114470 -0.086506  0.370173  0.283219  0.136510  0.054883   \n",
              "label  1.000000  1.000000  1.000000  1.000000  1.000000  1.000000  1.000000   \n",
              "\n",
              "kmer        TTC       TAA       TTA  ...  CCCTATAG  TACTAGGG  GCTCAGAG  \\\n",
              "97     0.142137  0.135692  0.246826  ... -0.070683 -0.192695  0.147718   \n",
              "98     0.195650  0.147365 -0.528859  ... -0.241004 -0.143762  0.072492   \n",
              "99     0.165059 -0.088545  0.026572  ...  0.166275 -0.260978  0.006712   \n",
              "100   -0.163474 -0.026838 -0.147575  ... -0.405260  0.025204  0.262136   \n",
              "label  1.000000  1.000000  1.000000  ...  0.000000  0.000000  0.000000   \n",
              "\n",
              "kmer   GACAGGTT  GGCGAATT  TAGGACCA  GATTTCCG  CGTTAGTG  ATACCACG  TACGCGAG  \n",
              "97     0.172726  0.078062 -0.082332 -0.010789  0.301095 -0.581083       NaN  \n",
              "98    -0.755591 -0.107410  0.285249 -0.353016 -0.700347 -0.156685       NaN  \n",
              "99     0.120237 -0.096686 -0.173184 -0.067350  0.225939 -0.075029       NaN  \n",
              "100   -0.009751  0.213172  0.039586 -0.023797 -0.101893  0.255494       NaN  \n",
              "label  0.000000  0.000000  0.000000  0.000000  0.000000  0.000000       0.0  \n",
              "\n",
              "[5 rows x 125986 columns]"
            ],
            "text/html": [
              "\n",
              "  <div id=\"df-3cdfc225-092b-467b-a5a7-8790d5c57754\">\n",
              "    <div class=\"colab-df-container\">\n",
              "      <div>\n",
              "<style scoped>\n",
              "    .dataframe tbody tr th:only-of-type {\n",
              "        vertical-align: middle;\n",
              "    }\n",
              "\n",
              "    .dataframe tbody tr th {\n",
              "        vertical-align: top;\n",
              "    }\n",
              "\n",
              "    .dataframe thead th {\n",
              "        text-align: right;\n",
              "    }\n",
              "</style>\n",
              "<table border=\"1\" class=\"dataframe\">\n",
              "  <thead>\n",
              "    <tr style=\"text-align: right;\">\n",
              "      <th>kmer</th>\n",
              "      <th>AAA</th>\n",
              "      <th>TTT</th>\n",
              "      <th>ATT</th>\n",
              "      <th>AAT</th>\n",
              "      <th>TAT</th>\n",
              "      <th>ATA</th>\n",
              "      <th>GAA</th>\n",
              "      <th>TTC</th>\n",
              "      <th>TAA</th>\n",
              "      <th>TTA</th>\n",
              "      <th>...</th>\n",
              "      <th>CCCTATAG</th>\n",
              "      <th>TACTAGGG</th>\n",
              "      <th>GCTCAGAG</th>\n",
              "      <th>GACAGGTT</th>\n",
              "      <th>GGCGAATT</th>\n",
              "      <th>TAGGACCA</th>\n",
              "      <th>GATTTCCG</th>\n",
              "      <th>CGTTAGTG</th>\n",
              "      <th>ATACCACG</th>\n",
              "      <th>TACGCGAG</th>\n",
              "    </tr>\n",
              "  </thead>\n",
              "  <tbody>\n",
              "    <tr>\n",
              "      <th>97</th>\n",
              "      <td>-0.058995</td>\n",
              "      <td>0.233802</td>\n",
              "      <td>0.148401</td>\n",
              "      <td>0.322717</td>\n",
              "      <td>0.364867</td>\n",
              "      <td>-0.021811</td>\n",
              "      <td>0.152268</td>\n",
              "      <td>0.142137</td>\n",
              "      <td>0.135692</td>\n",
              "      <td>0.246826</td>\n",
              "      <td>...</td>\n",
              "      <td>-0.070683</td>\n",
              "      <td>-0.192695</td>\n",
              "      <td>0.147718</td>\n",
              "      <td>0.172726</td>\n",
              "      <td>0.078062</td>\n",
              "      <td>-0.082332</td>\n",
              "      <td>-0.010789</td>\n",
              "      <td>0.301095</td>\n",
              "      <td>-0.581083</td>\n",
              "      <td>NaN</td>\n",
              "    </tr>\n",
              "    <tr>\n",
              "      <th>98</th>\n",
              "      <td>-0.249155</td>\n",
              "      <td>-0.130756</td>\n",
              "      <td>0.169002</td>\n",
              "      <td>-0.033870</td>\n",
              "      <td>-0.157491</td>\n",
              "      <td>-0.425864</td>\n",
              "      <td>-0.125361</td>\n",
              "      <td>0.195650</td>\n",
              "      <td>0.147365</td>\n",
              "      <td>-0.528859</td>\n",
              "      <td>...</td>\n",
              "      <td>-0.241004</td>\n",
              "      <td>-0.143762</td>\n",
              "      <td>0.072492</td>\n",
              "      <td>-0.755591</td>\n",
              "      <td>-0.107410</td>\n",
              "      <td>0.285249</td>\n",
              "      <td>-0.353016</td>\n",
              "      <td>-0.700347</td>\n",
              "      <td>-0.156685</td>\n",
              "      <td>NaN</td>\n",
              "    </tr>\n",
              "    <tr>\n",
              "      <th>99</th>\n",
              "      <td>0.021157</td>\n",
              "      <td>0.145600</td>\n",
              "      <td>-0.127059</td>\n",
              "      <td>0.039967</td>\n",
              "      <td>0.106106</td>\n",
              "      <td>0.077559</td>\n",
              "      <td>0.023228</td>\n",
              "      <td>0.165059</td>\n",
              "      <td>-0.088545</td>\n",
              "      <td>0.026572</td>\n",
              "      <td>...</td>\n",
              "      <td>0.166275</td>\n",
              "      <td>-0.260978</td>\n",
              "      <td>0.006712</td>\n",
              "      <td>0.120237</td>\n",
              "      <td>-0.096686</td>\n",
              "      <td>-0.173184</td>\n",
              "      <td>-0.067350</td>\n",
              "      <td>0.225939</td>\n",
              "      <td>-0.075029</td>\n",
              "      <td>NaN</td>\n",
              "    </tr>\n",
              "    <tr>\n",
              "      <th>100</th>\n",
              "      <td>0.184038</td>\n",
              "      <td>-0.114470</td>\n",
              "      <td>-0.086506</td>\n",
              "      <td>0.370173</td>\n",
              "      <td>0.283219</td>\n",
              "      <td>0.136510</td>\n",
              "      <td>0.054883</td>\n",
              "      <td>-0.163474</td>\n",
              "      <td>-0.026838</td>\n",
              "      <td>-0.147575</td>\n",
              "      <td>...</td>\n",
              "      <td>-0.405260</td>\n",
              "      <td>0.025204</td>\n",
              "      <td>0.262136</td>\n",
              "      <td>-0.009751</td>\n",
              "      <td>0.213172</td>\n",
              "      <td>0.039586</td>\n",
              "      <td>-0.023797</td>\n",
              "      <td>-0.101893</td>\n",
              "      <td>0.255494</td>\n",
              "      <td>NaN</td>\n",
              "    </tr>\n",
              "    <tr>\n",
              "      <th>label</th>\n",
              "      <td>1.000000</td>\n",
              "      <td>1.000000</td>\n",
              "      <td>1.000000</td>\n",
              "      <td>1.000000</td>\n",
              "      <td>1.000000</td>\n",
              "      <td>1.000000</td>\n",
              "      <td>1.000000</td>\n",
              "      <td>1.000000</td>\n",
              "      <td>1.000000</td>\n",
              "      <td>1.000000</td>\n",
              "      <td>...</td>\n",
              "      <td>0.000000</td>\n",
              "      <td>0.000000</td>\n",
              "      <td>0.000000</td>\n",
              "      <td>0.000000</td>\n",
              "      <td>0.000000</td>\n",
              "      <td>0.000000</td>\n",
              "      <td>0.000000</td>\n",
              "      <td>0.000000</td>\n",
              "      <td>0.000000</td>\n",
              "      <td>0.0</td>\n",
              "    </tr>\n",
              "  </tbody>\n",
              "</table>\n",
              "<p>5 rows × 125986 columns</p>\n",
              "</div>\n",
              "      <button class=\"colab-df-convert\" onclick=\"convertToInteractive('df-3cdfc225-092b-467b-a5a7-8790d5c57754')\"\n",
              "              title=\"Convert this dataframe to an interactive table.\"\n",
              "              style=\"display:none;\">\n",
              "        \n",
              "  <svg xmlns=\"http://www.w3.org/2000/svg\" height=\"24px\"viewBox=\"0 0 24 24\"\n",
              "       width=\"24px\">\n",
              "    <path d=\"M0 0h24v24H0V0z\" fill=\"none\"/>\n",
              "    <path d=\"M18.56 5.44l.94 2.06.94-2.06 2.06-.94-2.06-.94-.94-2.06-.94 2.06-2.06.94zm-11 1L8.5 8.5l.94-2.06 2.06-.94-2.06-.94L8.5 2.5l-.94 2.06-2.06.94zm10 10l.94 2.06.94-2.06 2.06-.94-2.06-.94-.94-2.06-.94 2.06-2.06.94z\"/><path d=\"M17.41 7.96l-1.37-1.37c-.4-.4-.92-.59-1.43-.59-.52 0-1.04.2-1.43.59L10.3 9.45l-7.72 7.72c-.78.78-.78 2.05 0 2.83L4 21.41c.39.39.9.59 1.41.59.51 0 1.02-.2 1.41-.59l7.78-7.78 2.81-2.81c.8-.78.8-2.07 0-2.86zM5.41 20L4 18.59l7.72-7.72 1.47 1.35L5.41 20z\"/>\n",
              "  </svg>\n",
              "      </button>\n",
              "      \n",
              "  <style>\n",
              "    .colab-df-container {\n",
              "      display:flex;\n",
              "      flex-wrap:wrap;\n",
              "      gap: 12px;\n",
              "    }\n",
              "\n",
              "    .colab-df-convert {\n",
              "      background-color: #E8F0FE;\n",
              "      border: none;\n",
              "      border-radius: 50%;\n",
              "      cursor: pointer;\n",
              "      display: none;\n",
              "      fill: #1967D2;\n",
              "      height: 32px;\n",
              "      padding: 0 0 0 0;\n",
              "      width: 32px;\n",
              "    }\n",
              "\n",
              "    .colab-df-convert:hover {\n",
              "      background-color: #E2EBFA;\n",
              "      box-shadow: 0px 1px 2px rgba(60, 64, 67, 0.3), 0px 1px 3px 1px rgba(60, 64, 67, 0.15);\n",
              "      fill: #174EA6;\n",
              "    }\n",
              "\n",
              "    [theme=dark] .colab-df-convert {\n",
              "      background-color: #3B4455;\n",
              "      fill: #D2E3FC;\n",
              "    }\n",
              "\n",
              "    [theme=dark] .colab-df-convert:hover {\n",
              "      background-color: #434B5C;\n",
              "      box-shadow: 0px 1px 3px 1px rgba(0, 0, 0, 0.15);\n",
              "      filter: drop-shadow(0px 1px 2px rgba(0, 0, 0, 0.3));\n",
              "      fill: #FFFFFF;\n",
              "    }\n",
              "  </style>\n",
              "\n",
              "      <script>\n",
              "        const buttonEl =\n",
              "          document.querySelector('#df-3cdfc225-092b-467b-a5a7-8790d5c57754 button.colab-df-convert');\n",
              "        buttonEl.style.display =\n",
              "          google.colab.kernel.accessAllowed ? 'block' : 'none';\n",
              "\n",
              "        async function convertToInteractive(key) {\n",
              "          const element = document.querySelector('#df-3cdfc225-092b-467b-a5a7-8790d5c57754');\n",
              "          const dataTable =\n",
              "            await google.colab.kernel.invokeFunction('convertToInteractive',\n",
              "                                                     [key], {});\n",
              "          if (!dataTable) return;\n",
              "\n",
              "          const docLinkHtml = 'Like what you see? Visit the ' +\n",
              "            '<a target=\"_blank\" href=https://colab.research.google.com/notebooks/data_table.ipynb>data table notebook</a>'\n",
              "            + ' to learn more about interactive tables.';\n",
              "          element.innerHTML = '';\n",
              "          dataTable['output_type'] = 'display_data';\n",
              "          await google.colab.output.renderOutput(dataTable, element);\n",
              "          const docLink = document.createElement('div');\n",
              "          docLink.innerHTML = docLinkHtml;\n",
              "          element.appendChild(docLink);\n",
              "        }\n",
              "      </script>\n",
              "    </div>\n",
              "  </div>\n",
              "  "
            ]
          },
          "metadata": {},
          "execution_count": 5
        }
      ]
    },
    {
      "cell_type": "code",
      "source": [
        "dft=dft.replace(np.nan, 0)\n",
        "dft.head()"
      ],
      "metadata": {
        "colab": {
          "base_uri": "https://localhost:8080/",
          "height": 300
        },
        "id": "HrDnOU1h7iRA",
        "outputId": "4d1fba80-b596-4759-ba24-dc10f0cc1dec"
      },
      "execution_count": null,
      "outputs": [
        {
          "output_type": "execute_result",
          "data": {
            "text/plain": [
              "kmer       AAA       TTT       ATT       AAT       TAT       ATA       GAA  \\\n",
              "1     0.016915 -0.109096 -0.090613 -0.239650 -0.062182  0.029365  0.317556   \n",
              "2     0.322835 -0.037207  0.113595  0.353955  0.027878  0.696053  0.115029   \n",
              "3     0.131150  0.066408  0.031042  0.090713 -0.075165 -0.024840 -0.137762   \n",
              "4     0.070817  0.147436  0.159387  0.078395  0.063000 -0.195759  0.053571   \n",
              "5    -0.030280  0.287220  0.383659  0.240194  0.003057  0.064750  0.110841   \n",
              "\n",
              "kmer       TTC       TAA       TTA  ...  CCCTATAG  TACTAGGG  GCTCAGAG  \\\n",
              "1     0.047777 -0.162762 -0.154067  ...  0.291157  0.132477  0.010036   \n",
              "2     0.465088  0.314696  0.007092  ...  0.442097  0.248967  0.515634   \n",
              "3     0.252931  0.135344 -0.097572  ...  0.263182  0.351988  0.117331   \n",
              "4     0.441376  0.216810 -0.031003  ...  0.203443 -0.042067  0.122405   \n",
              "5    -0.087496  0.313669  0.104678  ...  0.168751  0.174801 -0.709100   \n",
              "\n",
              "kmer  GACAGGTT  GGCGAATT  TAGGACCA  GATTTCCG  CGTTAGTG  ATACCACG  TACGCGAG  \n",
              "1    -0.380499  0.096479  0.106411 -0.187509 -0.291012  0.189555  0.191463  \n",
              "2     0.133404  0.206326  0.495279  0.374865  0.010884  0.057549  0.153665  \n",
              "3    -0.002654  0.191885  0.206531 -0.158780 -0.136627 -0.557511 -0.170064  \n",
              "4     0.244058 -0.379906  0.228971 -0.135634 -0.141700  0.095863  0.101628  \n",
              "5    -0.033630  0.053831  0.429446  0.189711 -0.038370  0.238765 -0.062787  \n",
              "\n",
              "[5 rows x 125986 columns]"
            ],
            "text/html": [
              "\n",
              "  <div id=\"df-563b9545-a1cb-46a0-bfc5-ba4f5c972111\">\n",
              "    <div class=\"colab-df-container\">\n",
              "      <div>\n",
              "<style scoped>\n",
              "    .dataframe tbody tr th:only-of-type {\n",
              "        vertical-align: middle;\n",
              "    }\n",
              "\n",
              "    .dataframe tbody tr th {\n",
              "        vertical-align: top;\n",
              "    }\n",
              "\n",
              "    .dataframe thead th {\n",
              "        text-align: right;\n",
              "    }\n",
              "</style>\n",
              "<table border=\"1\" class=\"dataframe\">\n",
              "  <thead>\n",
              "    <tr style=\"text-align: right;\">\n",
              "      <th>kmer</th>\n",
              "      <th>AAA</th>\n",
              "      <th>TTT</th>\n",
              "      <th>ATT</th>\n",
              "      <th>AAT</th>\n",
              "      <th>TAT</th>\n",
              "      <th>ATA</th>\n",
              "      <th>GAA</th>\n",
              "      <th>TTC</th>\n",
              "      <th>TAA</th>\n",
              "      <th>TTA</th>\n",
              "      <th>...</th>\n",
              "      <th>CCCTATAG</th>\n",
              "      <th>TACTAGGG</th>\n",
              "      <th>GCTCAGAG</th>\n",
              "      <th>GACAGGTT</th>\n",
              "      <th>GGCGAATT</th>\n",
              "      <th>TAGGACCA</th>\n",
              "      <th>GATTTCCG</th>\n",
              "      <th>CGTTAGTG</th>\n",
              "      <th>ATACCACG</th>\n",
              "      <th>TACGCGAG</th>\n",
              "    </tr>\n",
              "  </thead>\n",
              "  <tbody>\n",
              "    <tr>\n",
              "      <th>1</th>\n",
              "      <td>0.016915</td>\n",
              "      <td>-0.109096</td>\n",
              "      <td>-0.090613</td>\n",
              "      <td>-0.239650</td>\n",
              "      <td>-0.062182</td>\n",
              "      <td>0.029365</td>\n",
              "      <td>0.317556</td>\n",
              "      <td>0.047777</td>\n",
              "      <td>-0.162762</td>\n",
              "      <td>-0.154067</td>\n",
              "      <td>...</td>\n",
              "      <td>0.291157</td>\n",
              "      <td>0.132477</td>\n",
              "      <td>0.010036</td>\n",
              "      <td>-0.380499</td>\n",
              "      <td>0.096479</td>\n",
              "      <td>0.106411</td>\n",
              "      <td>-0.187509</td>\n",
              "      <td>-0.291012</td>\n",
              "      <td>0.189555</td>\n",
              "      <td>0.191463</td>\n",
              "    </tr>\n",
              "    <tr>\n",
              "      <th>2</th>\n",
              "      <td>0.322835</td>\n",
              "      <td>-0.037207</td>\n",
              "      <td>0.113595</td>\n",
              "      <td>0.353955</td>\n",
              "      <td>0.027878</td>\n",
              "      <td>0.696053</td>\n",
              "      <td>0.115029</td>\n",
              "      <td>0.465088</td>\n",
              "      <td>0.314696</td>\n",
              "      <td>0.007092</td>\n",
              "      <td>...</td>\n",
              "      <td>0.442097</td>\n",
              "      <td>0.248967</td>\n",
              "      <td>0.515634</td>\n",
              "      <td>0.133404</td>\n",
              "      <td>0.206326</td>\n",
              "      <td>0.495279</td>\n",
              "      <td>0.374865</td>\n",
              "      <td>0.010884</td>\n",
              "      <td>0.057549</td>\n",
              "      <td>0.153665</td>\n",
              "    </tr>\n",
              "    <tr>\n",
              "      <th>3</th>\n",
              "      <td>0.131150</td>\n",
              "      <td>0.066408</td>\n",
              "      <td>0.031042</td>\n",
              "      <td>0.090713</td>\n",
              "      <td>-0.075165</td>\n",
              "      <td>-0.024840</td>\n",
              "      <td>-0.137762</td>\n",
              "      <td>0.252931</td>\n",
              "      <td>0.135344</td>\n",
              "      <td>-0.097572</td>\n",
              "      <td>...</td>\n",
              "      <td>0.263182</td>\n",
              "      <td>0.351988</td>\n",
              "      <td>0.117331</td>\n",
              "      <td>-0.002654</td>\n",
              "      <td>0.191885</td>\n",
              "      <td>0.206531</td>\n",
              "      <td>-0.158780</td>\n",
              "      <td>-0.136627</td>\n",
              "      <td>-0.557511</td>\n",
              "      <td>-0.170064</td>\n",
              "    </tr>\n",
              "    <tr>\n",
              "      <th>4</th>\n",
              "      <td>0.070817</td>\n",
              "      <td>0.147436</td>\n",
              "      <td>0.159387</td>\n",
              "      <td>0.078395</td>\n",
              "      <td>0.063000</td>\n",
              "      <td>-0.195759</td>\n",
              "      <td>0.053571</td>\n",
              "      <td>0.441376</td>\n",
              "      <td>0.216810</td>\n",
              "      <td>-0.031003</td>\n",
              "      <td>...</td>\n",
              "      <td>0.203443</td>\n",
              "      <td>-0.042067</td>\n",
              "      <td>0.122405</td>\n",
              "      <td>0.244058</td>\n",
              "      <td>-0.379906</td>\n",
              "      <td>0.228971</td>\n",
              "      <td>-0.135634</td>\n",
              "      <td>-0.141700</td>\n",
              "      <td>0.095863</td>\n",
              "      <td>0.101628</td>\n",
              "    </tr>\n",
              "    <tr>\n",
              "      <th>5</th>\n",
              "      <td>-0.030280</td>\n",
              "      <td>0.287220</td>\n",
              "      <td>0.383659</td>\n",
              "      <td>0.240194</td>\n",
              "      <td>0.003057</td>\n",
              "      <td>0.064750</td>\n",
              "      <td>0.110841</td>\n",
              "      <td>-0.087496</td>\n",
              "      <td>0.313669</td>\n",
              "      <td>0.104678</td>\n",
              "      <td>...</td>\n",
              "      <td>0.168751</td>\n",
              "      <td>0.174801</td>\n",
              "      <td>-0.709100</td>\n",
              "      <td>-0.033630</td>\n",
              "      <td>0.053831</td>\n",
              "      <td>0.429446</td>\n",
              "      <td>0.189711</td>\n",
              "      <td>-0.038370</td>\n",
              "      <td>0.238765</td>\n",
              "      <td>-0.062787</td>\n",
              "    </tr>\n",
              "  </tbody>\n",
              "</table>\n",
              "<p>5 rows × 125986 columns</p>\n",
              "</div>\n",
              "      <button class=\"colab-df-convert\" onclick=\"convertToInteractive('df-563b9545-a1cb-46a0-bfc5-ba4f5c972111')\"\n",
              "              title=\"Convert this dataframe to an interactive table.\"\n",
              "              style=\"display:none;\">\n",
              "        \n",
              "  <svg xmlns=\"http://www.w3.org/2000/svg\" height=\"24px\"viewBox=\"0 0 24 24\"\n",
              "       width=\"24px\">\n",
              "    <path d=\"M0 0h24v24H0V0z\" fill=\"none\"/>\n",
              "    <path d=\"M18.56 5.44l.94 2.06.94-2.06 2.06-.94-2.06-.94-.94-2.06-.94 2.06-2.06.94zm-11 1L8.5 8.5l.94-2.06 2.06-.94-2.06-.94L8.5 2.5l-.94 2.06-2.06.94zm10 10l.94 2.06.94-2.06 2.06-.94-2.06-.94-.94-2.06-.94 2.06-2.06.94z\"/><path d=\"M17.41 7.96l-1.37-1.37c-.4-.4-.92-.59-1.43-.59-.52 0-1.04.2-1.43.59L10.3 9.45l-7.72 7.72c-.78.78-.78 2.05 0 2.83L4 21.41c.39.39.9.59 1.41.59.51 0 1.02-.2 1.41-.59l7.78-7.78 2.81-2.81c.8-.78.8-2.07 0-2.86zM5.41 20L4 18.59l7.72-7.72 1.47 1.35L5.41 20z\"/>\n",
              "  </svg>\n",
              "      </button>\n",
              "      \n",
              "  <style>\n",
              "    .colab-df-container {\n",
              "      display:flex;\n",
              "      flex-wrap:wrap;\n",
              "      gap: 12px;\n",
              "    }\n",
              "\n",
              "    .colab-df-convert {\n",
              "      background-color: #E8F0FE;\n",
              "      border: none;\n",
              "      border-radius: 50%;\n",
              "      cursor: pointer;\n",
              "      display: none;\n",
              "      fill: #1967D2;\n",
              "      height: 32px;\n",
              "      padding: 0 0 0 0;\n",
              "      width: 32px;\n",
              "    }\n",
              "\n",
              "    .colab-df-convert:hover {\n",
              "      background-color: #E2EBFA;\n",
              "      box-shadow: 0px 1px 2px rgba(60, 64, 67, 0.3), 0px 1px 3px 1px rgba(60, 64, 67, 0.15);\n",
              "      fill: #174EA6;\n",
              "    }\n",
              "\n",
              "    [theme=dark] .colab-df-convert {\n",
              "      background-color: #3B4455;\n",
              "      fill: #D2E3FC;\n",
              "    }\n",
              "\n",
              "    [theme=dark] .colab-df-convert:hover {\n",
              "      background-color: #434B5C;\n",
              "      box-shadow: 0px 1px 3px 1px rgba(0, 0, 0, 0.15);\n",
              "      filter: drop-shadow(0px 1px 2px rgba(0, 0, 0, 0.3));\n",
              "      fill: #FFFFFF;\n",
              "    }\n",
              "  </style>\n",
              "\n",
              "      <script>\n",
              "        const buttonEl =\n",
              "          document.querySelector('#df-563b9545-a1cb-46a0-bfc5-ba4f5c972111 button.colab-df-convert');\n",
              "        buttonEl.style.display =\n",
              "          google.colab.kernel.accessAllowed ? 'block' : 'none';\n",
              "\n",
              "        async function convertToInteractive(key) {\n",
              "          const element = document.querySelector('#df-563b9545-a1cb-46a0-bfc5-ba4f5c972111');\n",
              "          const dataTable =\n",
              "            await google.colab.kernel.invokeFunction('convertToInteractive',\n",
              "                                                     [key], {});\n",
              "          if (!dataTable) return;\n",
              "\n",
              "          const docLinkHtml = 'Like what you see? Visit the ' +\n",
              "            '<a target=\"_blank\" href=https://colab.research.google.com/notebooks/data_table.ipynb>data table notebook</a>'\n",
              "            + ' to learn more about interactive tables.';\n",
              "          element.innerHTML = '';\n",
              "          dataTable['output_type'] = 'display_data';\n",
              "          await google.colab.output.renderOutput(dataTable, element);\n",
              "          const docLink = document.createElement('div');\n",
              "          docLink.innerHTML = docLinkHtml;\n",
              "          element.appendChild(docLink);\n",
              "        }\n",
              "      </script>\n",
              "    </div>\n",
              "  </div>\n",
              "  "
            ]
          },
          "metadata": {},
          "execution_count": 6
        }
      ]
    },
    {
      "cell_type": "code",
      "source": [
        "#data = dft.rename(columns={dft.columns[-1]: 'label'})\n",
        "#data.head()"
      ],
      "metadata": {
        "id": "fMjqDN4FwY_1"
      },
      "execution_count": null,
      "outputs": []
    },
    {
      "cell_type": "code",
      "execution_count": null,
      "metadata": {
        "colab": {
          "base_uri": "https://localhost:8080/"
        },
        "id": "UzbUmawpJ708",
        "outputId": "ce3f730d-0046-4120-cee3-0143bf82add3"
      },
      "outputs": [
        {
          "output_type": "stream",
          "name": "stdout",
          "text": [
            "(100, 125986)\n",
            "(125986,)\n"
          ]
        }
      ],
      "source": [
        "import numpy as np\n",
        "#X= np.array([np.array(x) for x in dft.iloc[0:1]])\n",
        "#X= np.array(dft.iloc([0:-1], axis=1))\n",
        "#Y= np.array(dft.loc['label'])\n",
        "X=dft.iloc[0:-1]\n",
        "Y=np.array(dft.loc['label'])\n",
        "print(X.shape)\n",
        "print(Y.shape)\n"
      ]
    },
    {
      "cell_type": "code",
      "source": [
        "Y.reshape(100,)\n",
        "Y.shape()"
      ],
      "metadata": {
        "colab": {
          "base_uri": "https://localhost:8080/",
          "height": 183
        },
        "id": "90NEri05A1wd",
        "outputId": "f4a5386c-5053-4126-c471-6b237c6f34f6"
      },
      "execution_count": null,
      "outputs": [
        {
          "output_type": "error",
          "ename": "ValueError",
          "evalue": "ignored",
          "traceback": [
            "\u001b[0;31m---------------------------------------------------------------------------\u001b[0m",
            "\u001b[0;31mValueError\u001b[0m                                Traceback (most recent call last)",
            "\u001b[0;32m<ipython-input-17-abf4a3fc1a8f>\u001b[0m in \u001b[0;36m<module>\u001b[0;34m\u001b[0m\n\u001b[0;32m----> 1\u001b[0;31m \u001b[0mY\u001b[0m\u001b[0;34m.\u001b[0m\u001b[0mreshape\u001b[0m\u001b[0;34m(\u001b[0m\u001b[0;36m100\u001b[0m\u001b[0;34m,\u001b[0m\u001b[0;34m)\u001b[0m\u001b[0;34m\u001b[0m\u001b[0;34m\u001b[0m\u001b[0m\n\u001b[0m\u001b[1;32m      2\u001b[0m \u001b[0mY\u001b[0m\u001b[0;34m.\u001b[0m\u001b[0mshape\u001b[0m\u001b[0;34m(\u001b[0m\u001b[0;34m)\u001b[0m\u001b[0;34m\u001b[0m\u001b[0;34m\u001b[0m\u001b[0m\n",
            "\u001b[0;31mValueError\u001b[0m: cannot reshape array of size 125986 into shape (100,)"
          ]
        }
      ]
    },
    {
      "cell_type": "code",
      "source": [
        "def split_dataset(X, Y, train_ratio, test_ratio, validation_ratio):\n",
        "    x_train, x_test, y_train, y_test = train_test_split(X, Y, test_size=1 - train_ratio)\n",
        "    x_val, x_test, y_val, y_test = train_test_split(x_test, y_test, test_size=test_ratio/(test_ratio + validation_ratio))\n",
        "    return x_train, y_train, x_test, y_test, x_val, y_val\n",
        "\n",
        "\n",
        "train_ratio = 0.70\n",
        "validation_ratio = 0.15\n",
        "test_ratio = 0.15\n",
        "\n",
        "# train is now 70% of the entire data set\n",
        "# test is now 15% of the initial data set\n",
        "# validation is now 15% of the initial data set\n",
        "x_train, y_train, x_test, y_test, x_val, y_val=split_dataset(X, Y, train_ratio, test_ratio, validation_ratio)\n",
        "\n",
        "print(x_train.shape)\n",
        "print(y_train.shape)\n",
        "print(x_test.shape)\n",
        "print(y_test.shape)\n",
        "print(x_val.shape)\n",
        "print(y_val.shape)"
      ],
      "metadata": {
        "colab": {
          "base_uri": "https://localhost:8080/",
          "height": 380
        },
        "id": "Jh0NZLCJ76hH",
        "outputId": "05e23973-1ee0-4280-b229-cb773571b600"
      },
      "execution_count": null,
      "outputs": [
        {
          "output_type": "error",
          "ename": "ValueError",
          "evalue": "ignored",
          "traceback": [
            "\u001b[0;31m---------------------------------------------------------------------------\u001b[0m",
            "\u001b[0;31mValueError\u001b[0m                                Traceback (most recent call last)",
            "\u001b[0;32m<ipython-input-9-2e530d579b18>\u001b[0m in \u001b[0;36m<module>\u001b[0;34m\u001b[0m\n\u001b[1;32m     12\u001b[0m \u001b[0;31m# test is now 15% of the initial data set\u001b[0m\u001b[0;34m\u001b[0m\u001b[0;34m\u001b[0m\u001b[0;34m\u001b[0m\u001b[0m\n\u001b[1;32m     13\u001b[0m \u001b[0;31m# validation is now 15% of the initial data set\u001b[0m\u001b[0;34m\u001b[0m\u001b[0;34m\u001b[0m\u001b[0;34m\u001b[0m\u001b[0m\n\u001b[0;32m---> 14\u001b[0;31m \u001b[0mx_train\u001b[0m\u001b[0;34m,\u001b[0m \u001b[0my_train\u001b[0m\u001b[0;34m,\u001b[0m \u001b[0mx_test\u001b[0m\u001b[0;34m,\u001b[0m \u001b[0my_test\u001b[0m\u001b[0;34m,\u001b[0m \u001b[0mx_val\u001b[0m\u001b[0;34m,\u001b[0m \u001b[0my_val\u001b[0m\u001b[0;34m=\u001b[0m\u001b[0msplit_dataset\u001b[0m\u001b[0;34m(\u001b[0m\u001b[0mX\u001b[0m\u001b[0;34m,\u001b[0m \u001b[0mY\u001b[0m\u001b[0;34m,\u001b[0m \u001b[0mtrain_ratio\u001b[0m\u001b[0;34m,\u001b[0m \u001b[0mtest_ratio\u001b[0m\u001b[0;34m,\u001b[0m \u001b[0mvalidation_ratio\u001b[0m\u001b[0;34m)\u001b[0m\u001b[0;34m\u001b[0m\u001b[0;34m\u001b[0m\u001b[0m\n\u001b[0m\u001b[1;32m     15\u001b[0m \u001b[0;34m\u001b[0m\u001b[0m\n\u001b[1;32m     16\u001b[0m \u001b[0mprint\u001b[0m\u001b[0;34m(\u001b[0m\u001b[0mx_train\u001b[0m\u001b[0;34m.\u001b[0m\u001b[0mshape\u001b[0m\u001b[0;34m)\u001b[0m\u001b[0;34m\u001b[0m\u001b[0;34m\u001b[0m\u001b[0m\n",
            "\u001b[0;32m<ipython-input-9-2e530d579b18>\u001b[0m in \u001b[0;36msplit_dataset\u001b[0;34m(X, Y, train_ratio, test_ratio, validation_ratio)\u001b[0m\n\u001b[1;32m      1\u001b[0m \u001b[0;32mdef\u001b[0m \u001b[0msplit_dataset\u001b[0m\u001b[0;34m(\u001b[0m\u001b[0mX\u001b[0m\u001b[0;34m,\u001b[0m \u001b[0mY\u001b[0m\u001b[0;34m,\u001b[0m \u001b[0mtrain_ratio\u001b[0m\u001b[0;34m,\u001b[0m \u001b[0mtest_ratio\u001b[0m\u001b[0;34m,\u001b[0m \u001b[0mvalidation_ratio\u001b[0m\u001b[0;34m)\u001b[0m\u001b[0;34m:\u001b[0m\u001b[0;34m\u001b[0m\u001b[0;34m\u001b[0m\u001b[0m\n\u001b[0;32m----> 2\u001b[0;31m     \u001b[0mx_train\u001b[0m\u001b[0;34m,\u001b[0m \u001b[0mx_test\u001b[0m\u001b[0;34m,\u001b[0m \u001b[0my_train\u001b[0m\u001b[0;34m,\u001b[0m \u001b[0my_test\u001b[0m \u001b[0;34m=\u001b[0m \u001b[0mtrain_test_split\u001b[0m\u001b[0;34m(\u001b[0m\u001b[0mX\u001b[0m\u001b[0;34m,\u001b[0m \u001b[0mY\u001b[0m\u001b[0;34m,\u001b[0m \u001b[0mtest_size\u001b[0m\u001b[0;34m=\u001b[0m\u001b[0;36m1\u001b[0m \u001b[0;34m-\u001b[0m \u001b[0mtrain_ratio\u001b[0m\u001b[0;34m)\u001b[0m\u001b[0;34m\u001b[0m\u001b[0;34m\u001b[0m\u001b[0m\n\u001b[0m\u001b[1;32m      3\u001b[0m     \u001b[0mx_val\u001b[0m\u001b[0;34m,\u001b[0m \u001b[0mx_test\u001b[0m\u001b[0;34m,\u001b[0m \u001b[0my_val\u001b[0m\u001b[0;34m,\u001b[0m \u001b[0my_test\u001b[0m \u001b[0;34m=\u001b[0m \u001b[0mtrain_test_split\u001b[0m\u001b[0;34m(\u001b[0m\u001b[0mx_test\u001b[0m\u001b[0;34m,\u001b[0m \u001b[0my_test\u001b[0m\u001b[0;34m,\u001b[0m \u001b[0mtest_size\u001b[0m\u001b[0;34m=\u001b[0m\u001b[0mtest_ratio\u001b[0m\u001b[0;34m/\u001b[0m\u001b[0;34m(\u001b[0m\u001b[0mtest_ratio\u001b[0m \u001b[0;34m+\u001b[0m \u001b[0mvalidation_ratio\u001b[0m\u001b[0;34m)\u001b[0m\u001b[0;34m)\u001b[0m\u001b[0;34m\u001b[0m\u001b[0;34m\u001b[0m\u001b[0m\n\u001b[1;32m      4\u001b[0m     \u001b[0;32mreturn\u001b[0m \u001b[0mx_train\u001b[0m\u001b[0;34m,\u001b[0m \u001b[0my_train\u001b[0m\u001b[0;34m,\u001b[0m \u001b[0mx_test\u001b[0m\u001b[0;34m,\u001b[0m \u001b[0my_test\u001b[0m\u001b[0;34m,\u001b[0m \u001b[0mx_val\u001b[0m\u001b[0;34m,\u001b[0m \u001b[0my_val\u001b[0m\u001b[0;34m\u001b[0m\u001b[0;34m\u001b[0m\u001b[0m\n\u001b[1;32m      5\u001b[0m \u001b[0;34m\u001b[0m\u001b[0m\n",
            "\u001b[0;32m/usr/local/lib/python3.7/dist-packages/sklearn/model_selection/_split.py\u001b[0m in \u001b[0;36mtrain_test_split\u001b[0;34m(test_size, train_size, random_state, shuffle, stratify, *arrays)\u001b[0m\n\u001b[1;32m   2415\u001b[0m         \u001b[0;32mraise\u001b[0m \u001b[0mValueError\u001b[0m\u001b[0;34m(\u001b[0m\u001b[0;34m\"At least one array required as input\"\u001b[0m\u001b[0;34m)\u001b[0m\u001b[0;34m\u001b[0m\u001b[0;34m\u001b[0m\u001b[0m\n\u001b[1;32m   2416\u001b[0m \u001b[0;34m\u001b[0m\u001b[0m\n\u001b[0;32m-> 2417\u001b[0;31m     \u001b[0marrays\u001b[0m \u001b[0;34m=\u001b[0m \u001b[0mindexable\u001b[0m\u001b[0;34m(\u001b[0m\u001b[0;34m*\u001b[0m\u001b[0marrays\u001b[0m\u001b[0;34m)\u001b[0m\u001b[0;34m\u001b[0m\u001b[0;34m\u001b[0m\u001b[0m\n\u001b[0m\u001b[1;32m   2418\u001b[0m \u001b[0;34m\u001b[0m\u001b[0m\n\u001b[1;32m   2419\u001b[0m     \u001b[0mn_samples\u001b[0m \u001b[0;34m=\u001b[0m \u001b[0m_num_samples\u001b[0m\u001b[0;34m(\u001b[0m\u001b[0marrays\u001b[0m\u001b[0;34m[\u001b[0m\u001b[0;36m0\u001b[0m\u001b[0;34m]\u001b[0m\u001b[0;34m)\u001b[0m\u001b[0;34m\u001b[0m\u001b[0;34m\u001b[0m\u001b[0m\n",
            "\u001b[0;32m/usr/local/lib/python3.7/dist-packages/sklearn/utils/validation.py\u001b[0m in \u001b[0;36mindexable\u001b[0;34m(*iterables)\u001b[0m\n\u001b[1;32m    376\u001b[0m \u001b[0;34m\u001b[0m\u001b[0m\n\u001b[1;32m    377\u001b[0m     \u001b[0mresult\u001b[0m \u001b[0;34m=\u001b[0m \u001b[0;34m[\u001b[0m\u001b[0m_make_indexable\u001b[0m\u001b[0;34m(\u001b[0m\u001b[0mX\u001b[0m\u001b[0;34m)\u001b[0m \u001b[0;32mfor\u001b[0m \u001b[0mX\u001b[0m \u001b[0;32min\u001b[0m \u001b[0miterables\u001b[0m\u001b[0;34m]\u001b[0m\u001b[0;34m\u001b[0m\u001b[0;34m\u001b[0m\u001b[0m\n\u001b[0;32m--> 378\u001b[0;31m     \u001b[0mcheck_consistent_length\u001b[0m\u001b[0;34m(\u001b[0m\u001b[0;34m*\u001b[0m\u001b[0mresult\u001b[0m\u001b[0;34m)\u001b[0m\u001b[0;34m\u001b[0m\u001b[0;34m\u001b[0m\u001b[0m\n\u001b[0m\u001b[1;32m    379\u001b[0m     \u001b[0;32mreturn\u001b[0m \u001b[0mresult\u001b[0m\u001b[0;34m\u001b[0m\u001b[0;34m\u001b[0m\u001b[0m\n\u001b[1;32m    380\u001b[0m \u001b[0;34m\u001b[0m\u001b[0m\n",
            "\u001b[0;32m/usr/local/lib/python3.7/dist-packages/sklearn/utils/validation.py\u001b[0m in \u001b[0;36mcheck_consistent_length\u001b[0;34m(*arrays)\u001b[0m\n\u001b[1;32m    332\u001b[0m         raise ValueError(\n\u001b[1;32m    333\u001b[0m             \u001b[0;34m\"Found input variables with inconsistent numbers of samples: %r\"\u001b[0m\u001b[0;34m\u001b[0m\u001b[0;34m\u001b[0m\u001b[0m\n\u001b[0;32m--> 334\u001b[0;31m             \u001b[0;34m%\u001b[0m \u001b[0;34m[\u001b[0m\u001b[0mint\u001b[0m\u001b[0;34m(\u001b[0m\u001b[0ml\u001b[0m\u001b[0;34m)\u001b[0m \u001b[0;32mfor\u001b[0m \u001b[0ml\u001b[0m \u001b[0;32min\u001b[0m \u001b[0mlengths\u001b[0m\u001b[0;34m]\u001b[0m\u001b[0;34m\u001b[0m\u001b[0;34m\u001b[0m\u001b[0m\n\u001b[0m\u001b[1;32m    335\u001b[0m         )\n\u001b[1;32m    336\u001b[0m \u001b[0;34m\u001b[0m\u001b[0m\n",
            "\u001b[0;31mValueError\u001b[0m: Found input variables with inconsistent numbers of samples: [100, 1]"
          ]
        }
      ]
    },
    {
      "cell_type": "code",
      "execution_count": null,
      "metadata": {
        "colab": {
          "base_uri": "https://localhost:8080/"
        },
        "id": "TtE-o8vgULNq",
        "outputId": "77ec809b-726a-4ba1-a35b-443d51a74d87"
      },
      "outputs": [
        {
          "output_type": "stream",
          "name": "stdout",
          "text": [
            "Accuracy: 100.00%\n"
          ]
        }
      ],
      "source": [
        "# RF classifier model\n",
        "rf_base=RandomForestClassifier(n_estimators=1000)\n",
        "\n",
        "# fit the training data into the model\n",
        "rf_base.fit(x_train, y_train)\n",
        "\n",
        "y_pred=rf_base.predict(x_test)\n",
        "y_probas=rf_base.predict_proba(x_test)\n",
        "\n",
        "# accuracy prediction\n",
        "accuracy = accuracy_score(y_test, y_pred)\n",
        "print(\"Accuracy: %.2f%%\" % (accuracy * 100.0))\n"
      ]
    },
    {
      "cell_type": "code",
      "source": [
        "kmer=df.index.tolist()\n",
        "del kmer[-1]\n",
        "kmer[-5:]"
      ],
      "metadata": {
        "colab": {
          "base_uri": "https://localhost:8080/"
        },
        "id": "fiaM2I1_EEIH",
        "outputId": "d50d98a8-1f19-4f95-811a-7646d691840c"
      },
      "execution_count": null,
      "outputs": [
        {
          "output_type": "execute_result",
          "data": {
            "text/plain": [
              "['CCCGCCGG', 'GGCGCGGC', 'CGCGCCGG', 'CCGGCGCG', 'CCGCGCGG']"
            ]
          },
          "metadata": {},
          "execution_count": 20
        }
      ]
    },
    {
      "cell_type": "code",
      "execution_count": null,
      "metadata": {
        "id": "1dNhU9ObNOcB",
        "colab": {
          "base_uri": "https://localhost:8080/"
        },
        "outputId": "6a945d68-b6ac-457d-c9a9-f59f7bb72445"
      },
      "outputs": [
        {
          "output_type": "stream",
          "name": "stdout",
          "text": [
            "1. feature 174718 - AAA : 0.000000\n",
            "2. feature 58236 - TTT : 0.000000\n",
            "3. feature 58244 - ATT : 0.000000\n",
            "4. feature 58243 - AAT : 0.000000\n",
            "5. feature 58242 - TAT : 0.000000\n",
            "6. feature 58241 - ATA : 0.000000\n",
            "7. feature 58240 - GAA : 0.000000\n",
            "8. feature 58239 - TTC : 0.000000\n",
            "9. feature 58238 - TAA : 0.000000\n",
            "10. feature 58237 - TTA : 0.000000\n",
            "11. feature 58235 - AAG : 0.000000\n",
            "12. feature 58225 - CTT : 0.000000\n",
            "13. feature 58234 - TTG : 0.000000\n",
            "14. feature 58233 - CAA : 0.000000\n",
            "15. feature 58232 - AGA : 0.000000\n",
            "16. feature 58231 - TCT : 0.000000\n",
            "17. feature 58230 - TGA : 0.000000\n",
            "18. feature 58229 - TCA : 0.000000\n",
            "19. feature 58228 - GTT : 0.000000\n",
            "20. feature 58227 - AAC : 0.000000\n",
            "21. feature 58245 - ATG : 0.000000\n",
            "22. feature 58246 - CAT : 0.000000\n",
            "23. feature 58247 - ACA : 0.000000\n",
            "24. feature 58248 - TGT : 0.000000\n",
            "25. feature 58265 - TTTT : 0.000000\n",
            "26. feature 58264 - AAAA : 0.000000\n",
            "27. feature 58263 - GAT : 0.000000\n",
            "28. feature 58262 - ATC : 0.000000\n",
            "29. feature 58261 - AGT : 0.000000\n",
            "30. feature 58260 - ACT : 0.000000\n",
            "31. feature 58259 - GTA : 0.000000\n",
            "32. feature 58258 - TAC : 0.000000\n",
            "33. feature 58257 - CCA : 0.000000\n",
            "34. feature 58256 - TGG : 0.000000\n",
            "35. feature 58255 - TAG : 0.000000\n",
            "36. feature 58254 - CTA : 0.000000\n",
            "37. feature 58253 - GCA : 0.000000\n",
            "38. feature 58252 - TGC : 0.000000\n",
            "39. feature 58251 - CAG : 0.000000\n",
            "40. feature 58250 - CTG : 0.000000\n",
            "41. feature 58249 - TCC : 0.000000\n",
            "42. feature 58226 - GGA : 0.000000\n",
            "43. feature 58224 - GCT : 0.000000\n",
            "44. feature 58182 - AGC : 0.000000\n",
            "45. feature 58193 - CCT : 0.000000\n",
            "46. feature 58201 - AGG : 0.000000\n",
            "47. feature 58200 - GAG : 0.000000\n",
            "48. feature 58199 - CTC : 0.000000\n",
            "49. feature 58198 - GTG : 0.000000\n",
            "50. feature 58197 - ACC : 0.000000\n"
          ]
        }
      ],
      "source": [
        "import matplotlib.pyplot as plt\n",
        "\n",
        "features   = data.columns\n",
        "feats=np.array(features)\n",
        "importances = classifier.feature_importances_\n",
        "indices = np.argsort(importances)[::-1]\n",
        "for f in range(50):\n",
        "    print(\"%d. feature %d - %s : %f\" % (f+1, indices[f], feats[f], importances[indices[f]]))\n",
        "\n"
      ]
    },
    {
      "cell_type": "code",
      "source": [
        "n_top_features=50\n",
        "plt.figure(figsize=(8,10))\n",
        "plt.barh(feats[indices][:n_top_features ], importances[indices][:n_top_features ])\n",
        "plt.xlabel(\"RF feature Importance \")"
      ],
      "metadata": {
        "id": "kPdYU2zSoOUX",
        "colab": {
          "base_uri": "https://localhost:8080/",
          "height": 222
        },
        "outputId": "61d605b1-8c6e-44b2-9a6e-3a95b27c3169"
      },
      "execution_count": null,
      "outputs": [
        {
          "output_type": "error",
          "ename": "NameError",
          "evalue": "ignored",
          "traceback": [
            "\u001b[0;31m---------------------------------------------------------------------------\u001b[0m",
            "\u001b[0;31mNameError\u001b[0m                                 Traceback (most recent call last)",
            "\u001b[0;32m<ipython-input-1-4e193cd350e4>\u001b[0m in \u001b[0;36m<module>\u001b[0;34m\u001b[0m\n\u001b[1;32m      1\u001b[0m \u001b[0mn_top_features\u001b[0m\u001b[0;34m=\u001b[0m\u001b[0;36m50\u001b[0m\u001b[0;34m\u001b[0m\u001b[0;34m\u001b[0m\u001b[0m\n\u001b[0;32m----> 2\u001b[0;31m \u001b[0mplt\u001b[0m\u001b[0;34m.\u001b[0m\u001b[0mfigure\u001b[0m\u001b[0;34m(\u001b[0m\u001b[0mfigsize\u001b[0m\u001b[0;34m=\u001b[0m\u001b[0;34m(\u001b[0m\u001b[0;36m8\u001b[0m\u001b[0;34m,\u001b[0m\u001b[0;36m10\u001b[0m\u001b[0;34m)\u001b[0m\u001b[0;34m)\u001b[0m\u001b[0;34m\u001b[0m\u001b[0;34m\u001b[0m\u001b[0m\n\u001b[0m\u001b[1;32m      3\u001b[0m \u001b[0mplt\u001b[0m\u001b[0;34m.\u001b[0m\u001b[0mbarh\u001b[0m\u001b[0;34m(\u001b[0m\u001b[0mfeats\u001b[0m\u001b[0;34m[\u001b[0m\u001b[0mindices\u001b[0m\u001b[0;34m]\u001b[0m\u001b[0;34m[\u001b[0m\u001b[0;34m:\u001b[0m\u001b[0mn_top_features\u001b[0m \u001b[0;34m]\u001b[0m\u001b[0;34m,\u001b[0m \u001b[0mimportances\u001b[0m\u001b[0;34m[\u001b[0m\u001b[0mindices\u001b[0m\u001b[0;34m]\u001b[0m\u001b[0;34m[\u001b[0m\u001b[0;34m:\u001b[0m\u001b[0mn_top_features\u001b[0m \u001b[0;34m]\u001b[0m\u001b[0;34m)\u001b[0m\u001b[0;34m\u001b[0m\u001b[0;34m\u001b[0m\u001b[0m\n\u001b[1;32m      4\u001b[0m \u001b[0mplt\u001b[0m\u001b[0;34m.\u001b[0m\u001b[0mxlabel\u001b[0m\u001b[0;34m(\u001b[0m\u001b[0;34m\"RF feature Importance \"\u001b[0m\u001b[0;34m)\u001b[0m\u001b[0;34m\u001b[0m\u001b[0;34m\u001b[0m\u001b[0m\n",
            "\u001b[0;31mNameError\u001b[0m: name 'plt' is not defined"
          ]
        }
      ]
    },
    {
      "cell_type": "code",
      "source": [
        "# Minimal reproducible code\n",
        "import pandas as pd\n",
        "import numpy as np\n",
        "from sklearn.model_selection import train_test_split\n",
        "# reading the w2v files\n",
        "pos = pd.read_csv(\"Positive.w2v\", skiprows=1, sep=\" \", index_col=0, header=None)\n",
        "neg = pd.read_csv(\"Negative.w2v\", skiprows=1, sep=\" \", index_col=0, header=None)\n",
        "# Adding the column 'labels' as 1 and 0\n",
        "pos['label']=1\n",
        "neg['label']=0\n",
        "# Adding the positive and negative dataframes\n",
        "df=pd.concat([pos,neg])\n",
        "print(df.shape)\n",
        "# transposing the dataframe to get features as columns\n",
        "dft=df.transpose()\n",
        "# replacing the NaN values\n",
        "dft=dft.replace(np.nan, 0)\n",
        "# splitting data into X and Y\n",
        "X=dft.iloc[0:-1]\n",
        "Y=dft.loc['label']\n",
        "print(X.shape)\n",
        "print(Y.shape)\n",
        "def split_dataset(X, Y, train_ratio, test_ratio, validation_ratio):\n",
        "    x_train, x_test, y_train, y_test = train_test_split(X, Y, test_size=1 - train_ratio)\n",
        "    x_val, x_test, y_val, y_test = train_test_split(x_test, y_test, test_size=test_ratio/(test_ratio + validation_ratio))\n",
        "    return x_train, y_train, x_test, y_test, x_val, y_val\n",
        "\n",
        "train_ratio = 0.70\n",
        "validation_ratio = 0.15\n",
        "test_ratio = 0.15\n",
        "\n",
        "# train is now 70% of the entire data set\n",
        "# test is now 15% of the initial data set\n",
        "# validation is now 15% of the initial data set\n",
        "x_train, y_train, x_test, y_test, x_val, y_val=split_dataset(X, Y, train_ratio, test_ratio, validation_ratio)\n"
      ],
      "metadata": {
        "id": "mCcT_LzpKGIT"
      },
      "execution_count": null,
      "outputs": []
    },
    {
      "cell_type": "code",
      "source": [
        "# Feature importance plot\n",
        "\n",
        "import pandas as pd\n",
        "from sklearn.feature_extraction.text import CountVectorizer\n",
        "import matplotlib.pyplot as plt\n",
        "import numpy as np\n",
        "\n",
        "#step 1\n",
        "# read data in a form where k-mer name are still preserved\n",
        "pos = pd.read_csv(\"Positive.w2v\", skiprows=1, sep=\" \", index_col=0, header=None)\n",
        "neg = pd.read_csv(\"Negative.w2v\", skiprows=1, sep=\" \", index_col=0, header=None)\n",
        "df = pd.concat([pos, neg])\n",
        "# this converts the index (ie k-mers) into a list\n",
        "p=pos.index.tolist()\n",
        "n=neg.index.tolist()\n",
        "posd=pos.index\n",
        "negd=neg.index\n",
        "whole=posd.append(negd)\n",
        "kmer=list(whole)\n",
        "\n",
        "# Load the text data\n",
        "corpus=kmer\n",
        "\n",
        "vectorizer = CountVectorizer()\n",
        "docs       = vectorizer.fit_transform(corpus)\n",
        "features   = vectorizer.get_feature_names()\n",
        "\n",
        "# step 2\n",
        "feature_name=np.array(features)\n",
        "\n",
        "# step 3\n",
        "# Here, you have to use your own Xgboost model instead of classifer\n",
        "#which should be already fit with the training dataset\n",
        "sorted_idx = classifier.feature_importances_.argsort()[::-1]\n",
        "#specify top n features you need\n",
        "n_top_features=50\n",
        "plt.figure(figsize=(8,10))\n",
        "plt.barh(feature_name[sorted_idx][:n_top_features ],classifier.feature_importances_[sorted_idx][:n_top_features ])\n",
        "plt.xlabel(\"RF feature Importance \")\n"
      ],
      "metadata": {
        "id": "iwR4EaNKKKaK"
      },
      "execution_count": null,
      "outputs": []
    }
  ],
  "metadata": {
    "colab": {
      "provenance": [],
      "include_colab_link": true
    },
    "kernelspec": {
      "display_name": "Python 3",
      "name": "python3"
    },
    "language_info": {
      "name": "python"
    },
    "widgets": {
      "application/vnd.jupyter.widget-state+json": {
        "01297e8f5b5a462f997387a325b7c1f7": {
          "model_module": "@jupyter-widgets/controls",
          "model_module_version": "1.5.0",
          "model_name": "LabelModel",
          "state": {
            "_dom_classes": [],
            "_model_module": "@jupyter-widgets/controls",
            "_model_module_version": "1.5.0",
            "_model_name": "LabelModel",
            "_view_count": null,
            "_view_module": "@jupyter-widgets/controls",
            "_view_module_version": "1.5.0",
            "_view_name": "LabelView",
            "description": "",
            "description_tooltip": null,
            "layout": "IPY_MODEL_2aa241fb6921493bac9f2f5b591ccd84",
            "placeholder": "​",
            "style": "IPY_MODEL_459fb60e4fa54051aec4d58cef1f237e",
            "value": "0.029 MB of 0.029 MB uploaded (0.000 MB deduped)\r"
          }
        },
        "017d792d85db4bcd8863c912764d16b0": {
          "model_module": "@jupyter-widgets/controls",
          "model_module_version": "1.5.0",
          "model_name": "LabelModel",
          "state": {
            "_dom_classes": [],
            "_model_module": "@jupyter-widgets/controls",
            "_model_module_version": "1.5.0",
            "_model_name": "LabelModel",
            "_view_count": null,
            "_view_module": "@jupyter-widgets/controls",
            "_view_module_version": "1.5.0",
            "_view_name": "LabelView",
            "description": "",
            "description_tooltip": null,
            "layout": "IPY_MODEL_c1ec4cda985e4b1f98e36f6fdf207359",
            "placeholder": "​",
            "style": "IPY_MODEL_265c2dae51b3466e953688ae9f6eb2ea",
            "value": "0.031 MB of 0.031 MB uploaded (0.000 MB deduped)\r"
          }
        },
        "05c1b5a941e14c909da517b32d29df25": {
          "model_module": "@jupyter-widgets/controls",
          "model_module_version": "1.5.0",
          "model_name": "FloatProgressModel",
          "state": {
            "_dom_classes": [],
            "_model_module": "@jupyter-widgets/controls",
            "_model_module_version": "1.5.0",
            "_model_name": "FloatProgressModel",
            "_view_count": null,
            "_view_module": "@jupyter-widgets/controls",
            "_view_module_version": "1.5.0",
            "_view_name": "ProgressView",
            "bar_style": "",
            "description": "",
            "description_tooltip": null,
            "layout": "IPY_MODEL_1ad0c96cd0f44ae894942547c76b2c06",
            "max": 1,
            "min": 0,
            "orientation": "horizontal",
            "style": "IPY_MODEL_76196861bfbd479590e9e6e628a237aa",
            "value": 1
          }
        },
        "05dbaaff0911463f80a4ed18519be494": {
          "model_module": "@jupyter-widgets/controls",
          "model_module_version": "1.5.0",
          "model_name": "VBoxModel",
          "state": {
            "_dom_classes": [],
            "_model_module": "@jupyter-widgets/controls",
            "_model_module_version": "1.5.0",
            "_model_name": "VBoxModel",
            "_view_count": null,
            "_view_module": "@jupyter-widgets/controls",
            "_view_module_version": "1.5.0",
            "_view_name": "VBoxView",
            "box_style": "",
            "children": [
              "IPY_MODEL_017d792d85db4bcd8863c912764d16b0",
              "IPY_MODEL_a61aac081d884fc7a3b7964e7499f6f3"
            ],
            "layout": "IPY_MODEL_f83ee6fe88514e3ea3773e1baa126b8f"
          }
        },
        "0bca16e1327c4700bb359fd6f2762a98": {
          "model_module": "@jupyter-widgets/controls",
          "model_module_version": "1.5.0",
          "model_name": "VBoxModel",
          "state": {
            "_dom_classes": [],
            "_model_module": "@jupyter-widgets/controls",
            "_model_module_version": "1.5.0",
            "_model_name": "VBoxModel",
            "_view_count": null,
            "_view_module": "@jupyter-widgets/controls",
            "_view_module_version": "1.5.0",
            "_view_name": "VBoxView",
            "box_style": "",
            "children": [
              "IPY_MODEL_41ce02616afa455fab98e609eff0078d",
              "IPY_MODEL_111392897c854511b3ad24fe58c61bd4"
            ],
            "layout": "IPY_MODEL_4841cd0205064763a41bc9e3f7d75db8"
          }
        },
        "10db8351aa51452e94c1917464c14d12": {
          "model_module": "@jupyter-widgets/controls",
          "model_module_version": "1.5.0",
          "model_name": "VBoxModel",
          "state": {
            "_dom_classes": [],
            "_model_module": "@jupyter-widgets/controls",
            "_model_module_version": "1.5.0",
            "_model_name": "VBoxModel",
            "_view_count": null,
            "_view_module": "@jupyter-widgets/controls",
            "_view_module_version": "1.5.0",
            "_view_name": "VBoxView",
            "box_style": "",
            "children": [
              "IPY_MODEL_bb7544a316d54bff8efebc42a16fb43a",
              "IPY_MODEL_651e57f7b2984a8cbfc7f7d6d3c8f1d8"
            ],
            "layout": "IPY_MODEL_3006ca981d8445a0a7e093e02f6abc98"
          }
        },
        "111392897c854511b3ad24fe58c61bd4": {
          "model_module": "@jupyter-widgets/controls",
          "model_module_version": "1.5.0",
          "model_name": "FloatProgressModel",
          "state": {
            "_dom_classes": [],
            "_model_module": "@jupyter-widgets/controls",
            "_model_module_version": "1.5.0",
            "_model_name": "FloatProgressModel",
            "_view_count": null,
            "_view_module": "@jupyter-widgets/controls",
            "_view_module_version": "1.5.0",
            "_view_name": "ProgressView",
            "bar_style": "",
            "description": "",
            "description_tooltip": null,
            "layout": "IPY_MODEL_55c8cd8461f6480398c1e9eaea8bedf5",
            "max": 1,
            "min": 0,
            "orientation": "horizontal",
            "style": "IPY_MODEL_d73dd16e30b143e0a16ef9df6cdd802a",
            "value": 1
          }
        },
        "1530c06128e94134aef9ddfa59e19742": {
          "model_module": "@jupyter-widgets/controls",
          "model_module_version": "1.5.0",
          "model_name": "ProgressStyleModel",
          "state": {
            "_model_module": "@jupyter-widgets/controls",
            "_model_module_version": "1.5.0",
            "_model_name": "ProgressStyleModel",
            "_view_count": null,
            "_view_module": "@jupyter-widgets/base",
            "_view_module_version": "1.2.0",
            "_view_name": "StyleView",
            "bar_color": null,
            "description_width": ""
          }
        },
        "1ad0c96cd0f44ae894942547c76b2c06": {
          "model_module": "@jupyter-widgets/base",
          "model_module_version": "1.2.0",
          "model_name": "LayoutModel",
          "state": {
            "_model_module": "@jupyter-widgets/base",
            "_model_module_version": "1.2.0",
            "_model_name": "LayoutModel",
            "_view_count": null,
            "_view_module": "@jupyter-widgets/base",
            "_view_module_version": "1.2.0",
            "_view_name": "LayoutView",
            "align_content": null,
            "align_items": null,
            "align_self": null,
            "border": null,
            "bottom": null,
            "display": null,
            "flex": null,
            "flex_flow": null,
            "grid_area": null,
            "grid_auto_columns": null,
            "grid_auto_flow": null,
            "grid_auto_rows": null,
            "grid_column": null,
            "grid_gap": null,
            "grid_row": null,
            "grid_template_areas": null,
            "grid_template_columns": null,
            "grid_template_rows": null,
            "height": null,
            "justify_content": null,
            "justify_items": null,
            "left": null,
            "margin": null,
            "max_height": null,
            "max_width": null,
            "min_height": null,
            "min_width": null,
            "object_fit": null,
            "object_position": null,
            "order": null,
            "overflow": null,
            "overflow_x": null,
            "overflow_y": null,
            "padding": null,
            "right": null,
            "top": null,
            "visibility": null,
            "width": null
          }
        },
        "265c2dae51b3466e953688ae9f6eb2ea": {
          "model_module": "@jupyter-widgets/controls",
          "model_module_version": "1.5.0",
          "model_name": "DescriptionStyleModel",
          "state": {
            "_model_module": "@jupyter-widgets/controls",
            "_model_module_version": "1.5.0",
            "_model_name": "DescriptionStyleModel",
            "_view_count": null,
            "_view_module": "@jupyter-widgets/base",
            "_view_module_version": "1.2.0",
            "_view_name": "StyleView",
            "description_width": ""
          }
        },
        "2aa241fb6921493bac9f2f5b591ccd84": {
          "model_module": "@jupyter-widgets/base",
          "model_module_version": "1.2.0",
          "model_name": "LayoutModel",
          "state": {
            "_model_module": "@jupyter-widgets/base",
            "_model_module_version": "1.2.0",
            "_model_name": "LayoutModel",
            "_view_count": null,
            "_view_module": "@jupyter-widgets/base",
            "_view_module_version": "1.2.0",
            "_view_name": "LayoutView",
            "align_content": null,
            "align_items": null,
            "align_self": null,
            "border": null,
            "bottom": null,
            "display": null,
            "flex": null,
            "flex_flow": null,
            "grid_area": null,
            "grid_auto_columns": null,
            "grid_auto_flow": null,
            "grid_auto_rows": null,
            "grid_column": null,
            "grid_gap": null,
            "grid_row": null,
            "grid_template_areas": null,
            "grid_template_columns": null,
            "grid_template_rows": null,
            "height": null,
            "justify_content": null,
            "justify_items": null,
            "left": null,
            "margin": null,
            "max_height": null,
            "max_width": null,
            "min_height": null,
            "min_width": null,
            "object_fit": null,
            "object_position": null,
            "order": null,
            "overflow": null,
            "overflow_x": null,
            "overflow_y": null,
            "padding": null,
            "right": null,
            "top": null,
            "visibility": null,
            "width": null
          }
        },
        "2b652d9b681e44db9249d563a5b9579d": {
          "model_module": "@jupyter-widgets/base",
          "model_module_version": "1.2.0",
          "model_name": "LayoutModel",
          "state": {
            "_model_module": "@jupyter-widgets/base",
            "_model_module_version": "1.2.0",
            "_model_name": "LayoutModel",
            "_view_count": null,
            "_view_module": "@jupyter-widgets/base",
            "_view_module_version": "1.2.0",
            "_view_name": "LayoutView",
            "align_content": null,
            "align_items": null,
            "align_self": null,
            "border": null,
            "bottom": null,
            "display": null,
            "flex": null,
            "flex_flow": null,
            "grid_area": null,
            "grid_auto_columns": null,
            "grid_auto_flow": null,
            "grid_auto_rows": null,
            "grid_column": null,
            "grid_gap": null,
            "grid_row": null,
            "grid_template_areas": null,
            "grid_template_columns": null,
            "grid_template_rows": null,
            "height": null,
            "justify_content": null,
            "justify_items": null,
            "left": null,
            "margin": null,
            "max_height": null,
            "max_width": null,
            "min_height": null,
            "min_width": null,
            "object_fit": null,
            "object_position": null,
            "order": null,
            "overflow": null,
            "overflow_x": null,
            "overflow_y": null,
            "padding": null,
            "right": null,
            "top": null,
            "visibility": null,
            "width": null
          }
        },
        "2b86b72191854e2ca4c67d6be88e2935": {
          "model_module": "@jupyter-widgets/base",
          "model_module_version": "1.2.0",
          "model_name": "LayoutModel",
          "state": {
            "_model_module": "@jupyter-widgets/base",
            "_model_module_version": "1.2.0",
            "_model_name": "LayoutModel",
            "_view_count": null,
            "_view_module": "@jupyter-widgets/base",
            "_view_module_version": "1.2.0",
            "_view_name": "LayoutView",
            "align_content": null,
            "align_items": null,
            "align_self": null,
            "border": null,
            "bottom": null,
            "display": null,
            "flex": null,
            "flex_flow": null,
            "grid_area": null,
            "grid_auto_columns": null,
            "grid_auto_flow": null,
            "grid_auto_rows": null,
            "grid_column": null,
            "grid_gap": null,
            "grid_row": null,
            "grid_template_areas": null,
            "grid_template_columns": null,
            "grid_template_rows": null,
            "height": null,
            "justify_content": null,
            "justify_items": null,
            "left": null,
            "margin": null,
            "max_height": null,
            "max_width": null,
            "min_height": null,
            "min_width": null,
            "object_fit": null,
            "object_position": null,
            "order": null,
            "overflow": null,
            "overflow_x": null,
            "overflow_y": null,
            "padding": null,
            "right": null,
            "top": null,
            "visibility": null,
            "width": null
          }
        },
        "3006ca981d8445a0a7e093e02f6abc98": {
          "model_module": "@jupyter-widgets/base",
          "model_module_version": "1.2.0",
          "model_name": "LayoutModel",
          "state": {
            "_model_module": "@jupyter-widgets/base",
            "_model_module_version": "1.2.0",
            "_model_name": "LayoutModel",
            "_view_count": null,
            "_view_module": "@jupyter-widgets/base",
            "_view_module_version": "1.2.0",
            "_view_name": "LayoutView",
            "align_content": null,
            "align_items": null,
            "align_self": null,
            "border": null,
            "bottom": null,
            "display": null,
            "flex": null,
            "flex_flow": null,
            "grid_area": null,
            "grid_auto_columns": null,
            "grid_auto_flow": null,
            "grid_auto_rows": null,
            "grid_column": null,
            "grid_gap": null,
            "grid_row": null,
            "grid_template_areas": null,
            "grid_template_columns": null,
            "grid_template_rows": null,
            "height": null,
            "justify_content": null,
            "justify_items": null,
            "left": null,
            "margin": null,
            "max_height": null,
            "max_width": null,
            "min_height": null,
            "min_width": null,
            "object_fit": null,
            "object_position": null,
            "order": null,
            "overflow": null,
            "overflow_x": null,
            "overflow_y": null,
            "padding": null,
            "right": null,
            "top": null,
            "visibility": null,
            "width": null
          }
        },
        "3c41e141f7294b909cceb1a55d9ee757": {
          "model_module": "@jupyter-widgets/controls",
          "model_module_version": "1.5.0",
          "model_name": "ProgressStyleModel",
          "state": {
            "_model_module": "@jupyter-widgets/controls",
            "_model_module_version": "1.5.0",
            "_model_name": "ProgressStyleModel",
            "_view_count": null,
            "_view_module": "@jupyter-widgets/base",
            "_view_module_version": "1.2.0",
            "_view_name": "StyleView",
            "bar_color": null,
            "description_width": ""
          }
        },
        "414dd7634c5145e3bb743a7f16f269b2": {
          "model_module": "@jupyter-widgets/controls",
          "model_module_version": "1.5.0",
          "model_name": "VBoxModel",
          "state": {
            "_dom_classes": [],
            "_model_module": "@jupyter-widgets/controls",
            "_model_module_version": "1.5.0",
            "_model_name": "VBoxModel",
            "_view_count": null,
            "_view_module": "@jupyter-widgets/controls",
            "_view_module_version": "1.5.0",
            "_view_name": "VBoxView",
            "box_style": "",
            "children": [
              "IPY_MODEL_8b44fb1e6f0f4cb483129363fbeda849",
              "IPY_MODEL_5040478226654a6daa6b3e03d66149fa"
            ],
            "layout": "IPY_MODEL_574a6e87bd9d42418e5becf5c429200a"
          }
        },
        "41ce02616afa455fab98e609eff0078d": {
          "model_module": "@jupyter-widgets/controls",
          "model_module_version": "1.5.0",
          "model_name": "LabelModel",
          "state": {
            "_dom_classes": [],
            "_model_module": "@jupyter-widgets/controls",
            "_model_module_version": "1.5.0",
            "_model_name": "LabelModel",
            "_view_count": null,
            "_view_module": "@jupyter-widgets/controls",
            "_view_module_version": "1.5.0",
            "_view_name": "LabelView",
            "description": "",
            "description_tooltip": null,
            "layout": "IPY_MODEL_c82cd310d2de4e54a2ddfcf3885df920",
            "placeholder": "​",
            "style": "IPY_MODEL_9900a65acbc6430097ab606a4ad8b310",
            "value": "0.008 MB of 0.008 MB uploaded (0.000 MB deduped)\r"
          }
        },
        "459fb60e4fa54051aec4d58cef1f237e": {
          "model_module": "@jupyter-widgets/controls",
          "model_module_version": "1.5.0",
          "model_name": "DescriptionStyleModel",
          "state": {
            "_model_module": "@jupyter-widgets/controls",
            "_model_module_version": "1.5.0",
            "_model_name": "DescriptionStyleModel",
            "_view_count": null,
            "_view_module": "@jupyter-widgets/base",
            "_view_module_version": "1.2.0",
            "_view_name": "StyleView",
            "description_width": ""
          }
        },
        "4841cd0205064763a41bc9e3f7d75db8": {
          "model_module": "@jupyter-widgets/base",
          "model_module_version": "1.2.0",
          "model_name": "LayoutModel",
          "state": {
            "_model_module": "@jupyter-widgets/base",
            "_model_module_version": "1.2.0",
            "_model_name": "LayoutModel",
            "_view_count": null,
            "_view_module": "@jupyter-widgets/base",
            "_view_module_version": "1.2.0",
            "_view_name": "LayoutView",
            "align_content": null,
            "align_items": null,
            "align_self": null,
            "border": null,
            "bottom": null,
            "display": null,
            "flex": null,
            "flex_flow": null,
            "grid_area": null,
            "grid_auto_columns": null,
            "grid_auto_flow": null,
            "grid_auto_rows": null,
            "grid_column": null,
            "grid_gap": null,
            "grid_row": null,
            "grid_template_areas": null,
            "grid_template_columns": null,
            "grid_template_rows": null,
            "height": null,
            "justify_content": null,
            "justify_items": null,
            "left": null,
            "margin": null,
            "max_height": null,
            "max_width": null,
            "min_height": null,
            "min_width": null,
            "object_fit": null,
            "object_position": null,
            "order": null,
            "overflow": null,
            "overflow_x": null,
            "overflow_y": null,
            "padding": null,
            "right": null,
            "top": null,
            "visibility": null,
            "width": null
          }
        },
        "5040478226654a6daa6b3e03d66149fa": {
          "model_module": "@jupyter-widgets/controls",
          "model_module_version": "1.5.0",
          "model_name": "FloatProgressModel",
          "state": {
            "_dom_classes": [],
            "_model_module": "@jupyter-widgets/controls",
            "_model_module_version": "1.5.0",
            "_model_name": "FloatProgressModel",
            "_view_count": null,
            "_view_module": "@jupyter-widgets/controls",
            "_view_module_version": "1.5.0",
            "_view_name": "ProgressView",
            "bar_style": "",
            "description": "",
            "description_tooltip": null,
            "layout": "IPY_MODEL_533daad452cd4cb0b2961236a8f1dd26",
            "max": 1,
            "min": 0,
            "orientation": "horizontal",
            "style": "IPY_MODEL_1530c06128e94134aef9ddfa59e19742",
            "value": 1
          }
        },
        "533daad452cd4cb0b2961236a8f1dd26": {
          "model_module": "@jupyter-widgets/base",
          "model_module_version": "1.2.0",
          "model_name": "LayoutModel",
          "state": {
            "_model_module": "@jupyter-widgets/base",
            "_model_module_version": "1.2.0",
            "_model_name": "LayoutModel",
            "_view_count": null,
            "_view_module": "@jupyter-widgets/base",
            "_view_module_version": "1.2.0",
            "_view_name": "LayoutView",
            "align_content": null,
            "align_items": null,
            "align_self": null,
            "border": null,
            "bottom": null,
            "display": null,
            "flex": null,
            "flex_flow": null,
            "grid_area": null,
            "grid_auto_columns": null,
            "grid_auto_flow": null,
            "grid_auto_rows": null,
            "grid_column": null,
            "grid_gap": null,
            "grid_row": null,
            "grid_template_areas": null,
            "grid_template_columns": null,
            "grid_template_rows": null,
            "height": null,
            "justify_content": null,
            "justify_items": null,
            "left": null,
            "margin": null,
            "max_height": null,
            "max_width": null,
            "min_height": null,
            "min_width": null,
            "object_fit": null,
            "object_position": null,
            "order": null,
            "overflow": null,
            "overflow_x": null,
            "overflow_y": null,
            "padding": null,
            "right": null,
            "top": null,
            "visibility": null,
            "width": null
          }
        },
        "554bb539bcbb46f795ab03cfc18bb7a5": {
          "model_module": "@jupyter-widgets/controls",
          "model_module_version": "1.5.0",
          "model_name": "DescriptionStyleModel",
          "state": {
            "_model_module": "@jupyter-widgets/controls",
            "_model_module_version": "1.5.0",
            "_model_name": "DescriptionStyleModel",
            "_view_count": null,
            "_view_module": "@jupyter-widgets/base",
            "_view_module_version": "1.2.0",
            "_view_name": "StyleView",
            "description_width": ""
          }
        },
        "55c8cd8461f6480398c1e9eaea8bedf5": {
          "model_module": "@jupyter-widgets/base",
          "model_module_version": "1.2.0",
          "model_name": "LayoutModel",
          "state": {
            "_model_module": "@jupyter-widgets/base",
            "_model_module_version": "1.2.0",
            "_model_name": "LayoutModel",
            "_view_count": null,
            "_view_module": "@jupyter-widgets/base",
            "_view_module_version": "1.2.0",
            "_view_name": "LayoutView",
            "align_content": null,
            "align_items": null,
            "align_self": null,
            "border": null,
            "bottom": null,
            "display": null,
            "flex": null,
            "flex_flow": null,
            "grid_area": null,
            "grid_auto_columns": null,
            "grid_auto_flow": null,
            "grid_auto_rows": null,
            "grid_column": null,
            "grid_gap": null,
            "grid_row": null,
            "grid_template_areas": null,
            "grid_template_columns": null,
            "grid_template_rows": null,
            "height": null,
            "justify_content": null,
            "justify_items": null,
            "left": null,
            "margin": null,
            "max_height": null,
            "max_width": null,
            "min_height": null,
            "min_width": null,
            "object_fit": null,
            "object_position": null,
            "order": null,
            "overflow": null,
            "overflow_x": null,
            "overflow_y": null,
            "padding": null,
            "right": null,
            "top": null,
            "visibility": null,
            "width": null
          }
        },
        "574a6e87bd9d42418e5becf5c429200a": {
          "model_module": "@jupyter-widgets/base",
          "model_module_version": "1.2.0",
          "model_name": "LayoutModel",
          "state": {
            "_model_module": "@jupyter-widgets/base",
            "_model_module_version": "1.2.0",
            "_model_name": "LayoutModel",
            "_view_count": null,
            "_view_module": "@jupyter-widgets/base",
            "_view_module_version": "1.2.0",
            "_view_name": "LayoutView",
            "align_content": null,
            "align_items": null,
            "align_self": null,
            "border": null,
            "bottom": null,
            "display": null,
            "flex": null,
            "flex_flow": null,
            "grid_area": null,
            "grid_auto_columns": null,
            "grid_auto_flow": null,
            "grid_auto_rows": null,
            "grid_column": null,
            "grid_gap": null,
            "grid_row": null,
            "grid_template_areas": null,
            "grid_template_columns": null,
            "grid_template_rows": null,
            "height": null,
            "justify_content": null,
            "justify_items": null,
            "left": null,
            "margin": null,
            "max_height": null,
            "max_width": null,
            "min_height": null,
            "min_width": null,
            "object_fit": null,
            "object_position": null,
            "order": null,
            "overflow": null,
            "overflow_x": null,
            "overflow_y": null,
            "padding": null,
            "right": null,
            "top": null,
            "visibility": null,
            "width": null
          }
        },
        "651e57f7b2984a8cbfc7f7d6d3c8f1d8": {
          "model_module": "@jupyter-widgets/controls",
          "model_module_version": "1.5.0",
          "model_name": "FloatProgressModel",
          "state": {
            "_dom_classes": [],
            "_model_module": "@jupyter-widgets/controls",
            "_model_module_version": "1.5.0",
            "_model_name": "FloatProgressModel",
            "_view_count": null,
            "_view_module": "@jupyter-widgets/controls",
            "_view_module_version": "1.5.0",
            "_view_name": "ProgressView",
            "bar_style": "",
            "description": "",
            "description_tooltip": null,
            "layout": "IPY_MODEL_a10c46f5f0574b75901107e41e79e6a3",
            "max": 1,
            "min": 0,
            "orientation": "horizontal",
            "style": "IPY_MODEL_d0cd8862b7d8419ea83a72ab976888a0",
            "value": 1
          }
        },
        "76196861bfbd479590e9e6e628a237aa": {
          "model_module": "@jupyter-widgets/controls",
          "model_module_version": "1.5.0",
          "model_name": "ProgressStyleModel",
          "state": {
            "_model_module": "@jupyter-widgets/controls",
            "_model_module_version": "1.5.0",
            "_model_name": "ProgressStyleModel",
            "_view_count": null,
            "_view_module": "@jupyter-widgets/base",
            "_view_module_version": "1.2.0",
            "_view_name": "StyleView",
            "bar_color": null,
            "description_width": ""
          }
        },
        "8b44fb1e6f0f4cb483129363fbeda849": {
          "model_module": "@jupyter-widgets/controls",
          "model_module_version": "1.5.0",
          "model_name": "LabelModel",
          "state": {
            "_dom_classes": [],
            "_model_module": "@jupyter-widgets/controls",
            "_model_module_version": "1.5.0",
            "_model_name": "LabelModel",
            "_view_count": null,
            "_view_module": "@jupyter-widgets/controls",
            "_view_module_version": "1.5.0",
            "_view_name": "LabelView",
            "description": "",
            "description_tooltip": null,
            "layout": "IPY_MODEL_2b652d9b681e44db9249d563a5b9579d",
            "placeholder": "​",
            "style": "IPY_MODEL_bc3c8e55e64d45cd894b4d77a48f7f63",
            "value": "0.008 MB of 0.008 MB uploaded (0.000 MB deduped)\r"
          }
        },
        "9900a65acbc6430097ab606a4ad8b310": {
          "model_module": "@jupyter-widgets/controls",
          "model_module_version": "1.5.0",
          "model_name": "DescriptionStyleModel",
          "state": {
            "_model_module": "@jupyter-widgets/controls",
            "_model_module_version": "1.5.0",
            "_model_name": "DescriptionStyleModel",
            "_view_count": null,
            "_view_module": "@jupyter-widgets/base",
            "_view_module_version": "1.2.0",
            "_view_name": "StyleView",
            "description_width": ""
          }
        },
        "a10c46f5f0574b75901107e41e79e6a3": {
          "model_module": "@jupyter-widgets/base",
          "model_module_version": "1.2.0",
          "model_name": "LayoutModel",
          "state": {
            "_model_module": "@jupyter-widgets/base",
            "_model_module_version": "1.2.0",
            "_model_name": "LayoutModel",
            "_view_count": null,
            "_view_module": "@jupyter-widgets/base",
            "_view_module_version": "1.2.0",
            "_view_name": "LayoutView",
            "align_content": null,
            "align_items": null,
            "align_self": null,
            "border": null,
            "bottom": null,
            "display": null,
            "flex": null,
            "flex_flow": null,
            "grid_area": null,
            "grid_auto_columns": null,
            "grid_auto_flow": null,
            "grid_auto_rows": null,
            "grid_column": null,
            "grid_gap": null,
            "grid_row": null,
            "grid_template_areas": null,
            "grid_template_columns": null,
            "grid_template_rows": null,
            "height": null,
            "justify_content": null,
            "justify_items": null,
            "left": null,
            "margin": null,
            "max_height": null,
            "max_width": null,
            "min_height": null,
            "min_width": null,
            "object_fit": null,
            "object_position": null,
            "order": null,
            "overflow": null,
            "overflow_x": null,
            "overflow_y": null,
            "padding": null,
            "right": null,
            "top": null,
            "visibility": null,
            "width": null
          }
        },
        "a61aac081d884fc7a3b7964e7499f6f3": {
          "model_module": "@jupyter-widgets/controls",
          "model_module_version": "1.5.0",
          "model_name": "FloatProgressModel",
          "state": {
            "_dom_classes": [],
            "_model_module": "@jupyter-widgets/controls",
            "_model_module_version": "1.5.0",
            "_model_name": "FloatProgressModel",
            "_view_count": null,
            "_view_module": "@jupyter-widgets/controls",
            "_view_module_version": "1.5.0",
            "_view_name": "ProgressView",
            "bar_style": "",
            "description": "",
            "description_tooltip": null,
            "layout": "IPY_MODEL_2b86b72191854e2ca4c67d6be88e2935",
            "max": 1,
            "min": 0,
            "orientation": "horizontal",
            "style": "IPY_MODEL_3c41e141f7294b909cceb1a55d9ee757",
            "value": 1
          }
        },
        "ada9f45ba8c54394b007f7428d440dc7": {
          "model_module": "@jupyter-widgets/base",
          "model_module_version": "1.2.0",
          "model_name": "LayoutModel",
          "state": {
            "_model_module": "@jupyter-widgets/base",
            "_model_module_version": "1.2.0",
            "_model_name": "LayoutModel",
            "_view_count": null,
            "_view_module": "@jupyter-widgets/base",
            "_view_module_version": "1.2.0",
            "_view_name": "LayoutView",
            "align_content": null,
            "align_items": null,
            "align_self": null,
            "border": null,
            "bottom": null,
            "display": null,
            "flex": null,
            "flex_flow": null,
            "grid_area": null,
            "grid_auto_columns": null,
            "grid_auto_flow": null,
            "grid_auto_rows": null,
            "grid_column": null,
            "grid_gap": null,
            "grid_row": null,
            "grid_template_areas": null,
            "grid_template_columns": null,
            "grid_template_rows": null,
            "height": null,
            "justify_content": null,
            "justify_items": null,
            "left": null,
            "margin": null,
            "max_height": null,
            "max_width": null,
            "min_height": null,
            "min_width": null,
            "object_fit": null,
            "object_position": null,
            "order": null,
            "overflow": null,
            "overflow_x": null,
            "overflow_y": null,
            "padding": null,
            "right": null,
            "top": null,
            "visibility": null,
            "width": null
          }
        },
        "bb7544a316d54bff8efebc42a16fb43a": {
          "model_module": "@jupyter-widgets/controls",
          "model_module_version": "1.5.0",
          "model_name": "LabelModel",
          "state": {
            "_dom_classes": [],
            "_model_module": "@jupyter-widgets/controls",
            "_model_module_version": "1.5.0",
            "_model_name": "LabelModel",
            "_view_count": null,
            "_view_module": "@jupyter-widgets/controls",
            "_view_module_version": "1.5.0",
            "_view_name": "LabelView",
            "description": "",
            "description_tooltip": null,
            "layout": "IPY_MODEL_ada9f45ba8c54394b007f7428d440dc7",
            "placeholder": "​",
            "style": "IPY_MODEL_554bb539bcbb46f795ab03cfc18bb7a5",
            "value": "0.008 MB of 0.008 MB uploaded (0.000 MB deduped)\r"
          }
        },
        "bc3c8e55e64d45cd894b4d77a48f7f63": {
          "model_module": "@jupyter-widgets/controls",
          "model_module_version": "1.5.0",
          "model_name": "DescriptionStyleModel",
          "state": {
            "_model_module": "@jupyter-widgets/controls",
            "_model_module_version": "1.5.0",
            "_model_name": "DescriptionStyleModel",
            "_view_count": null,
            "_view_module": "@jupyter-widgets/base",
            "_view_module_version": "1.2.0",
            "_view_name": "StyleView",
            "description_width": ""
          }
        },
        "bdd0bdb2ada440438a07dfd479f99376": {
          "model_module": "@jupyter-widgets/controls",
          "model_module_version": "1.5.0",
          "model_name": "VBoxModel",
          "state": {
            "_dom_classes": [],
            "_model_module": "@jupyter-widgets/controls",
            "_model_module_version": "1.5.0",
            "_model_name": "VBoxModel",
            "_view_count": null,
            "_view_module": "@jupyter-widgets/controls",
            "_view_module_version": "1.5.0",
            "_view_name": "VBoxView",
            "box_style": "",
            "children": [
              "IPY_MODEL_01297e8f5b5a462f997387a325b7c1f7",
              "IPY_MODEL_05c1b5a941e14c909da517b32d29df25"
            ],
            "layout": "IPY_MODEL_edabdc881c4849458c6e07cdc9d1f215"
          }
        },
        "c1ec4cda985e4b1f98e36f6fdf207359": {
          "model_module": "@jupyter-widgets/base",
          "model_module_version": "1.2.0",
          "model_name": "LayoutModel",
          "state": {
            "_model_module": "@jupyter-widgets/base",
            "_model_module_version": "1.2.0",
            "_model_name": "LayoutModel",
            "_view_count": null,
            "_view_module": "@jupyter-widgets/base",
            "_view_module_version": "1.2.0",
            "_view_name": "LayoutView",
            "align_content": null,
            "align_items": null,
            "align_self": null,
            "border": null,
            "bottom": null,
            "display": null,
            "flex": null,
            "flex_flow": null,
            "grid_area": null,
            "grid_auto_columns": null,
            "grid_auto_flow": null,
            "grid_auto_rows": null,
            "grid_column": null,
            "grid_gap": null,
            "grid_row": null,
            "grid_template_areas": null,
            "grid_template_columns": null,
            "grid_template_rows": null,
            "height": null,
            "justify_content": null,
            "justify_items": null,
            "left": null,
            "margin": null,
            "max_height": null,
            "max_width": null,
            "min_height": null,
            "min_width": null,
            "object_fit": null,
            "object_position": null,
            "order": null,
            "overflow": null,
            "overflow_x": null,
            "overflow_y": null,
            "padding": null,
            "right": null,
            "top": null,
            "visibility": null,
            "width": null
          }
        },
        "c82cd310d2de4e54a2ddfcf3885df920": {
          "model_module": "@jupyter-widgets/base",
          "model_module_version": "1.2.0",
          "model_name": "LayoutModel",
          "state": {
            "_model_module": "@jupyter-widgets/base",
            "_model_module_version": "1.2.0",
            "_model_name": "LayoutModel",
            "_view_count": null,
            "_view_module": "@jupyter-widgets/base",
            "_view_module_version": "1.2.0",
            "_view_name": "LayoutView",
            "align_content": null,
            "align_items": null,
            "align_self": null,
            "border": null,
            "bottom": null,
            "display": null,
            "flex": null,
            "flex_flow": null,
            "grid_area": null,
            "grid_auto_columns": null,
            "grid_auto_flow": null,
            "grid_auto_rows": null,
            "grid_column": null,
            "grid_gap": null,
            "grid_row": null,
            "grid_template_areas": null,
            "grid_template_columns": null,
            "grid_template_rows": null,
            "height": null,
            "justify_content": null,
            "justify_items": null,
            "left": null,
            "margin": null,
            "max_height": null,
            "max_width": null,
            "min_height": null,
            "min_width": null,
            "object_fit": null,
            "object_position": null,
            "order": null,
            "overflow": null,
            "overflow_x": null,
            "overflow_y": null,
            "padding": null,
            "right": null,
            "top": null,
            "visibility": null,
            "width": null
          }
        },
        "d0cd8862b7d8419ea83a72ab976888a0": {
          "model_module": "@jupyter-widgets/controls",
          "model_module_version": "1.5.0",
          "model_name": "ProgressStyleModel",
          "state": {
            "_model_module": "@jupyter-widgets/controls",
            "_model_module_version": "1.5.0",
            "_model_name": "ProgressStyleModel",
            "_view_count": null,
            "_view_module": "@jupyter-widgets/base",
            "_view_module_version": "1.2.0",
            "_view_name": "StyleView",
            "bar_color": null,
            "description_width": ""
          }
        },
        "d73dd16e30b143e0a16ef9df6cdd802a": {
          "model_module": "@jupyter-widgets/controls",
          "model_module_version": "1.5.0",
          "model_name": "ProgressStyleModel",
          "state": {
            "_model_module": "@jupyter-widgets/controls",
            "_model_module_version": "1.5.0",
            "_model_name": "ProgressStyleModel",
            "_view_count": null,
            "_view_module": "@jupyter-widgets/base",
            "_view_module_version": "1.2.0",
            "_view_name": "StyleView",
            "bar_color": null,
            "description_width": ""
          }
        },
        "edabdc881c4849458c6e07cdc9d1f215": {
          "model_module": "@jupyter-widgets/base",
          "model_module_version": "1.2.0",
          "model_name": "LayoutModel",
          "state": {
            "_model_module": "@jupyter-widgets/base",
            "_model_module_version": "1.2.0",
            "_model_name": "LayoutModel",
            "_view_count": null,
            "_view_module": "@jupyter-widgets/base",
            "_view_module_version": "1.2.0",
            "_view_name": "LayoutView",
            "align_content": null,
            "align_items": null,
            "align_self": null,
            "border": null,
            "bottom": null,
            "display": null,
            "flex": null,
            "flex_flow": null,
            "grid_area": null,
            "grid_auto_columns": null,
            "grid_auto_flow": null,
            "grid_auto_rows": null,
            "grid_column": null,
            "grid_gap": null,
            "grid_row": null,
            "grid_template_areas": null,
            "grid_template_columns": null,
            "grid_template_rows": null,
            "height": null,
            "justify_content": null,
            "justify_items": null,
            "left": null,
            "margin": null,
            "max_height": null,
            "max_width": null,
            "min_height": null,
            "min_width": null,
            "object_fit": null,
            "object_position": null,
            "order": null,
            "overflow": null,
            "overflow_x": null,
            "overflow_y": null,
            "padding": null,
            "right": null,
            "top": null,
            "visibility": null,
            "width": null
          }
        },
        "f83ee6fe88514e3ea3773e1baa126b8f": {
          "model_module": "@jupyter-widgets/base",
          "model_module_version": "1.2.0",
          "model_name": "LayoutModel",
          "state": {
            "_model_module": "@jupyter-widgets/base",
            "_model_module_version": "1.2.0",
            "_model_name": "LayoutModel",
            "_view_count": null,
            "_view_module": "@jupyter-widgets/base",
            "_view_module_version": "1.2.0",
            "_view_name": "LayoutView",
            "align_content": null,
            "align_items": null,
            "align_self": null,
            "border": null,
            "bottom": null,
            "display": null,
            "flex": null,
            "flex_flow": null,
            "grid_area": null,
            "grid_auto_columns": null,
            "grid_auto_flow": null,
            "grid_auto_rows": null,
            "grid_column": null,
            "grid_gap": null,
            "grid_row": null,
            "grid_template_areas": null,
            "grid_template_columns": null,
            "grid_template_rows": null,
            "height": null,
            "justify_content": null,
            "justify_items": null,
            "left": null,
            "margin": null,
            "max_height": null,
            "max_width": null,
            "min_height": null,
            "min_width": null,
            "object_fit": null,
            "object_position": null,
            "order": null,
            "overflow": null,
            "overflow_x": null,
            "overflow_y": null,
            "padding": null,
            "right": null,
            "top": null,
            "visibility": null,
            "width": null
          }
        }
      }
    }
  },
  "nbformat": 4,
  "nbformat_minor": 0
}