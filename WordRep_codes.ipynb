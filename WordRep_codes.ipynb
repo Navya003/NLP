{
  "nbformat": 4,
  "nbformat_minor": 0,
  "metadata": {
    "colab": {
      "provenance": [],
      "include_colab_link": true
    },
    "kernelspec": {
      "name": "python3",
      "display_name": "Python 3"
    },
    "language_info": {
      "name": "python"
    },
    "widgets": {
      "application/vnd.jupyter.widget-state+json": {
        "4f84b39125b34e13a25c0416771b5e6f": {
          "model_module": "@jupyter-widgets/controls",
          "model_name": "HBoxModel",
          "model_module_version": "1.5.0",
          "state": {
            "_dom_classes": [],
            "_model_module": "@jupyter-widgets/controls",
            "_model_module_version": "1.5.0",
            "_model_name": "HBoxModel",
            "_view_count": null,
            "_view_module": "@jupyter-widgets/controls",
            "_view_module_version": "1.5.0",
            "_view_name": "HBoxView",
            "box_style": "",
            "children": [
              "IPY_MODEL_688c41c265f640eb9277aec5e351d01b",
              "IPY_MODEL_8a1e47e9e5ae4b3bb5b45536a8baa23c",
              "IPY_MODEL_0cf4134e35254709af623311f7fe1291"
            ],
            "layout": "IPY_MODEL_8c73b27b8de341af843b125b68ce4a6b"
          }
        },
        "688c41c265f640eb9277aec5e351d01b": {
          "model_module": "@jupyter-widgets/controls",
          "model_name": "HTMLModel",
          "model_module_version": "1.5.0",
          "state": {
            "_dom_classes": [],
            "_model_module": "@jupyter-widgets/controls",
            "_model_module_version": "1.5.0",
            "_model_name": "HTMLModel",
            "_view_count": null,
            "_view_module": "@jupyter-widgets/controls",
            "_view_module_version": "1.5.0",
            "_view_name": "HTMLView",
            "description": "",
            "description_tooltip": null,
            "layout": "IPY_MODEL_2f1925c4e8154e6386c11aa95ef0a2f6",
            "placeholder": "​",
            "style": "IPY_MODEL_38f43fedbaf04b1f96fc4ee75f6ca171",
            "value": "Downloading: 100%"
          }
        },
        "8a1e47e9e5ae4b3bb5b45536a8baa23c": {
          "model_module": "@jupyter-widgets/controls",
          "model_name": "FloatProgressModel",
          "model_module_version": "1.5.0",
          "state": {
            "_dom_classes": [],
            "_model_module": "@jupyter-widgets/controls",
            "_model_module_version": "1.5.0",
            "_model_name": "FloatProgressModel",
            "_view_count": null,
            "_view_module": "@jupyter-widgets/controls",
            "_view_module_version": "1.5.0",
            "_view_name": "ProgressView",
            "bar_style": "success",
            "description": "",
            "description_tooltip": null,
            "layout": "IPY_MODEL_d51b1839b59842cbbd98b114b89816f6",
            "max": 536063208,
            "min": 0,
            "orientation": "horizontal",
            "style": "IPY_MODEL_a2b1b3ccbfde4b01b923800c80846373",
            "value": 536063208
          }
        },
        "0cf4134e35254709af623311f7fe1291": {
          "model_module": "@jupyter-widgets/controls",
          "model_name": "HTMLModel",
          "model_module_version": "1.5.0",
          "state": {
            "_dom_classes": [],
            "_model_module": "@jupyter-widgets/controls",
            "_model_module_version": "1.5.0",
            "_model_name": "HTMLModel",
            "_view_count": null,
            "_view_module": "@jupyter-widgets/controls",
            "_view_module_version": "1.5.0",
            "_view_name": "HTMLView",
            "description": "",
            "description_tooltip": null,
            "layout": "IPY_MODEL_7e311bb04b6b494a9bdfa0b53ffd4970",
            "placeholder": "​",
            "style": "IPY_MODEL_dfcd1aca065244afa83c392a25850eca",
            "value": " 511M/511M [05:30&lt;00:00, 2.60MB/s]"
          }
        },
        "8c73b27b8de341af843b125b68ce4a6b": {
          "model_module": "@jupyter-widgets/base",
          "model_name": "LayoutModel",
          "model_module_version": "1.2.0",
          "state": {
            "_model_module": "@jupyter-widgets/base",
            "_model_module_version": "1.2.0",
            "_model_name": "LayoutModel",
            "_view_count": null,
            "_view_module": "@jupyter-widgets/base",
            "_view_module_version": "1.2.0",
            "_view_name": "LayoutView",
            "align_content": null,
            "align_items": null,
            "align_self": null,
            "border": null,
            "bottom": null,
            "display": null,
            "flex": null,
            "flex_flow": null,
            "grid_area": null,
            "grid_auto_columns": null,
            "grid_auto_flow": null,
            "grid_auto_rows": null,
            "grid_column": null,
            "grid_gap": null,
            "grid_row": null,
            "grid_template_areas": null,
            "grid_template_columns": null,
            "grid_template_rows": null,
            "height": null,
            "justify_content": null,
            "justify_items": null,
            "left": null,
            "margin": null,
            "max_height": null,
            "max_width": null,
            "min_height": null,
            "min_width": null,
            "object_fit": null,
            "object_position": null,
            "order": null,
            "overflow": null,
            "overflow_x": null,
            "overflow_y": null,
            "padding": null,
            "right": null,
            "top": null,
            "visibility": null,
            "width": null
          }
        },
        "2f1925c4e8154e6386c11aa95ef0a2f6": {
          "model_module": "@jupyter-widgets/base",
          "model_name": "LayoutModel",
          "model_module_version": "1.2.0",
          "state": {
            "_model_module": "@jupyter-widgets/base",
            "_model_module_version": "1.2.0",
            "_model_name": "LayoutModel",
            "_view_count": null,
            "_view_module": "@jupyter-widgets/base",
            "_view_module_version": "1.2.0",
            "_view_name": "LayoutView",
            "align_content": null,
            "align_items": null,
            "align_self": null,
            "border": null,
            "bottom": null,
            "display": null,
            "flex": null,
            "flex_flow": null,
            "grid_area": null,
            "grid_auto_columns": null,
            "grid_auto_flow": null,
            "grid_auto_rows": null,
            "grid_column": null,
            "grid_gap": null,
            "grid_row": null,
            "grid_template_areas": null,
            "grid_template_columns": null,
            "grid_template_rows": null,
            "height": null,
            "justify_content": null,
            "justify_items": null,
            "left": null,
            "margin": null,
            "max_height": null,
            "max_width": null,
            "min_height": null,
            "min_width": null,
            "object_fit": null,
            "object_position": null,
            "order": null,
            "overflow": null,
            "overflow_x": null,
            "overflow_y": null,
            "padding": null,
            "right": null,
            "top": null,
            "visibility": null,
            "width": null
          }
        },
        "38f43fedbaf04b1f96fc4ee75f6ca171": {
          "model_module": "@jupyter-widgets/controls",
          "model_name": "DescriptionStyleModel",
          "model_module_version": "1.5.0",
          "state": {
            "_model_module": "@jupyter-widgets/controls",
            "_model_module_version": "1.5.0",
            "_model_name": "DescriptionStyleModel",
            "_view_count": null,
            "_view_module": "@jupyter-widgets/base",
            "_view_module_version": "1.2.0",
            "_view_name": "StyleView",
            "description_width": ""
          }
        },
        "d51b1839b59842cbbd98b114b89816f6": {
          "model_module": "@jupyter-widgets/base",
          "model_name": "LayoutModel",
          "model_module_version": "1.2.0",
          "state": {
            "_model_module": "@jupyter-widgets/base",
            "_model_module_version": "1.2.0",
            "_model_name": "LayoutModel",
            "_view_count": null,
            "_view_module": "@jupyter-widgets/base",
            "_view_module_version": "1.2.0",
            "_view_name": "LayoutView",
            "align_content": null,
            "align_items": null,
            "align_self": null,
            "border": null,
            "bottom": null,
            "display": null,
            "flex": null,
            "flex_flow": null,
            "grid_area": null,
            "grid_auto_columns": null,
            "grid_auto_flow": null,
            "grid_auto_rows": null,
            "grid_column": null,
            "grid_gap": null,
            "grid_row": null,
            "grid_template_areas": null,
            "grid_template_columns": null,
            "grid_template_rows": null,
            "height": null,
            "justify_content": null,
            "justify_items": null,
            "left": null,
            "margin": null,
            "max_height": null,
            "max_width": null,
            "min_height": null,
            "min_width": null,
            "object_fit": null,
            "object_position": null,
            "order": null,
            "overflow": null,
            "overflow_x": null,
            "overflow_y": null,
            "padding": null,
            "right": null,
            "top": null,
            "visibility": null,
            "width": null
          }
        },
        "a2b1b3ccbfde4b01b923800c80846373": {
          "model_module": "@jupyter-widgets/controls",
          "model_name": "ProgressStyleModel",
          "model_module_version": "1.5.0",
          "state": {
            "_model_module": "@jupyter-widgets/controls",
            "_model_module_version": "1.5.0",
            "_model_name": "ProgressStyleModel",
            "_view_count": null,
            "_view_module": "@jupyter-widgets/base",
            "_view_module_version": "1.2.0",
            "_view_name": "StyleView",
            "bar_color": null,
            "description_width": ""
          }
        },
        "7e311bb04b6b494a9bdfa0b53ffd4970": {
          "model_module": "@jupyter-widgets/base",
          "model_name": "LayoutModel",
          "model_module_version": "1.2.0",
          "state": {
            "_model_module": "@jupyter-widgets/base",
            "_model_module_version": "1.2.0",
            "_model_name": "LayoutModel",
            "_view_count": null,
            "_view_module": "@jupyter-widgets/base",
            "_view_module_version": "1.2.0",
            "_view_name": "LayoutView",
            "align_content": null,
            "align_items": null,
            "align_self": null,
            "border": null,
            "bottom": null,
            "display": null,
            "flex": null,
            "flex_flow": null,
            "grid_area": null,
            "grid_auto_columns": null,
            "grid_auto_flow": null,
            "grid_auto_rows": null,
            "grid_column": null,
            "grid_gap": null,
            "grid_row": null,
            "grid_template_areas": null,
            "grid_template_columns": null,
            "grid_template_rows": null,
            "height": null,
            "justify_content": null,
            "justify_items": null,
            "left": null,
            "margin": null,
            "max_height": null,
            "max_width": null,
            "min_height": null,
            "min_width": null,
            "object_fit": null,
            "object_position": null,
            "order": null,
            "overflow": null,
            "overflow_x": null,
            "overflow_y": null,
            "padding": null,
            "right": null,
            "top": null,
            "visibility": null,
            "width": null
          }
        },
        "dfcd1aca065244afa83c392a25850eca": {
          "model_module": "@jupyter-widgets/controls",
          "model_name": "DescriptionStyleModel",
          "model_module_version": "1.5.0",
          "state": {
            "_model_module": "@jupyter-widgets/controls",
            "_model_module_version": "1.5.0",
            "_model_name": "DescriptionStyleModel",
            "_view_count": null,
            "_view_module": "@jupyter-widgets/base",
            "_view_module_version": "1.2.0",
            "_view_name": "StyleView",
            "description_width": ""
          }
        },
        "749513127e354193a4e18ee30cd99044": {
          "model_module": "@jupyter-widgets/controls",
          "model_name": "HBoxModel",
          "model_module_version": "1.5.0",
          "state": {
            "_dom_classes": [],
            "_model_module": "@jupyter-widgets/controls",
            "_model_module_version": "1.5.0",
            "_model_name": "HBoxModel",
            "_view_count": null,
            "_view_module": "@jupyter-widgets/controls",
            "_view_module_version": "1.5.0",
            "_view_name": "HBoxView",
            "box_style": "",
            "children": [
              "IPY_MODEL_937729aa7ee24cf78e95ad6a30e681de",
              "IPY_MODEL_438596ae28254d4083b26f0f5913777e",
              "IPY_MODEL_a2eb38e1d51c4c5b817cdf15211e0e76"
            ],
            "layout": "IPY_MODEL_f994212d66b8433a87fcb02a2b1c25dd"
          }
        },
        "937729aa7ee24cf78e95ad6a30e681de": {
          "model_module": "@jupyter-widgets/controls",
          "model_name": "HTMLModel",
          "model_module_version": "1.5.0",
          "state": {
            "_dom_classes": [],
            "_model_module": "@jupyter-widgets/controls",
            "_model_module_version": "1.5.0",
            "_model_name": "HTMLModel",
            "_view_count": null,
            "_view_module": "@jupyter-widgets/controls",
            "_view_module_version": "1.5.0",
            "_view_name": "HTMLView",
            "description": "",
            "description_tooltip": null,
            "layout": "IPY_MODEL_64fb66f4bd6f4794b651bf0cd2212517",
            "placeholder": "​",
            "style": "IPY_MODEL_eccb27969d6b435bb24c35631b54f4b3",
            "value": "Downloading: 100%"
          }
        },
        "438596ae28254d4083b26f0f5913777e": {
          "model_module": "@jupyter-widgets/controls",
          "model_name": "FloatProgressModel",
          "model_module_version": "1.5.0",
          "state": {
            "_dom_classes": [],
            "_model_module": "@jupyter-widgets/controls",
            "_model_module_version": "1.5.0",
            "_model_name": "FloatProgressModel",
            "_view_count": null,
            "_view_module": "@jupyter-widgets/controls",
            "_view_module_version": "1.5.0",
            "_view_name": "ProgressView",
            "bar_style": "success",
            "description": "",
            "description_tooltip": null,
            "layout": "IPY_MODEL_1b42300b1886405ca0a0c840f29c7061",
            "max": 440473133,
            "min": 0,
            "orientation": "horizontal",
            "style": "IPY_MODEL_d8c5d61858b64249806a67909c36a86d",
            "value": 440473133
          }
        },
        "a2eb38e1d51c4c5b817cdf15211e0e76": {
          "model_module": "@jupyter-widgets/controls",
          "model_name": "HTMLModel",
          "model_module_version": "1.5.0",
          "state": {
            "_dom_classes": [],
            "_model_module": "@jupyter-widgets/controls",
            "_model_module_version": "1.5.0",
            "_model_name": "HTMLModel",
            "_view_count": null,
            "_view_module": "@jupyter-widgets/controls",
            "_view_module_version": "1.5.0",
            "_view_name": "HTMLView",
            "description": "",
            "description_tooltip": null,
            "layout": "IPY_MODEL_cdd3ae0e893c459e8442d107be2c989b",
            "placeholder": "​",
            "style": "IPY_MODEL_5c83954f00fb45e9b75d5f9bb2981960",
            "value": " 420M/420M [00:20&lt;00:00, 40.2MB/s]"
          }
        },
        "f994212d66b8433a87fcb02a2b1c25dd": {
          "model_module": "@jupyter-widgets/base",
          "model_name": "LayoutModel",
          "model_module_version": "1.2.0",
          "state": {
            "_model_module": "@jupyter-widgets/base",
            "_model_module_version": "1.2.0",
            "_model_name": "LayoutModel",
            "_view_count": null,
            "_view_module": "@jupyter-widgets/base",
            "_view_module_version": "1.2.0",
            "_view_name": "LayoutView",
            "align_content": null,
            "align_items": null,
            "align_self": null,
            "border": null,
            "bottom": null,
            "display": null,
            "flex": null,
            "flex_flow": null,
            "grid_area": null,
            "grid_auto_columns": null,
            "grid_auto_flow": null,
            "grid_auto_rows": null,
            "grid_column": null,
            "grid_gap": null,
            "grid_row": null,
            "grid_template_areas": null,
            "grid_template_columns": null,
            "grid_template_rows": null,
            "height": null,
            "justify_content": null,
            "justify_items": null,
            "left": null,
            "margin": null,
            "max_height": null,
            "max_width": null,
            "min_height": null,
            "min_width": null,
            "object_fit": null,
            "object_position": null,
            "order": null,
            "overflow": null,
            "overflow_x": null,
            "overflow_y": null,
            "padding": null,
            "right": null,
            "top": null,
            "visibility": null,
            "width": null
          }
        },
        "64fb66f4bd6f4794b651bf0cd2212517": {
          "model_module": "@jupyter-widgets/base",
          "model_name": "LayoutModel",
          "model_module_version": "1.2.0",
          "state": {
            "_model_module": "@jupyter-widgets/base",
            "_model_module_version": "1.2.0",
            "_model_name": "LayoutModel",
            "_view_count": null,
            "_view_module": "@jupyter-widgets/base",
            "_view_module_version": "1.2.0",
            "_view_name": "LayoutView",
            "align_content": null,
            "align_items": null,
            "align_self": null,
            "border": null,
            "bottom": null,
            "display": null,
            "flex": null,
            "flex_flow": null,
            "grid_area": null,
            "grid_auto_columns": null,
            "grid_auto_flow": null,
            "grid_auto_rows": null,
            "grid_column": null,
            "grid_gap": null,
            "grid_row": null,
            "grid_template_areas": null,
            "grid_template_columns": null,
            "grid_template_rows": null,
            "height": null,
            "justify_content": null,
            "justify_items": null,
            "left": null,
            "margin": null,
            "max_height": null,
            "max_width": null,
            "min_height": null,
            "min_width": null,
            "object_fit": null,
            "object_position": null,
            "order": null,
            "overflow": null,
            "overflow_x": null,
            "overflow_y": null,
            "padding": null,
            "right": null,
            "top": null,
            "visibility": null,
            "width": null
          }
        },
        "eccb27969d6b435bb24c35631b54f4b3": {
          "model_module": "@jupyter-widgets/controls",
          "model_name": "DescriptionStyleModel",
          "model_module_version": "1.5.0",
          "state": {
            "_model_module": "@jupyter-widgets/controls",
            "_model_module_version": "1.5.0",
            "_model_name": "DescriptionStyleModel",
            "_view_count": null,
            "_view_module": "@jupyter-widgets/base",
            "_view_module_version": "1.2.0",
            "_view_name": "StyleView",
            "description_width": ""
          }
        },
        "1b42300b1886405ca0a0c840f29c7061": {
          "model_module": "@jupyter-widgets/base",
          "model_name": "LayoutModel",
          "model_module_version": "1.2.0",
          "state": {
            "_model_module": "@jupyter-widgets/base",
            "_model_module_version": "1.2.0",
            "_model_name": "LayoutModel",
            "_view_count": null,
            "_view_module": "@jupyter-widgets/base",
            "_view_module_version": "1.2.0",
            "_view_name": "LayoutView",
            "align_content": null,
            "align_items": null,
            "align_self": null,
            "border": null,
            "bottom": null,
            "display": null,
            "flex": null,
            "flex_flow": null,
            "grid_area": null,
            "grid_auto_columns": null,
            "grid_auto_flow": null,
            "grid_auto_rows": null,
            "grid_column": null,
            "grid_gap": null,
            "grid_row": null,
            "grid_template_areas": null,
            "grid_template_columns": null,
            "grid_template_rows": null,
            "height": null,
            "justify_content": null,
            "justify_items": null,
            "left": null,
            "margin": null,
            "max_height": null,
            "max_width": null,
            "min_height": null,
            "min_width": null,
            "object_fit": null,
            "object_position": null,
            "order": null,
            "overflow": null,
            "overflow_x": null,
            "overflow_y": null,
            "padding": null,
            "right": null,
            "top": null,
            "visibility": null,
            "width": null
          }
        },
        "d8c5d61858b64249806a67909c36a86d": {
          "model_module": "@jupyter-widgets/controls",
          "model_name": "ProgressStyleModel",
          "model_module_version": "1.5.0",
          "state": {
            "_model_module": "@jupyter-widgets/controls",
            "_model_module_version": "1.5.0",
            "_model_name": "ProgressStyleModel",
            "_view_count": null,
            "_view_module": "@jupyter-widgets/base",
            "_view_module_version": "1.2.0",
            "_view_name": "StyleView",
            "bar_color": null,
            "description_width": ""
          }
        },
        "cdd3ae0e893c459e8442d107be2c989b": {
          "model_module": "@jupyter-widgets/base",
          "model_name": "LayoutModel",
          "model_module_version": "1.2.0",
          "state": {
            "_model_module": "@jupyter-widgets/base",
            "_model_module_version": "1.2.0",
            "_model_name": "LayoutModel",
            "_view_count": null,
            "_view_module": "@jupyter-widgets/base",
            "_view_module_version": "1.2.0",
            "_view_name": "LayoutView",
            "align_content": null,
            "align_items": null,
            "align_self": null,
            "border": null,
            "bottom": null,
            "display": null,
            "flex": null,
            "flex_flow": null,
            "grid_area": null,
            "grid_auto_columns": null,
            "grid_auto_flow": null,
            "grid_auto_rows": null,
            "grid_column": null,
            "grid_gap": null,
            "grid_row": null,
            "grid_template_areas": null,
            "grid_template_columns": null,
            "grid_template_rows": null,
            "height": null,
            "justify_content": null,
            "justify_items": null,
            "left": null,
            "margin": null,
            "max_height": null,
            "max_width": null,
            "min_height": null,
            "min_width": null,
            "object_fit": null,
            "object_position": null,
            "order": null,
            "overflow": null,
            "overflow_x": null,
            "overflow_y": null,
            "padding": null,
            "right": null,
            "top": null,
            "visibility": null,
            "width": null
          }
        },
        "5c83954f00fb45e9b75d5f9bb2981960": {
          "model_module": "@jupyter-widgets/controls",
          "model_name": "DescriptionStyleModel",
          "model_module_version": "1.5.0",
          "state": {
            "_model_module": "@jupyter-widgets/controls",
            "_model_module_version": "1.5.0",
            "_model_name": "DescriptionStyleModel",
            "_view_count": null,
            "_view_module": "@jupyter-widgets/base",
            "_view_module_version": "1.2.0",
            "_view_name": "StyleView",
            "description_width": ""
          }
        }
      }
    }
  },
  "cells": [
    {
      "cell_type": "markdown",
      "metadata": {
        "id": "view-in-github",
        "colab_type": "text"
      },
      "source": [
        "<a href=\"https://colab.research.google.com/github/Navya003/NLP/blob/main/WordRep_codes.ipynb\" target=\"_parent\"><img src=\"https://colab.research.google.com/assets/colab-badge.svg\" alt=\"Open In Colab\"/></a>"
      ]
    },
    {
      "cell_type": "code",
      "execution_count": null,
      "metadata": {
        "colab": {
          "base_uri": "https://localhost:8080/"
        },
        "id": "xcp6V4-qjEFx",
        "outputId": "666cf880-c72a-400a-b1cf-2aea8e0096b2"
      },
      "outputs": [
        {
          "output_type": "stream",
          "name": "stdout",
          "text": [
            "[['This ']\n",
            " ['is ']\n",
            " ['a']\n",
            " ['document']]\n",
            "[[0.]\n",
            " [3.]\n",
            " [1.]\n",
            " [2.]]\n"
          ]
        }
      ],
      "source": [
        "# ordinal method of encoding\n",
        "from numpy import asarray\n",
        "from sklearn.preprocessing import OrdinalEncoder\n",
        "data = asarray([['This '], ['is '], ['a'],['document']])\n",
        "#data= [['This '], ['is '], ['a'],['document']]\n",
        "print(data)\n",
        "encoder = OrdinalEncoder()\n",
        "result = encoder.fit_transform(data)\n",
        "print(result)"
      ]
    },
    {
      "cell_type": "code",
      "source": [
        "# one hot encoding\n",
        "from numpy import asarray\n",
        "from sklearn.preprocessing import OneHotEncoder\n",
        "data = asarray([['This '], ['is '], ['a'],['document']])\n",
        "print(data)\n",
        "encoder = OneHotEncoder(sparse=False)\n",
        "onehot = encoder.fit_transform(data)\n",
        "print(onehot)"
      ],
      "metadata": {
        "colab": {
          "base_uri": "https://localhost:8080/"
        },
        "id": "wSOQl1plgUCT",
        "outputId": "9e7fd50f-3d44-43e4-f206-840a178a802a"
      },
      "execution_count": null,
      "outputs": [
        {
          "output_type": "stream",
          "name": "stdout",
          "text": [
            "[['This ']\n",
            " ['is ']\n",
            " ['a']\n",
            " ['document']]\n",
            "[[1. 0. 0. 0.]\n",
            " [0. 0. 0. 1.]\n",
            " [0. 1. 0. 0.]\n",
            " [0. 0. 1. 0.]]\n"
          ]
        }
      ]
    },
    {
      "cell_type": "code",
      "source": [
        "#ordinal method of encoding- python pandas\n",
        "import pandas as pd\n",
        "df = pd.DataFrame({\"Document\": [\"This\", \"is \", \"a\", \"document.\", \" Words\", \"are\", \"converted\", \"into\", \"numbers\", \"in\", \"word\", \"representation\"]})\n",
        "print(df)\n"
      ],
      "metadata": {
        "colab": {
          "base_uri": "https://localhost:8080/"
        },
        "id": "2MqAImEQiHzi",
        "outputId": "b2d9ac7b-112f-4e5d-8dc5-6b555e576f4a"
      },
      "execution_count": null,
      "outputs": [
        {
          "output_type": "stream",
          "name": "stdout",
          "text": [
            "          Document\n",
            "0             This\n",
            "1              is \n",
            "2                a\n",
            "3        document.\n",
            "4            Words\n",
            "5              are\n",
            "6        converted\n",
            "7             into\n",
            "8          numbers\n",
            "9               in\n",
            "10            word\n",
            "11  representation\n"
          ]
        }
      ]
    },
    {
      "cell_type": "code",
      "source": [
        "# one-hot encoding python pandas\n",
        "y = OneHotEncoder().fit_transform(df).toarray()\n",
        "print(y)"
      ],
      "metadata": {
        "colab": {
          "base_uri": "https://localhost:8080/"
        },
        "id": "hjLvIz3elDix",
        "outputId": "bb3f767d-276e-4cab-8061-149116e58909"
      },
      "execution_count": null,
      "outputs": [
        {
          "output_type": "stream",
          "name": "stdout",
          "text": [
            "[[0. 1. 0. 0. 0. 0. 0. 0. 0. 0. 0. 0.]\n",
            " [0. 0. 0. 0. 0. 0. 0. 0. 1. 0. 0. 0.]\n",
            " [0. 0. 1. 0. 0. 0. 0. 0. 0. 0. 0. 0.]\n",
            " [0. 0. 0. 0. 0. 1. 0. 0. 0. 0. 0. 0.]\n",
            " [1. 0. 0. 0. 0. 0. 0. 0. 0. 0. 0. 0.]\n",
            " [0. 0. 0. 1. 0. 0. 0. 0. 0. 0. 0. 0.]\n",
            " [0. 0. 0. 0. 1. 0. 0. 0. 0. 0. 0. 0.]\n",
            " [0. 0. 0. 0. 0. 0. 0. 1. 0. 0. 0. 0.]\n",
            " [0. 0. 0. 0. 0. 0. 0. 0. 0. 1. 0. 0.]\n",
            " [0. 0. 0. 0. 0. 0. 1. 0. 0. 0. 0. 0.]\n",
            " [0. 0. 0. 0. 0. 0. 0. 0. 0. 0. 0. 1.]\n",
            " [0. 0. 0. 0. 0. 0. 0. 0. 0. 0. 1. 0.]]\n"
          ]
        }
      ]
    },
    {
      "cell_type": "code",
      "source": [
        "#Count Vectorization\n",
        "from sklearn.feature_extraction.text import CountVectorizer\n",
        "vectorizer = CountVectorizer()\n",
        "\n",
        "sample_text = [\"NLP is a part of computer science and artificial intelligence (AI) which deals with human languages. It acts as a medium which is used to fill the gap between human communication and computer understanding. In easy words, it gives computers the ability to understand the text and spoken words in much the same way human beings can.\"]\n",
        "vectorizer.fit(sample_text)\n",
        "\n",
        "# This will print out a list of words used, and their index in the vectors\n",
        "print('Words: ')\n",
        "print(vectorizer.vocabulary_)\n",
        "\n",
        "# If we would like to actually create a vector, we can do so by passing the\n",
        "# text into the vectorizer to get back counts\n",
        "vector = vectorizer.transform(sample_text)\n",
        "\n",
        "# Our final vector:\n",
        "print('Full vector: ')\n",
        "print(vector.toarray())\n"
      ],
      "metadata": {
        "colab": {
          "base_uri": "https://localhost:8080/"
        },
        "id": "i8ytg89_xLOD",
        "outputId": "30b3e175-ef78-48dd-c384-ebac25a9226e"
      },
      "execution_count": null,
      "outputs": [
        {
          "output_type": "stream",
          "name": "stdout",
          "text": [
            "Words: \n",
            "{'nlp': 25, 'is': 20, 'part': 27, 'of': 26, 'computer': 10, 'science': 29, 'and': 3, 'artificial': 4, 'intelligence': 19, 'ai': 2, 'which': 38, 'deals': 12, 'with': 39, 'human': 17, 'languages': 22, 'it': 21, 'acts': 1, 'as': 5, 'medium': 23, 'used': 36, 'to': 33, 'fill': 14, 'the': 32, 'gap': 15, 'between': 7, 'communication': 9, 'understanding': 35, 'in': 18, 'easy': 13, 'words': 40, 'gives': 16, 'computers': 11, 'ability': 0, 'understand': 34, 'text': 31, 'spoken': 30, 'much': 24, 'same': 28, 'way': 37, 'beings': 6, 'can': 8}\n",
            "Full vector: \n",
            "[[1 1 1 3 1 1 1 1 1 1 2 1 1 1 1 1 1 3 2 1 2 2 1 1 1 1 1 1 1 1 1 1 4 2 1 1\n",
            "  1 1 2 1 2]]\n"
          ]
        }
      ]
    },
    {
      "cell_type": "code",
      "source": [
        "# tf-idf\n",
        "# import required module\n",
        "from sklearn.feature_extraction.text import TfidfVectorizer\n",
        "# data\n",
        "d0 = 'NLP is a part of computer science and artificial intelligence (AI) which deals with human languages'\n",
        "d1 = 'It acts as a medium which is used to fill the gap between human communication and computer understanding.'\n",
        "d2 = 'In easy words, it gives computers the ability to understand the text and spoken words in much the same way human beings can'\n",
        "# merge documents into a single corpus\n",
        "string = [d0, d1, d2]\n",
        "# create object\n",
        "tfidf = TfidfVectorizer()\n",
        "# get tf-df values\n",
        "result = tfidf.fit_transform(string)\n",
        "# get idf values\n",
        "print('\\nidf values:')\n",
        "for ele1, ele2 in zip(tfidf.get_feature_names(), tfidf.idf_):\n",
        "\tprint(ele1, ':', ele2)\n",
        "# get indexing\n",
        "print('\\nWord indexes:')\n",
        "print(tfidf.vocabulary_)\n",
        "# display tf-idf values\n",
        "print('\\ntf-idf value:')\n",
        "print(result)\n",
        "# in matrix form\n",
        "print('\\ntf-idf values in matrix form:')\n",
        "print(result.toarray())\n"
      ],
      "metadata": {
        "id": "UGheeZmg3c-T",
        "colab": {
          "base_uri": "https://localhost:8080/"
        },
        "outputId": "954ff666-323f-41cf-81cc-f58909998947"
      },
      "execution_count": null,
      "outputs": [
        {
          "output_type": "stream",
          "name": "stdout",
          "text": [
            "\n",
            "idf values:\n",
            "ability : 1.6931471805599454\n",
            "acts : 1.6931471805599454\n",
            "ai : 1.6931471805599454\n",
            "and : 1.0\n",
            "artificial : 1.6931471805599454\n",
            "as : 1.6931471805599454\n",
            "beings : 1.6931471805599454\n",
            "between : 1.6931471805599454\n",
            "can : 1.6931471805599454\n",
            "communication : 1.6931471805599454\n",
            "computer : 1.2876820724517808\n",
            "computers : 1.6931471805599454\n",
            "deals : 1.6931471805599454\n",
            "easy : 1.6931471805599454\n",
            "fill : 1.6931471805599454\n",
            "gap : 1.6931471805599454\n",
            "gives : 1.6931471805599454\n",
            "human : 1.0\n",
            "in : 1.6931471805599454\n",
            "intelligence : 1.6931471805599454\n",
            "is : 1.2876820724517808\n",
            "it : 1.2876820724517808\n",
            "languages : 1.6931471805599454\n",
            "medium : 1.6931471805599454\n",
            "much : 1.6931471805599454\n",
            "nlp : 1.6931471805599454\n",
            "of : 1.6931471805599454\n",
            "part : 1.6931471805599454\n",
            "same : 1.6931471805599454\n",
            "science : 1.6931471805599454\n",
            "spoken : 1.6931471805599454\n",
            "text : 1.6931471805599454\n",
            "the : 1.2876820724517808\n",
            "to : 1.2876820724517808\n",
            "understand : 1.6931471805599454\n",
            "understanding : 1.6931471805599454\n",
            "used : 1.6931471805599454\n",
            "way : 1.6931471805599454\n",
            "which : 1.2876820724517808\n",
            "with : 1.6931471805599454\n",
            "words : 1.6931471805599454\n",
            "\n",
            "Word indexes:\n",
            "{'nlp': 25, 'is': 20, 'part': 27, 'of': 26, 'computer': 10, 'science': 29, 'and': 3, 'artificial': 4, 'intelligence': 19, 'ai': 2, 'which': 38, 'deals': 12, 'with': 39, 'human': 17, 'languages': 22, 'it': 21, 'acts': 1, 'as': 5, 'medium': 23, 'used': 36, 'to': 33, 'fill': 14, 'the': 32, 'gap': 15, 'between': 7, 'communication': 9, 'understanding': 35, 'in': 18, 'easy': 13, 'words': 40, 'gives': 16, 'computers': 11, 'ability': 0, 'understand': 34, 'text': 31, 'spoken': 30, 'much': 24, 'same': 28, 'way': 37, 'beings': 6, 'can': 8}\n",
            "\n",
            "tf-idf value:\n",
            "  (0, 22)\t0.2836054668236304\n",
            "  (0, 17)\t0.16750195734894024\n",
            "  (0, 39)\t0.2836054668236304\n",
            "  (0, 12)\t0.2836054668236304\n",
            "  (0, 38)\t0.21568926757881315\n",
            "  (0, 2)\t0.2836054668236304\n",
            "  (0, 19)\t0.2836054668236304\n",
            "  (0, 4)\t0.2836054668236304\n",
            "  (0, 3)\t0.16750195734894024\n",
            "  (0, 29)\t0.2836054668236304\n",
            "  (0, 10)\t0.21568926757881315\n",
            "  (0, 26)\t0.2836054668236304\n",
            "  (0, 27)\t0.2836054668236304\n",
            "  (0, 20)\t0.21568926757881315\n",
            "  (0, 25)\t0.2836054668236304\n",
            "  (1, 35)\t0.27557463552047584\n",
            "  (1, 9)\t0.27557463552047584\n",
            "  (1, 7)\t0.27557463552047584\n",
            "  (1, 15)\t0.27557463552047584\n",
            "  (1, 32)\t0.20958161337444758\n",
            "  (1, 14)\t0.27557463552047584\n",
            "  (1, 33)\t0.20958161337444758\n",
            "  (1, 36)\t0.27557463552047584\n",
            "  (1, 23)\t0.27557463552047584\n",
            "  (1, 5)\t0.27557463552047584\n",
            "  :\t:\n",
            "  (1, 21)\t0.20958161337444758\n",
            "  (1, 17)\t0.16275881901143396\n",
            "  (1, 38)\t0.20958161337444758\n",
            "  (1, 3)\t0.16275881901143396\n",
            "  (1, 10)\t0.20958161337444758\n",
            "  (1, 20)\t0.20958161337444758\n",
            "  (2, 8)\t0.19223643874740337\n",
            "  (2, 6)\t0.19223643874740337\n",
            "  (2, 37)\t0.19223643874740337\n",
            "  (2, 28)\t0.19223643874740337\n",
            "  (2, 24)\t0.19223643874740337\n",
            "  (2, 30)\t0.19223643874740337\n",
            "  (2, 31)\t0.19223643874740337\n",
            "  (2, 34)\t0.19223643874740337\n",
            "  (2, 0)\t0.19223643874740337\n",
            "  (2, 11)\t0.19223643874740337\n",
            "  (2, 16)\t0.19223643874740337\n",
            "  (2, 40)\t0.38447287749480674\n",
            "  (2, 13)\t0.19223643874740337\n",
            "  (2, 18)\t0.38447287749480674\n",
            "  (2, 32)\t0.4386022999462015\n",
            "  (2, 33)\t0.14620076664873383\n",
            "  (2, 21)\t0.14620076664873383\n",
            "  (2, 17)\t0.1135379374897747\n",
            "  (2, 3)\t0.1135379374897747\n",
            "\n",
            "tf-idf values in matrix form:\n",
            "[[0.         0.         0.28360547 0.16750196 0.28360547 0.\n",
            "  0.         0.         0.         0.         0.21568927 0.\n",
            "  0.28360547 0.         0.         0.         0.         0.16750196\n",
            "  0.         0.28360547 0.21568927 0.         0.28360547 0.\n",
            "  0.         0.28360547 0.28360547 0.28360547 0.         0.28360547\n",
            "  0.         0.         0.         0.         0.         0.\n",
            "  0.         0.         0.21568927 0.28360547 0.        ]\n",
            " [0.         0.27557464 0.         0.16275882 0.         0.27557464\n",
            "  0.         0.27557464 0.         0.27557464 0.20958161 0.\n",
            "  0.         0.         0.27557464 0.27557464 0.         0.16275882\n",
            "  0.         0.         0.20958161 0.20958161 0.         0.27557464\n",
            "  0.         0.         0.         0.         0.         0.\n",
            "  0.         0.         0.20958161 0.20958161 0.         0.27557464\n",
            "  0.27557464 0.         0.20958161 0.         0.        ]\n",
            " [0.19223644 0.         0.         0.11353794 0.         0.\n",
            "  0.19223644 0.         0.19223644 0.         0.         0.19223644\n",
            "  0.         0.19223644 0.         0.         0.19223644 0.11353794\n",
            "  0.38447288 0.         0.         0.14620077 0.         0.\n",
            "  0.19223644 0.         0.         0.         0.19223644 0.\n",
            "  0.19223644 0.19223644 0.4386023  0.14620077 0.19223644 0.\n",
            "  0.         0.19223644 0.         0.         0.38447288]]\n"
          ]
        },
        {
          "output_type": "stream",
          "name": "stderr",
          "text": [
            "/usr/local/lib/python3.7/dist-packages/sklearn/utils/deprecation.py:87: FutureWarning: Function get_feature_names is deprecated; get_feature_names is deprecated in 1.0 and will be removed in 1.2. Please use get_feature_names_out instead.\n",
            "  warnings.warn(msg, category=FutureWarning)\n"
          ]
        }
      ]
    },
    {
      "cell_type": "code",
      "source": [
        "# Word2vec\n",
        "from gensim.models import Word2Vec\n",
        "# define training data\n",
        "sentences = [['this', 'is', 'the', 'first', 'sentence', 'for', 'word2vec'],\n",
        "\t\t\t['this', 'is', 'the', 'second', 'sentence'],\n",
        "\t\t\t['yet', 'another', 'sentence'],\n",
        "\t\t\t['one', 'more', 'sentence'],\n",
        "\t\t\t['and', 'the', 'final', 'sentence']]\n",
        "# train model\n",
        "model = Word2Vec(sentences, min_count=1, sg=1)\n",
        "# summarize the loaded model\n",
        "print(model)\n",
        "# summarize vocabulary\n",
        "words = list(model.wv.vocab)\n",
        "print(words)\n",
        "# access vector for one word\n",
        "print(model['sentence'])\n",
        "# save model\n",
        "model.save('model.bin')\n",
        "# load model\n",
        "new_model = Word2Vec.load('model.bin')\n",
        "print(new_model)"
      ],
      "metadata": {
        "colab": {
          "base_uri": "https://localhost:8080/"
        },
        "id": "Y-zXmjNIi3Bh",
        "outputId": "3d58bc7b-5234-45f8-a0f3-61be15738cac"
      },
      "execution_count": null,
      "outputs": [
        {
          "output_type": "stream",
          "name": "stdout",
          "text": [
            "Word2Vec(vocab=14, size=100, alpha=0.025)\n",
            "['this', 'is', 'the', 'first', 'sentence', 'for', 'word2vec', 'second', 'yet', 'another', 'one', 'more', 'and', 'final']\n",
            "[ 4.58813366e-03 -3.90325696e-03  2.52492074e-03  1.55879941e-03\n",
            "  4.24751634e-04 -2.80890428e-03 -1.73738168e-03  4.90126293e-03\n",
            " -1.82603404e-03 -1.68938143e-03  2.26770039e-03  1.14721316e-03\n",
            " -3.13403294e-03 -4.80563054e-03  2.20302469e-03 -3.55824293e-03\n",
            " -3.21064703e-03  2.99451267e-03 -1.97712379e-03 -2.78914231e-03\n",
            "  2.89466931e-03 -3.17030819e-03  3.03496909e-03  4.66852495e-03\n",
            "  4.67429031e-03  4.25081979e-03  1.14628434e-04 -4.05299198e-03\n",
            " -3.70386126e-03 -3.82761774e-03 -2.20084796e-03  3.70311621e-03\n",
            " -8.19382840e-04  7.91332452e-04  2.66427919e-03  4.78672748e-03\n",
            "  1.87332963e-03 -3.57850292e-03 -7.34069909e-04 -4.74922312e-03\n",
            "  6.91297755e-04  1.11134653e-03  1.44349498e-04 -2.83472915e-03\n",
            "  1.49796635e-03  7.27775332e-04 -2.86298222e-03 -2.00982438e-03\n",
            "  1.89158169e-03  4.40299977e-03  3.84249346e-04  3.25165153e-03\n",
            " -1.60545472e-03  3.66718741e-03  1.67089325e-04 -2.79615447e-03\n",
            "  2.99663981e-03  2.04639672e-03 -1.70028221e-03 -3.37288599e-03\n",
            "  3.96247546e-04  3.05106747e-03  4.54390142e-03  2.22187885e-03\n",
            "  3.48343793e-03 -3.90632963e-03 -1.18454988e-03 -9.59095341e-05\n",
            "  4.06086864e-03  4.09708312e-03 -6.28015376e-04 -1.07460411e-03\n",
            "  2.08913791e-03 -1.98758789e-03 -2.81707081e-03 -4.49827965e-03\n",
            " -2.17858306e-03 -2.80992617e-03  3.98098212e-03 -1.65281293e-03\n",
            "  1.99044403e-03 -2.65458808e-03 -4.17924952e-04 -2.52412306e-03\n",
            "  1.13352912e-03  3.91128566e-03 -4.43972880e-03 -5.95440739e-04\n",
            " -2.20156298e-03 -3.32134252e-04 -4.34269384e-03 -3.22348613e-04\n",
            "  6.20459905e-04  1.72669080e-03 -1.03071204e-03 -8.87403730e-04\n",
            "  1.47377094e-03  2.69105122e-03  1.55109284e-03 -1.87212788e-03]\n",
            "Word2Vec(vocab=14, size=100, alpha=0.025)\n"
          ]
        },
        {
          "output_type": "stream",
          "name": "stderr",
          "text": [
            "/usr/local/lib/python3.7/dist-packages/ipykernel_launcher.py:17: DeprecationWarning: Call to deprecated `__getitem__` (Method will be removed in 4.0.0, use self.wv.__getitem__() instead).\n"
          ]
        }
      ]
    },
    {
      "cell_type": "code",
      "source": [
        "#Plotting word vectors\n",
        "from gensim.models import Word2Vec\n",
        "from sklearn.decomposition import PCA\n",
        "from matplotlib import pyplot\n",
        "# define training data\n",
        "sentences = [['this', 'is', 'the', 'first', 'sentence', 'for', 'word2vec'],\n",
        "\t\t\t['this', 'is', 'the', 'second', 'sentence'],\n",
        "\t\t\t['yet', 'another', 'sentence'],\n",
        "\t\t\t['one', 'more', 'sentence'],\n",
        "\t\t\t['and', 'the', 'final', 'sentence']]\n",
        "# train model\n",
        "model = Word2Vec(sentences, min_count=1)\n",
        "# fit a 2d PCA model to the vectors\n",
        "X = model[model.wv.vocab]\n",
        "pca = PCA(n_components=2)\n",
        "result = pca.fit_transform(X)\n",
        "# create a scatter plot of the projection\n",
        "pyplot.scatter(result[:, 0], result[:, 1])\n",
        "words = list(model.wv.vocab)\n",
        "for i, word in enumerate(words):\n",
        "\tpyplot.annotate(word, xy=(result[i, 0], result[i, 1]))\n",
        "pyplot.show()"
      ],
      "metadata": {
        "colab": {
          "base_uri": "https://localhost:8080/",
          "height": 320
        },
        "id": "6E6PJEnSpigJ",
        "outputId": "1605cd3f-d2a6-42e3-8407-76027a604a24"
      },
      "execution_count": null,
      "outputs": [
        {
          "output_type": "stream",
          "name": "stderr",
          "text": [
            "/usr/local/lib/python3.7/dist-packages/ipykernel_launcher.py:14: DeprecationWarning: Call to deprecated `__getitem__` (Method will be removed in 4.0.0, use self.wv.__getitem__() instead).\n",
            "  \n"
          ]
        },
        {
          "output_type": "display_data",
          "data": {
            "text/plain": [
              "<Figure size 432x288 with 1 Axes>"
            ],
            "image/png": "[encoded data removed]"
          },
          "metadata": {
            "needs_background": "light"
          }
        }
      ]
    },
    {
      "cell_type": "code",
      "source": [
        "# GloVe\n",
        "! python -m pip install  glove-python-binary --verbose #if not available, it will install\n",
        "#pip install glove_python\n",
        "import nltk\n",
        "nltk.download('stopwords')\n",
        "nltk.download ('punkt')\n",
        "nltk.download('wordnet')\n",
        "lines=  [\"This is a document\"]\n",
        "# Tokenization\n",
        "from nltk.tokenize import sent_tokenize, word_tokenize\n",
        "word_tokens=[]\n",
        "i=0\n",
        "for line in lines:\n",
        " words = word_tokenize(line)\n",
        " word_tokens.insert(i,words)\n",
        " i=i+1\n",
        "print (word_tokens)\n",
        "# word_token has the words\n",
        "# Stopwords removal\n",
        "from nltk.corpus import stopwords\n",
        "#stop words contain the set of stop words\n",
        "stop_words=stopwords.words('english')\n",
        "lines_without_stopwords=[]\n",
        "for line in lines:\n",
        "  stop_removed=[]\n",
        "for line in word_tokens:\n",
        "  for word in line:\n",
        "    if word not in stop_words:\n",
        "      #stop_removed.append(word)\n",
        "      #Fix\n",
        "      stop_removed.insert(i,word)\n",
        "print (stop_removed)\n",
        "#Lemmatization (Cleaning of Data)\n",
        "from nltk import WordNetLemmatizer\n",
        "from nltk.stem import WordNetLemmatizer\n",
        "wordnet_lemmatizer = WordNetLemmatizer()\n",
        "lines_with_lemmas=[]\n",
        "for line in lines:\n",
        "  lem_line=[]\n",
        "for word in stop_removed:\n",
        "  lem_line.append(wordnet_lemmatizer.lemmatize(word))\n",
        "#string=''\n",
        "#new_lines=[(','.join(i) for i in lem_line)]\n",
        "#new_lines=[','.join([str(i) for i in lem_line])]\n",
        "#new_lines=','.join(lem_line)\n",
        "#new_lines=list(new_lines)\n",
        "print (lem_line)\n",
        "#print (new_lines)\n",
        "#importing the glove library\n",
        "from glove import Corpus, Glove\n",
        "# creating a corpus object\n",
        "corpus = Corpus()\n",
        "#training the corpus to generate the co occurence matrix which is used in GloVe\n",
        "\n",
        "# Fix #1 for original code:\n",
        "# replace corpus.fit(new_lines, window=10) with corpus.fit([new_lines], window=10)\n",
        "#Isn't working :(\n",
        "\n",
        "# Fix #2 probably.\n",
        "corpus.fit(word_tokens, window=10)\n",
        "\n",
        "# Fix #3 probably.\n",
        "#corpus.fit(lem_line, window=10)\n",
        "#creating a Glove object which will use the matrix created in the above lines to create embeddings\n",
        "#We can set the learning rate as it uses Gradient Descent and number of components\n",
        "glove = Glove(no_components=5, learning_rate=0.05)\n",
        "\n",
        "glove.fit(corpus.matrix, epochs=30, no_threads=4, verbose=True)\n",
        "glove.add_dictionary(corpus.dictionary)\n",
        "glove.save('glove.model')\n",
        "\n",
        "\n",
        "# alt fix, print everything :)\n",
        "print(glove.dictionary)\n",
        "print(glove.word_vectors)\n",
        "\n",
        "#This statement will fetch out the encoding for a particular word from your data\n",
        "print(glove.word_vectors[glove.dictionary['This']])"
      ],
      "metadata": {
        "id": "PEeXXpV6oexA"
      },
      "execution_count": null,
      "outputs": []
    },
    {
      "cell_type": "code",
      "source": [
        "# GloVe 2\n",
        "! python -m pip install  glove-python-binary --verbose #if not available, it will install\n",
        "#pip install glove_python\n",
        "import nltk\n",
        "lines=  [\"This is a document\", \"NLP is a part of computer science and artificial intelligence which deals with human languages\"]\n",
        "# Tokenization\n",
        "from nltk.tokenize import sent_tokenize, word_tokenize\n",
        "word_tokens=[]\n",
        "i=0\n",
        "for line in lines:\n",
        " words = word_tokenize(line)\n",
        " word_tokens.insert(i,words)\n",
        " i=i+1\n",
        "print (word_tokens)\n",
        "#word_tokens has the words\n",
        "from glove import Corpus, Glove\n",
        "# creating a corpus object\n",
        "corpus = Corpus()\n",
        "#training the corpus to generate the co occurence matrix which is used in GloVe\n",
        "corpus.fit(word_tokens, window=10)\n",
        "#creating a Glove object which will use the matrix created in the above lines to create embeddings\n",
        "#We can set the learning rate as it uses Gradient Descent and number of components\n",
        "glove = Glove(no_components=5, learning_rate=0.05)\n",
        "glove.fit(corpus.matrix, no_threads=4, verbose=True)\n",
        "glove.add_dictionary(corpus.dictionary)\n",
        "glove.save('glove.model')\n",
        "print(glove.dictionary)\n",
        "print(glove.word_vectors)\n",
        "\n",
        "#This statement will fetch out the encoding for a particular word from your data\n",
        "print(glove.word_vectors[glove.dictionary['This']])\n",
        "\n"
      ],
      "metadata": {
        "id": "U9ub5wKIV-kN",
        "colab": {
          "base_uri": "https://localhost:8080/"
        },
        "outputId": "0c5e0c0c-0ce8-4941-89c3-e1536645e46f"
      },
      "execution_count": null,
      "outputs": [
        {
          "output_type": "stream",
          "name": "stdout",
          "text": [
            "Using pip 21.1.3 from /usr/local/lib/python3.7/dist-packages/pip (python 3.7)\n",
            "Value for scheme.platlib does not match. Please report this to <https://github.com/pypa/pip/issues/9617>\n",
            "distutils: /usr/local/lib/python3.7/dist-packages\n",
            "sysconfig: /usr/lib/python3.7/site-packages\n",
            "Value for scheme.purelib does not match. Please report this to <https://github.com/pypa/pip/issues/9617>\n",
            "distutils: /usr/local/lib/python3.7/dist-packages\n",
            "sysconfig: /usr/lib/python3.7/site-packages\n",
            "Value for scheme.headers does not match. Please report this to <https://github.com/pypa/pip/issues/9617>\n",
            "distutils: /usr/local/include/python3.7/UNKNOWN\n",
            "sysconfig: /usr/include/python3.7m/UNKNOWN\n",
            "Value for scheme.scripts does not match. Please report this to <https://github.com/pypa/pip/issues/9617>\n",
            "distutils: /usr/local/bin\n",
            "sysconfig: /usr/bin\n",
            "Value for scheme.data does not match. Please report this to <https://github.com/pypa/pip/issues/9617>\n",
            "distutils: /usr/local\n",
            "sysconfig: /usr\n",
            "Additional context:\n",
            "user = False\n",
            "home = None\n",
            "root = None\n",
            "prefix = None\n",
            "Non-user install because site-packages writeable\n",
            "Created temporary directory: /tmp/pip-ephem-wheel-cache-f94dir_b\n",
            "Created temporary directory: /tmp/pip-req-tracker-akn_hfpr\n",
            "Initialized build tracking at /tmp/pip-req-tracker-akn_hfpr\n",
            "Created build tracker: /tmp/pip-req-tracker-akn_hfpr\n",
            "Entered build tracker: /tmp/pip-req-tracker-akn_hfpr\n",
            "Created temporary directory: /tmp/pip-install-z4pw1xoe\n",
            "Requirement already satisfied: glove-python-binary in /usr/local/lib/python3.7/dist-packages (0.2.0)\n",
            "Requirement already satisfied: numpy in /usr/local/lib/python3.7/dist-packages (from glove-python-binary) (1.21.6)\n",
            "Requirement already satisfied: scipy in /usr/local/lib/python3.7/dist-packages (from glove-python-binary) (1.4.1)\n",
            "Created temporary directory: /tmp/pip-unpack-k8vgx87n\n",
            "Value for scheme.platlib does not match. Please report this to <https://github.com/pypa/pip/issues/9617>\n",
            "distutils: /usr/local/lib/python3.7/dist-packages\n",
            "sysconfig: /usr/lib/python3.7/site-packages\n",
            "Value for scheme.purelib does not match. Please report this to <https://github.com/pypa/pip/issues/9617>\n",
            "distutils: /usr/local/lib/python3.7/dist-packages\n",
            "sysconfig: /usr/lib/python3.7/site-packages\n",
            "Value for scheme.headers does not match. Please report this to <https://github.com/pypa/pip/issues/9617>\n",
            "distutils: /usr/local/include/python3.7/UNKNOWN\n",
            "sysconfig: /usr/include/python3.7m/UNKNOWN\n",
            "Value for scheme.scripts does not match. Please report this to <https://github.com/pypa/pip/issues/9617>\n",
            "distutils: /usr/local/bin\n",
            "sysconfig: /usr/bin\n",
            "Value for scheme.data does not match. Please report this to <https://github.com/pypa/pip/issues/9617>\n",
            "distutils: /usr/local\n",
            "sysconfig: /usr\n",
            "Additional context:\n",
            "user = False\n",
            "home = None\n",
            "root = None\n",
            "prefix = None\n",
            "Removed build tracker: '/tmp/pip-req-tracker-akn_hfpr'\n",
            "[['This', 'is', 'a', 'document'], ['NLP', 'is', 'a', 'part', 'of', 'computer', 'science', 'and', 'artificial', 'intelligence', 'which', 'deals', 'with', 'human', 'languages']]\n",
            "Performing 5 training epochs with 4 threads\n",
            "Epoch 0\n",
            "Epoch 1\n",
            "Epoch 2\n",
            "Epoch 3\n",
            "Epoch 4\n",
            "{'This': 0, 'is': 1, 'a': 2, 'document': 3, 'NLP': 4, 'part': 5, 'of': 6, 'computer': 7, 'science': 8, 'and': 9, 'artificial': 10, 'intelligence': 11, 'which': 12, 'deals': 13, 'with': 14, 'human': 15, 'languages': 16}\n",
            "[[-0.06007416 -0.06990918 -0.06410708  0.00462474  0.01077615]\n",
            " [-0.04096864  0.03828501  0.04019168  0.02018311 -0.09689098]\n",
            " [ 0.05177056  0.05129635 -0.08729562  0.07447879  0.01259329]\n",
            " [ 0.00497171  0.03228568 -0.05955211  0.03740087 -0.00847092]\n",
            " [ 0.06546084 -0.04642865 -0.08277247 -0.06909409 -0.01582665]\n",
            " [ 0.01451104 -0.03703222  0.00803865  0.00628886  0.03967298]\n",
            " [-0.00934082 -0.04379528 -0.08603677 -0.09065363  0.05676588]\n",
            " [-0.00274204 -0.00939505 -0.00488586 -0.08198387  0.06307792]\n",
            " [ 0.00598421 -0.07368085  0.00949405  0.0616842  -0.07559516]\n",
            " [ 0.06869759 -0.06706952 -0.05641415 -0.03086409 -0.00779065]\n",
            " [-0.01652491 -0.07179195  0.05381827 -0.07275934  0.07742017]\n",
            " [ 0.07352492  0.05861056 -0.06575894  0.06668134 -0.05738087]\n",
            " [ 0.05302395  0.08565215  0.01730821  0.09905722  0.05592332]\n",
            " [ 0.00150574  0.0581391   0.08812342  0.03584444 -0.02324329]\n",
            " [-0.00520532  0.07480114  0.05042988 -0.06332902 -0.0198633 ]\n",
            " [-0.01287145  0.09928631  0.05221223 -0.01068227 -0.02245065]\n",
            " [ 0.00889921  0.01339302 -0.0212284  -0.09697925  0.05488453]]\n",
            "[-0.06007416 -0.06990918 -0.06410708  0.00462474  0.01077615]\n"
          ]
        }
      ]
    },
    {
      "cell_type": "code",
      "source": [
        "#ElMo\n",
        "\n",
        "import tensorflow_hub as hub\n",
        "import tensorflow.compat.v1 as tf\n",
        "tf.disable_eager_execution()\n",
        "# elmo model\n",
        "elmo = hub.Module(\"https://tfhub.dev/google/elmo/3\", trainable=True)\n",
        "\n",
        "# data\n",
        "model = elmo([\"This is a document\"], as_dict= True)[\"elmo\"]\n",
        "\n",
        "init = tf.initialize_all_variables()\n",
        "sess = tf.Session()\n",
        "sess.run(init)\n",
        "print(sess.run(model))\n",
        "\n"
      ],
      "metadata": {
        "colab": {
          "base_uri": "https://localhost:8080/"
        },
        "outputId": "18f328e3-4c5c-48a9-ca04-59bac38b4cab",
        "id": "r0yWzIgDh6Xe"
      },
      "execution_count": null,
      "outputs": [
        {
          "output_type": "stream",
          "name": "stdout",
          "text": [
            "INFO:tensorflow:Saver not created because there are no variables in the graph to restore\n"
          ]
        },
        {
          "output_type": "stream",
          "name": "stderr",
          "text": [
            "INFO:tensorflow:Saver not created because there are no variables in the graph to restore\n"
          ]
        },
        {
          "output_type": "stream",
          "name": "stdout",
          "text": [
            "[[[-5.1420665e-01 -4.6363443e-01  6.9548905e-02 ... -6.4070415e-01\n",
            "   -2.4310914e-01 -4.3978482e-02]\n",
            "  [-2.7039799e-01 -5.1222128e-01  1.1160281e-01 ... -2.6492041e-01\n",
            "    4.1410470e-01  5.8975863e-01]\n",
            "  [-1.8552753e-01  7.1252644e-02  4.1650215e-01 ...  4.4076246e-01\n",
            "   -1.8319143e-01 -6.5913923e-02]\n",
            "  [-6.9209939e-01 -5.7593405e-02  7.0157063e-01 ... -2.5829393e-04\n",
            "   -1.7844455e-01 -2.0367682e-02]]]\n"
          ]
        }
      ]
    },
    {
      "cell_type": "code",
      "source": [
        "# BERT model code\n",
        "!pip install transformers\n",
        "from transformers import BertTokenizer, BertModel\n",
        "#print out the parameters of the BERT model.\n",
        "\n",
        "tokenizer = BertTokenizer.from_pretrained(\"bert-base-uncased\")\n",
        "model = BertModel.from_pretrained(\"bert-base-uncased\")\n",
        "#BERT model used here is a hugging face model which is trained on\n",
        "#Book corpus https://yknzhu.wixsite.com/mbweb and\n",
        "#English Wikipedia https://en.wikipedia.org/wiki/English_Wikipedia\n",
        "\n",
        "inputs = tokenizer(\"This is an important document\", return_tensors=\"pt\")\n",
        "#print(inputs)\n",
        "outputs = model(**inputs)\n",
        "#print(outputs)\n",
        "last_hidden_states = outputs.last_hidden_state\n",
        "print(last_hidden_states)"
      ],
      "metadata": {
        "id": "UzoO9VXcW8ZS",
        "colab": {
          "base_uri": "https://localhost:8080/"
        },
        "outputId": "32d6014a-0e1e-4eac-8e5d-fdc1968761b2"
      },
      "execution_count": null,
      "outputs": [
        {
          "output_type": "stream",
          "name": "stdout",
          "text": [
            "Requirement already satisfied: transformers in /usr/local/lib/python3.7/dist-packages (4.19.2)\n",
            "Requirement already satisfied: regex!=2019.12.17 in /usr/local/lib/python3.7/dist-packages (from transformers) (2019.12.20)\n",
            "Requirement already satisfied: huggingface-hub<1.0,>=0.1.0 in /usr/local/lib/python3.7/dist-packages (from transformers) (0.6.0)\n",
            "Requirement already satisfied: filelock in /usr/local/lib/python3.7/dist-packages (from transformers) (3.7.0)\n",
            "Requirement already satisfied: tokenizers!=0.11.3,<0.13,>=0.11.1 in /usr/local/lib/python3.7/dist-packages (from transformers) (0.12.1)\n",
            "Requirement already satisfied: numpy>=1.17 in /usr/local/lib/python3.7/dist-packages (from transformers) (1.21.6)\n",
            "Requirement already satisfied: pyyaml>=5.1 in /usr/local/lib/python3.7/dist-packages (from transformers) (6.0)\n",
            "Requirement already satisfied: packaging>=20.0 in /usr/local/lib/python3.7/dist-packages (from transformers) (21.3)\n",
            "Requirement already satisfied: importlib-metadata in /usr/local/lib/python3.7/dist-packages (from transformers) (4.11.3)\n",
            "Requirement already satisfied: requests in /usr/local/lib/python3.7/dist-packages (from transformers) (2.23.0)\n",
            "Requirement already satisfied: tqdm>=4.27 in /usr/local/lib/python3.7/dist-packages (from transformers) (4.64.0)\n",
            "Requirement already satisfied: typing-extensions>=3.7.4.3 in /usr/local/lib/python3.7/dist-packages (from huggingface-hub<1.0,>=0.1.0->transformers) (4.2.0)\n",
            "Requirement already satisfied: pyparsing!=3.0.5,>=2.0.2 in /usr/local/lib/python3.7/dist-packages (from packaging>=20.0->transformers) (3.0.9)\n",
            "Requirement already satisfied: zipp>=0.5 in /usr/local/lib/python3.7/dist-packages (from importlib-metadata->transformers) (3.8.0)\n",
            "Requirement already satisfied: chardet<4,>=3.0.2 in /usr/local/lib/python3.7/dist-packages (from requests->transformers) (3.0.4)\n",
            "Requirement already satisfied: urllib3!=1.25.0,!=1.25.1,<1.26,>=1.21.1 in /usr/local/lib/python3.7/dist-packages (from requests->transformers) (1.24.3)\n",
            "Requirement already satisfied: certifi>=2017.4.17 in /usr/local/lib/python3.7/dist-packages (from requests->transformers) (2021.10.8)\n",
            "Requirement already satisfied: idna<3,>=2.5 in /usr/local/lib/python3.7/dist-packages (from requests->transformers) (2.10)\n"
          ]
        },
        {
          "output_type": "stream",
          "name": "stderr",
          "text": [
            "Some weights of the model checkpoint at bert-base-uncased were not used when initializing BertModel: ['cls.predictions.transform.LayerNorm.weight', 'cls.predictions.transform.LayerNorm.bias', 'cls.predictions.transform.dense.weight', 'cls.predictions.transform.dense.bias', 'cls.predictions.bias', 'cls.seq_relationship.bias', 'cls.seq_relationship.weight', 'cls.predictions.decoder.weight']\n",
            "- This IS expected if you are initializing BertModel from the checkpoint of a model trained on another task or with another architecture (e.g. initializing a BertForSequenceClassification model from a BertForPreTraining model).\n",
            "- This IS NOT expected if you are initializing BertModel from the checkpoint of a model that you expect to be exactly identical (initializing a BertForSequenceClassification model from a BertForSequenceClassification model).\n"
          ]
        },
        {
          "output_type": "stream",
          "name": "stdout",
          "text": [
            "tensor([[[-0.0160,  0.3046, -0.0345,  ..., -0.2475,  0.0771,  0.2620],\n",
            "         [-0.4907,  0.0441, -0.3944,  ..., -0.6001,  0.6567,  0.2572],\n",
            "         [-0.2692, -0.1741,  0.2546,  ..., -0.1604,  0.1904,  0.5597],\n",
            "         ...,\n",
            "         [-0.3235,  0.4232,  0.2442,  ..., -0.1668, -0.0491, -0.4585],\n",
            "         [-0.2050,  0.3494, -0.2994,  ...,  0.0865, -0.0041, -0.3970],\n",
            "         [ 0.8941,  0.0314, -0.2071,  ...,  0.2385, -0.5972, -0.3016]]],\n",
            "       grad_fn=<NativeLayerNormBackward0>)\n"
          ]
        }
      ]
    },
    {
      "cell_type": "code",
      "source": [
        "from transformers import BertTokenizer, TFBertModel\n",
        "import tensorflow as tf\n",
        "\n",
        "tokenizer = BertTokenizer.from_pretrained(\"bert-base-uncased\")\n",
        "model = TFBertModel.from_pretrained(\"bert-base-uncased\")\n",
        "\n",
        "inputs = tokenizer(\"Hello, my dog is cute\", return_tensors=\"tf\")\n",
        "outputs = model(inputs)\n",
        "\n",
        "last_hidden_states = outputs.last_hidden_state\n"
      ],
      "metadata": {
        "colab": {
          "base_uri": "https://localhost:8080/",
          "height": 156,
          "referenced_widgets": [
            "4f84b39125b34e13a25c0416771b5e6f",
            "688c41c265f640eb9277aec5e351d01b",
            "8a1e47e9e5ae4b3bb5b45536a8baa23c",
            "0cf4134e35254709af623311f7fe1291",
            "8c73b27b8de341af843b125b68ce4a6b",
            "2f1925c4e8154e6386c11aa95ef0a2f6",
            "38f43fedbaf04b1f96fc4ee75f6ca171",
            "d51b1839b59842cbbd98b114b89816f6",
            "a2b1b3ccbfde4b01b923800c80846373",
            "7e311bb04b6b494a9bdfa0b53ffd4970",
            "dfcd1aca065244afa83c392a25850eca"
          ]
        },
        "id": "THabbEBmJFEP",
        "outputId": "645d02f9-e1ee-4a9d-b0c4-4a307a40dc17"
      },
      "execution_count": null,
      "outputs": [
        {
          "output_type": "display_data",
          "data": {
            "text/plain": [
              "Downloading:   0%|          | 0.00/511M [00:00<?, ?B/s]"
            ],
            "application/vnd.jupyter.widget-view+json": {
              "version_major": 2,
              "version_minor": 0,
              "model_id": "4f84b39125b34e13a25c0416771b5e6f"
            }
          },
          "metadata": {}
        },
        {
          "output_type": "stream",
          "name": "stderr",
          "text": [
            "Some layers from the model checkpoint at bert-base-uncased were not used when initializing TFBertModel: ['nsp___cls', 'mlm___cls']\n",
            "- This IS expected if you are initializing TFBertModel from the checkpoint of a model trained on another task or with another architecture (e.g. initializing a BertForSequenceClassification model from a BertForPreTraining model).\n",
            "- This IS NOT expected if you are initializing TFBertModel from the checkpoint of a model that you expect to be exactly identical (initializing a BertForSequenceClassification model from a BertForSequenceClassification model).\n",
            "All the layers of TFBertModel were initialized from the model checkpoint at bert-base-uncased.\n",
            "If your task is similar to the task the model of the checkpoint was trained on, you can already use TFBertModel for predictions without further training.\n"
          ]
        }
      ]
    },
    {
      "cell_type": "code",
      "source": [
        "print(outputs)\n",
        "print(last_hidden_states)"
      ],
      "metadata": {
        "colab": {
          "base_uri": "https://localhost:8080/"
        },
        "id": "lsZAorkVLej1",
        "outputId": "3bc4f974-5f17-41a3-8238-0553f016d3d1"
      },
      "execution_count": null,
      "outputs": [
        {
          "output_type": "stream",
          "name": "stdout",
          "text": [
            "TFBaseModelOutputWithPoolingAndCrossAttentions(last_hidden_state=<tf.Tensor: shape=(1, 8, 768), dtype=float32, numpy=\n",
            "array([[[-0.11437158,  0.19371364,  0.12495901, ..., -0.3826908 ,\n",
            "          0.21065894,  0.54070807],\n",
            "        [ 0.53082365,  0.32074857,  0.366459  , ..., -0.00360685,\n",
            "          0.7578608 ,  0.0388431 ],\n",
            "        [-0.48765162,  0.88492507,  0.4255641 , ..., -0.6976212 ,\n",
            "          0.44583395,  0.12309407],\n",
            "        ...,\n",
            "        [-0.7002792 , -0.18150717,  0.32969677, ..., -0.48379248,\n",
            "          0.06802389,  0.8900844 ],\n",
            "        [-1.035463  , -0.25667796, -0.03165262, ...,  0.31974375,\n",
            "          0.39990222,  0.17954767],\n",
            "        [ 0.6079923 ,  0.26097032, -0.31307203, ...,  0.03109762,\n",
            "         -0.62827253, -0.19942455]]], dtype=float32)>, pooler_output=<tf.Tensor: shape=(1, 768), dtype=float32, numpy=\n",
            "array([[-7.19458461e-01, -2.14449525e-01, -2.95760155e-01,\n",
            "         3.66029739e-01,  2.79677659e-01,  2.21834462e-02,\n",
            "         5.72991431e-01,  6.23310246e-02,  5.95864579e-02,\n",
            "        -9.99652624e-01,  5.01463525e-02,  4.47561741e-01,\n",
            "         9.76118922e-01,  3.39880884e-02,  8.44944894e-01,\n",
            "        -3.69052708e-01,  9.86488685e-02, -3.71686906e-01,\n",
            "         1.73706546e-01,  1.15147546e-01,  4.41330999e-01,\n",
            "         9.95248556e-01,  3.72208357e-01,  8.28808919e-02,\n",
            "         2.14019790e-01,  6.89649165e-01, -6.10419571e-01,\n",
            "         8.71356487e-01,  9.41584051e-01,  5.73720634e-01,\n",
            "        -3.21870387e-01,  8.66704900e-03, -9.86104965e-01,\n",
            "        -2.05421839e-02, -4.37554836e-01, -9.80115473e-01,\n",
            "         1.11424446e-01, -6.75871968e-01,  1.34990111e-01,\n",
            "         3.11300427e-01, -8.29971969e-01,  1.90056011e-01,\n",
            "         9.98961031e-01, -3.17983001e-01,  2.15169955e-02,\n",
            "        -1.65308118e-01, -9.99433100e-01,  1.01732872e-01,\n",
            "        -8.18114161e-01,  3.31188664e-02,  3.67400229e-01,\n",
            "        -7.32303038e-02, -1.42609045e-01,  1.89070761e-01,\n",
            "         2.61186361e-01,  4.15824234e-01, -2.44265750e-01,\n",
            "        -5.98463342e-02, -7.34919384e-02, -3.42015684e-01,\n",
            "        -5.80011725e-01,  2.83311874e-01, -5.05132258e-01,\n",
            "        -8.19669187e-01,  1.98133200e-01,  1.91080406e-01,\n",
            "         3.70113812e-02, -1.13269366e-01,  1.34724349e-01,\n",
            "        -2.16143608e-01,  6.34941518e-01,  2.48688888e-02,\n",
            "         3.82873267e-01, -8.17786217e-01, -2.48736709e-01,\n",
            "         8.49820226e-02, -5.29981494e-01,  9.99997675e-01,\n",
            "        -5.21546751e-02, -9.70523238e-01,  3.98477852e-01,\n",
            "         2.13593822e-02,  3.90350342e-01,  3.55884373e-01,\n",
            "        -1.78814068e-01, -9.99974549e-01,  2.69391328e-01,\n",
            "        -3.80565897e-02, -9.86571848e-01,  6.93216398e-02,\n",
            "         3.91383708e-01, -2.18843184e-02, -9.63315815e-02,\n",
            "         3.85454684e-01, -3.41361582e-01, -8.03618357e-02,\n",
            "        -3.20223421e-02, -3.63279432e-01, -7.81293586e-02,\n",
            "         1.91923156e-02, -1.34291902e-01, -1.60133298e-02,\n",
            "        -5.26397526e-02, -2.80061662e-01,  9.36112180e-02,\n",
            "        -2.28847340e-01, -1.23054504e-01, -1.10021383e-01,\n",
            "        -3.28081638e-01,  4.03563499e-01,  2.80478805e-01,\n",
            "        -2.01019257e-01,  2.76847422e-01, -9.40230906e-01,\n",
            "         4.17562783e-01, -1.54725388e-01, -9.75533187e-01,\n",
            "        -4.30033624e-01, -9.85457957e-01,  5.91576338e-01,\n",
            "         3.73437405e-02, -1.93200499e-01,  9.16911006e-01,\n",
            "         3.60116005e-01,  1.45048276e-01,  1.53982222e-01,\n",
            "        -1.06569910e-02, -9.99999344e-01, -3.15730333e-01,\n",
            "        -3.10374469e-01,  1.65231377e-01, -8.03298131e-02,\n",
            "        -9.66497421e-01, -9.45455074e-01,  3.61446321e-01,\n",
            "         9.01376247e-01, -7.26962015e-02,  9.97742236e-01,\n",
            "         3.72889489e-02,  9.35991585e-01,  2.53167808e-01,\n",
            "        -2.01844826e-01,  2.95324232e-02, -2.31624916e-01,\n",
            "         3.46315861e-01, -1.07625999e-01, -2.65651703e-01,\n",
            "         1.08740859e-01,  1.29849195e-01,  2.11340524e-02,\n",
            "        -9.62830931e-02, -7.63576254e-02, -6.51490837e-02,\n",
            "        -8.92766774e-01, -2.34647542e-01,  9.11759138e-01,\n",
            "         7.04296529e-02, -2.14292735e-01,  3.81971985e-01,\n",
            "         3.58917937e-02, -1.69710249e-01,  7.06542850e-01,\n",
            "         2.40448788e-01,  1.50139540e-01, -1.94777027e-02,\n",
            "         2.13693336e-01, -1.79770082e-01,  3.51117164e-01,\n",
            "        -6.02602184e-01,  4.16827410e-01,  1.80900916e-01,\n",
            "        -3.24964002e-02, -3.01374793e-01, -9.71034765e-01,\n",
            "        -1.39173687e-01,  3.51302266e-01,  9.83260274e-01,\n",
            "         5.27020097e-01,  4.88114543e-02,  1.39901238e-02,\n",
            "        -6.79637864e-02,  2.97174871e-01, -9.41362798e-01,\n",
            "         9.72189248e-01, -2.47735847e-02,  1.52244255e-01,\n",
            "        -1.82412580e-01,  5.55835851e-02, -7.73061872e-01,\n",
            "        -9.90003273e-02,  4.70583647e-01, -1.70224383e-01,\n",
            "        -7.78029799e-01,  5.28335460e-02, -3.76786739e-01,\n",
            "        -4.12957780e-02, -4.96121407e-01,  1.41710848e-01,\n",
            "        -1.18026465e-01, -1.89949289e-01,  5.03836423e-02,\n",
            "         9.06232774e-01,  7.88281679e-01,  5.22883296e-01,\n",
            "        -3.52740526e-01,  2.85634518e-01, -8.14936399e-01,\n",
            "        -1.96219742e-01, -9.29754749e-02,  5.93107864e-02,\n",
            "         3.19023728e-02,  9.88599360e-01, -3.94522399e-01,\n",
            "         1.18666552e-01, -8.69766474e-01, -9.77891505e-01,\n",
            "        -1.48587808e-01, -7.70643890e-01, -4.06163512e-03,\n",
            "        -4.11515474e-01,  3.25780123e-01,  1.87774032e-01,\n",
            "        -2.45010152e-01,  2.66675204e-01, -7.93286502e-01,\n",
            "        -4.81326669e-01,  9.32452977e-02, -1.70099020e-01,\n",
            "         2.70426005e-01, -3.58799882e-02,  7.79727697e-01,\n",
            "         4.66964304e-01, -3.46360385e-01,  5.52385896e-02,\n",
            "         9.03124809e-01, -2.41151735e-01, -6.41996503e-01,\n",
            "         4.14414376e-01, -9.77970660e-02,  6.29828334e-01,\n",
            "        -4.17869925e-01,  9.40687180e-01,  4.92848516e-01,\n",
            "         3.60581279e-01, -8.79013062e-01, -2.67259896e-01,\n",
            "        -5.46790600e-01,  9.39361402e-04, -1.05019994e-02,\n",
            "        -4.68368262e-01,  3.11160117e-01,  3.69990945e-01,\n",
            "         1.33061364e-01,  6.40917778e-01, -3.56295466e-01,\n",
            "         8.85493219e-01, -8.90358746e-01, -9.38651025e-01,\n",
            "        -8.12151015e-01,  2.73617327e-01, -9.85664308e-01,\n",
            "         4.03625250e-01,  2.12231100e-01, -1.43158436e-01,\n",
            "        -2.45530620e-01, -2.11438417e-01, -9.47283864e-01,\n",
            "         5.08063555e-01, -9.66215134e-02,  8.55710506e-01,\n",
            "        -1.01330355e-01, -6.77683532e-01, -2.84999520e-01,\n",
            "        -8.99047077e-01, -3.35770398e-01,  8.91548172e-02,\n",
            "         3.26001644e-01, -2.64674187e-01, -9.20324624e-01,\n",
            "         3.46285701e-01,  3.34304273e-01,  2.13971496e-01,\n",
            "         3.06296721e-02,  9.38777864e-01,  9.99857247e-01,\n",
            "         9.63852346e-01,  8.31589937e-01,  6.22498572e-01,\n",
            "        -9.80552852e-01, -7.36234009e-01,  9.99857843e-01,\n",
            "        -7.83952475e-01, -9.99975026e-01, -8.78004730e-01,\n",
            "        -5.08926928e-01,  2.33989358e-02, -9.99999225e-01,\n",
            "        -6.19380809e-02,  1.95627898e-01, -9.05515790e-01,\n",
            "        -1.40077904e-01,  9.52640295e-01,  7.98368216e-01,\n",
            "        -9.99997675e-01,  7.63426065e-01,  8.36699128e-01,\n",
            "        -4.58586842e-01,  5.44103205e-01, -2.40734071e-01,\n",
            "         9.60846722e-01,  1.91643834e-01,  3.21353287e-01,\n",
            "        -1.30639058e-02,  2.45335519e-01, -5.30009925e-01,\n",
            "        -5.95380425e-01,  3.74639422e-01, -2.11893231e-01,\n",
            "         8.80243063e-01,  1.96475331e-02, -3.83485883e-01,\n",
            "        -8.47786725e-01,  1.46760475e-02, -2.83755995e-02,\n",
            "        -4.43132460e-01, -9.49663281e-01, -6.57036453e-02,\n",
            "        -7.23276585e-02,  6.59669995e-01, -1.15041018e-01,\n",
            "         2.18762815e-01, -5.52535832e-01,  9.22184363e-02,\n",
            "        -5.05828023e-01, -5.28256558e-02,  5.14253914e-01,\n",
            "        -8.95327806e-01, -1.27439037e-01,  9.78451744e-02,\n",
            "        -6.01447105e-01, -3.16516235e-02, -9.51861858e-01,\n",
            "         9.46854889e-01, -2.23413527e-01,  1.83898866e-01,\n",
            "         9.99998510e-01,  1.17554322e-01, -7.03900099e-01,\n",
            "         3.25021237e-01, -1.08981309e-02, -1.83083698e-01,\n",
            "         9.99990523e-01,  5.83762765e-01, -9.73874748e-01,\n",
            "        -3.37828994e-01,  2.96399176e-01, -2.70019680e-01,\n",
            "        -2.22427130e-01,  9.97110367e-01,  1.44223282e-02,\n",
            "         7.82686993e-02,  3.86596292e-01,  9.77872729e-01,\n",
            "        -9.85011458e-01,  8.74589384e-01, -7.22760916e-01,\n",
            "        -9.52489674e-01,  9.45666909e-01,  9.10047829e-01,\n",
            "        -5.07217526e-01, -4.90259230e-01, -1.25168636e-01,\n",
            "        -3.90761048e-02,  8.81278887e-02, -8.24814916e-01,\n",
            "         3.83009255e-01,  1.80445805e-01,  5.47962748e-02,\n",
            "         8.00406873e-01, -3.35014284e-01, -3.91151220e-01,\n",
            "         1.42331809e-01, -9.01407897e-02,  3.45850497e-01,\n",
            "         4.40439790e-01,  3.10445100e-01, -1.32800177e-01,\n",
            "        -1.36142150e-01, -3.03026378e-01, -4.87943143e-01,\n",
            "        -9.49501157e-01,  1.08873315e-01,  9.99994993e-01,\n",
            "         6.07521385e-02,  8.33739266e-02, -3.13018309e-03,\n",
            "         8.55779201e-02, -3.12877536e-01,  2.62827873e-01,\n",
            "         2.68697888e-01, -1.42669797e-01, -7.39998579e-01,\n",
            "         2.28563681e-01, -7.94415355e-01, -9.88122761e-01,\n",
            "         4.35919791e-01,  7.72293285e-02, -3.80844288e-02,\n",
            "         9.94903803e-01,  3.26154888e-01,  6.79892823e-02,\n",
            "         8.28874335e-02,  4.73905057e-01, -2.18549252e-01,\n",
            "         3.92778367e-01,  3.76645811e-02,  9.64395583e-01,\n",
            "        -1.83744505e-01,  3.92592788e-01,  4.33191717e-01,\n",
            "        -1.86176687e-01, -2.15837881e-01, -4.96101648e-01,\n",
            "        -9.70247984e-02, -8.80058229e-01,  2.49950871e-01,\n",
            "        -9.39398587e-01,  9.38270807e-01,  3.20009023e-01,\n",
            "         1.19189411e-01,  7.39586651e-02,  3.12720723e-02,\n",
            "         9.99997556e-01, -7.56313801e-01,  3.53956819e-01,\n",
            "         5.32895744e-01,  3.20356160e-01, -9.75384235e-01,\n",
            "        -4.74823654e-01, -2.33224422e-01,  3.53765301e-02,\n",
            "        -4.60599251e-02, -1.28627822e-01,  8.37977454e-02,\n",
            "        -9.51387465e-01,  3.46620902e-02,  4.52159531e-03,\n",
            "        -8.82963777e-01, -9.82999086e-01,  1.64675981e-01,\n",
            "         3.35955024e-01, -1.02174088e-01, -7.02746630e-01,\n",
            "        -4.33073819e-01, -5.41688263e-01,  1.88834995e-01,\n",
            "        -5.57967164e-02, -9.21622276e-01,  4.47903842e-01,\n",
            "        -3.52558978e-02,  2.11310819e-01, -4.62670997e-02,\n",
            "         4.16884571e-01,  1.93114072e-01,  8.26428831e-01,\n",
            "         3.18971835e-02,  1.80359948e-02,  2.25023068e-02,\n",
            "        -5.62614381e-01,  5.26900113e-01, -4.15228099e-01,\n",
            "        -2.03346312e-01,  5.09751029e-03,  9.99998629e-01,\n",
            "        -1.37686104e-01,  4.00896817e-01,  4.85805333e-01,\n",
            "         3.05470794e-01,  1.01610877e-01,  1.13716930e-01,\n",
            "         5.46875179e-01,  1.72822729e-01, -1.16108984e-01,\n",
            "         1.16915353e-01,  3.37056875e-01, -9.49951932e-02,\n",
            "         3.31252575e-01, -1.15997054e-01,  5.56630567e-02,\n",
            "         6.90172732e-01,  5.27747869e-01, -7.82481730e-02,\n",
            "         7.78743923e-02, -2.55699605e-01,  9.54414070e-01,\n",
            "         4.47250865e-02,  7.50620514e-02, -1.65209830e-01,\n",
            "         9.85724926e-02, -1.26728073e-01,  4.23959255e-01,\n",
            "         9.99990642e-01,  1.40115112e-01, -6.51176423e-02,\n",
            "        -9.86826360e-01, -3.46593708e-01, -6.95488334e-01,\n",
            "         9.99683678e-01,  7.86927998e-01, -6.25598729e-01,\n",
            "         4.05614287e-01,  5.13975263e-01, -7.19254371e-03,\n",
            "         3.74686271e-01, -4.99202386e-02, -1.83791071e-01,\n",
            "         1.06987081e-01,  6.42712265e-02,  9.43631172e-01,\n",
            "        -4.59820569e-01, -9.66839373e-01, -4.87142503e-01,\n",
            "         1.62325591e-01, -9.29821074e-01,  9.89759564e-01,\n",
            "        -2.82408953e-01, -3.95259410e-02, -2.89686978e-01,\n",
            "         2.21782982e-01, -7.33220220e-01, -1.97521076e-01,\n",
            "        -9.73850369e-01,  1.46248519e-01,  1.73840281e-02,\n",
            "         9.44591880e-01,  8.00700560e-02, -4.10258025e-01,\n",
            "        -7.23629117e-01,  6.54940009e-02,  2.95309722e-01,\n",
            "        -2.04022408e-01, -9.44529116e-01,  9.48673427e-01,\n",
            "        -9.62239981e-01,  4.19867665e-01,  9.99919891e-01,\n",
            "         2.01821283e-01, -5.97189903e-01,  6.70616031e-02,\n",
            "        -1.35596052e-01,  1.11395456e-01, -7.10705668e-02,\n",
            "         3.38431597e-01, -9.19282496e-01, -1.17846906e-01,\n",
            "         7.19020795e-03,  9.38126370e-02,  1.27179757e-01,\n",
            "        -4.21754062e-01,  6.23830736e-01, -3.09482496e-02,\n",
            "        -3.95731151e-01, -4.99114454e-01,  1.97134823e-01,\n",
            "         1.95740715e-01,  5.27740955e-01, -6.49986118e-02,\n",
            "         3.82176191e-02, -1.37642741e-01,  1.31136358e-01,\n",
            "        -8.28963041e-01, -6.28012493e-02, -1.30774900e-01,\n",
            "        -9.97451425e-01,  3.81894201e-01, -9.99998331e-01,\n",
            "        -4.95280623e-02, -3.30112606e-01, -9.70476866e-03,\n",
            "         7.40315139e-01,  4.55875576e-01, -4.30385470e-02,\n",
            "        -5.94850123e-01,  3.51385064e-02,  8.42901111e-01,\n",
            "         7.00243711e-01,  4.95027611e-03,  1.52212366e-01,\n",
            "        -4.81815875e-01,  3.49119678e-02,  6.86808303e-02,\n",
            "         5.97966686e-02,  9.41471830e-02,  5.75319529e-01,\n",
            "         3.50631885e-02,  9.99999046e-01, -4.47852351e-03,\n",
            "        -3.47574174e-01, -7.93087125e-01,  5.72408438e-02,\n",
            "        -4.82413583e-02,  9.99906838e-01, -3.69631797e-01,\n",
            "        -9.27294374e-01,  2.26102874e-01, -3.26021761e-01,\n",
            "        -6.59482598e-01,  2.35061184e-01, -6.60265610e-02,\n",
            "        -6.28751516e-01, -4.71236676e-01,  8.31054151e-01,\n",
            "         4.34616894e-01, -5.22374928e-01,  2.18105525e-01,\n",
            "        -1.11757815e-01, -2.70267874e-01, -6.85017332e-02,\n",
            "         5.05023673e-02,  9.83191788e-01,  3.38879406e-01,\n",
            "         5.64422607e-01,  1.05172396e-01,  6.14414811e-02,\n",
            "         9.36657727e-01,  7.39881694e-02, -2.45282039e-01,\n",
            "        -8.52073133e-02,  9.99975979e-01,  1.42104149e-01,\n",
            "        -8.24880421e-01,  2.24047288e-01, -9.20979738e-01,\n",
            "        -1.02346800e-01, -8.41053486e-01,  2.11401790e-01,\n",
            "        -3.41071375e-02,  8.09416234e-01,  4.98404680e-03,\n",
            "         8.96236241e-01,  6.71860874e-02, -1.71371013e-01,\n",
            "        -2.75605470e-01,  2.63849914e-01,  1.90726459e-01,\n",
            "        -8.63067448e-01, -9.82381761e-01, -9.80348349e-01,\n",
            "         2.23697513e-01, -3.51536870e-01,  1.91805914e-01,\n",
            "         8.95032361e-02, -9.81392115e-02,  8.35930109e-02,\n",
            "         3.03730011e-01, -9.99983907e-01,  9.09437418e-01,\n",
            "         2.90070415e-01,  4.45847154e-01,  9.46312606e-01,\n",
            "         4.12596196e-01,  1.96212262e-01,  2.46926501e-01,\n",
            "        -9.75619256e-01, -7.69567847e-01, -1.79963484e-01,\n",
            "        -5.86008690e-02,  4.29490983e-01,  3.33413869e-01,\n",
            "         8.05474937e-01,  2.53064007e-01, -4.07364249e-01,\n",
            "        -3.45859528e-02,  4.09995526e-01, -8.38742435e-01,\n",
            "        -9.90924299e-01,  3.09373617e-01,  3.39173108e-01,\n",
            "        -6.26788437e-01,  9.45652664e-01, -5.96134484e-01,\n",
            "        -1.94381655e-03,  3.79710078e-01, -2.22495750e-01,\n",
            "         5.21581590e-01,  5.93243837e-01, -1.83569118e-02,\n",
            "        -6.79999636e-03,  2.15540886e-01,  8.24840724e-01,\n",
            "         8.00677121e-01,  9.77952600e-01, -1.08680405e-01,\n",
            "         4.39631462e-01,  2.23877534e-01,  2.70780116e-01,\n",
            "         8.50645483e-01, -9.25673842e-01,  4.36281925e-03,\n",
            "        -3.20625491e-02, -1.95653826e-01,  1.11692958e-01,\n",
            "        -9.47105438e-02, -7.26445377e-01,  6.39858425e-01,\n",
            "        -1.79553792e-01,  4.29391652e-01, -2.07871795e-01,\n",
            "         2.22941190e-01, -2.38571480e-01,  6.71947524e-02,\n",
            "        -5.17724514e-01, -3.63893896e-01,  5.31695187e-01,\n",
            "         5.34842610e-02,  8.53086412e-01,  6.46111906e-01,\n",
            "         1.23410216e-02, -2.47556269e-01,  1.47184338e-02,\n",
            "        -5.32935895e-02, -9.25663412e-01,  5.07711112e-01,\n",
            "         1.24919735e-01,  2.14575097e-01, -6.79596290e-02,\n",
            "        -2.71126121e-01,  9.09462333e-01, -1.90319330e-01,\n",
            "        -2.12741762e-01, -6.48467541e-02, -4.38712269e-01,\n",
            "         6.37515426e-01, -2.10172132e-01, -2.92911977e-01,\n",
            "        -3.16155702e-01,  5.41166842e-01,  1.67678729e-01,\n",
            "         9.94241476e-01, -9.45082307e-02, -2.90221691e-01,\n",
            "        -2.18783575e-03, -1.57196015e-01,  2.83170521e-01,\n",
            "        -2.93637514e-01, -9.99982595e-01,  1.40657410e-01,\n",
            "         9.16056857e-02,  1.14574745e-01, -2.19648257e-01,\n",
            "         3.07461381e-01, -5.77188581e-02, -8.76921773e-01,\n",
            "        -9.38912332e-02,  2.28086561e-01,  3.87667567e-02,\n",
            "        -3.28281403e-01, -3.11384469e-01,  4.11171168e-01,\n",
            "         4.60044414e-01,  5.52659631e-01,  7.25346327e-01,\n",
            "         2.56349564e-01,  5.29580772e-01,  4.79643106e-01,\n",
            "        -1.04019791e-01, -5.42038560e-01,  8.49344909e-01]], dtype=float32)>, past_key_values=None, hidden_states=None, attentions=None, cross_attentions=None)\n",
            "tf.Tensor(\n",
            "[[[-0.11437158  0.19371364  0.12495901 ... -0.3826908   0.21065894\n",
            "    0.54070807]\n",
            "  [ 0.53082365  0.32074857  0.366459   ... -0.00360685  0.7578608\n",
            "    0.0388431 ]\n",
            "  [-0.48765162  0.88492507  0.4255641  ... -0.6976212   0.44583395\n",
            "    0.12309407]\n",
            "  ...\n",
            "  [-0.7002792  -0.18150717  0.32969677 ... -0.48379248  0.06802389\n",
            "    0.8900844 ]\n",
            "  [-1.035463   -0.25667796 -0.03165262 ...  0.31974375  0.39990222\n",
            "    0.17954767]\n",
            "  [ 0.6079923   0.26097032 -0.31307203 ...  0.03109762 -0.62827253\n",
            "   -0.19942455]]], shape=(1, 8, 768), dtype=float32)\n"
          ]
        }
      ]
    },
    {
      "cell_type": "code",
      "source": [
        "#fasttext\n",
        "from gensim.models import FastText\n",
        "data=[[\"This is a document\"],[\"FastText is similar to Word2vec\"]]\n",
        "# train model\n",
        "model = FastText(data, min_count=1)\n",
        "# summarize the loaded model\n",
        "print(model)\n",
        "# summarize vocabulary\n",
        "words = list(model.wv.vocab)\n",
        "print(words)\n",
        "# access vector for one word\n",
        "print(model['sentence'])\n",
        "# save model\n",
        "model.save('model.bin')\n",
        "# load model\n",
        "new_model = FastText.load('model.bin')\n",
        "print(new_model)"
      ],
      "metadata": {
        "colab": {
          "base_uri": "https://localhost:8080/"
        },
        "id": "9Q9qAMwpHrea",
        "outputId": "91726bf7-f005-480d-8f7c-963f6108ec46"
      },
      "execution_count": null,
      "outputs": [
        {
          "output_type": "stream",
          "name": "stdout",
          "text": [
            "FastText(vocab=2, size=100, alpha=0.025)\n",
            "['This is a document', 'FastText is similar to Word2vec']\n",
            "[-4.8421402e-03  8.6889099e-03  2.3823928e-03  9.7088981e-03\n",
            " -9.3471231e-03  4.5033330e-03  1.3110847e-03 -1.5151905e-04\n",
            " -4.8156376e-03 -3.4633863e-03 -5.0107557e-03 -5.6146416e-03\n",
            "  5.9932168e-03  4.7900117e-05 -8.3362022e-03  5.5396836e-03\n",
            "  6.7298155e-04  4.7877557e-03  3.0787385e-04 -2.0010816e-03\n",
            "  9.7249355e-03 -9.4351480e-03  8.6552780e-03  8.6170994e-03\n",
            " -2.1816257e-03 -5.7107024e-03  2.3842659e-03 -6.4405533e-03\n",
            "  6.0641640e-03 -4.9213227e-03 -4.1838768e-03  8.3183162e-03\n",
            "  8.0583366e-03  7.0761784e-04  7.2567798e-03 -2.9493487e-03\n",
            "  9.9576851e-03 -1.3262052e-03 -4.1037598e-03 -9.1685150e-03\n",
            "  9.7941393e-03 -7.0224737e-04  4.6917005e-03  2.8161525e-03\n",
            "  4.4618682e-03 -8.9777820e-03  8.4009077e-03  8.5368240e-03\n",
            "  1.0399006e-03  9.2783179e-03 -4.3808892e-03  2.0429324e-03\n",
            " -2.0707462e-03  2.5604647e-03 -3.9873542e-03  6.3871676e-03\n",
            " -8.6042807e-03 -9.1624483e-03 -9.0120723e-03 -6.9908993e-03\n",
            " -2.0929906e-03  9.1078002e-03 -7.7840914e-03  2.9510597e-03\n",
            "  5.5243017e-04 -2.9351518e-03 -6.0360152e-03 -5.5881185e-03\n",
            " -9.1235694e-03  4.2632795e-03  3.0768039e-03 -1.1246041e-03\n",
            "  4.3787896e-03 -7.8004804e-03  8.7743839e-03  6.9525340e-03\n",
            "  3.1807132e-03 -2.4233765e-03 -1.6686654e-03 -3.5692155e-04\n",
            "  8.7056756e-03  7.2718593e-03 -4.4152301e-04  1.0903700e-03\n",
            "  7.5080772e-03  8.9852884e-03  2.7836950e-03  4.9704062e-03\n",
            " -2.9675018e-03  8.3605666e-03  6.7350408e-03  1.0411176e-03\n",
            "  7.3525440e-03  6.9974377e-03  6.1682272e-03 -7.3861433e-03\n",
            "  7.2005152e-04  8.0156624e-03  5.4166368e-03 -1.5857361e-03]\n",
            "FastText(vocab=2, size=100, alpha=0.025)\n"
          ]
        },
        {
          "output_type": "stream",
          "name": "stderr",
          "text": [
            "/usr/local/lib/python3.7/dist-packages/ipykernel_launcher.py:12: DeprecationWarning: Call to deprecated `__getitem__` (Method will be removed in 4.0.0, use self.wv.__getitem__() instead).\n",
            "  if sys.path[0] == '':\n"
          ]
        }
      ]
    },
    {
      "cell_type": "code",
      "source": [
        "# Doc2Vec\n",
        "from gensim.models import doc2vec\n",
        "from collections import namedtuple\n",
        "# data\n",
        "data = [\"This is a document\", \"Doc2Vec is similar to word2Vec\"]\n",
        "docs = []\n",
        "analyzedDocument = namedtuple('AnalyzedDocument', 'words tags')\n",
        "for i, text in enumerate(data):\n",
        "    words = text.lower().split()\n",
        "    tags = [i]\n",
        "    docs.append(analyzedDocument(words, tags))\n",
        "#print(docs)\n",
        "model = doc2vec.Doc2Vec(docs, vector_size = 100, window = 300, min_count = 1, workers = 4)\n",
        "\n",
        "# Get the vectors\n",
        "#model.docvecs[1]\n",
        "#print(model)\n",
        "print(model.infer_vector(data))\n"
      ],
      "metadata": {
        "colab": {
          "base_uri": "https://localhost:8080/"
        },
        "id": "vkONEKDX7vM7",
        "outputId": "cd3cebe1-0b99-40f5-fb5e-6da3471eceb8"
      },
      "execution_count": null,
      "outputs": [
        {
          "output_type": "stream",
          "name": "stdout",
          "text": [
            "[ 2.0218492e-03  2.7211857e-04  2.3177422e-03  7.4870139e-04\n",
            " -2.8003361e-03  4.2642453e-03  2.0291451e-03  2.6281250e-03\n",
            " -4.5071840e-03  6.5305285e-05 -1.1271692e-03  3.4757841e-03\n",
            " -3.5173474e-03  4.4584950e-03  3.5877333e-03  3.3830239e-03\n",
            " -7.5227197e-04 -2.0027135e-03 -1.8742705e-03 -4.7588055e-03\n",
            "  4.9144290e-03 -1.8235705e-03 -9.9864206e-04 -4.0008035e-03\n",
            " -1.2098084e-03  3.8419447e-03  3.5206128e-03  1.4203984e-03\n",
            "  2.4127075e-03  6.5774523e-04  3.5124305e-03  4.4186125e-03\n",
            " -4.6987911e-03 -1.6421957e-03  1.7504597e-03 -2.4015144e-03\n",
            " -3.8917833e-03  1.0463402e-03  3.1318425e-03  4.3022963e-03\n",
            "  1.9831720e-03  4.2083077e-03  6.9797959e-04 -1.5437745e-03\n",
            " -3.6700345e-03 -4.2941822e-03 -4.8681316e-03 -4.6870541e-03\n",
            "  2.1360877e-03 -4.9144793e-03  1.1360977e-03  2.5141421e-03\n",
            " -1.6258539e-03  2.2632561e-03  1.9476501e-03  4.7740899e-03\n",
            "  5.5693934e-04 -2.3996329e-03  7.0849655e-04  2.7189758e-03\n",
            " -2.1623468e-03 -4.7763311e-03 -2.3921002e-03  4.0041129e-03\n",
            " -8.1751961e-04 -2.1284604e-03  4.7692796e-04 -3.4747066e-03\n",
            "  1.1432868e-03  1.5411343e-03 -2.5437183e-03 -4.9247144e-04\n",
            "  4.4699260e-03  4.8503075e-03 -1.3410391e-03 -4.6351128e-03\n",
            " -1.4266531e-03  6.7696278e-04 -1.1008469e-03  4.5870952e-03\n",
            " -3.0685733e-03 -4.6920776e-03 -4.1446686e-03 -3.5549267e-03\n",
            " -2.5054517e-03  1.8581304e-03  2.1386489e-03  2.1198767e-03\n",
            " -4.1115875e-03 -3.2818498e-05  1.6553225e-03  1.5420822e-03\n",
            "  6.0212391e-04  1.8886318e-03 -4.2592729e-03 -4.3550180e-03\n",
            " -3.3486597e-03 -4.8210020e-03 -2.4095003e-03  3.6872483e-03]\n"
          ]
        }
      ]
    },
    {
      "cell_type": "code",
      "source": [
        "from gensim.models import Doc2Vec\n",
        "data=[[\"This is a document\"],[\"FastText is similar to Word2vec\"]]\n",
        "# train model\n",
        "model = Doc2Vec(data, min_count=1)\n",
        "# summarize the loaded model\n",
        "print(model)\n",
        "# summarize vocabulary\n",
        "words = list(model.wv.vocab)\n",
        "print(words)\n",
        "# access vector for one word\n",
        "print(model['sentence'])\n",
        "# save model\n",
        "model.save('model.bin')\n",
        "# load model\n",
        "new_model = FastText.load('model.bin')\n",
        "print(new_model)"
      ],
      "metadata": {
        "id": "Mif82XLCCzva"
      },
      "execution_count": null,
      "outputs": []
    },
    {
      "cell_type": "code",
      "source": [
        "# Word2vec function\n",
        "def word2vec(sentences):\n",
        "  from gensim.models import Word2Vec\n",
        "  # train model\n",
        "  model = Word2Vec(sentences, min_count=1)\n",
        "  words = list(model.wv.vocab)\n",
        "  #summarizing model\n",
        "  print(words)\n",
        "  print(model['sentence'])\n",
        "  # save model\n",
        "  model.save('model.bin')\n",
        "  # load model\n",
        "  new_model = Word2Vec.load('model.bin')\n",
        "  print(new_model)\n",
        "# data\n",
        "sentences = [['this', 'is', 'the', 'first', 'sentence', 'for', 'word2vec'],\n",
        "\t\t\t['this', 'is', 'the', 'second', 'sentence'],\n",
        "\t\t\t['yet', 'another', 'sentence'],\n",
        "\t\t\t['one', 'more', 'sentence'],\n",
        "\t\t\t['and', 'the', 'final', 'sentence']]\n",
        "# function calling\n",
        "word2vec(sentences)\n",
        "\n"
      ],
      "metadata": {
        "id": "OIA87W5BaHvS",
        "colab": {
          "base_uri": "https://localhost:8080/"
        },
        "outputId": "4e4c6d92-6c77-493b-c3ee-1996c8c54af6"
      },
      "execution_count": null,
      "outputs": [
        {
          "output_type": "stream",
          "name": "stdout",
          "text": [
            "['this', 'is', 'the', 'first', 'sentence', 'for', 'word2vec', 'second', 'yet', 'another', 'one', 'more', 'and', 'final']\n",
            "[ 4.58813366e-03 -3.90325696e-03  2.52492074e-03  1.55879941e-03\n",
            "  4.24751634e-04 -2.80890428e-03 -1.73738168e-03  4.90126293e-03\n",
            " -1.82603404e-03 -1.68938143e-03  2.26770039e-03  1.14721316e-03\n",
            " -3.13403294e-03 -4.80563054e-03  2.20302469e-03 -3.55824293e-03\n",
            " -3.21064703e-03  2.99451267e-03 -1.97712379e-03 -2.78914231e-03\n",
            "  2.89466931e-03 -3.17030819e-03  3.03496909e-03  4.66852495e-03\n",
            "  4.67429031e-03  4.25081979e-03  1.14628434e-04 -4.05299198e-03\n",
            " -3.70386126e-03 -3.82761774e-03 -2.20084796e-03  3.70311621e-03\n",
            " -8.19382840e-04  7.91332452e-04  2.66427919e-03  4.78672748e-03\n",
            "  1.87332963e-03 -3.57850292e-03 -7.34069909e-04 -4.74922312e-03\n",
            "  6.91297755e-04  1.11134653e-03  1.44349498e-04 -2.83472915e-03\n",
            "  1.49796635e-03  7.27775332e-04 -2.86298222e-03 -2.00982438e-03\n",
            "  1.89158169e-03  4.40299977e-03  3.84249346e-04  3.25165153e-03\n",
            " -1.60545472e-03  3.66718741e-03  1.67089325e-04 -2.79615447e-03\n",
            "  2.99663981e-03  2.04639672e-03 -1.70028221e-03 -3.37288599e-03\n",
            "  3.96247546e-04  3.05106747e-03  4.54390142e-03  2.22187885e-03\n",
            "  3.48343793e-03 -3.90632963e-03 -1.18454988e-03 -9.59095341e-05\n",
            "  4.06086864e-03  4.09708312e-03 -6.28015376e-04 -1.07460411e-03\n",
            "  2.08913791e-03 -1.98758789e-03 -2.81707081e-03 -4.49827965e-03\n",
            " -2.17858306e-03 -2.80992617e-03  3.98098212e-03 -1.65281293e-03\n",
            "  1.99044403e-03 -2.65458808e-03 -4.17924952e-04 -2.52412306e-03\n",
            "  1.13352912e-03  3.91128566e-03 -4.43972880e-03 -5.95440739e-04\n",
            " -2.20156298e-03 -3.32134252e-04 -4.34269384e-03 -3.22348613e-04\n",
            "  6.20459905e-04  1.72669080e-03 -1.03071204e-03 -8.87403730e-04\n",
            "  1.47377094e-03  2.69105122e-03  1.55109284e-03 -1.87212788e-03]\n",
            "Word2Vec(vocab=14, size=100, alpha=0.025)\n"
          ]
        },
        {
          "output_type": "stream",
          "name": "stderr",
          "text": [
            "/usr/local/lib/python3.7/dist-packages/ipykernel_launcher.py:9: DeprecationWarning: Call to deprecated `__getitem__` (Method will be removed in 4.0.0, use self.wv.__getitem__() instead).\n",
            "  if __name__ == '__main__':\n"
          ]
        }
      ]
    },
    {
      "cell_type": "code",
      "source": [
        "# PLotting word2vec function\n",
        "def plotword2vec(sentences):\n",
        "  from gensim.models import Word2Vec\n",
        "  from sklearn.decomposition import PCA\n",
        "  from matplotlib import pyplot\n",
        "  # train model\n",
        "  model = Word2Vec(sentences, min_count=1)\n",
        "  X = model[model.wv.vocab]\n",
        "  pca = PCA(n_components=2)\n",
        "  result = pca.fit_transform(X)\n",
        "  # create a scatter plot of the projection\n",
        "  pyplot.scatter(result[:, 0], result[:, 1])\n",
        "  words = list(model.wv.vocab)\n",
        "  for i, word in enumerate(words):\n",
        "\t  pyplot.annotate(word, xy=(result[i, 0], result[i, 1]))\n",
        "  pyplot.show()\n",
        "# data\n",
        "sentences = [['this', 'is', 'the', 'first', 'sentence', 'for', 'word2vec'],\n",
        "\t\t\t['this', 'is', 'the', 'second', 'sentence'],\n",
        "\t\t\t['yet', 'another', 'sentence'],\n",
        "\t\t\t['one', 'more', 'sentence'],\n",
        "\t\t\t['and', 'the', 'final', 'sentence']]\n",
        "kmers=[['AAG',  'TCA',  'TGT'],\n",
        "       ['ATG', 'ATAT', 'CGAT', 'AAA', 'ATA', 'CGAT']]\n",
        "plotword2vec(kmers)"
      ],
      "metadata": {
        "id": "1Gq9IB2bb8d8"
      },
      "execution_count": null,
      "outputs": []
    },
    {
      "cell_type": "code",
      "source": [
        "# tf-idf function\n",
        "def tfidf(data): #tfidf(d1, d2)\n",
        "   # import required module\n",
        "   from sklearn.feature_extraction.text import TfidfVectorizer\n",
        "   # merge documents into a single corpus\n",
        "   string =[data] #[d1, d2]\n",
        "   # create object\n",
        "   tfidf = TfidfVectorizer()\n",
        "   # get tf-df values\n",
        "   result = tfidf.fit_transform(string)\n",
        "   # get idf values\n",
        "   print('\\nidf values:')\n",
        "   for ele1, ele2 in zip(tfidf.get_feature_names(), tfidf.idf_):\n",
        "\t   print(ele1, ':', ele2)\n",
        "   # get indexing\n",
        "   print('\\nWord indexes:')\n",
        "   print(tfidf.vocabulary_)\n",
        "   # display tf-idf values\n",
        "   print('\\ntf-idf value:')\n",
        "   print(result)\n",
        "   # in matrix form\n",
        "   print('\\ntf-idf values in matrix form:')\n",
        "   print(result.toarray())\n",
        "# data\n",
        "data = 'NLP is a part of computer science and artificial intelligence (AI) which deals with human languages'\n",
        "d1 = 'It acts as a medium which is used to fill the gap between human communication and computer understanding.'\n",
        "tfidf(data) # tfidf(d1, d2)"
      ],
      "metadata": {
        "id": "kvAzdaqoknZO"
      },
      "execution_count": null,
      "outputs": []
    },
    {
      "cell_type": "code",
      "source": [
        "# ordinal method of encoding function\n",
        "def ordinalen(doc):\n",
        "   from numpy import asarray\n",
        "   from sklearn.preprocessing import OrdinalEncoder\n",
        "   data=asarray(doc)\n",
        "   print(data)\n",
        "   encoder = OrdinalEncoder()\n",
        "   result = encoder.fit_transform(data)\n",
        "   print(result)\n",
        "#data = asarray([['This '], ['is '], ['a'],['document']])\n",
        "doc= [['This '], ['is '], ['a'],['document']]\n",
        "ordinalen(doc)"
      ],
      "metadata": {
        "id": "HbRd624dAF6p"
      },
      "execution_count": null,
      "outputs": []
    },
    {
      "cell_type": "code",
      "source": [
        "# one hot encoding function\n",
        "def onehoten(doc):\n",
        "   from numpy import asarray\n",
        "   from sklearn.preprocessing import OneHotEncoder\n",
        "   data = asarray(doc)\n",
        "   print(data)\n",
        "   encoder = OneHotEncoder(sparse=False)\n",
        "   onehot = encoder.fit_transform(data)\n",
        "   print(onehot)\n",
        "#data = asarray([['This '], ['is '], ['a'],['document']])\n",
        "doc= [['This '], ['is '], ['a'],['document']]\n",
        "onehoten(doc)"
      ],
      "metadata": {
        "id": "KSfR9_-VBnVI"
      },
      "execution_count": null,
      "outputs": []
    },
    {
      "cell_type": "code",
      "source": [
        "# GloVe 2 function\n",
        "def glovemod(lines):\n",
        "    ! python -m pip install  glove-python-binary --verbose #if not available, it will install\n",
        "    #pip install glove_python\n",
        "    import nltk\n",
        "    # Tokenization\n",
        "    from nltk.tokenize import sent_tokenize, word_tokenize\n",
        "    word_tokens=[]\n",
        "    i=0\n",
        "    for line in lines:\n",
        "       words = word_tokenize(line)\n",
        "       word_tokens.insert(i,words)\n",
        "       i=i+1\n",
        "    print (word_tokens)\n",
        "    #word_tokens has the words\n",
        "    from glove import Corpus, Glove\n",
        "    # creating a corpus object\n",
        "    corpus = Corpus()\n",
        "    #training the corpus to generate the co occurence matrix which is used in GloVe\n",
        "    corpus.fit(word_tokens, window=10)\n",
        "    #creating a Glove object which will use the matrix created in the above lines to create embeddings\n",
        "    #We can set the learning rate as it uses Gradient Descent and number of components\n",
        "    glove = Glove(no_components=5, learning_rate=0.05)\n",
        "    glove.fit(corpus.matrix, no_threads=4, verbose=True)\n",
        "    glove.add_dictionary(corpus.dictionary)\n",
        "    glove.save('glove.model')\n",
        "    print(glove.dictionary)\n",
        "    print(glove.word_vectors)\n",
        "lines=[\"This is a document\", \"NLP is a part of computer science and artificial intelligence which deals with human languages\"]\n",
        "glovemod(lines)\n",
        "#This statement will fetch out the encoding for a particular word from your data\n",
        "#print(glove.word_vectors[glove.dictionary['This']])\n",
        "\n"
      ],
      "metadata": {
        "id": "Smln0stYIrQy"
      },
      "execution_count": null,
      "outputs": []
    },
    {
      "cell_type": "code",
      "source": [
        "#ElMo function\n",
        "def elmo_mod(data):\n",
        "  import tensorflow_hub as hub\n",
        "  import tensorflow.compat.v1 as tf\n",
        "  tf.disable_eager_execution()\n",
        "  # elmo model\n",
        "  elmo = hub.Module(\"https://tfhub.dev/google/elmo/3\", trainable=True)\n",
        "  # data\n",
        "  model = elmo(data, as_dict= True)[\"elmo\"]\n",
        "  #init = tf.initialize_all_variables()\n",
        "  init=tf.global_variables_initializer()\n",
        "  sess = tf.Session()\n",
        "  sess.run(init)\n",
        "  print(sess.run(model))\n",
        "#data\n",
        "data=[\"This is a document\"]\n",
        "elmo_mod(data)\n",
        "\n"
      ],
      "metadata": {
        "id": "Tvp_2UFauU1j",
        "outputId": "1c23457a-dace-4283-fd0a-c7c83c0d6d10",
        "colab": {
          "base_uri": "https://localhost:8080/"
        }
      },
      "execution_count": null,
      "outputs": [
        {
          "output_type": "stream",
          "name": "stdout",
          "text": [
            "INFO:tensorflow:Saver not created because there are no variables in the graph to restore\n"
          ]
        },
        {
          "output_type": "stream",
          "name": "stderr",
          "text": [
            "INFO:tensorflow:Saver not created because there are no variables in the graph to restore\n"
          ]
        },
        {
          "output_type": "stream",
          "name": "stdout",
          "text": [
            "[[[-5.1420665e-01 -4.6363443e-01  6.9548905e-02 ... -6.4070415e-01\n",
            "   -2.4310914e-01 -4.3978482e-02]\n",
            "  [-2.7039799e-01 -5.1222128e-01  1.1160281e-01 ... -2.6492041e-01\n",
            "    4.1410470e-01  5.8975863e-01]\n",
            "  [-1.8552753e-01  7.1252644e-02  4.1650215e-01 ...  4.4076246e-01\n",
            "   -1.8319143e-01 -6.5913923e-02]\n",
            "  [-6.9209939e-01 -5.7593405e-02  7.0157063e-01 ... -2.5829393e-04\n",
            "   -1.7844455e-01 -2.0367682e-02]]]\n"
          ]
        }
      ]
    },
    {
      "cell_type": "code",
      "source": [
        "# BERT model function\n",
        "def bert(data):\n",
        "   ! pip install transformers\n",
        "   from transformers import BertTokenizer, BertModel\n",
        "   tokenizer = BertTokenizer.from_pretrained(\"bert-base-uncased\")\n",
        "   model = BertModel.from_pretrained(\"bert-base-uncased\")\n",
        "   inputs = tokenizer(data, return_tensors=\"pt\")\n",
        "   #print(inputs)\n",
        "   outputs = model(**inputs)\n",
        "   #print(outputs)\n",
        "   last_hidden_states = outputs.last_hidden_state\n",
        "   print(last_hidden_states)\n",
        "data=(\"This is a document\")\n",
        "bert(data)"
      ],
      "metadata": {
        "colab": {
          "base_uri": "https://localhost:8080/",
          "height": 555,
          "referenced_widgets": [
            "749513127e354193a4e18ee30cd99044",
            "937729aa7ee24cf78e95ad6a30e681de",
            "438596ae28254d4083b26f0f5913777e",
            "a2eb38e1d51c4c5b817cdf15211e0e76",
            "f994212d66b8433a87fcb02a2b1c25dd",
            "64fb66f4bd6f4794b651bf0cd2212517",
            "eccb27969d6b435bb24c35631b54f4b3",
            "1b42300b1886405ca0a0c840f29c7061",
            "d8c5d61858b64249806a67909c36a86d",
            "cdd3ae0e893c459e8442d107be2c989b",
            "5c83954f00fb45e9b75d5f9bb2981960"
          ]
        },
        "outputId": "9accf62d-3109-4bbf-dbd4-e8f9c9f8de70",
        "id": "wAJgp3ChzI1B"
      },
      "execution_count": null,
      "outputs": [
        {
          "output_type": "stream",
          "name": "stdout",
          "text": [
            "Requirement already satisfied: transformers in /usr/local/lib/python3.7/dist-packages (4.19.2)\n",
            "Requirement already satisfied: tqdm>=4.27 in /usr/local/lib/python3.7/dist-packages (from transformers) (4.64.0)\n",
            "Requirement already satisfied: packaging>=20.0 in /usr/local/lib/python3.7/dist-packages (from transformers) (21.3)\n",
            "Requirement already satisfied: importlib-metadata in /usr/local/lib/python3.7/dist-packages (from transformers) (4.11.3)\n",
            "Requirement already satisfied: regex!=2019.12.17 in /usr/local/lib/python3.7/dist-packages (from transformers) (2019.12.20)\n",
            "Requirement already satisfied: requests in /usr/local/lib/python3.7/dist-packages (from transformers) (2.23.0)\n",
            "Requirement already satisfied: huggingface-hub<1.0,>=0.1.0 in /usr/local/lib/python3.7/dist-packages (from transformers) (0.6.0)\n",
            "Requirement already satisfied: tokenizers!=0.11.3,<0.13,>=0.11.1 in /usr/local/lib/python3.7/dist-packages (from transformers) (0.12.1)\n",
            "Requirement already satisfied: filelock in /usr/local/lib/python3.7/dist-packages (from transformers) (3.7.0)\n",
            "Requirement already satisfied: numpy>=1.17 in /usr/local/lib/python3.7/dist-packages (from transformers) (1.21.6)\n",
            "Requirement already satisfied: pyyaml>=5.1 in /usr/local/lib/python3.7/dist-packages (from transformers) (6.0)\n",
            "Requirement already satisfied: typing-extensions>=3.7.4.3 in /usr/local/lib/python3.7/dist-packages (from huggingface-hub<1.0,>=0.1.0->transformers) (4.2.0)\n",
            "Requirement already satisfied: pyparsing!=3.0.5,>=2.0.2 in /usr/local/lib/python3.7/dist-packages (from packaging>=20.0->transformers) (3.0.9)\n",
            "Requirement already satisfied: zipp>=0.5 in /usr/local/lib/python3.7/dist-packages (from importlib-metadata->transformers) (3.8.0)\n",
            "Requirement already satisfied: certifi>=2017.4.17 in /usr/local/lib/python3.7/dist-packages (from requests->transformers) (2021.10.8)\n",
            "Requirement already satisfied: urllib3!=1.25.0,!=1.25.1,<1.26,>=1.21.1 in /usr/local/lib/python3.7/dist-packages (from requests->transformers) (1.24.3)\n",
            "Requirement already satisfied: idna<3,>=2.5 in /usr/local/lib/python3.7/dist-packages (from requests->transformers) (2.10)\n",
            "Requirement already satisfied: chardet<4,>=3.0.2 in /usr/local/lib/python3.7/dist-packages (from requests->transformers) (3.0.4)\n"
          ]
        },
        {
          "output_type": "display_data",
          "data": {
            "text/plain": [
              "Downloading:   0%|          | 0.00/420M [00:00<?, ?B/s]"
            ],
            "application/vnd.jupyter.widget-view+json": {
              "version_major": 2,
              "version_minor": 0,
              "model_id": "749513127e354193a4e18ee30cd99044"
            }
          },
          "metadata": {}
        },
        {
          "output_type": "stream",
          "name": "stderr",
          "text": [
            "Some weights of the model checkpoint at bert-base-uncased were not used when initializing BertModel: ['cls.predictions.transform.dense.bias', 'cls.seq_relationship.bias', 'cls.seq_relationship.weight', 'cls.predictions.transform.LayerNorm.weight', 'cls.predictions.bias', 'cls.predictions.transform.dense.weight', 'cls.predictions.decoder.weight', 'cls.predictions.transform.LayerNorm.bias']\n",
            "- This IS expected if you are initializing BertModel from the checkpoint of a model trained on another task or with another architecture (e.g. initializing a BertForSequenceClassification model from a BertForPreTraining model).\n",
            "- This IS NOT expected if you are initializing BertModel from the checkpoint of a model that you expect to be exactly identical (initializing a BertForSequenceClassification model from a BertForSequenceClassification model).\n"
          ]
        },
        {
          "output_type": "stream",
          "name": "stdout",
          "text": [
            "tensor([[[ 0.0832,  0.1691,  0.0120,  ..., -0.2067,  0.1283,  0.3569],\n",
            "         [-0.3901, -0.1928,  0.3261,  ..., -0.7412,  0.4562,  0.3186],\n",
            "         [ 0.1203, -0.6031,  0.7210,  ..., -0.2535,  0.3160,  0.9988],\n",
            "         [ 0.1671, -0.3673,  0.7920,  ..., -0.1623,  0.2998,  1.2029],\n",
            "         [-0.0245, -0.1945,  0.0468,  ...,  0.1589,  0.2598,  0.0966],\n",
            "         [ 0.7793,  0.1428, -0.2949,  ...,  0.2015, -0.8293, -0.2038]]],\n",
            "       grad_fn=<NativeLayerNormBackward0>)\n"
          ]
        }
      ]
    },
    {
      "cell_type": "code",
      "source": [
        "# BERT model function\n",
        "def bert_mod(data):\n",
        "   ! pip install transformers\n",
        "   from transformers import BertTokenizer, TFBertModel\n",
        "   import tensorflow as tf\n",
        "   tokenizer = BertTokenizer.from_pretrained(\"bert-base-uncased\")\n",
        "   model = TFBertModel.from_pretrained(\"bert-base-uncased\")\n",
        "   inputs = tokenizer(data, return_tensors=\"tf\")\n",
        "   outputs = model(inputs)\n",
        "   #print(outputs)\n",
        "   last_hidden_states = outputs.last_hidden_state\n",
        "   print(last_hidden_states)\n",
        "data=(\"This is a document\")\n",
        "bert_mod(data)"
      ],
      "metadata": {
        "colab": {
          "base_uri": "https://localhost:8080/"
        },
        "outputId": "3ea4d59b-8622-4bca-b6d3-a102ee9ce28a",
        "id": "cSmrS9M2xL7c"
      },
      "execution_count": null,
      "outputs": [
        {
          "output_type": "stream",
          "name": "stdout",
          "text": [
            "Requirement already satisfied: transformers in /usr/local/lib/python3.7/dist-packages (4.19.2)\n",
            "Requirement already satisfied: huggingface-hub<1.0,>=0.1.0 in /usr/local/lib/python3.7/dist-packages (from transformers) (0.6.0)\n",
            "Requirement already satisfied: requests in /usr/local/lib/python3.7/dist-packages (from transformers) (2.23.0)\n",
            "Requirement already satisfied: filelock in /usr/local/lib/python3.7/dist-packages (from transformers) (3.7.0)\n",
            "Requirement already satisfied: tqdm>=4.27 in /usr/local/lib/python3.7/dist-packages (from transformers) (4.64.0)\n",
            "Requirement already satisfied: importlib-metadata in /usr/local/lib/python3.7/dist-packages (from transformers) (4.11.3)\n",
            "Requirement already satisfied: packaging>=20.0 in /usr/local/lib/python3.7/dist-packages (from transformers) (21.3)\n",
            "Requirement already satisfied: regex!=2019.12.17 in /usr/local/lib/python3.7/dist-packages (from transformers) (2019.12.20)\n",
            "Requirement already satisfied: tokenizers!=0.11.3,<0.13,>=0.11.1 in /usr/local/lib/python3.7/dist-packages (from transformers) (0.12.1)\n",
            "Requirement already satisfied: numpy>=1.17 in /usr/local/lib/python3.7/dist-packages (from transformers) (1.21.6)\n",
            "Requirement already satisfied: pyyaml>=5.1 in /usr/local/lib/python3.7/dist-packages (from transformers) (6.0)\n",
            "Requirement already satisfied: typing-extensions>=3.7.4.3 in /usr/local/lib/python3.7/dist-packages (from huggingface-hub<1.0,>=0.1.0->transformers) (4.2.0)\n",
            "Requirement already satisfied: pyparsing!=3.0.5,>=2.0.2 in /usr/local/lib/python3.7/dist-packages (from packaging>=20.0->transformers) (3.0.9)\n",
            "Requirement already satisfied: zipp>=0.5 in /usr/local/lib/python3.7/dist-packages (from importlib-metadata->transformers) (3.8.0)\n",
            "Requirement already satisfied: urllib3!=1.25.0,!=1.25.1,<1.26,>=1.21.1 in /usr/local/lib/python3.7/dist-packages (from requests->transformers) (1.24.3)\n",
            "Requirement already satisfied: idna<3,>=2.5 in /usr/local/lib/python3.7/dist-packages (from requests->transformers) (2.10)\n",
            "Requirement already satisfied: chardet<4,>=3.0.2 in /usr/local/lib/python3.7/dist-packages (from requests->transformers) (3.0.4)\n",
            "Requirement already satisfied: certifi>=2017.4.17 in /usr/local/lib/python3.7/dist-packages (from requests->transformers) (2021.10.8)\n"
          ]
        },
        {
          "output_type": "stream",
          "name": "stderr",
          "text": [
            "Some layers from the model checkpoint at bert-base-uncased were not used when initializing TFBertModel: ['nsp___cls', 'mlm___cls']\n",
            "- This IS expected if you are initializing TFBertModel from the checkpoint of a model trained on another task or with another architecture (e.g. initializing a BertForSequenceClassification model from a BertForPreTraining model).\n",
            "- This IS NOT expected if you are initializing TFBertModel from the checkpoint of a model that you expect to be exactly identical (initializing a BertForSequenceClassification model from a BertForSequenceClassification model).\n",
            "All the layers of TFBertModel were initialized from the model checkpoint at bert-base-uncased.\n",
            "If your task is similar to the task the model of the checkpoint was trained on, you can already use TFBertModel for predictions without further training.\n"
          ]
        },
        {
          "output_type": "stream",
          "name": "stdout",
          "text": [
            "tf.Tensor(\n",
            "[[[ 0.08324058  0.1690813   0.01197494 ... -0.20673135  0.12825078\n",
            "    0.35685223]\n",
            "  [-0.39012808 -0.1928105   0.32607567 ... -0.74122447  0.45617405\n",
            "    0.31859583]\n",
            "  [ 0.12025772 -0.6030499   0.7210276  ... -0.25352085  0.31604508\n",
            "    0.99883556]\n",
            "  [ 0.16706754 -0.36733142  0.7920425  ... -0.1622658   0.29981256\n",
            "    1.2029269 ]\n",
            "  [-0.02445896 -0.1945479   0.04683359 ...  0.15888721  0.2598009\n",
            "    0.09662676]\n",
            "  [ 0.77931446  0.14277242 -0.2948871  ...  0.20154393 -0.82932645\n",
            "   -0.20375672]]], shape=(1, 6, 768), dtype=float32)\n"
          ]
        }
      ]
    },
    {
      "cell_type": "code",
      "source": [
        "#fasttext function\n",
        "def fasttext(data):\n",
        "    from gensim.models import FastText\n",
        "    # train model\n",
        "    model = FastText(data, min_count=1)\n",
        "    # summarize the loaded model\n",
        "    print(model)\n",
        "    # summarize vocabulary\n",
        "    words = list(model.wv.vocab)\n",
        "    print(words)\n",
        "    # access vector for one word\n",
        "    print(model['sentence'])\n",
        "    # save model\n",
        "    model.save('model.bin')\n",
        "    # load model\n",
        "    new_model = FastText.load('model.bin')\n",
        "    print(new_model)\n",
        "data=[[\"This is a document\"],[\"FastText is similar to Word2vec\"]]\n",
        "fasttext(data)"
      ],
      "metadata": {
        "colab": {
          "base_uri": "https://localhost:8080/"
        },
        "outputId": "9e3aa640-ff51-4d47-e808-711fdd857dfb",
        "id": "M_v3bcrvMJbW"
      },
      "execution_count": null,
      "outputs": [
        {
          "output_type": "stream",
          "name": "stdout",
          "text": [
            "FastText(vocab=2, size=100, alpha=0.025)\n",
            "['This is a document', 'FastText is similar to Word2vec']\n",
            "[-4.8421402e-03  8.6889099e-03  2.3823928e-03  9.7088981e-03\n",
            " -9.3471231e-03  4.5033330e-03  1.3110847e-03 -1.5151905e-04\n",
            " -4.8156376e-03 -3.4633863e-03 -5.0107557e-03 -5.6146416e-03\n",
            "  5.9932168e-03  4.7900117e-05 -8.3362022e-03  5.5396836e-03\n",
            "  6.7298155e-04  4.7877557e-03  3.0787385e-04 -2.0010816e-03\n",
            "  9.7249355e-03 -9.4351480e-03  8.6552780e-03  8.6170994e-03\n",
            " -2.1816257e-03 -5.7107024e-03  2.3842659e-03 -6.4405533e-03\n",
            "  6.0641640e-03 -4.9213227e-03 -4.1838768e-03  8.3183162e-03\n",
            "  8.0583366e-03  7.0761784e-04  7.2567798e-03 -2.9493487e-03\n",
            "  9.9576851e-03 -1.3262052e-03 -4.1037598e-03 -9.1685150e-03\n",
            "  9.7941393e-03 -7.0224737e-04  4.6917005e-03  2.8161525e-03\n",
            "  4.4618682e-03 -8.9777820e-03  8.4009077e-03  8.5368240e-03\n",
            "  1.0399006e-03  9.2783179e-03 -4.3808892e-03  2.0429324e-03\n",
            " -2.0707462e-03  2.5604647e-03 -3.9873542e-03  6.3871676e-03\n",
            " -8.6042807e-03 -9.1624483e-03 -9.0120723e-03 -6.9908993e-03\n",
            " -2.0929906e-03  9.1078002e-03 -7.7840914e-03  2.9510597e-03\n",
            "  5.5243017e-04 -2.9351518e-03 -6.0360152e-03 -5.5881185e-03\n",
            " -9.1235694e-03  4.2632795e-03  3.0768039e-03 -1.1246041e-03\n",
            "  4.3787896e-03 -7.8004804e-03  8.7743839e-03  6.9525340e-03\n",
            "  3.1807132e-03 -2.4233765e-03 -1.6686654e-03 -3.5692155e-04\n",
            "  8.7056756e-03  7.2718593e-03 -4.4152301e-04  1.0903700e-03\n",
            "  7.5080772e-03  8.9852884e-03  2.7836950e-03  4.9704062e-03\n",
            " -2.9675018e-03  8.3605666e-03  6.7350408e-03  1.0411176e-03\n",
            "  7.3525440e-03  6.9974377e-03  6.1682272e-03 -7.3861433e-03\n",
            "  7.2005152e-04  8.0156624e-03  5.4166368e-03 -1.5857361e-03]\n",
            "FastText(vocab=2, size=100, alpha=0.025)\n"
          ]
        },
        {
          "output_type": "stream",
          "name": "stderr",
          "text": [
            "/usr/local/lib/python3.7/dist-packages/ipykernel_launcher.py:12: DeprecationWarning: Call to deprecated `__getitem__` (Method will be removed in 4.0.0, use self.wv.__getitem__() instead).\n",
            "  if sys.path[0] == '':\n"
          ]
        }
      ]
    },
    {
      "cell_type": "code",
      "source": [
        "# Doc2Vec function\n",
        "def doc2vec_mod(data):\n",
        "   from gensim.models import doc2vec\n",
        "   from collections import namedtuple\n",
        "   docs = []\n",
        "   analyzedDocument = namedtuple('AnalyzedDocument', 'words tags')\n",
        "   for i, text in enumerate(data):\n",
        "       words = text.lower().split()\n",
        "       tags = [i]\n",
        "       docs.append(analyzedDocument(words, tags))\n",
        "       #print(docs)\n",
        "   model = doc2vec.Doc2Vec(docs, min_count = 1)\n",
        "   print(model.infer_vector(data))\n",
        "# data\n",
        "data = [\"This is a document\"]\n",
        "doc2vec_mod(data)"
      ],
      "metadata": {
        "colab": {
          "base_uri": "https://localhost:8080/"
        },
        "outputId": "0c01765a-eee5-4550-e3d0-d867f24203f2",
        "id": "J0SKk9l2Tkeq"
      },
      "execution_count": null,
      "outputs": [
        {
          "output_type": "stream",
          "name": "stdout",
          "text": [
            "[ 0.00479825  0.00383034 -0.00116902 -0.00286492 -0.00039121 -0.00410177\n",
            "  0.00159297  0.00233489 -0.00483967 -0.00373824 -0.00276593 -0.00426956\n",
            "  0.00332152 -0.00304653 -0.0014315  -0.00432784 -0.00146461 -0.00176706\n",
            "  0.00291405 -0.00324822  0.00099639  0.00456508  0.00042908 -0.00249107\n",
            " -0.00364653 -0.00188617 -0.00128784  0.00223973 -0.00288581  0.00252413\n",
            " -0.00050144  0.00060821  0.0020919   0.00420872  0.00496323  0.00413513\n",
            " -0.00225393  0.00448089  0.00093846  0.00363864  0.00454511  0.00169352\n",
            "  0.00361905 -0.00226781  0.00276815 -0.00413311  0.00181913 -0.00204961\n",
            " -0.00344665 -0.00444517  0.00441104 -0.00135639  0.00133146  0.00282047\n",
            " -0.00068504  0.00190843  0.00036387 -0.0021129  -0.0009695  -0.00237749\n",
            " -0.0047082  -0.00338591 -0.0004867   0.00061115 -0.00228042  0.0035447\n",
            "  0.00144269  0.00370405 -0.00123077 -0.00201448  0.00230522  0.00081238\n",
            " -0.00302323 -0.00049598 -0.00203552 -0.00154435 -0.00239588 -0.0040528\n",
            "  0.00196092  0.00438579 -0.0023448   0.00266246  0.00253324 -0.00178533\n",
            "  0.00046422  0.00382866 -0.00097403 -0.00332848 -0.00137096 -0.00298518\n",
            " -0.00137817 -0.0004814   0.00499634 -0.0027721  -0.00091455  0.00229893\n",
            "  0.0041729  -0.0036441  -0.00476168  0.00406343]\n"
          ]
        }
      ]
    },
    {
      "cell_type": "code",
      "source": [
        "from gensim.models import Word2Vec\n",
        "from sklearn.decomposition import PCA\n",
        "import numpy as np\n",
        "import matplotlib.pyplot as plt\n",
        "\n",
        "# Define training data (DNA sequences)\n",
        "sequences = [['ACG'], ['TGT'], ['GCA'], ['CAG'], ['AGT'], ['AAT'], ['ATC'], ['TCT'], ['CTC'], ['TCA'], ['CAG'], ['AGC'], ['GCT'], ['CTA'], ['TAC'],\n",
        " ['ACT'], ['CTC'], ['TCA'], ['CAG'], ['AGA'], ['GAA'], ['AAG'], ['AGG'], ['GGC'], ['GCT'], ['CTG'], ['GAG'], ['AGG'], ['GGT'], ['GTA'], ['TAG'], ['AGG'],\n",
        " ['GGA'], ['GAG'], ['AGG'], ['GGA'], ['GAT'], ['ATC'], ['TCT'], ['CTC'], ['TCT'], ['CTT']]\n",
        "\n",
        "# Train the Word2Vec model\n",
        "model = Word2Vec(sequences, min_count=1, sg=0, window=5)\n",
        "\n",
        "# Get the vocabulary\n",
        "words = list(model.wv.index_to_key)\n",
        "\n",
        "# Get vectors for each word in the vocabulary\n",
        "word_vectors = np.array([model.wv.get_vector(word) for word in words])\n",
        "\n",
        "# Fit a 2D PCA model to the vectors\n",
        "pca = PCA(n_components=2)\n",
        "result = pca.fit_transform(word_vectors)\n",
        "\n",
        "# Create a scatter plot of the projection\n",
        "plt.figure(figsize=(6, 4))\n",
        "plt.scatter(result[:, 0], result[:, 1])\n",
        "\n",
        "# Annotate the points with the DNA sequences\n",
        "for i, word in enumerate(words):\n",
        "    plt.annotate(word, xy=(result[i, 0], result[i, 1]))\n",
        "\n",
        "#plt.xlabel('Principal Component 1')\n",
        "#plt.ylabel('Principal Component 2')\n",
        "#plt.title('Word2Vec CBOW Embedding Visualization for DNA Sequences')\n",
        "#plt.grid(True)\n",
        "plt.show()\n"
      ],
      "metadata": {
        "colab": {
          "base_uri": "https://localhost:8080/",
          "height": 368
        },
        "id": "GNWxnzBfdAWx",
        "outputId": "5879daf0-cb94-42bc-86a4-8d80a1c2cb2d"
      },
      "execution_count": null,
      "outputs": [
        {
          "output_type": "display_data",
          "data": {
            "text/plain": [
              "<Figure size 600x400 with 1 Axes>"
            ],
            "image/png": "[encoded data removed]"
          },
          "metadata": {}
        }
      ]
    },
    {
      "cell_type": "code",
      "source": [
        "from gensim.models import Word2Vec\n",
        "from sklearn.decomposition import PCA\n",
        "import numpy as np\n",
        "import matplotlib.pyplot as plt\n",
        "\n",
        "# define training data\n",
        "sequences = [['this', 'is', 'the', 'first', 'sentence', 'for', 'word2vec'],\n",
        "\t\t\t['this', 'is', 'the', 'second', 'sentence'],\n",
        "\t\t\t['yet', 'another', 'sentence'],\n",
        "\t\t\t['one', 'more', 'sentence'],\n",
        "\t\t\t['and', 'the', 'final', 'sentence']]\n",
        "# Train the Word2Vec model\n",
        "model = Word2Vec(sequences, min_count=1, sg=0, window=5)\n",
        "\n",
        "# Get the vocabulary\n",
        "words = list(model.wv.index_to_key)\n",
        "\n",
        "# Get vectors for each word in the vocabulary\n",
        "word_vectors = np.array([model.wv.get_vector(word) for word in words])\n",
        "\n",
        "# Fit a 2D PCA model to the vectors\n",
        "pca = PCA(n_components=2)\n",
        "result = pca.fit_transform(word_vectors)\n",
        "\n",
        "# Create a scatter plot of the projection\n",
        "plt.figure(figsize=(6, 4))\n",
        "plt.scatter(result[:, 0], result[:, 1])\n",
        "\n",
        "# Annotate the points with the DNA sequences\n",
        "for i, word in enumerate(words):\n",
        "    plt.annotate(word, xy=(result[i, 0], result[i, 1]))\n",
        "\n",
        "#plt.xlabel('Principal Component 1')\n",
        "#plt.ylabel('Principal Component 2')\n",
        "#plt.title('Word2Vec CBOW Embedding Visualization for DNA Sequences')\n",
        "#plt.grid(True)\n",
        "plt.show()"
      ],
      "metadata": {
        "colab": {
          "base_uri": "https://localhost:8080/",
          "height": 368
        },
        "id": "sjSFfMMifKVK",
        "outputId": "cd14ddd0-09b9-4330-91a1-32baff779a07"
      },
      "execution_count": null,
      "outputs": [
        {
          "output_type": "display_data",
          "data": {
            "text/plain": [
              "<Figure size 600x400 with 1 Axes>"
            ],
            "image/png": "[encoded data removed]"
          },
          "metadata": {}
        }
      ]
    }
  ]
}