{
  "nbformat": 4,
  "nbformat_minor": 0,
  "metadata": {
    "colab": {
      "provenance": [],
      "authorship_tag": "ABX9TyPgjcOFlR2knwkAY6lLEBUZ",
      "include_colab_link": true
    },
    "kernelspec": {
      "name": "python3",
      "display_name": "Python 3"
    },
    "language_info": {
      "name": "python"
    }
  },
  "cells": [
    {
      "cell_type": "markdown",
      "metadata": {
        "id": "view-in-github",
        "colab_type": "text"
      },
      "source": [
        "<a href=\"https://colab.research.google.com/github/Navya003/NLP/blob/main/Wandb_train.ipynb\" target=\"_parent\"><img src=\"https://colab.research.google.com/assets/colab-badge.svg\" alt=\"Open In Colab\"/></a>"
      ]
    },
    {
      "cell_type": "code",
      "execution_count": null,
      "metadata": {
        "id": "62eeLHfF_YqA"
      },
      "outputs": [],
      "source": [
        "# Minimal reproducible code\n",
        "# importing all the required modules\n",
        "import os\n",
        "import wandb\n",
        "import pandas as pd\n",
        "import numpy as np\n",
        "from sklearn.model_selection import train_test_split\n",
        "from sklearn.ensemble import RandomForestClassifier\n",
        "from sklearn.metrics import accuracy_score\n",
        "\n",
        "os.environ['WANDB_NOTEBOOK_NAME'] = 'code.ipynb'\n",
        "\n",
        "# data\n",
        "pos = pd.read_csv(\"Positive.w2v\", skiprows=1, sep=\" \", index_col=0, header=None)\n",
        "neg = pd.read_csv(\"Negative.w2v\", skiprows=1, sep=\" \", index_col=0, header=None)\n",
        "pos['label']=1\n",
        "neg['label']=0\n",
        "df=pd.concat([pos,neg])\n",
        "df.index.name= 'kmer'\n",
        "#df.head()\n",
        "X= np.array(df.drop(['label'], axis=1))\n",
        "Y= np.array(df['label'])\n",
        "\n",
        "\n",
        "# split the data into train and test using sklearn\n",
        "x_train, x_test, y_train, y_test = train_test_split(X, Y, test_size=0.33)\n",
        "\n",
        "# wandb\n",
        "# Hyperparameter sweeps\n",
        "# random\n",
        "random = {\n",
        "  \"name\" : \"random\",\n",
        "  \"method\" : \"random\",\n",
        "  \"parameters\" : {\n",
        "    \"n_estimators\" : {\n",
        "      \"values\" : [1000, 2000, 3000, 4000, 5000]\n",
        "    },\n",
        "    \"max_depth\" :{\n",
        "      \"values\": [1, 2, 3, 4, 5, 6, 7, 8, 9, 10]\n",
        "    },\n",
        "    \"min_samples_leaf\":{\n",
        "        \"values\":[1, 2, 3, 4, 5]\n",
        "    },\n",
        "    \"min_samples_split\":{\n",
        "        \"values\":[1, 2, 3, 4, 5]\n",
        "    },\n",
        "    \"epochs\":{\n",
        "        \"values\":[10, 20, 30, 40, 50, 60, 70, 80, 90, 100]\n",
        "    }\n",
        "  }\n",
        "}\n",
        "\n",
        "# grid\n",
        "grid = {\n",
        "  \"name\" : \"grid\",\n",
        "  \"method\" : \"grid\",\n",
        "  \"parameters\" : {\n",
        "    \"n_estimators\" : {\n",
        "      \"values\" : [1000, 2000, 3000, 4000, 5000]\n",
        "    },\n",
        "    \"max_depth\" :{\n",
        "      \"values\": [1, 2, 3, 4, 5, 6, 7, 8, 9, 10]\n",
        "    },\n",
        "    \"min_samples_leaf\":{\n",
        "        \"values\":[1, 2, 3, 4, 5]\n",
        "    },\n",
        "    \"min_samples_split\":{\n",
        "        \"values\":[1, 2, 3, 4, 5]\n",
        "    },\n",
        "    \"epochs\":{\n",
        "        \"values\":[10, 20, 30, 40, 50, 60, 70, 80, 90, 100]\n",
        "    }\n",
        "  }\n",
        "}\n",
        "\n",
        "sweep_id1 = wandb.sweep(random, project=\"bio\")\n",
        "sweep_id2 = wandb.sweep(grid, project=\"bio\")\n",
        "\n",
        "\n",
        "def train():\n",
        "    with wandb.init(\"bio\") as run:\n",
        "        config = wandb.config\n",
        "        model = RandomForestClassifier(config)\n",
        "        for epoch in range(config[\"epochs\"]):\n",
        "            loss = model.fit(x_train,y_train)  # your model training code here\n",
        "            wandb.log({\"accuracy\": accuracy_score, \"epoch\": epoch})\n",
        "\n",
        "count = 5 # number of runs to execute\n",
        "wandb.agent(sweep_id1, function=train, count=count)\n",
        "wandb.agent(sweep_id2, function=train, count=count)"
      ]
    },
    {
      "cell_type": "code",
      "source": [
        "import sklearn\n",
        "import pandas\n",
        "import numpy"
      ],
      "metadata": {
        "id": "XYYGpQZcpRwd"
      },
      "execution_count": null,
      "outputs": []
    },
    {
      "cell_type": "code",
      "source": [
        "pandas.__version__"
      ],
      "metadata": {
        "colab": {
          "base_uri": "https://localhost:8080/",
          "height": 36
        },
        "id": "VypbJyFpphjG",
        "outputId": "d889a5d2-fde8-4b63-c94e-f907e835b0d5"
      },
      "execution_count": null,
      "outputs": [
        {
          "output_type": "execute_result",
          "data": {
            "text/plain": [
              "'1.3.5'"
            ],
            "application/vnd.google.colaboratory.intrinsic+json": {
              "type": "string"
            }
          },
          "metadata": {},
          "execution_count": 20
        }
      ]
    }
  ]
}